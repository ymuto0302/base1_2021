{
  "nbformat": 4,
  "nbformat_minor": 0,
  "metadata": {
    "colab": {
      "name": "opendata3_GoogleCommunityMobilityReport.ipynb",
      "provenance": [],
      "collapsed_sections": [],
      "include_colab_link": true
    },
    "kernelspec": {
      "display_name": "Python 3",
      "language": "python",
      "name": "python3"
    },
    "language_info": {
      "codemirror_mode": {
        "name": "ipython",
        "version": 3
      },
      "file_extension": ".py",
      "mimetype": "text/x-python",
      "name": "python",
      "nbconvert_exporter": "python",
      "pygments_lexer": "ipython3",
      "version": "3.7.8"
    }
  },
  "cells": [
    {
      "cell_type": "markdown",
      "metadata": {
        "id": "view-in-github",
        "colab_type": "text"
      },
      "source": [
        "<a href=\"https://colab.research.google.com/github/ymuto0302/base1_2021/blob/main/opendata3_GoogleCommunityMobilityReport.ipynb\" target=\"_parent\"><img src=\"https://colab.research.google.com/assets/colab-badge.svg\" alt=\"Open In Colab\"/></a>"
      ]
    },
    {
      "cell_type": "markdown",
      "metadata": {
        "id": "fGqwyf2AHwj9"
      },
      "source": [
        "# オープンデータの活用(5) : Google's COVID-19 Community Mobility Reports を用いた行動解析\n",
        "\n",
        "これまで日本国内のデータを利用してきたが，今回は新型コロナウイルス関連で世界中をカバーする \"Google's COVID-19 Community Mobility Reports\" を利用する。\n",
        "\n",
        "Community Mobility Reports とは，(天下の)Google がロケーション履歴を元に集計したレポートであり，「食料品店，乗換駅などの特定の場所を訪れた人数の変化率」をオープンデータ化している。\n",
        "\n",
        "## 目次\n",
        "1. Google Community Mobility Reports のデータを理解する\n",
        "1. 日本の都道府県を対象とした，「乗換駅での人出の変化率」の比較\n",
        "1. 課題：世界の都市を対象とした，「乗換駅での人出の変化率」の比較\n"
      ]
    },
    {
      "cell_type": "markdown",
      "metadata": {
        "id": "nL3ahihwpMHP"
      },
      "source": [
        "---"
      ]
    },
    {
      "cell_type": "markdown",
      "metadata": {
        "id": "5KP3GCFKpMHQ"
      },
      "source": [
        "## Google Community Mobility Reports のデータを見てみよう"
      ]
    },
    {
      "cell_type": "markdown",
      "metadata": {
        "id": "FZOHtI1Hc2qN"
      },
      "source": [
        "### Google Community Mobility Reports からのデータ入手\n",
        "下記の COVID-19: コミュニティ モビリティ レポートからデータを入手する。\n",
        "\n",
        "https://www.google.com/covid19/mobility/\n",
        "\n",
        "ページ内の中段にある「全世界のCSVをダウンロード」をクリックし，ファイル \"Global_Mobility_Report.csv\" を Google Drive に置いておく。\n"
      ]
    },
    {
      "cell_type": "markdown",
      "metadata": {
        "id": "OFV7AhgJdvBg"
      },
      "source": [
        "### Google Drive のマウント & plotly express のインストール\n",
        "plotly express は前回も用いた「可視化ライブラリ」である。"
      ]
    },
    {
      "cell_type": "code",
      "metadata": {
        "colab": {
          "base_uri": "https://localhost:8080/"
        },
        "id": "yemn4cbvHutF",
        "outputId": "adbe30e0-ab44-4ef7-ee6a-b01ac6849b88"
      },
      "source": [
        "# Google Drive のマウント\n",
        "from google.colab import drive\n",
        "drive.mount('/content/drive')"
      ],
      "execution_count": null,
      "outputs": [
        {
          "output_type": "stream",
          "text": [
            "Drive already mounted at /content/drive; to attempt to forcibly remount, call drive.mount(\"/content/drive\", force_remount=True).\n"
          ],
          "name": "stdout"
        }
      ]
    },
    {
      "cell_type": "code",
      "metadata": {
        "colab": {
          "base_uri": "https://localhost:8080/"
        },
        "id": "G1kBVTH4JL-e",
        "outputId": "9b2251a9-cc5a-425e-937e-1f076b48e55e"
      },
      "source": [
        "# 可視化の準備：PlotlyExpress のインストール\n",
        "!pip install plotly_express"
      ],
      "execution_count": null,
      "outputs": [
        {
          "output_type": "stream",
          "text": [
            "Requirement already satisfied: plotly_express in /usr/local/lib/python3.7/dist-packages (0.4.1)\n",
            "Requirement already satisfied: patsy>=0.5 in /usr/local/lib/python3.7/dist-packages (from plotly_express) (0.5.1)\n",
            "Requirement already satisfied: plotly>=4.1.0 in /usr/local/lib/python3.7/dist-packages (from plotly_express) (4.4.1)\n",
            "Requirement already satisfied: statsmodels>=0.9.0 in /usr/local/lib/python3.7/dist-packages (from plotly_express) (0.10.2)\n",
            "Requirement already satisfied: scipy>=0.18 in /usr/local/lib/python3.7/dist-packages (from plotly_express) (1.4.1)\n",
            "Requirement already satisfied: pandas>=0.20.0 in /usr/local/lib/python3.7/dist-packages (from plotly_express) (1.1.5)\n",
            "Requirement already satisfied: numpy>=1.11 in /usr/local/lib/python3.7/dist-packages (from plotly_express) (1.19.5)\n",
            "Requirement already satisfied: six in /usr/local/lib/python3.7/dist-packages (from patsy>=0.5->plotly_express) (1.15.0)\n",
            "Requirement already satisfied: retrying>=1.3.3 in /usr/local/lib/python3.7/dist-packages (from plotly>=4.1.0->plotly_express) (1.3.3)\n",
            "Requirement already satisfied: python-dateutil>=2.7.3 in /usr/local/lib/python3.7/dist-packages (from pandas>=0.20.0->plotly_express) (2.8.1)\n",
            "Requirement already satisfied: pytz>=2017.2 in /usr/local/lib/python3.7/dist-packages (from pandas>=0.20.0->plotly_express) (2018.9)\n"
          ],
          "name": "stdout"
        }
      ]
    },
    {
      "cell_type": "markdown",
      "metadata": {
        "id": "9q4p1TZUd5K-"
      },
      "source": [
        "### Google's Community Mobility Reports のデータを眺めてみる\n",
        "最初に Google Community Mobility Reports の全容を把握する。\n",
        "下記のとおり，2021年4月22日時点でのデータ数は 5,039,384件であり，13列から構成される。\n",
        "\n",
        "#### 各列の意味\n",
        "\"country_region_code\" が国コードを表し，日本は \"JP\" である。\n",
        "また，\"sub_region_1\" には都道府県名や州名が入る。\n",
        "\n",
        "データフレームの右の方を眺めるとデータ観測日である date に続き，特定の場所（食料品店、公園など）を訪れた人数の変化率が示されている。「人数の変化率」を観察したポイントは次の６項目からなる。\n",
        "\n",
        "- retail_and_recreation_percent_change_from_baseline # 小売店と娯楽施設(対象: レストラン、カフェ、ショッピング センター、テーマパーク、博物館、図書館、映画館など)\n",
        "- grocery_and_pharmacy_percent_change_from_baseline # 食料品店と薬局(対象: 食料品店、食品問屋、青果市場、高級食料品店、ドラッグストア、薬局など)\n",
        "- parks_percent_change_from_baseline # 公園(対象: 地域の公園、国立公園、公共のビーチ、マリーナ、ドッグパーク、広場、庭園など)\n",
        "- transit_stations_percent_change_from_baselin # 公共交通期間(対象: 公共交通機関の拠点（例: 地下鉄、バス、電車の駅）など)\n",
        "- workplaces_percent_change_from_baseline # 職場(対象: 職場)\n",
        "- residential_percent_change_from_baseline # 住宅(対象: 住居)\n",
        "\n",
        "また，「人数の変化」はパーセント表示であり，（Google Community Mobility Reports によると）その曜日別基準値は「2020年1月3日〜2020年2月6日の５週間の曜日別中央値」を用いている。"
      ]
    },
    {
      "cell_type": "markdown",
      "metadata": {
        "id": "9ksWoJhWpMHT"
      },
      "source": [
        "#### データ読み込み"
      ]
    },
    {
      "cell_type": "code",
      "metadata": {
        "colab": {
          "base_uri": "https://localhost:8080/"
        },
        "id": "oQfY0WI4eLrS",
        "outputId": "c393e482-1677-4356-ad53-d6a1ef1c8c53"
      },
      "source": [
        "import pandas as pd\n",
        "\n",
        "# Google's COVID-19 Community Mobility Reports (COVID-19 コミュニティ モビリティ レポート) の読み込み\n",
        "df = pd.read_csv(\"/content/drive/My Drive/BASE/OpenData/Global_Mobility_Report.csv\", encoding=\"utf-8\")\n"
      ],
      "execution_count": null,
      "outputs": [
        {
          "output_type": "stream",
          "text": [
            "/usr/local/lib/python3.7/dist-packages/IPython/core/interactiveshell.py:2718: DtypeWarning:\n",
            "\n",
            "Columns (4,5) have mixed types.Specify dtype option on import or set low_memory=False.\n",
            "\n"
          ],
          "name": "stderr"
        }
      ]
    },
    {
      "cell_type": "code",
      "metadata": {
        "scrolled": false,
        "colab": {
          "base_uri": "https://localhost:8080/",
          "height": 609
        },
        "id": "ea7_EIbIpMHT",
        "outputId": "44377462-f4d0-4540-88fe-1ada807f7291"
      },
      "source": [
        "# 読み込んだデータフレームの表示\n",
        "df"
      ],
      "execution_count": null,
      "outputs": [
        {
          "output_type": "execute_result",
          "data": {
            "text/html": [
              "<div>\n",
              "<style scoped>\n",
              "    .dataframe tbody tr th:only-of-type {\n",
              "        vertical-align: middle;\n",
              "    }\n",
              "\n",
              "    .dataframe tbody tr th {\n",
              "        vertical-align: top;\n",
              "    }\n",
              "\n",
              "    .dataframe thead th {\n",
              "        text-align: right;\n",
              "    }\n",
              "</style>\n",
              "<table border=\"1\" class=\"dataframe\">\n",
              "  <thead>\n",
              "    <tr style=\"text-align: right;\">\n",
              "      <th></th>\n",
              "      <th>country_region_code</th>\n",
              "      <th>country_region</th>\n",
              "      <th>sub_region_1</th>\n",
              "      <th>sub_region_2</th>\n",
              "      <th>metro_area</th>\n",
              "      <th>iso_3166_2_code</th>\n",
              "      <th>census_fips_code</th>\n",
              "      <th>place_id</th>\n",
              "      <th>date</th>\n",
              "      <th>retail_and_recreation_percent_change_from_baseline</th>\n",
              "      <th>grocery_and_pharmacy_percent_change_from_baseline</th>\n",
              "      <th>parks_percent_change_from_baseline</th>\n",
              "      <th>transit_stations_percent_change_from_baseline</th>\n",
              "      <th>workplaces_percent_change_from_baseline</th>\n",
              "      <th>residential_percent_change_from_baseline</th>\n",
              "    </tr>\n",
              "  </thead>\n",
              "  <tbody>\n",
              "    <tr>\n",
              "      <th>0</th>\n",
              "      <td>AE</td>\n",
              "      <td>United Arab Emirates</td>\n",
              "      <td>NaN</td>\n",
              "      <td>NaN</td>\n",
              "      <td>NaN</td>\n",
              "      <td>NaN</td>\n",
              "      <td>NaN</td>\n",
              "      <td>ChIJvRKrsd9IXj4RpwoIwFYv0zM</td>\n",
              "      <td>2020-02-15</td>\n",
              "      <td>0.0</td>\n",
              "      <td>4.0</td>\n",
              "      <td>5.0</td>\n",
              "      <td>0.0</td>\n",
              "      <td>2.0</td>\n",
              "      <td>1.0</td>\n",
              "    </tr>\n",
              "    <tr>\n",
              "      <th>1</th>\n",
              "      <td>AE</td>\n",
              "      <td>United Arab Emirates</td>\n",
              "      <td>NaN</td>\n",
              "      <td>NaN</td>\n",
              "      <td>NaN</td>\n",
              "      <td>NaN</td>\n",
              "      <td>NaN</td>\n",
              "      <td>ChIJvRKrsd9IXj4RpwoIwFYv0zM</td>\n",
              "      <td>2020-02-16</td>\n",
              "      <td>1.0</td>\n",
              "      <td>4.0</td>\n",
              "      <td>4.0</td>\n",
              "      <td>1.0</td>\n",
              "      <td>2.0</td>\n",
              "      <td>1.0</td>\n",
              "    </tr>\n",
              "    <tr>\n",
              "      <th>2</th>\n",
              "      <td>AE</td>\n",
              "      <td>United Arab Emirates</td>\n",
              "      <td>NaN</td>\n",
              "      <td>NaN</td>\n",
              "      <td>NaN</td>\n",
              "      <td>NaN</td>\n",
              "      <td>NaN</td>\n",
              "      <td>ChIJvRKrsd9IXj4RpwoIwFYv0zM</td>\n",
              "      <td>2020-02-17</td>\n",
              "      <td>-1.0</td>\n",
              "      <td>1.0</td>\n",
              "      <td>5.0</td>\n",
              "      <td>1.0</td>\n",
              "      <td>2.0</td>\n",
              "      <td>1.0</td>\n",
              "    </tr>\n",
              "    <tr>\n",
              "      <th>3</th>\n",
              "      <td>AE</td>\n",
              "      <td>United Arab Emirates</td>\n",
              "      <td>NaN</td>\n",
              "      <td>NaN</td>\n",
              "      <td>NaN</td>\n",
              "      <td>NaN</td>\n",
              "      <td>NaN</td>\n",
              "      <td>ChIJvRKrsd9IXj4RpwoIwFYv0zM</td>\n",
              "      <td>2020-02-18</td>\n",
              "      <td>-2.0</td>\n",
              "      <td>1.0</td>\n",
              "      <td>5.0</td>\n",
              "      <td>0.0</td>\n",
              "      <td>2.0</td>\n",
              "      <td>1.0</td>\n",
              "    </tr>\n",
              "    <tr>\n",
              "      <th>4</th>\n",
              "      <td>AE</td>\n",
              "      <td>United Arab Emirates</td>\n",
              "      <td>NaN</td>\n",
              "      <td>NaN</td>\n",
              "      <td>NaN</td>\n",
              "      <td>NaN</td>\n",
              "      <td>NaN</td>\n",
              "      <td>ChIJvRKrsd9IXj4RpwoIwFYv0zM</td>\n",
              "      <td>2020-02-19</td>\n",
              "      <td>-2.0</td>\n",
              "      <td>0.0</td>\n",
              "      <td>4.0</td>\n",
              "      <td>-1.0</td>\n",
              "      <td>2.0</td>\n",
              "      <td>1.0</td>\n",
              "    </tr>\n",
              "    <tr>\n",
              "      <th>...</th>\n",
              "      <td>...</td>\n",
              "      <td>...</td>\n",
              "      <td>...</td>\n",
              "      <td>...</td>\n",
              "      <td>...</td>\n",
              "      <td>...</td>\n",
              "      <td>...</td>\n",
              "      <td>...</td>\n",
              "      <td>...</td>\n",
              "      <td>...</td>\n",
              "      <td>...</td>\n",
              "      <td>...</td>\n",
              "      <td>...</td>\n",
              "      <td>...</td>\n",
              "      <td>...</td>\n",
              "    </tr>\n",
              "    <tr>\n",
              "      <th>5039379</th>\n",
              "      <td>ZW</td>\n",
              "      <td>Zimbabwe</td>\n",
              "      <td>Midlands Province</td>\n",
              "      <td>Kwekwe</td>\n",
              "      <td>NaN</td>\n",
              "      <td>NaN</td>\n",
              "      <td>NaN</td>\n",
              "      <td>ChIJRcIZ3-FJNBkRRsj55IcLpfU</td>\n",
              "      <td>2021-04-12</td>\n",
              "      <td>NaN</td>\n",
              "      <td>NaN</td>\n",
              "      <td>NaN</td>\n",
              "      <td>NaN</td>\n",
              "      <td>7.0</td>\n",
              "      <td>NaN</td>\n",
              "    </tr>\n",
              "    <tr>\n",
              "      <th>5039380</th>\n",
              "      <td>ZW</td>\n",
              "      <td>Zimbabwe</td>\n",
              "      <td>Midlands Province</td>\n",
              "      <td>Kwekwe</td>\n",
              "      <td>NaN</td>\n",
              "      <td>NaN</td>\n",
              "      <td>NaN</td>\n",
              "      <td>ChIJRcIZ3-FJNBkRRsj55IcLpfU</td>\n",
              "      <td>2021-04-13</td>\n",
              "      <td>NaN</td>\n",
              "      <td>NaN</td>\n",
              "      <td>NaN</td>\n",
              "      <td>NaN</td>\n",
              "      <td>14.0</td>\n",
              "      <td>NaN</td>\n",
              "    </tr>\n",
              "    <tr>\n",
              "      <th>5039381</th>\n",
              "      <td>ZW</td>\n",
              "      <td>Zimbabwe</td>\n",
              "      <td>Midlands Province</td>\n",
              "      <td>Kwekwe</td>\n",
              "      <td>NaN</td>\n",
              "      <td>NaN</td>\n",
              "      <td>NaN</td>\n",
              "      <td>ChIJRcIZ3-FJNBkRRsj55IcLpfU</td>\n",
              "      <td>2021-04-14</td>\n",
              "      <td>NaN</td>\n",
              "      <td>NaN</td>\n",
              "      <td>NaN</td>\n",
              "      <td>NaN</td>\n",
              "      <td>9.0</td>\n",
              "      <td>NaN</td>\n",
              "    </tr>\n",
              "    <tr>\n",
              "      <th>5039382</th>\n",
              "      <td>ZW</td>\n",
              "      <td>Zimbabwe</td>\n",
              "      <td>Midlands Province</td>\n",
              "      <td>Kwekwe</td>\n",
              "      <td>NaN</td>\n",
              "      <td>NaN</td>\n",
              "      <td>NaN</td>\n",
              "      <td>ChIJRcIZ3-FJNBkRRsj55IcLpfU</td>\n",
              "      <td>2021-04-15</td>\n",
              "      <td>NaN</td>\n",
              "      <td>NaN</td>\n",
              "      <td>NaN</td>\n",
              "      <td>NaN</td>\n",
              "      <td>13.0</td>\n",
              "      <td>NaN</td>\n",
              "    </tr>\n",
              "    <tr>\n",
              "      <th>5039383</th>\n",
              "      <td>ZW</td>\n",
              "      <td>Zimbabwe</td>\n",
              "      <td>Midlands Province</td>\n",
              "      <td>Kwekwe</td>\n",
              "      <td>NaN</td>\n",
              "      <td>NaN</td>\n",
              "      <td>NaN</td>\n",
              "      <td>ChIJRcIZ3-FJNBkRRsj55IcLpfU</td>\n",
              "      <td>2021-04-16</td>\n",
              "      <td>NaN</td>\n",
              "      <td>NaN</td>\n",
              "      <td>NaN</td>\n",
              "      <td>NaN</td>\n",
              "      <td>21.0</td>\n",
              "      <td>NaN</td>\n",
              "    </tr>\n",
              "  </tbody>\n",
              "</table>\n",
              "<p>5039384 rows × 15 columns</p>\n",
              "</div>"
            ],
            "text/plain": [
              "        country_region_code  ... residential_percent_change_from_baseline\n",
              "0                        AE  ...                                      1.0\n",
              "1                        AE  ...                                      1.0\n",
              "2                        AE  ...                                      1.0\n",
              "3                        AE  ...                                      1.0\n",
              "4                        AE  ...                                      1.0\n",
              "...                     ...  ...                                      ...\n",
              "5039379                  ZW  ...                                      NaN\n",
              "5039380                  ZW  ...                                      NaN\n",
              "5039381                  ZW  ...                                      NaN\n",
              "5039382                  ZW  ...                                      NaN\n",
              "5039383                  ZW  ...                                      NaN\n",
              "\n",
              "[5039384 rows x 15 columns]"
            ]
          },
          "metadata": {
            "tags": []
          },
          "execution_count": 45
        }
      ]
    },
    {
      "cell_type": "markdown",
      "metadata": {
        "id": "_amhR3sYpMHU"
      },
      "source": [
        "#### 可視化へ向けた前処理\n",
        "1. 解析上，不要と考えられる列 \"metro_area\", \"iso_3166_2_code\", \"census_fips_code\", \"place_id\" を削除する。ここでは drop() メソッドを用いる。\n",
        "1. 観察ポイントにおける変化率は \"retail_and_recreation_percent_change_from_baseline\" という，長い英語表記となっている。これを端的な日本語に置き換える。ここでは rename() メソッドを用いる。"
      ]
    },
    {
      "cell_type": "code",
      "metadata": {
        "id": "98HX01ILpMHU"
      },
      "source": [
        "# 不要と考えられる列をカット\n",
        "df = df.drop(['metro_area', 'iso_3166_2_code', 'census_fips_code', 'place_id'], axis=1)\n",
        "\n",
        "# 列名が長いため，短縮かつ日本語化する\n",
        "# (メモ) rename の書式 : columns={変更前A:変更後A, 変更前B:変更後B}\n",
        "df = df.rename(columns={'retail_and_recreation_percent_change_from_baseline':'小売・娯楽',\n",
        "                        'grocery_and_pharmacy_percent_change_from_baseline': '食料品店・薬局',\n",
        "                        'parks_percent_change_from_baseline': '公園',\n",
        "                        'transit_stations_percent_change_from_baseline': '乗換駅',\n",
        "                        'workplaces_percent_change_from_baseline': '職場',\n",
        "                        'residential_percent_change_from_baseline': '住宅'})"
      ],
      "execution_count": null,
      "outputs": []
    },
    {
      "cell_type": "code",
      "metadata": {
        "colab": {
          "base_uri": "https://localhost:8080/",
          "height": 306
        },
        "id": "0DwiFaABpMHU",
        "outputId": "73039904-4289-4f95-f884-53ff50b5be3a"
      },
      "source": [
        "# データフレームの冒頭部分の表示\n",
        "df.head()"
      ],
      "execution_count": null,
      "outputs": [
        {
          "output_type": "execute_result",
          "data": {
            "text/html": [
              "<div>\n",
              "<style scoped>\n",
              "    .dataframe tbody tr th:only-of-type {\n",
              "        vertical-align: middle;\n",
              "    }\n",
              "\n",
              "    .dataframe tbody tr th {\n",
              "        vertical-align: top;\n",
              "    }\n",
              "\n",
              "    .dataframe thead th {\n",
              "        text-align: right;\n",
              "    }\n",
              "</style>\n",
              "<table border=\"1\" class=\"dataframe\">\n",
              "  <thead>\n",
              "    <tr style=\"text-align: right;\">\n",
              "      <th></th>\n",
              "      <th>country_region_code</th>\n",
              "      <th>country_region</th>\n",
              "      <th>sub_region_1</th>\n",
              "      <th>sub_region_2</th>\n",
              "      <th>date</th>\n",
              "      <th>小売・娯楽</th>\n",
              "      <th>食料品店・薬局</th>\n",
              "      <th>公園</th>\n",
              "      <th>乗換駅</th>\n",
              "      <th>職場</th>\n",
              "      <th>住宅</th>\n",
              "    </tr>\n",
              "  </thead>\n",
              "  <tbody>\n",
              "    <tr>\n",
              "      <th>0</th>\n",
              "      <td>AE</td>\n",
              "      <td>United Arab Emirates</td>\n",
              "      <td>NaN</td>\n",
              "      <td>NaN</td>\n",
              "      <td>2020-02-15</td>\n",
              "      <td>0.0</td>\n",
              "      <td>4.0</td>\n",
              "      <td>5.0</td>\n",
              "      <td>0.0</td>\n",
              "      <td>2.0</td>\n",
              "      <td>1.0</td>\n",
              "    </tr>\n",
              "    <tr>\n",
              "      <th>1</th>\n",
              "      <td>AE</td>\n",
              "      <td>United Arab Emirates</td>\n",
              "      <td>NaN</td>\n",
              "      <td>NaN</td>\n",
              "      <td>2020-02-16</td>\n",
              "      <td>1.0</td>\n",
              "      <td>4.0</td>\n",
              "      <td>4.0</td>\n",
              "      <td>1.0</td>\n",
              "      <td>2.0</td>\n",
              "      <td>1.0</td>\n",
              "    </tr>\n",
              "    <tr>\n",
              "      <th>2</th>\n",
              "      <td>AE</td>\n",
              "      <td>United Arab Emirates</td>\n",
              "      <td>NaN</td>\n",
              "      <td>NaN</td>\n",
              "      <td>2020-02-17</td>\n",
              "      <td>-1.0</td>\n",
              "      <td>1.0</td>\n",
              "      <td>5.0</td>\n",
              "      <td>1.0</td>\n",
              "      <td>2.0</td>\n",
              "      <td>1.0</td>\n",
              "    </tr>\n",
              "    <tr>\n",
              "      <th>3</th>\n",
              "      <td>AE</td>\n",
              "      <td>United Arab Emirates</td>\n",
              "      <td>NaN</td>\n",
              "      <td>NaN</td>\n",
              "      <td>2020-02-18</td>\n",
              "      <td>-2.0</td>\n",
              "      <td>1.0</td>\n",
              "      <td>5.0</td>\n",
              "      <td>0.0</td>\n",
              "      <td>2.0</td>\n",
              "      <td>1.0</td>\n",
              "    </tr>\n",
              "    <tr>\n",
              "      <th>4</th>\n",
              "      <td>AE</td>\n",
              "      <td>United Arab Emirates</td>\n",
              "      <td>NaN</td>\n",
              "      <td>NaN</td>\n",
              "      <td>2020-02-19</td>\n",
              "      <td>-2.0</td>\n",
              "      <td>0.0</td>\n",
              "      <td>4.0</td>\n",
              "      <td>-1.0</td>\n",
              "      <td>2.0</td>\n",
              "      <td>1.0</td>\n",
              "    </tr>\n",
              "  </tbody>\n",
              "</table>\n",
              "</div>"
            ],
            "text/plain": [
              "  country_region_code        country_region sub_region_1  ...  乗換駅   職場   住宅\n",
              "0                  AE  United Arab Emirates          NaN  ...  0.0  2.0  1.0\n",
              "1                  AE  United Arab Emirates          NaN  ...  1.0  2.0  1.0\n",
              "2                  AE  United Arab Emirates          NaN  ...  1.0  2.0  1.0\n",
              "3                  AE  United Arab Emirates          NaN  ...  0.0  2.0  1.0\n",
              "4                  AE  United Arab Emirates          NaN  ... -1.0  2.0  1.0\n",
              "\n",
              "[5 rows x 11 columns]"
            ]
          },
          "metadata": {
            "tags": []
          },
          "execution_count": 47
        }
      ]
    },
    {
      "cell_type": "markdown",
      "metadata": {
        "id": "szgscWtEpMHV"
      },
      "source": [
        "#### (参考) どれだけの国・地域をカバーしているか？\n",
        "以下のとおり 135国・地域をカバーしたデータである。"
      ]
    },
    {
      "cell_type": "code",
      "metadata": {
        "colab": {
          "base_uri": "https://localhost:8080/"
        },
        "id": "AcGGnZqApMHV",
        "outputId": "10503847-7781-48a1-db38-8ef4179ca70f"
      },
      "source": [
        "len(set(list(df['country_region'])))\n"
      ],
      "execution_count": null,
      "outputs": [
        {
          "output_type": "execute_result",
          "data": {
            "text/plain": [
              "135"
            ]
          },
          "metadata": {
            "tags": []
          },
          "execution_count": 48
        }
      ]
    },
    {
      "cell_type": "markdown",
      "metadata": {
        "id": "LvUQCE8RgYzN"
      },
      "source": [
        "#### データの中身を理解するため，東京のデータのみ取り出す\n",
        "全世界のデータから**東京のデータのみを取り出す**。具体的には \"country_region_code\" が \"JP\"(日本)，かつ \"sub_region_1\" が \"Tokyo\"(東京)に該当する行のみを取り出す。"
      ]
    },
    {
      "cell_type": "code",
      "metadata": {
        "id": "9K-LqsgEhTum",
        "scrolled": true
      },
      "source": [
        "# 東京のデータのみに絞り込む\n",
        "df_tokyo = df.copy() # 大元のデータフレーム df を壊したくないから，コピーをとる\n",
        "condition = (df['country_region_code'] == 'JP') & (df['sub_region_1'] == 'Tokyo') # 絞り込むための条件\n",
        "df_tokyo = df_tokyo[condition] # 絞り込み"
      ],
      "execution_count": null,
      "outputs": []
    },
    {
      "cell_type": "code",
      "metadata": {
        "scrolled": true,
        "colab": {
          "base_uri": "https://localhost:8080/",
          "height": 323
        },
        "id": "UYPBnxQbpMHW",
        "outputId": "0978dc53-6dd2-4f43-a2cc-ee11fbb01cd1"
      },
      "source": [
        "# データフレームの冒頭部分の表示\n",
        "df_tokyo.head()"
      ],
      "execution_count": null,
      "outputs": [
        {
          "output_type": "execute_result",
          "data": {
            "text/html": [
              "<div>\n",
              "<style scoped>\n",
              "    .dataframe tbody tr th:only-of-type {\n",
              "        vertical-align: middle;\n",
              "    }\n",
              "\n",
              "    .dataframe tbody tr th {\n",
              "        vertical-align: top;\n",
              "    }\n",
              "\n",
              "    .dataframe thead th {\n",
              "        text-align: right;\n",
              "    }\n",
              "</style>\n",
              "<table border=\"1\" class=\"dataframe\">\n",
              "  <thead>\n",
              "    <tr style=\"text-align: right;\">\n",
              "      <th></th>\n",
              "      <th>country_region_code</th>\n",
              "      <th>country_region</th>\n",
              "      <th>sub_region_1</th>\n",
              "      <th>sub_region_2</th>\n",
              "      <th>date</th>\n",
              "      <th>小売・娯楽</th>\n",
              "      <th>食料品店・薬局</th>\n",
              "      <th>公園</th>\n",
              "      <th>乗換駅</th>\n",
              "      <th>職場</th>\n",
              "      <th>住宅</th>\n",
              "    </tr>\n",
              "  </thead>\n",
              "  <tbody>\n",
              "    <tr>\n",
              "      <th>2517324</th>\n",
              "      <td>JP</td>\n",
              "      <td>Japan</td>\n",
              "      <td>Tokyo</td>\n",
              "      <td>NaN</td>\n",
              "      <td>2020-02-15</td>\n",
              "      <td>-2.0</td>\n",
              "      <td>5.0</td>\n",
              "      <td>9.0</td>\n",
              "      <td>1.0</td>\n",
              "      <td>4.0</td>\n",
              "      <td>1.0</td>\n",
              "    </tr>\n",
              "    <tr>\n",
              "      <th>2517325</th>\n",
              "      <td>JP</td>\n",
              "      <td>Japan</td>\n",
              "      <td>Tokyo</td>\n",
              "      <td>NaN</td>\n",
              "      <td>2020-02-16</td>\n",
              "      <td>-13.0</td>\n",
              "      <td>-9.0</td>\n",
              "      <td>-37.0</td>\n",
              "      <td>-9.0</td>\n",
              "      <td>-1.0</td>\n",
              "      <td>3.0</td>\n",
              "    </tr>\n",
              "    <tr>\n",
              "      <th>2517326</th>\n",
              "      <td>JP</td>\n",
              "      <td>Japan</td>\n",
              "      <td>Tokyo</td>\n",
              "      <td>NaN</td>\n",
              "      <td>2020-02-17</td>\n",
              "      <td>-4.0</td>\n",
              "      <td>3.0</td>\n",
              "      <td>-2.0</td>\n",
              "      <td>-1.0</td>\n",
              "      <td>1.0</td>\n",
              "      <td>0.0</td>\n",
              "    </tr>\n",
              "    <tr>\n",
              "      <th>2517327</th>\n",
              "      <td>JP</td>\n",
              "      <td>Japan</td>\n",
              "      <td>Tokyo</td>\n",
              "      <td>NaN</td>\n",
              "      <td>2020-02-18</td>\n",
              "      <td>-2.0</td>\n",
              "      <td>3.0</td>\n",
              "      <td>3.0</td>\n",
              "      <td>-3.0</td>\n",
              "      <td>0.0</td>\n",
              "      <td>1.0</td>\n",
              "    </tr>\n",
              "    <tr>\n",
              "      <th>2517328</th>\n",
              "      <td>JP</td>\n",
              "      <td>Japan</td>\n",
              "      <td>Tokyo</td>\n",
              "      <td>NaN</td>\n",
              "      <td>2020-02-19</td>\n",
              "      <td>-4.0</td>\n",
              "      <td>2.0</td>\n",
              "      <td>8.0</td>\n",
              "      <td>-5.0</td>\n",
              "      <td>-1.0</td>\n",
              "      <td>1.0</td>\n",
              "    </tr>\n",
              "  </tbody>\n",
              "</table>\n",
              "</div>"
            ],
            "text/plain": [
              "        country_region_code country_region sub_region_1  ...  乗換駅   職場   住宅\n",
              "2517324                  JP          Japan        Tokyo  ...  1.0  4.0  1.0\n",
              "2517325                  JP          Japan        Tokyo  ... -9.0 -1.0  3.0\n",
              "2517326                  JP          Japan        Tokyo  ... -1.0  1.0  0.0\n",
              "2517327                  JP          Japan        Tokyo  ... -3.0  0.0  1.0\n",
              "2517328                  JP          Japan        Tokyo  ... -5.0 -1.0  1.0\n",
              "\n",
              "[5 rows x 11 columns]"
            ]
          },
          "metadata": {
            "tags": []
          },
          "execution_count": 50
        }
      ]
    },
    {
      "cell_type": "markdown",
      "metadata": {
        "id": "UkGTBm6FpMHW"
      },
      "source": [
        "#### plotly express を用いて，東京の移動状況を可視化"
      ]
    },
    {
      "cell_type": "code",
      "metadata": {
        "scrolled": false,
        "colab": {
          "base_uri": "https://localhost:8080/",
          "height": 542
        },
        "id": "FUQ1ulrRpMHW",
        "outputId": "44751566-ef31-4ef9-e481-ae3864e56e9f"
      },
      "source": [
        "# 東京での人の移動状況を折れ線グラフで表示\n",
        "import plotly_express as px\n",
        "\n",
        "df_melt = df_tokyo.melt(id_vars='date', value_vars=[\"小売・娯楽\", \"食料品店・薬局\", \"公園\", \"乗換駅\", \"職場\", \"住宅\"])\n",
        "fig = px.line(df_melt, x=\"date\", y=\"value\", color='variable', title=\"Google Mobility Report\")\n",
        "fig.show()\n",
        "\n",
        "# (メモ) Anaconda 3 での記述\n",
        "#fig = px.line(df_tokyo, x=\"date\", y=[\"小売・娯楽\", \"食料品店・薬局\", \"公園\", \"乗換駅\", \"職場\", \"住宅\"],\n",
        "#              title=\"Google Mobility Report\")"
      ],
      "execution_count": null,
      "outputs": [
        {
          "output_type": "display_data",
          "data": {
            "text/html": [
              "<html>\n",
              "<head><meta charset=\"utf-8\" /></head>\n",
              "<body>\n",
              "    <div>\n",
              "            <script src=\"https://cdnjs.cloudflare.com/ajax/libs/mathjax/2.7.5/MathJax.js?config=TeX-AMS-MML_SVG\"></script><script type=\"text/javascript\">if (window.MathJax) {MathJax.Hub.Config({SVG: {font: \"STIX-Web\"}});}</script>\n",
              "                <script type=\"text/javascript\">window.PlotlyConfig = {MathJaxConfig: 'local'};</script>\n",
              "        <script src=\"https://cdn.plot.ly/plotly-latest.min.js\"></script>    \n",
              "            <div id=\"7986f7e4-855c-4516-9d60-1892cfe731e4\" class=\"plotly-graph-div\" style=\"height:525px; width:100%;\"></div>\n",
              "            <script type=\"text/javascript\">\n",
              "                \n",
              "                    window.PLOTLYENV=window.PLOTLYENV || {};\n",
              "                    \n",
              "                if (document.getElementById(\"7986f7e4-855c-4516-9d60-1892cfe731e4\")) {\n",
              "                    Plotly.newPlot(\n",
              "                        '7986f7e4-855c-4516-9d60-1892cfe731e4',\n",
              "                        [{\"hoverlabel\": {\"namelength\": 0}, \"hovertemplate\": \"variable=\\u5c0f\\u58f2\\u30fb\\u5a2f\\u697d<br>date=%{x}<br>value=%{y}\", \"legendgroup\": \"variable=\\u5c0f\\u58f2\\u30fb\\u5a2f\\u697d\", \"line\": {\"color\": \"#636efa\", \"dash\": \"solid\"}, \"mode\": \"lines\", \"name\": \"variable=\\u5c0f\\u58f2\\u30fb\\u5a2f\\u697d\", \"showlegend\": true, \"type\": \"scattergl\", \"x\": [\"2020-02-15\", \"2020-02-16\", \"2020-02-17\", \"2020-02-18\", \"2020-02-19\", \"2020-02-20\", \"2020-02-21\", \"2020-02-22\", \"2020-02-23\", \"2020-02-24\", \"2020-02-25\", \"2020-02-26\", \"2020-02-27\", \"2020-02-28\", \"2020-02-29\", \"2020-03-01\", \"2020-03-02\", \"2020-03-03\", \"2020-03-04\", \"2020-03-05\", \"2020-03-06\", \"2020-03-07\", \"2020-03-08\", \"2020-03-09\", \"2020-03-10\", \"2020-03-11\", \"2020-03-12\", \"2020-03-13\", \"2020-03-14\", \"2020-03-15\", \"2020-03-16\", \"2020-03-17\", \"2020-03-18\", \"2020-03-19\", \"2020-03-20\", \"2020-03-21\", \"2020-03-22\", \"2020-03-23\", \"2020-03-24\", \"2020-03-25\", \"2020-03-26\", \"2020-03-27\", \"2020-03-28\", \"2020-03-29\", \"2020-03-30\", \"2020-03-31\", \"2020-04-01\", \"2020-04-02\", \"2020-04-03\", \"2020-04-04\", \"2020-04-05\", \"2020-04-06\", \"2020-04-07\", \"2020-04-08\", \"2020-04-09\", \"2020-04-10\", \"2020-04-11\", \"2020-04-12\", \"2020-04-13\", \"2020-04-14\", \"2020-04-15\", \"2020-04-16\", \"2020-04-17\", \"2020-04-18\", \"2020-04-19\", \"2020-04-20\", \"2020-04-21\", \"2020-04-22\", \"2020-04-23\", \"2020-04-24\", \"2020-04-25\", \"2020-04-26\", \"2020-04-27\", \"2020-04-28\", \"2020-04-29\", \"2020-04-30\", \"2020-05-01\", \"2020-05-02\", \"2020-05-03\", \"2020-05-04\", \"2020-05-05\", \"2020-05-06\", \"2020-05-07\", \"2020-05-08\", \"2020-05-09\", \"2020-05-10\", \"2020-05-11\", \"2020-05-12\", \"2020-05-13\", \"2020-05-14\", \"2020-05-15\", \"2020-05-16\", \"2020-05-17\", \"2020-05-18\", \"2020-05-19\", \"2020-05-20\", \"2020-05-21\", \"2020-05-22\", \"2020-05-23\", \"2020-05-24\", \"2020-05-25\", \"2020-05-26\", \"2020-05-27\", \"2020-05-28\", \"2020-05-29\", \"2020-05-30\", \"2020-05-31\", \"2020-06-01\", \"2020-06-02\", \"2020-06-03\", \"2020-06-04\", \"2020-06-05\", \"2020-06-06\", \"2020-06-07\", \"2020-06-08\", \"2020-06-09\", \"2020-06-10\", \"2020-06-11\", \"2020-06-12\", \"2020-06-13\", \"2020-06-14\", \"2020-06-15\", \"2020-06-16\", \"2020-06-17\", \"2020-06-18\", \"2020-06-19\", \"2020-06-20\", \"2020-06-21\", \"2020-06-22\", \"2020-06-23\", \"2020-06-24\", \"2020-06-25\", \"2020-06-26\", \"2020-06-27\", \"2020-06-28\", \"2020-06-29\", \"2020-06-30\", \"2020-07-01\", \"2020-07-02\", \"2020-07-03\", \"2020-07-04\", \"2020-07-05\", \"2020-07-06\", \"2020-07-07\", \"2020-07-08\", \"2020-07-09\", \"2020-07-10\", \"2020-07-11\", \"2020-07-12\", \"2020-07-13\", \"2020-07-14\", \"2020-07-15\", \"2020-07-16\", \"2020-07-17\", \"2020-07-18\", \"2020-07-19\", \"2020-07-20\", \"2020-07-21\", \"2020-07-22\", \"2020-07-23\", \"2020-07-24\", \"2020-07-25\", \"2020-07-26\", \"2020-07-27\", \"2020-07-28\", \"2020-07-29\", \"2020-07-30\", \"2020-07-31\", \"2020-08-01\", \"2020-08-02\", \"2020-08-03\", \"2020-08-04\", \"2020-08-05\", \"2020-08-06\", \"2020-08-07\", \"2020-08-08\", \"2020-08-09\", \"2020-08-10\", \"2020-08-11\", \"2020-08-12\", \"2020-08-13\", \"2020-08-14\", \"2020-08-15\", \"2020-08-16\", \"2020-08-17\", \"2020-08-18\", \"2020-08-19\", \"2020-08-20\", \"2020-08-21\", \"2020-08-22\", \"2020-08-23\", \"2020-08-24\", \"2020-08-25\", \"2020-08-26\", \"2020-08-27\", \"2020-08-28\", \"2020-08-29\", \"2020-08-30\", \"2020-08-31\", \"2020-09-01\", \"2020-09-02\", \"2020-09-03\", \"2020-09-04\", \"2020-09-05\", \"2020-09-06\", \"2020-09-07\", \"2020-09-08\", \"2020-09-09\", \"2020-09-10\", \"2020-09-11\", \"2020-09-12\", \"2020-09-13\", \"2020-09-14\", \"2020-09-15\", \"2020-09-16\", \"2020-09-17\", \"2020-09-18\", \"2020-09-19\", \"2020-09-20\", \"2020-09-21\", \"2020-09-22\", \"2020-09-23\", \"2020-09-24\", \"2020-09-25\", \"2020-09-26\", \"2020-09-27\", \"2020-09-28\", \"2020-09-29\", \"2020-09-30\", \"2020-10-01\", \"2020-10-02\", \"2020-10-03\", \"2020-10-04\", \"2020-10-05\", \"2020-10-06\", \"2020-10-07\", \"2020-10-08\", \"2020-10-09\", \"2020-10-10\", \"2020-10-11\", \"2020-10-12\", \"2020-10-13\", \"2020-10-14\", \"2020-10-15\", \"2020-10-16\", \"2020-10-17\", \"2020-10-18\", \"2020-10-19\", \"2020-10-20\", \"2020-10-21\", \"2020-10-22\", \"2020-10-23\", \"2020-10-24\", \"2020-10-25\", \"2020-10-26\", \"2020-10-27\", \"2020-10-28\", \"2020-10-29\", \"2020-10-30\", \"2020-10-31\", \"2020-11-01\", \"2020-11-02\", \"2020-11-03\", \"2020-11-04\", \"2020-11-05\", \"2020-11-06\", \"2020-11-07\", \"2020-11-08\", \"2020-11-09\", \"2020-11-10\", \"2020-11-11\", \"2020-11-12\", \"2020-11-13\", \"2020-11-14\", \"2020-11-15\", \"2020-11-16\", \"2020-11-17\", \"2020-11-18\", \"2020-11-19\", \"2020-11-20\", \"2020-11-21\", \"2020-11-22\", \"2020-11-23\", \"2020-11-24\", \"2020-11-25\", \"2020-11-26\", \"2020-11-27\", \"2020-11-28\", \"2020-11-29\", \"2020-11-30\", \"2020-12-01\", \"2020-12-02\", \"2020-12-03\", \"2020-12-04\", \"2020-12-05\", \"2020-12-06\", \"2020-12-07\", \"2020-12-08\", \"2020-12-09\", \"2020-12-10\", \"2020-12-11\", \"2020-12-12\", \"2020-12-13\", \"2020-12-14\", \"2020-12-15\", \"2020-12-16\", \"2020-12-17\", \"2020-12-18\", \"2020-12-19\", \"2020-12-20\", \"2020-12-21\", \"2020-12-22\", \"2020-12-23\", \"2020-12-24\", \"2020-12-25\", \"2020-12-26\", \"2020-12-27\", \"2020-12-28\", \"2020-12-29\", \"2020-12-30\", \"2020-12-31\", \"2021-01-01\", \"2021-01-02\", \"2021-01-03\", \"2021-01-04\", \"2021-01-05\", \"2021-01-06\", \"2021-01-07\", \"2021-01-08\", \"2021-01-09\", \"2021-01-10\", \"2021-01-11\", \"2021-01-12\", \"2021-01-13\", \"2021-01-14\", \"2021-01-15\", \"2021-01-16\", \"2021-01-17\", \"2021-01-18\", \"2021-01-19\", \"2021-01-20\", \"2021-01-21\", \"2021-01-22\", \"2021-01-23\", \"2021-01-24\", \"2021-01-25\", \"2021-01-26\", \"2021-01-27\", \"2021-01-28\", \"2021-01-29\", \"2021-01-30\", \"2021-01-31\", \"2021-02-01\", \"2021-02-02\", \"2021-02-03\", \"2021-02-04\", \"2021-02-05\", \"2021-02-06\", \"2021-02-07\", \"2021-02-08\", \"2021-02-09\", \"2021-02-10\", \"2021-02-11\", \"2021-02-12\", \"2021-02-13\", \"2021-02-14\", \"2021-02-15\", \"2021-02-16\", \"2021-02-17\", \"2021-02-18\", \"2021-02-19\", \"2021-02-20\", \"2021-02-21\", \"2021-02-22\", \"2021-02-23\", \"2021-02-24\", \"2021-02-25\", \"2021-02-26\", \"2021-02-27\", \"2021-02-28\", \"2021-03-01\", \"2021-03-02\", \"2021-03-03\", \"2021-03-04\", \"2021-03-05\", \"2021-03-06\", \"2021-03-07\", \"2021-03-08\", \"2021-03-09\", \"2021-03-10\", \"2021-03-11\", \"2021-03-12\", \"2021-03-13\", \"2021-03-14\", \"2021-03-15\", \"2021-03-16\", \"2021-03-17\", \"2021-03-18\", \"2021-03-19\", \"2021-03-20\", \"2021-03-21\", \"2021-03-22\", \"2021-03-23\", \"2021-03-24\", \"2021-03-25\", \"2021-03-26\", \"2021-03-27\", \"2021-03-28\", \"2021-03-29\", \"2021-03-30\", \"2021-03-31\", \"2021-04-01\", \"2021-04-02\", \"2021-04-03\", \"2021-04-04\", \"2021-04-05\", \"2021-04-06\", \"2021-04-07\", \"2021-04-08\", \"2021-04-09\", \"2021-04-10\", \"2021-04-11\", \"2021-04-12\", \"2021-04-13\", \"2021-04-14\", \"2021-04-15\", \"2021-04-16\"], \"xaxis\": \"x\", \"y\": [-2.0, -13.0, -4.0, -2.0, -4.0, -4.0, -4.0, -9.0, -3.0, -5.0, -6.0, -11.0, -8.0, -9.0, -13.0, -15.0, -21.0, -8.0, -20.0, -14.0, -14.0, -18.0, -26.0, -13.0, -20.0, -9.0, -10.0, -10.0, -29.0, -10.0, -13.0, -9.0, -9.0, -3.0, -15.0, -13.0, -13.0, -13.0, -8.0, -6.0, -10.0, -20.0, -46.0, -63.0, -24.0, -23.0, -38.0, -28.0, -30.0, -42.0, -50.0, -29.0, -32.0, -45.0, -47.0, -48.0, -52.0, -59.0, -65.0, -47.0, -49.0, -52.0, -53.0, -72.0, -54.0, -63.0, -53.0, -57.0, -56.0, -57.0, -59.0, -61.0, -59.0, -53.0, -57.0, -54.0, -57.0, -61.0, -60.0, -60.0, -57.0, -68.0, -53.0, -55.0, -55.0, -55.0, -54.0, -53.0, -53.0, -53.0, -54.0, -64.0, -48.0, -55.0, -57.0, -52.0, -54.0, -53.0, -49.0, -46.0, -46.0, -47.0, -43.0, -44.0, -42.0, -38.0, -39.0, -41.0, -35.0, -37.0, -37.0, -37.0, -35.0, -30.0, -34.0, -33.0, -33.0, -38.0, -33.0, -40.0, -31.0, -29.0, -27.0, -27.0, -29.0, -36.0, -20.0, -23.0, -36.0, -23.0, -26.0, -27.0, -25.0, -20.0, -28.0, -22.0, -28.0, -30.0, -22.0, -29.0, -26.0, -23.0, -33.0, -25.0, -27.0, -30.0, -27.0, -25.0, -22.0, -28.0, -28.0, -29.0, -24.0, -33.0, -29.0, -24.0, -26.0, -23.0, -22.0, -34.0, -30.0, -34.0, -30.0, -28.0, -27.0, -27.0, -25.0, -28.0, -26.0, -25.0, -26.0, -25.0, -26.0, -26.0, -28.0, -26.0, -24.0, -24.0, -25.0, -29.0, -26.0, -28.0, -30.0, -31.0, -28.0, -26.0, -27.0, -26.0, -28.0, -26.0, -29.0, -26.0, -23.0, -25.0, -27.0, -27.0, -24.0, -24.0, -26.0, -24.0, -28.0, -27.0, -28.0, -24.0, -27.0, -31.0, -23.0, -25.0, -24.0, -24.0, -27.0, -20.0, -25.0, -21.0, -23.0, -22.0, -23.0, -20.0, -18.0, -12.0, -18.0, -30.0, -32.0, -28.0, -24.0, -16.0, -19.0, -18.0, -18.0, -21.0, -22.0, -17.0, -17.0, -23.0, -19.0, -24.0, -31.0, -31.0, -37.0, -16.0, -21.0, -20.0, -20.0, -23.0, -19.0, -26.0, -11.0, -27.0, -16.0, -18.0, -19.0, -25.0, -11.0, -9.0, -18.0, -16.0, -18.0, -18.0, -19.0, -14.0, -14.0, -16.0, -13.0, -21.0, -19.0, -21.0, -17.0, -14.0, -20.0, -16.0, -18.0, -19.0, -19.0, -14.0, -13.0, -20.0, -18.0, -20.0, -20.0, -23.0, -19.0, -14.0, -18.0, -23.0, -24.0, -19.0, -23.0, -18.0, -18.0, -21.0, -19.0, -26.0, -22.0, -21.0, -23.0, -14.0, -21.0, -19.0, -22.0, -20.0, -22.0, -16.0, -15.0, -23.0, -17.0, -20.0, -20.0, -21.0, -17.0, -15.0, -19.0, -17.0, -16.0, -14.0, -18.0, -19.0, -19.0, -11.0, -13.0, -22.0, -35.0, -66.0, -44.0, -35.0, -25.0, -26.0, -29.0, -31.0, -38.0, -35.0, -31.0, -34.0, -41.0, -37.0, -37.0, -41.0, -33.0, -36.0, -38.0, -37.0, -37.0, -37.0, -39.0, -42.0, -44.0, -35.0, -34.0, -37.0, -42.0, -37.0, -29.0, -27.0, -35.0, -34.0, -35.0, -35.0, -37.0, -28.0, -27.0, -35.0, -33.0, -30.0, -26.0, -35.0, -28.0, -27.0, -44.0, -31.0, -33.0, -33.0, -34.0, -26.0, -25.0, -27.0, -24.0, -33.0, -30.0, -34.0, -25.0, -22.0, -31.0, -39.0, -29.0, -30.0, -35.0, -23.0, -24.0, -35.0, -27.0, -27.0, -27.0, -31.0, -37.0, -13.0, -26.0, -26.0, -27.0, -26.0, -27.0, -19.0, -39.0, -26.0, -20.0, -21.0, -22.0, -22.0, -14.0, -24.0, -20.0, -19.0, -19.0, -22.0, -26.0, -17.0, -21.0, -30.0, -21.0, -23.0, -26.0, -28.0, -19.0, -17.0, -27.0, -30.0, -35.0, -23.0, -28.0], \"yaxis\": \"y\"}, {\"hoverlabel\": {\"namelength\": 0}, \"hovertemplate\": \"variable=\\u98df\\u6599\\u54c1\\u5e97\\u30fb\\u85ac\\u5c40<br>date=%{x}<br>value=%{y}\", \"legendgroup\": \"variable=\\u98df\\u6599\\u54c1\\u5e97\\u30fb\\u85ac\\u5c40\", \"line\": {\"color\": \"#EF553B\", \"dash\": \"solid\"}, \"mode\": \"lines\", \"name\": \"variable=\\u98df\\u6599\\u54c1\\u5e97\\u30fb\\u85ac\\u5c40\", \"showlegend\": true, \"type\": \"scattergl\", \"x\": [\"2020-02-15\", \"2020-02-16\", \"2020-02-17\", \"2020-02-18\", \"2020-02-19\", \"2020-02-20\", \"2020-02-21\", \"2020-02-22\", \"2020-02-23\", \"2020-02-24\", \"2020-02-25\", \"2020-02-26\", \"2020-02-27\", \"2020-02-28\", \"2020-02-29\", \"2020-03-01\", \"2020-03-02\", \"2020-03-03\", \"2020-03-04\", \"2020-03-05\", \"2020-03-06\", \"2020-03-07\", \"2020-03-08\", \"2020-03-09\", \"2020-03-10\", \"2020-03-11\", \"2020-03-12\", \"2020-03-13\", \"2020-03-14\", \"2020-03-15\", \"2020-03-16\", \"2020-03-17\", \"2020-03-18\", \"2020-03-19\", \"2020-03-20\", \"2020-03-21\", \"2020-03-22\", \"2020-03-23\", \"2020-03-24\", \"2020-03-25\", \"2020-03-26\", \"2020-03-27\", \"2020-03-28\", \"2020-03-29\", \"2020-03-30\", \"2020-03-31\", \"2020-04-01\", \"2020-04-02\", \"2020-04-03\", \"2020-04-04\", \"2020-04-05\", \"2020-04-06\", \"2020-04-07\", \"2020-04-08\", \"2020-04-09\", \"2020-04-10\", \"2020-04-11\", \"2020-04-12\", \"2020-04-13\", \"2020-04-14\", \"2020-04-15\", \"2020-04-16\", \"2020-04-17\", \"2020-04-18\", \"2020-04-19\", \"2020-04-20\", \"2020-04-21\", \"2020-04-22\", \"2020-04-23\", \"2020-04-24\", \"2020-04-25\", \"2020-04-26\", \"2020-04-27\", \"2020-04-28\", \"2020-04-29\", \"2020-04-30\", \"2020-05-01\", \"2020-05-02\", \"2020-05-03\", \"2020-05-04\", \"2020-05-05\", \"2020-05-06\", \"2020-05-07\", \"2020-05-08\", \"2020-05-09\", \"2020-05-10\", \"2020-05-11\", \"2020-05-12\", \"2020-05-13\", \"2020-05-14\", \"2020-05-15\", \"2020-05-16\", \"2020-05-17\", \"2020-05-18\", \"2020-05-19\", \"2020-05-20\", \"2020-05-21\", \"2020-05-22\", \"2020-05-23\", \"2020-05-24\", \"2020-05-25\", \"2020-05-26\", \"2020-05-27\", \"2020-05-28\", \"2020-05-29\", \"2020-05-30\", \"2020-05-31\", \"2020-06-01\", \"2020-06-02\", \"2020-06-03\", \"2020-06-04\", \"2020-06-05\", \"2020-06-06\", \"2020-06-07\", \"2020-06-08\", \"2020-06-09\", \"2020-06-10\", \"2020-06-11\", \"2020-06-12\", \"2020-06-13\", \"2020-06-14\", \"2020-06-15\", \"2020-06-16\", \"2020-06-17\", \"2020-06-18\", \"2020-06-19\", \"2020-06-20\", \"2020-06-21\", \"2020-06-22\", \"2020-06-23\", \"2020-06-24\", \"2020-06-25\", \"2020-06-26\", \"2020-06-27\", \"2020-06-28\", \"2020-06-29\", \"2020-06-30\", \"2020-07-01\", \"2020-07-02\", \"2020-07-03\", \"2020-07-04\", \"2020-07-05\", \"2020-07-06\", \"2020-07-07\", \"2020-07-08\", \"2020-07-09\", \"2020-07-10\", \"2020-07-11\", \"2020-07-12\", \"2020-07-13\", \"2020-07-14\", \"2020-07-15\", \"2020-07-16\", \"2020-07-17\", \"2020-07-18\", \"2020-07-19\", \"2020-07-20\", \"2020-07-21\", \"2020-07-22\", \"2020-07-23\", \"2020-07-24\", \"2020-07-25\", \"2020-07-26\", \"2020-07-27\", \"2020-07-28\", \"2020-07-29\", \"2020-07-30\", \"2020-07-31\", \"2020-08-01\", \"2020-08-02\", \"2020-08-03\", \"2020-08-04\", \"2020-08-05\", \"2020-08-06\", \"2020-08-07\", \"2020-08-08\", \"2020-08-09\", \"2020-08-10\", \"2020-08-11\", \"2020-08-12\", \"2020-08-13\", \"2020-08-14\", \"2020-08-15\", \"2020-08-16\", \"2020-08-17\", \"2020-08-18\", \"2020-08-19\", \"2020-08-20\", \"2020-08-21\", \"2020-08-22\", \"2020-08-23\", \"2020-08-24\", \"2020-08-25\", \"2020-08-26\", \"2020-08-27\", \"2020-08-28\", \"2020-08-29\", \"2020-08-30\", \"2020-08-31\", \"2020-09-01\", \"2020-09-02\", \"2020-09-03\", \"2020-09-04\", \"2020-09-05\", \"2020-09-06\", \"2020-09-07\", \"2020-09-08\", \"2020-09-09\", \"2020-09-10\", \"2020-09-11\", \"2020-09-12\", \"2020-09-13\", \"2020-09-14\", \"2020-09-15\", \"2020-09-16\", \"2020-09-17\", \"2020-09-18\", \"2020-09-19\", \"2020-09-20\", \"2020-09-21\", \"2020-09-22\", \"2020-09-23\", \"2020-09-24\", \"2020-09-25\", \"2020-09-26\", \"2020-09-27\", \"2020-09-28\", \"2020-09-29\", \"2020-09-30\", \"2020-10-01\", \"2020-10-02\", \"2020-10-03\", \"2020-10-04\", \"2020-10-05\", \"2020-10-06\", \"2020-10-07\", \"2020-10-08\", \"2020-10-09\", \"2020-10-10\", \"2020-10-11\", \"2020-10-12\", \"2020-10-13\", \"2020-10-14\", \"2020-10-15\", \"2020-10-16\", \"2020-10-17\", \"2020-10-18\", \"2020-10-19\", \"2020-10-20\", \"2020-10-21\", \"2020-10-22\", \"2020-10-23\", \"2020-10-24\", \"2020-10-25\", \"2020-10-26\", \"2020-10-27\", \"2020-10-28\", \"2020-10-29\", \"2020-10-30\", \"2020-10-31\", \"2020-11-01\", \"2020-11-02\", \"2020-11-03\", \"2020-11-04\", \"2020-11-05\", \"2020-11-06\", \"2020-11-07\", \"2020-11-08\", \"2020-11-09\", \"2020-11-10\", \"2020-11-11\", \"2020-11-12\", \"2020-11-13\", \"2020-11-14\", \"2020-11-15\", \"2020-11-16\", \"2020-11-17\", \"2020-11-18\", \"2020-11-19\", \"2020-11-20\", \"2020-11-21\", \"2020-11-22\", \"2020-11-23\", \"2020-11-24\", \"2020-11-25\", \"2020-11-26\", \"2020-11-27\", \"2020-11-28\", \"2020-11-29\", \"2020-11-30\", \"2020-12-01\", \"2020-12-02\", \"2020-12-03\", \"2020-12-04\", \"2020-12-05\", \"2020-12-06\", \"2020-12-07\", \"2020-12-08\", \"2020-12-09\", \"2020-12-10\", \"2020-12-11\", \"2020-12-12\", \"2020-12-13\", \"2020-12-14\", \"2020-12-15\", \"2020-12-16\", \"2020-12-17\", \"2020-12-18\", \"2020-12-19\", \"2020-12-20\", \"2020-12-21\", \"2020-12-22\", \"2020-12-23\", \"2020-12-24\", \"2020-12-25\", \"2020-12-26\", \"2020-12-27\", \"2020-12-28\", \"2020-12-29\", \"2020-12-30\", \"2020-12-31\", \"2021-01-01\", \"2021-01-02\", \"2021-01-03\", \"2021-01-04\", \"2021-01-05\", \"2021-01-06\", \"2021-01-07\", \"2021-01-08\", \"2021-01-09\", \"2021-01-10\", \"2021-01-11\", \"2021-01-12\", \"2021-01-13\", \"2021-01-14\", \"2021-01-15\", \"2021-01-16\", \"2021-01-17\", \"2021-01-18\", \"2021-01-19\", \"2021-01-20\", \"2021-01-21\", \"2021-01-22\", \"2021-01-23\", \"2021-01-24\", \"2021-01-25\", \"2021-01-26\", \"2021-01-27\", \"2021-01-28\", \"2021-01-29\", \"2021-01-30\", \"2021-01-31\", \"2021-02-01\", \"2021-02-02\", \"2021-02-03\", \"2021-02-04\", \"2021-02-05\", \"2021-02-06\", \"2021-02-07\", \"2021-02-08\", \"2021-02-09\", \"2021-02-10\", \"2021-02-11\", \"2021-02-12\", \"2021-02-13\", \"2021-02-14\", \"2021-02-15\", \"2021-02-16\", \"2021-02-17\", \"2021-02-18\", \"2021-02-19\", \"2021-02-20\", \"2021-02-21\", \"2021-02-22\", \"2021-02-23\", \"2021-02-24\", \"2021-02-25\", \"2021-02-26\", \"2021-02-27\", \"2021-02-28\", \"2021-03-01\", \"2021-03-02\", \"2021-03-03\", \"2021-03-04\", \"2021-03-05\", \"2021-03-06\", \"2021-03-07\", \"2021-03-08\", \"2021-03-09\", \"2021-03-10\", \"2021-03-11\", \"2021-03-12\", \"2021-03-13\", \"2021-03-14\", \"2021-03-15\", \"2021-03-16\", \"2021-03-17\", \"2021-03-18\", \"2021-03-19\", \"2021-03-20\", \"2021-03-21\", \"2021-03-22\", \"2021-03-23\", \"2021-03-24\", \"2021-03-25\", \"2021-03-26\", \"2021-03-27\", \"2021-03-28\", \"2021-03-29\", \"2021-03-30\", \"2021-03-31\", \"2021-04-01\", \"2021-04-02\", \"2021-04-03\", \"2021-04-04\", \"2021-04-05\", \"2021-04-06\", \"2021-04-07\", \"2021-04-08\", \"2021-04-09\", \"2021-04-10\", \"2021-04-11\", \"2021-04-12\", \"2021-04-13\", \"2021-04-14\", \"2021-04-15\", \"2021-04-16\"], \"xaxis\": \"x\", \"y\": [5.0, -9.0, 3.0, 3.0, 2.0, 2.0, 2.0, 0.0, 3.0, -1.0, 5.0, 1.0, 5.0, 15.0, 11.0, 10.0, -5.0, 10.0, -4.0, 2.0, 4.0, 2.0, -9.0, 4.0, -10.0, 6.0, 4.0, 5.0, -17.0, 10.0, 0.0, 4.0, 4.0, 4.0, 2.0, 4.0, 4.0, 0.0, 3.0, 14.0, 25.0, 13.0, -6.0, -32.0, 9.0, 5.0, -13.0, 7.0, 9.0, 5.0, -4.0, 12.0, 4.0, -1.0, -3.0, 3.0, 1.0, -10.0, -34.0, 7.0, 5.0, -1.0, 7.0, -30.0, 2.0, -21.0, 1.0, -7.0, -5.0, -3.0, -8.0, -11.0, -17.0, -4.0, -9.0, -1.0, -2.0, -8.0, -8.0, -15.0, -10.0, -27.0, -1.0, -2.0, -6.0, -7.0, -6.0, -4.0, -5.0, -5.0, -1.0, -26.0, 3.0, -11.0, -17.0, -6.0, -9.0, -5.0, -2.0, -2.0, -1.0, -9.0, -1.0, -7.0, 1.0, 1.0, -1.0, -11.0, 1.0, -1.0, -1.0, 0.0, -5.0, 2.0, -3.0, -2.0, -1.0, -13.0, -3.0, -18.0, -4.0, 1.0, 0.0, 0.0, -5.0, -17.0, 5.0, -1.0, -17.0, 2.0, -2.0, -3.0, -1.0, 2.0, -8.0, 0.0, -9.0, -10.0, 3.0, -5.0, -4.0, 5.0, -12.0, -1.0, -3.0, -11.0, 0.0, 0.0, 2.0, -5.0, -5.0, -7.0, 2.0, -10.0, -3.0, 1.0, -1.0, 0.0, -1.0, -17.0, -4.0, -12.0, -6.0, -4.0, -5.0, -2.0, -1.0, -1.0, 1.0, 0.0, -2.0, 0.0, -1.0, -2.0, -1.0, -2.0, -3.0, -7.0, -3.0, -9.0, -7.0, -5.0, -7.0, -7.0, -5.0, -3.0, -4.0, -4.0, -5.0, -4.0, -8.0, -5.0, -1.0, -3.0, -5.0, -3.0, -3.0, -3.0, -5.0, -2.0, -7.0, -5.0, -5.0, -2.0, -9.0, -12.0, -2.0, -5.0, -4.0, -3.0, -11.0, -4.0, -7.0, -2.0, -4.0, -6.0, -5.0, -4.0, -8.0, -7.0, -4.0, -10.0, -16.0, -8.0, -7.0, 1.0, -1.0, 0.0, 2.0, -4.0, -3.0, 0.0, -1.0, -5.0, -2.0, -9.0, -17.0, -12.0, -22.0, 3.0, -3.0, -2.0, -3.0, -5.0, 0.0, -16.0, 3.0, -13.0, 2.0, -2.0, -3.0, -10.0, 2.0, 3.0, -2.0, -2.0, -3.0, -4.0, -4.0, -1.0, -3.0, -7.0, -6.0, -4.0, -4.0, -4.0, -4.0, -2.0, -6.0, -2.0, -4.0, -5.0, -3.0, -1.0, 0.0, -5.0, -4.0, -4.0, -5.0, -4.0, -3.0, -4.0, -8.0, -5.0, -6.0, -2.0, -5.0, -2.0, -3.0, -3.0, -2.0, -11.0, -3.0, -2.0, -8.0, 1.0, -5.0, -3.0, -5.0, -4.0, -4.0, -2.0, -2.0, -8.0, -1.0, -4.0, -5.0, -3.0, -2.0, 0.0, -4.0, -3.0, -1.0, 3.0, 3.0, -1.0, 0.0, 2.0, 4.0, 4.0, 5.0, -48.0, -30.0, -19.0, -6.0, -5.0, -5.0, -6.0, -5.0, -6.0, -6.0, -11.0, -14.0, -7.0, -9.0, -10.0, -6.0, -12.0, -12.0, -11.0, -9.0, -10.0, -6.0, -17.0, -24.0, -5.0, -7.0, -11.0, -19.0, -5.0, -3.0, -4.0, -9.0, -3.0, -9.0, -9.0, -6.0, -3.0, -5.0, -10.0, -8.0, -5.0, -9.0, -7.0, -4.0, -5.0, -21.0, -3.0, -7.0, -8.0, -5.0, -1.0, -3.0, -4.0, -7.0, -6.0, -4.0, -5.0, -2.0, -1.0, -5.0, -19.0, 0.0, -6.0, -8.0, 0.0, -4.0, -15.0, -3.0, -4.0, -4.0, -3.0, -24.0, 5.0, -3.0, -3.0, -3.0, -4.0, -1.0, 2.0, -29.0, -6.0, -1.0, -2.0, -4.0, -1.0, 5.0, -9.0, -3.0, -2.0, -1.0, -3.0, -3.0, 2.0, -6.0, -12.0, -1.0, -2.0, -6.0, -4.0, 1.0, 1.0, -4.0, -8.0, -15.0, 4.0, 1.0], \"yaxis\": \"y\"}, {\"hoverlabel\": {\"namelength\": 0}, \"hovertemplate\": \"variable=\\u516c\\u5712<br>date=%{x}<br>value=%{y}\", \"legendgroup\": \"variable=\\u516c\\u5712\", \"line\": {\"color\": \"#00cc96\", \"dash\": \"solid\"}, \"mode\": \"lines\", \"name\": \"variable=\\u516c\\u5712\", \"showlegend\": true, \"type\": \"scattergl\", \"x\": [\"2020-02-15\", \"2020-02-16\", \"2020-02-17\", \"2020-02-18\", \"2020-02-19\", \"2020-02-20\", \"2020-02-21\", \"2020-02-22\", \"2020-02-23\", \"2020-02-24\", \"2020-02-25\", \"2020-02-26\", \"2020-02-27\", \"2020-02-28\", \"2020-02-29\", \"2020-03-01\", \"2020-03-02\", \"2020-03-03\", \"2020-03-04\", \"2020-03-05\", \"2020-03-06\", \"2020-03-07\", \"2020-03-08\", \"2020-03-09\", \"2020-03-10\", \"2020-03-11\", \"2020-03-12\", \"2020-03-13\", \"2020-03-14\", \"2020-03-15\", \"2020-03-16\", \"2020-03-17\", \"2020-03-18\", \"2020-03-19\", \"2020-03-20\", \"2020-03-21\", \"2020-03-22\", \"2020-03-23\", \"2020-03-24\", \"2020-03-25\", \"2020-03-26\", \"2020-03-27\", \"2020-03-28\", \"2020-03-29\", \"2020-03-30\", \"2020-03-31\", \"2020-04-01\", \"2020-04-02\", \"2020-04-03\", \"2020-04-04\", \"2020-04-05\", \"2020-04-06\", \"2020-04-07\", \"2020-04-08\", \"2020-04-09\", \"2020-04-10\", \"2020-04-11\", \"2020-04-12\", \"2020-04-13\", \"2020-04-14\", \"2020-04-15\", \"2020-04-16\", \"2020-04-17\", \"2020-04-18\", \"2020-04-19\", \"2020-04-20\", \"2020-04-21\", \"2020-04-22\", \"2020-04-23\", \"2020-04-24\", \"2020-04-25\", \"2020-04-26\", \"2020-04-27\", \"2020-04-28\", \"2020-04-29\", \"2020-04-30\", \"2020-05-01\", \"2020-05-02\", \"2020-05-03\", \"2020-05-04\", \"2020-05-05\", \"2020-05-06\", \"2020-05-07\", \"2020-05-08\", \"2020-05-09\", \"2020-05-10\", \"2020-05-11\", \"2020-05-12\", \"2020-05-13\", \"2020-05-14\", \"2020-05-15\", \"2020-05-16\", \"2020-05-17\", \"2020-05-18\", \"2020-05-19\", \"2020-05-20\", \"2020-05-21\", \"2020-05-22\", \"2020-05-23\", \"2020-05-24\", \"2020-05-25\", \"2020-05-26\", \"2020-05-27\", \"2020-05-28\", \"2020-05-29\", \"2020-05-30\", \"2020-05-31\", \"2020-06-01\", \"2020-06-02\", \"2020-06-03\", \"2020-06-04\", \"2020-06-05\", \"2020-06-06\", \"2020-06-07\", \"2020-06-08\", \"2020-06-09\", \"2020-06-10\", \"2020-06-11\", \"2020-06-12\", \"2020-06-13\", \"2020-06-14\", \"2020-06-15\", \"2020-06-16\", \"2020-06-17\", \"2020-06-18\", \"2020-06-19\", \"2020-06-20\", \"2020-06-21\", \"2020-06-22\", \"2020-06-23\", \"2020-06-24\", \"2020-06-25\", \"2020-06-26\", \"2020-06-27\", \"2020-06-28\", \"2020-06-29\", \"2020-06-30\", \"2020-07-01\", \"2020-07-02\", \"2020-07-03\", \"2020-07-04\", \"2020-07-05\", \"2020-07-06\", \"2020-07-07\", \"2020-07-08\", \"2020-07-09\", \"2020-07-10\", \"2020-07-11\", \"2020-07-12\", \"2020-07-13\", \"2020-07-14\", \"2020-07-15\", \"2020-07-16\", \"2020-07-17\", \"2020-07-18\", \"2020-07-19\", \"2020-07-20\", \"2020-07-21\", \"2020-07-22\", \"2020-07-23\", \"2020-07-24\", \"2020-07-25\", \"2020-07-26\", \"2020-07-27\", \"2020-07-28\", \"2020-07-29\", \"2020-07-30\", \"2020-07-31\", \"2020-08-01\", \"2020-08-02\", \"2020-08-03\", \"2020-08-04\", \"2020-08-05\", \"2020-08-06\", \"2020-08-07\", \"2020-08-08\", \"2020-08-09\", \"2020-08-10\", \"2020-08-11\", \"2020-08-12\", \"2020-08-13\", \"2020-08-14\", \"2020-08-15\", \"2020-08-16\", \"2020-08-17\", \"2020-08-18\", \"2020-08-19\", \"2020-08-20\", \"2020-08-21\", \"2020-08-22\", \"2020-08-23\", \"2020-08-24\", \"2020-08-25\", \"2020-08-26\", \"2020-08-27\", \"2020-08-28\", \"2020-08-29\", \"2020-08-30\", \"2020-08-31\", \"2020-09-01\", \"2020-09-02\", \"2020-09-03\", \"2020-09-04\", \"2020-09-05\", \"2020-09-06\", \"2020-09-07\", \"2020-09-08\", \"2020-09-09\", \"2020-09-10\", \"2020-09-11\", \"2020-09-12\", \"2020-09-13\", \"2020-09-14\", \"2020-09-15\", \"2020-09-16\", \"2020-09-17\", \"2020-09-18\", \"2020-09-19\", \"2020-09-20\", \"2020-09-21\", \"2020-09-22\", \"2020-09-23\", \"2020-09-24\", \"2020-09-25\", \"2020-09-26\", \"2020-09-27\", \"2020-09-28\", \"2020-09-29\", \"2020-09-30\", \"2020-10-01\", \"2020-10-02\", \"2020-10-03\", \"2020-10-04\", \"2020-10-05\", \"2020-10-06\", \"2020-10-07\", \"2020-10-08\", \"2020-10-09\", \"2020-10-10\", \"2020-10-11\", \"2020-10-12\", \"2020-10-13\", \"2020-10-14\", \"2020-10-15\", \"2020-10-16\", \"2020-10-17\", \"2020-10-18\", \"2020-10-19\", \"2020-10-20\", \"2020-10-21\", \"2020-10-22\", \"2020-10-23\", \"2020-10-24\", \"2020-10-25\", \"2020-10-26\", \"2020-10-27\", \"2020-10-28\", \"2020-10-29\", \"2020-10-30\", \"2020-10-31\", \"2020-11-01\", \"2020-11-02\", \"2020-11-03\", \"2020-11-04\", \"2020-11-05\", \"2020-11-06\", \"2020-11-07\", \"2020-11-08\", \"2020-11-09\", \"2020-11-10\", \"2020-11-11\", \"2020-11-12\", \"2020-11-13\", \"2020-11-14\", \"2020-11-15\", \"2020-11-16\", \"2020-11-17\", \"2020-11-18\", \"2020-11-19\", \"2020-11-20\", \"2020-11-21\", \"2020-11-22\", \"2020-11-23\", \"2020-11-24\", \"2020-11-25\", \"2020-11-26\", \"2020-11-27\", \"2020-11-28\", \"2020-11-29\", \"2020-11-30\", \"2020-12-01\", \"2020-12-02\", \"2020-12-03\", \"2020-12-04\", \"2020-12-05\", \"2020-12-06\", \"2020-12-07\", \"2020-12-08\", \"2020-12-09\", \"2020-12-10\", \"2020-12-11\", \"2020-12-12\", \"2020-12-13\", \"2020-12-14\", \"2020-12-15\", \"2020-12-16\", \"2020-12-17\", \"2020-12-18\", \"2020-12-19\", \"2020-12-20\", \"2020-12-21\", \"2020-12-22\", \"2020-12-23\", \"2020-12-24\", \"2020-12-25\", \"2020-12-26\", \"2020-12-27\", \"2020-12-28\", \"2020-12-29\", \"2020-12-30\", \"2020-12-31\", \"2021-01-01\", \"2021-01-02\", \"2021-01-03\", \"2021-01-04\", \"2021-01-05\", \"2021-01-06\", \"2021-01-07\", \"2021-01-08\", \"2021-01-09\", \"2021-01-10\", \"2021-01-11\", \"2021-01-12\", \"2021-01-13\", \"2021-01-14\", \"2021-01-15\", \"2021-01-16\", \"2021-01-17\", \"2021-01-18\", \"2021-01-19\", \"2021-01-20\", \"2021-01-21\", \"2021-01-22\", \"2021-01-23\", \"2021-01-24\", \"2021-01-25\", \"2021-01-26\", \"2021-01-27\", \"2021-01-28\", \"2021-01-29\", \"2021-01-30\", \"2021-01-31\", \"2021-02-01\", \"2021-02-02\", \"2021-02-03\", \"2021-02-04\", \"2021-02-05\", \"2021-02-06\", \"2021-02-07\", \"2021-02-08\", \"2021-02-09\", \"2021-02-10\", \"2021-02-11\", \"2021-02-12\", \"2021-02-13\", \"2021-02-14\", \"2021-02-15\", \"2021-02-16\", \"2021-02-17\", \"2021-02-18\", \"2021-02-19\", \"2021-02-20\", \"2021-02-21\", \"2021-02-22\", \"2021-02-23\", \"2021-02-24\", \"2021-02-25\", \"2021-02-26\", \"2021-02-27\", \"2021-02-28\", \"2021-03-01\", \"2021-03-02\", \"2021-03-03\", \"2021-03-04\", \"2021-03-05\", \"2021-03-06\", \"2021-03-07\", \"2021-03-08\", \"2021-03-09\", \"2021-03-10\", \"2021-03-11\", \"2021-03-12\", \"2021-03-13\", \"2021-03-14\", \"2021-03-15\", \"2021-03-16\", \"2021-03-17\", \"2021-03-18\", \"2021-03-19\", \"2021-03-20\", \"2021-03-21\", \"2021-03-22\", \"2021-03-23\", \"2021-03-24\", \"2021-03-25\", \"2021-03-26\", \"2021-03-27\", \"2021-03-28\", \"2021-03-29\", \"2021-03-30\", \"2021-03-31\", \"2021-04-01\", \"2021-04-02\", \"2021-04-03\", \"2021-04-04\", \"2021-04-05\", \"2021-04-06\", \"2021-04-07\", \"2021-04-08\", \"2021-04-09\", \"2021-04-10\", \"2021-04-11\", \"2021-04-12\", \"2021-04-13\", \"2021-04-14\", \"2021-04-15\", \"2021-04-16\"], \"xaxis\": \"x\", \"y\": [9.0, -37.0, -2.0, 3.0, 8.0, -1.0, 0.0, -7.0, 14.0, 31.0, -5.0, -15.0, -9.0, -6.0, -8.0, 12.0, -38.0, 11.0, -26.0, -10.0, 1.0, -16.0, -54.0, 6.0, -36.0, 18.0, 9.0, 8.0, -58.0, 16.0, -8.0, 6.0, 21.0, 14.0, 37.0, 38.0, 51.0, 2.0, 12.0, 37.0, 26.0, 4.0, -31.0, -66.0, -14.0, -10.0, -44.0, -2.0, 4.0, 4.0, -30.0, 3.0, -3.0, 4.0, -6.0, -10.0, -6.0, -31.0, -65.0, -2.0, 11.0, -8.0, -8.0, -66.0, 12.0, -58.0, 0.0, -11.0, -10.0, -15.0, -18.0, -11.0, -36.0, -19.0, 13.0, -4.0, -6.0, -14.0, -8.0, -19.0, 4.0, -45.0, -7.0, -6.0, -19.0, -18.0, -7.0, -6.0, -2.0, -4.0, -9.0, -65.0, 3.0, -32.0, -51.0, -27.0, -32.0, -24.0, -19.0, 7.0, -3.0, -21.0, 3.0, -11.0, -1.0, -6.0, -7.0, -38.0, -5.0, -2.0, -7.0, -10.0, -18.0, 4.0, -7.0, -5.0, -3.0, -30.0, -18.0, -61.0, -41.0, -11.0, -4.0, 2.0, -13.0, -47.0, 1.0, -10.0, -43.0, -7.0, -3.0, -21.0, -10.0, -5.0, -37.0, -4.0, -29.0, -30.0, -6.0, -24.0, -34.0, -13.0, -38.0, -18.0, -15.0, -37.0, -23.0, -21.0, -4.0, -25.0, -28.0, -31.0, -10.0, -40.0, -41.0, 3.0, -14.0, -10.0, -16.0, -50.0, -3.0, -45.0, -31.0, -21.0, -24.0, -15.0, -11.0, -18.0, -9.0, 2.0, -10.0, -8.0, -8.0, -11.0, -15.0, -14.0, -8.0, 1.0, -15.0, -21.0, -21.0, -16.0, -24.0, -24.0, -21.0, -13.0, -11.0, -17.0, -18.0, -20.0, -23.0, -16.0, -11.0, -12.0, -20.0, -18.0, -18.0, -14.0, -19.0, -11.0, -20.0, -20.0, -20.0, -22.0, -34.0, -33.0, -12.0, -13.0, -13.0, -14.0, -41.0, -6.0, -15.0, -5.0, -5.0, -8.0, -11.0, -8.0, -10.0, 28.0, 25.0, -35.0, -40.0, -39.0, -44.0, -3.0, -8.0, -5.0, -1.0, -16.0, -8.0, 0.0, 5.0, -15.0, -4.0, -20.0, -49.0, -49.0, -64.0, -17.0, -11.0, -5.0, -7.0, -29.0, -16.0, -58.0, 1.0, -36.0, -7.0, -3.0, -13.0, -38.0, 0.0, 18.0, -11.0, -7.0, -8.0, -9.0, -19.0, -3.0, 2.0, -22.0, -1.0, -9.0, -12.0, -17.0, -12.0, 7.0, -16.0, -8.0, -10.0, -18.0, -12.0, -3.0, 9.0, -11.0, -6.0, -3.0, -9.0, -18.0, -9.0, 9.0, 15.0, -22.0, -33.0, -11.0, -23.0, -15.0, -11.0, -17.0, -13.0, -32.0, -24.0, -19.0, -48.0, -4.0, -16.0, -12.0, -17.0, -20.0, -18.0, -16.0, -5.0, -25.0, -17.0, -19.0, -24.0, -22.0, -29.0, -21.0, -23.0, -18.0, -16.0, -24.0, -21.0, -28.0, -23.0, -23.0, -15.0, -38.0, -31.0, -15.0, -31.0, -27.0, -20.0, -26.0, -29.0, -29.0, -32.0, -34.0, -24.0, -24.0, -44.0, -22.0, -23.0, -37.0, -16.0, -32.0, -31.0, -31.0, -26.0, -27.0, -28.0, -66.0, -69.0, -27.0, -27.0, -32.0, -47.0, -32.0, -25.0, -16.0, -29.0, -32.0, -20.0, -27.0, -26.0, -17.0, -4.0, -31.0, -25.0, -19.0, -6.0, -27.0, -16.0, -5.0, -54.0, -18.0, -24.0, -28.0, -25.0, -14.0, 4.0, -13.0, 3.0, -25.0, -24.0, -32.0, -29.0, -11.0, -22.0, -49.0, -22.0, -22.0, -31.0, -18.0, -24.0, -52.0, -19.0, -16.0, -18.0, -23.0, -67.0, -6.0, -15.0, -9.0, -10.0, -11.0, -11.0, -11.0, -69.0, -24.0, 5.0, 13.0, -12.0, 7.0, 27.0, -24.0, 4.0, 3.0, 5.0, -6.0, -12.0, 2.0, -13.0, -43.0, -12.0, -3.0, -16.0, -20.0, -9.0, 9.0, -15.0, -29.0, -45.0, -12.0, -19.0], \"yaxis\": \"y\"}, {\"hoverlabel\": {\"namelength\": 0}, \"hovertemplate\": \"variable=\\u4e57\\u63db\\u99c5<br>date=%{x}<br>value=%{y}\", \"legendgroup\": \"variable=\\u4e57\\u63db\\u99c5\", \"line\": {\"color\": \"#ab63fa\", \"dash\": \"solid\"}, \"mode\": \"lines\", \"name\": \"variable=\\u4e57\\u63db\\u99c5\", \"showlegend\": true, \"type\": \"scattergl\", \"x\": [\"2020-02-15\", \"2020-02-16\", \"2020-02-17\", \"2020-02-18\", \"2020-02-19\", \"2020-02-20\", \"2020-02-21\", \"2020-02-22\", \"2020-02-23\", \"2020-02-24\", \"2020-02-25\", \"2020-02-26\", \"2020-02-27\", \"2020-02-28\", \"2020-02-29\", \"2020-03-01\", \"2020-03-02\", \"2020-03-03\", \"2020-03-04\", \"2020-03-05\", \"2020-03-06\", \"2020-03-07\", \"2020-03-08\", \"2020-03-09\", \"2020-03-10\", \"2020-03-11\", \"2020-03-12\", \"2020-03-13\", \"2020-03-14\", \"2020-03-15\", \"2020-03-16\", \"2020-03-17\", \"2020-03-18\", \"2020-03-19\", \"2020-03-20\", \"2020-03-21\", \"2020-03-22\", \"2020-03-23\", \"2020-03-24\", \"2020-03-25\", \"2020-03-26\", \"2020-03-27\", \"2020-03-28\", \"2020-03-29\", \"2020-03-30\", \"2020-03-31\", \"2020-04-01\", \"2020-04-02\", \"2020-04-03\", \"2020-04-04\", \"2020-04-05\", \"2020-04-06\", \"2020-04-07\", \"2020-04-08\", \"2020-04-09\", \"2020-04-10\", \"2020-04-11\", \"2020-04-12\", \"2020-04-13\", \"2020-04-14\", \"2020-04-15\", \"2020-04-16\", \"2020-04-17\", \"2020-04-18\", \"2020-04-19\", \"2020-04-20\", \"2020-04-21\", \"2020-04-22\", \"2020-04-23\", \"2020-04-24\", \"2020-04-25\", \"2020-04-26\", \"2020-04-27\", \"2020-04-28\", \"2020-04-29\", \"2020-04-30\", \"2020-05-01\", \"2020-05-02\", \"2020-05-03\", \"2020-05-04\", \"2020-05-05\", \"2020-05-06\", \"2020-05-07\", \"2020-05-08\", \"2020-05-09\", \"2020-05-10\", \"2020-05-11\", \"2020-05-12\", \"2020-05-13\", \"2020-05-14\", \"2020-05-15\", \"2020-05-16\", \"2020-05-17\", \"2020-05-18\", \"2020-05-19\", \"2020-05-20\", \"2020-05-21\", \"2020-05-22\", \"2020-05-23\", \"2020-05-24\", \"2020-05-25\", \"2020-05-26\", \"2020-05-27\", \"2020-05-28\", \"2020-05-29\", \"2020-05-30\", \"2020-05-31\", \"2020-06-01\", \"2020-06-02\", \"2020-06-03\", \"2020-06-04\", \"2020-06-05\", \"2020-06-06\", \"2020-06-07\", \"2020-06-08\", \"2020-06-09\", \"2020-06-10\", \"2020-06-11\", \"2020-06-12\", \"2020-06-13\", \"2020-06-14\", \"2020-06-15\", \"2020-06-16\", \"2020-06-17\", \"2020-06-18\", \"2020-06-19\", \"2020-06-20\", \"2020-06-21\", \"2020-06-22\", \"2020-06-23\", \"2020-06-24\", \"2020-06-25\", \"2020-06-26\", \"2020-06-27\", \"2020-06-28\", \"2020-06-29\", \"2020-06-30\", \"2020-07-01\", \"2020-07-02\", \"2020-07-03\", \"2020-07-04\", \"2020-07-05\", \"2020-07-06\", \"2020-07-07\", \"2020-07-08\", \"2020-07-09\", \"2020-07-10\", \"2020-07-11\", \"2020-07-12\", \"2020-07-13\", \"2020-07-14\", \"2020-07-15\", \"2020-07-16\", \"2020-07-17\", \"2020-07-18\", \"2020-07-19\", \"2020-07-20\", \"2020-07-21\", \"2020-07-22\", \"2020-07-23\", \"2020-07-24\", \"2020-07-25\", \"2020-07-26\", \"2020-07-27\", \"2020-07-28\", \"2020-07-29\", \"2020-07-30\", \"2020-07-31\", \"2020-08-01\", \"2020-08-02\", \"2020-08-03\", \"2020-08-04\", \"2020-08-05\", \"2020-08-06\", \"2020-08-07\", \"2020-08-08\", \"2020-08-09\", \"2020-08-10\", \"2020-08-11\", \"2020-08-12\", \"2020-08-13\", \"2020-08-14\", \"2020-08-15\", \"2020-08-16\", \"2020-08-17\", \"2020-08-18\", \"2020-08-19\", \"2020-08-20\", \"2020-08-21\", \"2020-08-22\", \"2020-08-23\", \"2020-08-24\", \"2020-08-25\", \"2020-08-26\", \"2020-08-27\", \"2020-08-28\", \"2020-08-29\", \"2020-08-30\", \"2020-08-31\", \"2020-09-01\", \"2020-09-02\", \"2020-09-03\", \"2020-09-04\", \"2020-09-05\", \"2020-09-06\", \"2020-09-07\", \"2020-09-08\", \"2020-09-09\", \"2020-09-10\", \"2020-09-11\", \"2020-09-12\", \"2020-09-13\", \"2020-09-14\", \"2020-09-15\", \"2020-09-16\", \"2020-09-17\", \"2020-09-18\", \"2020-09-19\", \"2020-09-20\", \"2020-09-21\", \"2020-09-22\", \"2020-09-23\", \"2020-09-24\", \"2020-09-25\", \"2020-09-26\", \"2020-09-27\", \"2020-09-28\", \"2020-09-29\", \"2020-09-30\", \"2020-10-01\", \"2020-10-02\", \"2020-10-03\", \"2020-10-04\", \"2020-10-05\", \"2020-10-06\", \"2020-10-07\", \"2020-10-08\", \"2020-10-09\", \"2020-10-10\", \"2020-10-11\", \"2020-10-12\", \"2020-10-13\", \"2020-10-14\", \"2020-10-15\", \"2020-10-16\", \"2020-10-17\", \"2020-10-18\", \"2020-10-19\", \"2020-10-20\", \"2020-10-21\", \"2020-10-22\", \"2020-10-23\", \"2020-10-24\", \"2020-10-25\", \"2020-10-26\", \"2020-10-27\", \"2020-10-28\", \"2020-10-29\", \"2020-10-30\", \"2020-10-31\", \"2020-11-01\", \"2020-11-02\", \"2020-11-03\", \"2020-11-04\", \"2020-11-05\", \"2020-11-06\", \"2020-11-07\", \"2020-11-08\", \"2020-11-09\", \"2020-11-10\", \"2020-11-11\", \"2020-11-12\", \"2020-11-13\", \"2020-11-14\", \"2020-11-15\", \"2020-11-16\", \"2020-11-17\", \"2020-11-18\", \"2020-11-19\", \"2020-11-20\", \"2020-11-21\", \"2020-11-22\", \"2020-11-23\", \"2020-11-24\", \"2020-11-25\", \"2020-11-26\", \"2020-11-27\", \"2020-11-28\", \"2020-11-29\", \"2020-11-30\", \"2020-12-01\", \"2020-12-02\", \"2020-12-03\", \"2020-12-04\", \"2020-12-05\", \"2020-12-06\", \"2020-12-07\", \"2020-12-08\", \"2020-12-09\", \"2020-12-10\", \"2020-12-11\", \"2020-12-12\", \"2020-12-13\", \"2020-12-14\", \"2020-12-15\", \"2020-12-16\", \"2020-12-17\", \"2020-12-18\", \"2020-12-19\", \"2020-12-20\", \"2020-12-21\", \"2020-12-22\", \"2020-12-23\", \"2020-12-24\", \"2020-12-25\", \"2020-12-26\", \"2020-12-27\", \"2020-12-28\", \"2020-12-29\", \"2020-12-30\", \"2020-12-31\", \"2021-01-01\", \"2021-01-02\", \"2021-01-03\", \"2021-01-04\", \"2021-01-05\", \"2021-01-06\", \"2021-01-07\", \"2021-01-08\", \"2021-01-09\", \"2021-01-10\", \"2021-01-11\", \"2021-01-12\", \"2021-01-13\", \"2021-01-14\", \"2021-01-15\", \"2021-01-16\", \"2021-01-17\", \"2021-01-18\", \"2021-01-19\", \"2021-01-20\", \"2021-01-21\", \"2021-01-22\", \"2021-01-23\", \"2021-01-24\", \"2021-01-25\", \"2021-01-26\", \"2021-01-27\", \"2021-01-28\", \"2021-01-29\", \"2021-01-30\", \"2021-01-31\", \"2021-02-01\", \"2021-02-02\", \"2021-02-03\", \"2021-02-04\", \"2021-02-05\", \"2021-02-06\", \"2021-02-07\", \"2021-02-08\", \"2021-02-09\", \"2021-02-10\", \"2021-02-11\", \"2021-02-12\", \"2021-02-13\", \"2021-02-14\", \"2021-02-15\", \"2021-02-16\", \"2021-02-17\", \"2021-02-18\", \"2021-02-19\", \"2021-02-20\", \"2021-02-21\", \"2021-02-22\", \"2021-02-23\", \"2021-02-24\", \"2021-02-25\", \"2021-02-26\", \"2021-02-27\", \"2021-02-28\", \"2021-03-01\", \"2021-03-02\", \"2021-03-03\", \"2021-03-04\", \"2021-03-05\", \"2021-03-06\", \"2021-03-07\", \"2021-03-08\", \"2021-03-09\", \"2021-03-10\", \"2021-03-11\", \"2021-03-12\", \"2021-03-13\", \"2021-03-14\", \"2021-03-15\", \"2021-03-16\", \"2021-03-17\", \"2021-03-18\", \"2021-03-19\", \"2021-03-20\", \"2021-03-21\", \"2021-03-22\", \"2021-03-23\", \"2021-03-24\", \"2021-03-25\", \"2021-03-26\", \"2021-03-27\", \"2021-03-28\", \"2021-03-29\", \"2021-03-30\", \"2021-03-31\", \"2021-04-01\", \"2021-04-02\", \"2021-04-03\", \"2021-04-04\", \"2021-04-05\", \"2021-04-06\", \"2021-04-07\", \"2021-04-08\", \"2021-04-09\", \"2021-04-10\", \"2021-04-11\", \"2021-04-12\", \"2021-04-13\", \"2021-04-14\", \"2021-04-15\", \"2021-04-16\"], \"xaxis\": \"x\", \"y\": [1.0, -9.0, -1.0, -3.0, -5.0, -5.0, -5.0, -5.0, -5.0, -40.0, -5.0, -8.0, -10.0, -12.0, -19.0, -25.0, -16.0, -16.0, -20.0, -18.0, -20.0, -25.0, -34.0, -17.0, -19.0, -18.0, -18.0, -19.0, -30.0, -24.0, -16.0, -17.0, -15.0, -13.0, -44.0, -21.0, -21.0, -15.0, -16.0, -14.0, -17.0, -25.0, -46.0, -59.0, -27.0, -27.0, -31.0, -32.0, -33.0, -48.0, -58.0, -32.0, -38.0, -46.0, -49.0, -51.0, -59.0, -66.0, -56.0, -54.0, -53.0, -56.0, -57.0, -70.0, -61.0, -58.0, -56.0, -58.0, -58.0, -57.0, -60.0, -65.0, -57.0, -56.0, -73.0, -57.0, -59.0, -62.0, -64.0, -76.0, -75.0, -78.0, -51.0, -54.0, -56.0, -60.0, -50.0, -53.0, -54.0, -53.0, -53.0, -62.0, -56.0, -51.0, -55.0, -52.0, -53.0, -52.0, -52.0, -53.0, -46.0, -48.0, -46.0, -46.0, -44.0, -43.0, -47.0, -34.0, -36.0, -37.0, -37.0, -37.0, -39.0, -41.0, -34.0, -35.0, -35.0, -37.0, -36.0, -42.0, -42.0, -32.0, -32.0, -32.0, -33.0, -35.0, -29.0, -36.0, -31.0, -29.0, -30.0, -29.0, -30.0, -27.0, -37.0, -27.0, -29.0, -29.0, -27.0, -29.0, -32.0, -36.0, -28.0, -28.0, -30.0, -29.0, -29.0, -32.0, -36.0, -28.0, -30.0, -29.0, -29.0, -32.0, -35.0, -38.0, -28.0, -29.0, -27.0, -58.0, -58.0, -40.0, -38.0, -28.0, -31.0, -32.0, -31.0, -32.0, -34.0, -39.0, -30.0, -32.0, -33.0, -33.0, -34.0, -34.0, -37.0, -59.0, -41.0, -44.0, -47.0, -49.0, -42.0, -42.0, -35.0, -35.0, -35.0, -35.0, -35.0, -34.0, -39.0, -32.0, -31.0, -32.0, -33.0, -33.0, -32.0, -36.0, -30.0, -30.0, -32.0, -31.0, -31.0, -31.0, -39.0, -30.0, -29.0, -30.0, -29.0, -29.0, -31.0, -31.0, -27.0, -27.0, -27.0, -27.0, -27.0, -22.0, -25.0, -48.0, -51.0, -27.0, -33.0, -27.0, -26.0, -27.0, -24.0, -26.0, -26.0, -27.0, -27.0, -24.0, -26.0, -26.0, -27.0, -27.0, -29.0, -29.0, -39.0, -28.0, -26.0, -26.0, -26.0, -26.0, -25.0, -26.0, -21.0, -26.0, -25.0, -25.0, -26.0, -27.0, -19.0, -19.0, -24.0, -25.0, -26.0, -27.0, -27.0, -20.0, -23.0, -26.0, -51.0, -26.0, -26.0, -27.0, -22.0, -23.0, -26.0, -26.0, -27.0, -27.0, -27.0, -21.0, -23.0, -26.0, -27.0, -27.0, -27.0, -28.0, -23.0, -23.0, -52.0, -28.0, -27.0, -27.0, -29.0, -25.0, -29.0, -27.0, -28.0, -31.0, -30.0, -30.0, -29.0, -27.0, -28.0, -30.0, -31.0, -29.0, -29.0, -25.0, -27.0, -29.0, -28.0, -29.0, -30.0, -29.0, -26.0, -28.0, -28.0, -29.0, -29.0, -29.0, -29.0, -29.0, -31.0, -37.0, -49.0, -57.0, -66.0, -76.0, -54.0, -44.0, -46.0, -38.0, -37.0, -37.0, -40.0, -43.0, -46.0, -65.0, -41.0, -41.0, -42.0, -44.0, -42.0, -49.0, -42.0, -44.0, -43.0, -43.0, -43.0, -46.0, -52.0, -39.0, -42.0, -43.0, -43.0, -42.0, -40.0, -43.0, -39.0, -40.0, -42.0, -41.0, -41.0, -38.0, -41.0, -39.0, -39.0, -37.0, -59.0, -40.0, -36.0, -38.0, -38.0, -36.0, -38.0, -38.0, -37.0, -32.0, -34.0, -34.0, -58.0, -36.0, -35.0, -36.0, -33.0, -33.0, -33.0, -38.0, -35.0, -36.0, -36.0, -31.0, -35.0, -34.0, -34.0, -34.0, -34.0, -34.0, -37.0, -26.0, -31.0, -32.0, -33.0, -32.0, -33.0, -28.0, -40.0, -30.0, -29.0, -28.0, -29.0, -28.0, -18.0, -27.0, -27.0, -29.0, -27.0, -27.0, -30.0, -23.0, -29.0, -29.0, -29.0, -28.0, -29.0, -29.0, -25.0, -27.0, -27.0, -30.0, -30.0, -28.0, -30.0], \"yaxis\": \"y\"}, {\"hoverlabel\": {\"namelength\": 0}, \"hovertemplate\": \"variable=\\u8077\\u5834<br>date=%{x}<br>value=%{y}\", \"legendgroup\": \"variable=\\u8077\\u5834\", \"line\": {\"color\": \"#FFA15A\", \"dash\": \"solid\"}, \"mode\": \"lines\", \"name\": \"variable=\\u8077\\u5834\", \"showlegend\": true, \"type\": \"scattergl\", \"x\": [\"2020-02-15\", \"2020-02-16\", \"2020-02-17\", \"2020-02-18\", \"2020-02-19\", \"2020-02-20\", \"2020-02-21\", \"2020-02-22\", \"2020-02-23\", \"2020-02-24\", \"2020-02-25\", \"2020-02-26\", \"2020-02-27\", \"2020-02-28\", \"2020-02-29\", \"2020-03-01\", \"2020-03-02\", \"2020-03-03\", \"2020-03-04\", \"2020-03-05\", \"2020-03-06\", \"2020-03-07\", \"2020-03-08\", \"2020-03-09\", \"2020-03-10\", \"2020-03-11\", \"2020-03-12\", \"2020-03-13\", \"2020-03-14\", \"2020-03-15\", \"2020-03-16\", \"2020-03-17\", \"2020-03-18\", \"2020-03-19\", \"2020-03-20\", \"2020-03-21\", \"2020-03-22\", \"2020-03-23\", \"2020-03-24\", \"2020-03-25\", \"2020-03-26\", \"2020-03-27\", \"2020-03-28\", \"2020-03-29\", \"2020-03-30\", \"2020-03-31\", \"2020-04-01\", \"2020-04-02\", \"2020-04-03\", \"2020-04-04\", \"2020-04-05\", \"2020-04-06\", \"2020-04-07\", \"2020-04-08\", \"2020-04-09\", \"2020-04-10\", \"2020-04-11\", \"2020-04-12\", \"2020-04-13\", \"2020-04-14\", \"2020-04-15\", \"2020-04-16\", \"2020-04-17\", \"2020-04-18\", \"2020-04-19\", \"2020-04-20\", \"2020-04-21\", \"2020-04-22\", \"2020-04-23\", \"2020-04-24\", \"2020-04-25\", \"2020-04-26\", \"2020-04-27\", \"2020-04-28\", \"2020-04-29\", \"2020-04-30\", \"2020-05-01\", \"2020-05-02\", \"2020-05-03\", \"2020-05-04\", \"2020-05-05\", \"2020-05-06\", \"2020-05-07\", \"2020-05-08\", \"2020-05-09\", \"2020-05-10\", \"2020-05-11\", \"2020-05-12\", \"2020-05-13\", \"2020-05-14\", \"2020-05-15\", \"2020-05-16\", \"2020-05-17\", \"2020-05-18\", \"2020-05-19\", \"2020-05-20\", \"2020-05-21\", \"2020-05-22\", \"2020-05-23\", \"2020-05-24\", \"2020-05-25\", \"2020-05-26\", \"2020-05-27\", \"2020-05-28\", \"2020-05-29\", \"2020-05-30\", \"2020-05-31\", \"2020-06-01\", \"2020-06-02\", \"2020-06-03\", \"2020-06-04\", \"2020-06-05\", \"2020-06-06\", \"2020-06-07\", \"2020-06-08\", \"2020-06-09\", \"2020-06-10\", \"2020-06-11\", \"2020-06-12\", \"2020-06-13\", \"2020-06-14\", \"2020-06-15\", \"2020-06-16\", \"2020-06-17\", \"2020-06-18\", \"2020-06-19\", \"2020-06-20\", \"2020-06-21\", \"2020-06-22\", \"2020-06-23\", \"2020-06-24\", \"2020-06-25\", \"2020-06-26\", \"2020-06-27\", \"2020-06-28\", \"2020-06-29\", \"2020-06-30\", \"2020-07-01\", \"2020-07-02\", \"2020-07-03\", \"2020-07-04\", \"2020-07-05\", \"2020-07-06\", \"2020-07-07\", \"2020-07-08\", \"2020-07-09\", \"2020-07-10\", \"2020-07-11\", \"2020-07-12\", \"2020-07-13\", \"2020-07-14\", \"2020-07-15\", \"2020-07-16\", \"2020-07-17\", \"2020-07-18\", \"2020-07-19\", \"2020-07-20\", \"2020-07-21\", \"2020-07-22\", \"2020-07-23\", \"2020-07-24\", \"2020-07-25\", \"2020-07-26\", \"2020-07-27\", \"2020-07-28\", \"2020-07-29\", \"2020-07-30\", \"2020-07-31\", \"2020-08-01\", \"2020-08-02\", \"2020-08-03\", \"2020-08-04\", \"2020-08-05\", \"2020-08-06\", \"2020-08-07\", \"2020-08-08\", \"2020-08-09\", \"2020-08-10\", \"2020-08-11\", \"2020-08-12\", \"2020-08-13\", \"2020-08-14\", \"2020-08-15\", \"2020-08-16\", \"2020-08-17\", \"2020-08-18\", \"2020-08-19\", \"2020-08-20\", \"2020-08-21\", \"2020-08-22\", \"2020-08-23\", \"2020-08-24\", \"2020-08-25\", \"2020-08-26\", \"2020-08-27\", \"2020-08-28\", \"2020-08-29\", \"2020-08-30\", \"2020-08-31\", \"2020-09-01\", \"2020-09-02\", \"2020-09-03\", \"2020-09-04\", \"2020-09-05\", \"2020-09-06\", \"2020-09-07\", \"2020-09-08\", \"2020-09-09\", \"2020-09-10\", \"2020-09-11\", \"2020-09-12\", \"2020-09-13\", \"2020-09-14\", \"2020-09-15\", \"2020-09-16\", \"2020-09-17\", \"2020-09-18\", \"2020-09-19\", \"2020-09-20\", \"2020-09-21\", \"2020-09-22\", \"2020-09-23\", \"2020-09-24\", \"2020-09-25\", \"2020-09-26\", \"2020-09-27\", \"2020-09-28\", \"2020-09-29\", \"2020-09-30\", \"2020-10-01\", \"2020-10-02\", \"2020-10-03\", \"2020-10-04\", \"2020-10-05\", \"2020-10-06\", \"2020-10-07\", \"2020-10-08\", \"2020-10-09\", \"2020-10-10\", \"2020-10-11\", \"2020-10-12\", \"2020-10-13\", \"2020-10-14\", \"2020-10-15\", \"2020-10-16\", \"2020-10-17\", \"2020-10-18\", \"2020-10-19\", \"2020-10-20\", \"2020-10-21\", \"2020-10-22\", \"2020-10-23\", \"2020-10-24\", \"2020-10-25\", \"2020-10-26\", \"2020-10-27\", \"2020-10-28\", \"2020-10-29\", \"2020-10-30\", \"2020-10-31\", \"2020-11-01\", \"2020-11-02\", \"2020-11-03\", \"2020-11-04\", \"2020-11-05\", \"2020-11-06\", \"2020-11-07\", \"2020-11-08\", \"2020-11-09\", \"2020-11-10\", \"2020-11-11\", \"2020-11-12\", \"2020-11-13\", \"2020-11-14\", \"2020-11-15\", \"2020-11-16\", \"2020-11-17\", \"2020-11-18\", \"2020-11-19\", \"2020-11-20\", \"2020-11-21\", \"2020-11-22\", \"2020-11-23\", \"2020-11-24\", \"2020-11-25\", \"2020-11-26\", \"2020-11-27\", \"2020-11-28\", \"2020-11-29\", \"2020-11-30\", \"2020-12-01\", \"2020-12-02\", \"2020-12-03\", \"2020-12-04\", \"2020-12-05\", \"2020-12-06\", \"2020-12-07\", \"2020-12-08\", \"2020-12-09\", \"2020-12-10\", \"2020-12-11\", \"2020-12-12\", \"2020-12-13\", \"2020-12-14\", \"2020-12-15\", \"2020-12-16\", \"2020-12-17\", \"2020-12-18\", \"2020-12-19\", \"2020-12-20\", \"2020-12-21\", \"2020-12-22\", \"2020-12-23\", \"2020-12-24\", \"2020-12-25\", \"2020-12-26\", \"2020-12-27\", \"2020-12-28\", \"2020-12-29\", \"2020-12-30\", \"2020-12-31\", \"2021-01-01\", \"2021-01-02\", \"2021-01-03\", \"2021-01-04\", \"2021-01-05\", \"2021-01-06\", \"2021-01-07\", \"2021-01-08\", \"2021-01-09\", \"2021-01-10\", \"2021-01-11\", \"2021-01-12\", \"2021-01-13\", \"2021-01-14\", \"2021-01-15\", \"2021-01-16\", \"2021-01-17\", \"2021-01-18\", \"2021-01-19\", \"2021-01-20\", \"2021-01-21\", \"2021-01-22\", \"2021-01-23\", \"2021-01-24\", \"2021-01-25\", \"2021-01-26\", \"2021-01-27\", \"2021-01-28\", \"2021-01-29\", \"2021-01-30\", \"2021-01-31\", \"2021-02-01\", \"2021-02-02\", \"2021-02-03\", \"2021-02-04\", \"2021-02-05\", \"2021-02-06\", \"2021-02-07\", \"2021-02-08\", \"2021-02-09\", \"2021-02-10\", \"2021-02-11\", \"2021-02-12\", \"2021-02-13\", \"2021-02-14\", \"2021-02-15\", \"2021-02-16\", \"2021-02-17\", \"2021-02-18\", \"2021-02-19\", \"2021-02-20\", \"2021-02-21\", \"2021-02-22\", \"2021-02-23\", \"2021-02-24\", \"2021-02-25\", \"2021-02-26\", \"2021-02-27\", \"2021-02-28\", \"2021-03-01\", \"2021-03-02\", \"2021-03-03\", \"2021-03-04\", \"2021-03-05\", \"2021-03-06\", \"2021-03-07\", \"2021-03-08\", \"2021-03-09\", \"2021-03-10\", \"2021-03-11\", \"2021-03-12\", \"2021-03-13\", \"2021-03-14\", \"2021-03-15\", \"2021-03-16\", \"2021-03-17\", \"2021-03-18\", \"2021-03-19\", \"2021-03-20\", \"2021-03-21\", \"2021-03-22\", \"2021-03-23\", \"2021-03-24\", \"2021-03-25\", \"2021-03-26\", \"2021-03-27\", \"2021-03-28\", \"2021-03-29\", \"2021-03-30\", \"2021-03-31\", \"2021-04-01\", \"2021-04-02\", \"2021-04-03\", \"2021-04-04\", \"2021-04-05\", \"2021-04-06\", \"2021-04-07\", \"2021-04-08\", \"2021-04-09\", \"2021-04-10\", \"2021-04-11\", \"2021-04-12\", \"2021-04-13\", \"2021-04-14\", \"2021-04-15\", \"2021-04-16\"], \"xaxis\": \"x\", \"y\": [4.0, -1.0, 1.0, 0.0, -1.0, -1.0, -2.0, -1.0, -1.0, -66.0, -1.0, -1.0, -2.0, -1.0, 1.0, -1.0, -5.0, -6.0, -8.0, -7.0, -8.0, -6.0, -8.0, -6.0, -10.0, -8.0, -8.0, -8.0, -11.0, -3.0, -5.0, -7.0, -7.0, -8.0, -66.0, -10.0, -5.0, -6.0, -9.0, -8.0, -10.0, -15.0, -19.0, -27.0, -16.0, -16.0, -20.0, -21.0, -22.0, -25.0, -27.0, -22.0, -27.0, -35.0, -38.0, -39.0, -37.0, -38.0, -43.0, -44.0, -45.0, -46.0, -46.0, -44.0, -36.0, -46.0, -47.0, -48.0, -48.0, -46.0, -39.0, -39.0, -46.0, -47.0, -78.0, -50.0, -51.0, -41.0, -40.0, -80.0, -81.0, -80.0, -42.0, -43.0, -33.0, -34.0, -40.0, -44.0, -44.0, -44.0, -43.0, -37.0, -31.0, -41.0, -45.0, -43.0, -43.0, -41.0, -31.0, -29.0, -38.0, -39.0, -38.0, -37.0, -35.0, -24.0, -22.0, -26.0, -28.0, -29.0, -29.0, -28.0, -22.0, -19.0, -25.0, -27.0, -27.0, -28.0, -27.0, -24.0, -18.0, -23.0, -25.0, -26.0, -26.0, -27.0, -16.0, -15.0, -24.0, -25.0, -24.0, -24.0, -24.0, -16.0, -16.0, -21.0, -22.0, -22.0, -22.0, -23.0, -16.0, -14.0, -22.0, -23.0, -23.0, -23.0, -23.0, -15.0, -14.0, -21.0, -24.0, -23.0, -23.0, -24.0, -15.0, -14.0, -20.0, -22.0, -21.0, -70.0, -70.0, -22.0, -16.0, -22.0, -23.0, -24.0, -24.0, -23.0, -13.0, -13.0, -22.0, -25.0, -26.0, -26.0, -27.0, -17.0, -16.0, -73.0, -41.0, -44.0, -52.0, -53.0, -36.0, -20.0, -29.0, -28.0, -28.0, -28.0, -28.0, -17.0, -15.0, -24.0, -24.0, -24.0, -24.0, -24.0, -15.0, -13.0, -21.0, -22.0, -23.0, -23.0, -23.0, -14.0, -15.0, -23.0, -23.0, -23.0, -23.0, -22.0, -15.0, -12.0, -19.0, -20.0, -21.0, -21.0, -21.0, -11.0, -11.0, -71.0, -71.0, -19.0, -23.0, -20.0, -9.0, -8.0, -18.0, -19.0, -18.0, -20.0, -19.0, -10.0, -10.0, -18.0, -19.0, -19.0, -22.0, -22.0, -19.0, -9.0, -19.0, -19.0, -19.0, -20.0, -20.0, -15.0, -8.0, -19.0, -19.0, -18.0, -19.0, -20.0, -10.0, -8.0, -17.0, -18.0, -18.0, -18.0, -18.0, -8.0, -7.0, -21.0, -69.0, -15.0, -17.0, -17.0, -8.0, -8.0, -16.0, -17.0, -17.0, -18.0, -18.0, -10.0, -8.0, -17.0, -18.0, -18.0, -18.0, -19.0, -10.0, -9.0, -70.0, -17.0, -17.0, -18.0, -18.0, -8.0, -9.0, -15.0, -17.0, -18.0, -18.0, -18.0, -10.0, -8.0, -17.0, -17.0, -17.0, -18.0, -18.0, -10.0, -8.0, -17.0, -18.0, -18.0, -19.0, -19.0, -9.0, -7.0, -17.0, -19.0, -18.0, -19.0, -19.0, -10.0, -6.0, -35.0, -59.0, -71.0, -81.0, -88.0, -62.0, -34.0, -47.0, -28.0, -23.0, -23.0, -23.0, -14.0, -15.0, -72.0, -25.0, -25.0, -27.0, -28.0, -17.0, -18.0, -27.0, -29.0, -28.0, -29.0, -28.0, -21.0, -22.0, -26.0, -29.0, -29.0, -29.0, -27.0, -17.0, -14.0, -25.0, -28.0, -27.0, -28.0, -27.0, -17.0, -15.0, -25.0, -26.0, -25.0, -71.0, -28.0, -15.0, -12.0, -26.0, -26.0, -26.0, -27.0, -25.0, -14.0, -11.0, -27.0, -71.0, -24.0, -25.0, -24.0, -12.0, -8.0, -22.0, -27.0, -25.0, -26.0, -25.0, -14.0, -11.0, -25.0, -25.0, -25.0, -26.0, -26.0, -20.0, -8.0, -23.0, -25.0, -24.0, -25.0, -26.0, -29.0, -16.0, -23.0, -24.0, -24.0, -25.0, -26.0, -13.0, -10.0, -25.0, -26.0, -22.0, -24.0, -25.0, -16.0, -12.0, -25.0, -25.0, -26.0, -24.0, -24.0, -15.0, -11.0, -22.0, -25.0, -26.0, -23.0, -23.0], \"yaxis\": \"y\"}, {\"hoverlabel\": {\"namelength\": 0}, \"hovertemplate\": \"variable=\\u4f4f\\u5b85<br>date=%{x}<br>value=%{y}\", \"legendgroup\": \"variable=\\u4f4f\\u5b85\", \"line\": {\"color\": \"#19d3f3\", \"dash\": \"solid\"}, \"mode\": \"lines\", \"name\": \"variable=\\u4f4f\\u5b85\", \"showlegend\": true, \"type\": \"scattergl\", \"x\": [\"2020-02-15\", \"2020-02-16\", \"2020-02-17\", \"2020-02-18\", \"2020-02-19\", \"2020-02-20\", \"2020-02-21\", \"2020-02-22\", \"2020-02-23\", \"2020-02-24\", \"2020-02-25\", \"2020-02-26\", \"2020-02-27\", \"2020-02-28\", \"2020-02-29\", \"2020-03-01\", \"2020-03-02\", \"2020-03-03\", \"2020-03-04\", \"2020-03-05\", \"2020-03-06\", \"2020-03-07\", \"2020-03-08\", \"2020-03-09\", \"2020-03-10\", \"2020-03-11\", \"2020-03-12\", \"2020-03-13\", \"2020-03-14\", \"2020-03-15\", \"2020-03-16\", \"2020-03-17\", \"2020-03-18\", \"2020-03-19\", \"2020-03-20\", \"2020-03-21\", \"2020-03-22\", \"2020-03-23\", \"2020-03-24\", \"2020-03-25\", \"2020-03-26\", \"2020-03-27\", \"2020-03-28\", \"2020-03-29\", \"2020-03-30\", \"2020-03-31\", \"2020-04-01\", \"2020-04-02\", \"2020-04-03\", \"2020-04-04\", \"2020-04-05\", \"2020-04-06\", \"2020-04-07\", \"2020-04-08\", \"2020-04-09\", \"2020-04-10\", \"2020-04-11\", \"2020-04-12\", \"2020-04-13\", \"2020-04-14\", \"2020-04-15\", \"2020-04-16\", \"2020-04-17\", \"2020-04-18\", \"2020-04-19\", \"2020-04-20\", \"2020-04-21\", \"2020-04-22\", \"2020-04-23\", \"2020-04-24\", \"2020-04-25\", \"2020-04-26\", \"2020-04-27\", \"2020-04-28\", \"2020-04-29\", \"2020-04-30\", \"2020-05-01\", \"2020-05-02\", \"2020-05-03\", \"2020-05-04\", \"2020-05-05\", \"2020-05-06\", \"2020-05-07\", \"2020-05-08\", \"2020-05-09\", \"2020-05-10\", \"2020-05-11\", \"2020-05-12\", \"2020-05-13\", \"2020-05-14\", \"2020-05-15\", \"2020-05-16\", \"2020-05-17\", \"2020-05-18\", \"2020-05-19\", \"2020-05-20\", \"2020-05-21\", \"2020-05-22\", \"2020-05-23\", \"2020-05-24\", \"2020-05-25\", \"2020-05-26\", \"2020-05-27\", \"2020-05-28\", \"2020-05-29\", \"2020-05-30\", \"2020-05-31\", \"2020-06-01\", \"2020-06-02\", \"2020-06-03\", \"2020-06-04\", \"2020-06-05\", \"2020-06-06\", \"2020-06-07\", \"2020-06-08\", \"2020-06-09\", \"2020-06-10\", \"2020-06-11\", \"2020-06-12\", \"2020-06-13\", \"2020-06-14\", \"2020-06-15\", \"2020-06-16\", \"2020-06-17\", \"2020-06-18\", \"2020-06-19\", \"2020-06-20\", \"2020-06-21\", \"2020-06-22\", \"2020-06-23\", \"2020-06-24\", \"2020-06-25\", \"2020-06-26\", \"2020-06-27\", \"2020-06-28\", \"2020-06-29\", \"2020-06-30\", \"2020-07-01\", \"2020-07-02\", \"2020-07-03\", \"2020-07-04\", \"2020-07-05\", \"2020-07-06\", \"2020-07-07\", \"2020-07-08\", \"2020-07-09\", \"2020-07-10\", \"2020-07-11\", \"2020-07-12\", \"2020-07-13\", \"2020-07-14\", \"2020-07-15\", \"2020-07-16\", \"2020-07-17\", \"2020-07-18\", \"2020-07-19\", \"2020-07-20\", \"2020-07-21\", \"2020-07-22\", \"2020-07-23\", \"2020-07-24\", \"2020-07-25\", \"2020-07-26\", \"2020-07-27\", \"2020-07-28\", \"2020-07-29\", \"2020-07-30\", \"2020-07-31\", \"2020-08-01\", \"2020-08-02\", \"2020-08-03\", \"2020-08-04\", \"2020-08-05\", \"2020-08-06\", \"2020-08-07\", \"2020-08-08\", \"2020-08-09\", \"2020-08-10\", \"2020-08-11\", \"2020-08-12\", \"2020-08-13\", \"2020-08-14\", \"2020-08-15\", \"2020-08-16\", \"2020-08-17\", \"2020-08-18\", \"2020-08-19\", \"2020-08-20\", \"2020-08-21\", \"2020-08-22\", \"2020-08-23\", \"2020-08-24\", \"2020-08-25\", \"2020-08-26\", \"2020-08-27\", \"2020-08-28\", \"2020-08-29\", \"2020-08-30\", \"2020-08-31\", \"2020-09-01\", \"2020-09-02\", \"2020-09-03\", \"2020-09-04\", \"2020-09-05\", \"2020-09-06\", \"2020-09-07\", \"2020-09-08\", \"2020-09-09\", \"2020-09-10\", \"2020-09-11\", \"2020-09-12\", \"2020-09-13\", \"2020-09-14\", \"2020-09-15\", \"2020-09-16\", \"2020-09-17\", \"2020-09-18\", \"2020-09-19\", \"2020-09-20\", \"2020-09-21\", \"2020-09-22\", \"2020-09-23\", \"2020-09-24\", \"2020-09-25\", \"2020-09-26\", \"2020-09-27\", \"2020-09-28\", \"2020-09-29\", \"2020-09-30\", \"2020-10-01\", \"2020-10-02\", \"2020-10-03\", \"2020-10-04\", \"2020-10-05\", \"2020-10-06\", \"2020-10-07\", \"2020-10-08\", \"2020-10-09\", \"2020-10-10\", \"2020-10-11\", \"2020-10-12\", \"2020-10-13\", \"2020-10-14\", \"2020-10-15\", \"2020-10-16\", \"2020-10-17\", \"2020-10-18\", \"2020-10-19\", \"2020-10-20\", \"2020-10-21\", \"2020-10-22\", \"2020-10-23\", \"2020-10-24\", \"2020-10-25\", \"2020-10-26\", \"2020-10-27\", \"2020-10-28\", \"2020-10-29\", \"2020-10-30\", \"2020-10-31\", \"2020-11-01\", \"2020-11-02\", \"2020-11-03\", \"2020-11-04\", \"2020-11-05\", \"2020-11-06\", \"2020-11-07\", \"2020-11-08\", \"2020-11-09\", \"2020-11-10\", \"2020-11-11\", \"2020-11-12\", \"2020-11-13\", \"2020-11-14\", \"2020-11-15\", \"2020-11-16\", \"2020-11-17\", \"2020-11-18\", \"2020-11-19\", \"2020-11-20\", \"2020-11-21\", \"2020-11-22\", \"2020-11-23\", \"2020-11-24\", \"2020-11-25\", \"2020-11-26\", \"2020-11-27\", \"2020-11-28\", \"2020-11-29\", \"2020-11-30\", \"2020-12-01\", \"2020-12-02\", \"2020-12-03\", \"2020-12-04\", \"2020-12-05\", \"2020-12-06\", \"2020-12-07\", \"2020-12-08\", \"2020-12-09\", \"2020-12-10\", \"2020-12-11\", \"2020-12-12\", \"2020-12-13\", \"2020-12-14\", \"2020-12-15\", \"2020-12-16\", \"2020-12-17\", \"2020-12-18\", \"2020-12-19\", \"2020-12-20\", \"2020-12-21\", \"2020-12-22\", \"2020-12-23\", \"2020-12-24\", \"2020-12-25\", \"2020-12-26\", \"2020-12-27\", \"2020-12-28\", \"2020-12-29\", \"2020-12-30\", \"2020-12-31\", \"2021-01-01\", \"2021-01-02\", \"2021-01-03\", \"2021-01-04\", \"2021-01-05\", \"2021-01-06\", \"2021-01-07\", \"2021-01-08\", \"2021-01-09\", \"2021-01-10\", \"2021-01-11\", \"2021-01-12\", \"2021-01-13\", \"2021-01-14\", \"2021-01-15\", \"2021-01-16\", \"2021-01-17\", \"2021-01-18\", \"2021-01-19\", \"2021-01-20\", \"2021-01-21\", \"2021-01-22\", \"2021-01-23\", \"2021-01-24\", \"2021-01-25\", \"2021-01-26\", \"2021-01-27\", \"2021-01-28\", \"2021-01-29\", \"2021-01-30\", \"2021-01-31\", \"2021-02-01\", \"2021-02-02\", \"2021-02-03\", \"2021-02-04\", \"2021-02-05\", \"2021-02-06\", \"2021-02-07\", \"2021-02-08\", \"2021-02-09\", \"2021-02-10\", \"2021-02-11\", \"2021-02-12\", \"2021-02-13\", \"2021-02-14\", \"2021-02-15\", \"2021-02-16\", \"2021-02-17\", \"2021-02-18\", \"2021-02-19\", \"2021-02-20\", \"2021-02-21\", \"2021-02-22\", \"2021-02-23\", \"2021-02-24\", \"2021-02-25\", \"2021-02-26\", \"2021-02-27\", \"2021-02-28\", \"2021-03-01\", \"2021-03-02\", \"2021-03-03\", \"2021-03-04\", \"2021-03-05\", \"2021-03-06\", \"2021-03-07\", \"2021-03-08\", \"2021-03-09\", \"2021-03-10\", \"2021-03-11\", \"2021-03-12\", \"2021-03-13\", \"2021-03-14\", \"2021-03-15\", \"2021-03-16\", \"2021-03-17\", \"2021-03-18\", \"2021-03-19\", \"2021-03-20\", \"2021-03-21\", \"2021-03-22\", \"2021-03-23\", \"2021-03-24\", \"2021-03-25\", \"2021-03-26\", \"2021-03-27\", \"2021-03-28\", \"2021-03-29\", \"2021-03-30\", \"2021-03-31\", \"2021-04-01\", \"2021-04-02\", \"2021-04-03\", \"2021-04-04\", \"2021-04-05\", \"2021-04-06\", \"2021-04-07\", \"2021-04-08\", \"2021-04-09\", \"2021-04-10\", \"2021-04-11\", \"2021-04-12\", \"2021-04-13\", \"2021-04-14\", \"2021-04-15\", \"2021-04-16\"], \"xaxis\": \"x\", \"y\": [1.0, 3.0, 0.0, 1.0, 1.0, 1.0, 2.0, 2.0, 0.0, 19.0, 1.0, 2.0, 3.0, 4.0, 5.0, 4.0, 6.0, 5.0, 7.0, 7.0, 7.0, 6.0, 7.0, 5.0, 8.0, 5.0, 6.0, 7.0, 9.0, 4.0, 5.0, 5.0, 5.0, 4.0, 22.0, 4.0, 2.0, 5.0, 6.0, 4.0, 6.0, 10.0, 13.0, 14.0, 10.0, 10.0, 13.0, 12.0, 14.0, 13.0, 12.0, 12.0, 15.0, 18.0, 21.0, 23.0, 17.0, 15.0, 25.0, 23.0, 23.0, 24.0, 26.0, 22.0, 13.0, 25.0, 24.0, 25.0, 25.0, 27.0, 18.0, 15.0, 25.0, 24.0, 32.0, 26.0, 28.0, 19.0, 15.0, 36.0, 36.0, 37.0, 22.0, 25.0, 17.0, 14.0, 21.0, 23.0, 23.0, 23.0, 25.0, 19.0, 12.0, 22.0, 25.0, 23.0, 24.0, 25.0, 16.0, 12.0, 20.0, 21.0, 19.0, 20.0, 20.0, 12.0, 10.0, 15.0, 15.0, 15.0, 16.0, 17.0, 11.0, 8.0, 14.0, 15.0, 14.0, 16.0, 16.0, 13.0, 9.0, 12.0, 13.0, 13.0, 13.0, 16.0, 6.0, 6.0, 13.0, 12.0, 12.0, 13.0, 13.0, 7.0, 8.0, 10.0, 13.0, 12.0, 11.0, 13.0, 9.0, 7.0, 12.0, 12.0, 12.0, 13.0, 13.0, 8.0, 6.0, 11.0, 13.0, 12.0, 12.0, 15.0, 10.0, 7.0, 11.0, 11.0, 10.0, 27.0, 27.0, 10.0, 7.0, 11.0, 12.0, 12.0, 12.0, 13.0, 8.0, 7.0, 11.0, 12.0, 12.0, 12.0, 13.0, 8.0, 5.0, 25.0, 16.0, 17.0, 19.0, 21.0, 10.0, 7.0, 13.0, 13.0, 12.0, 13.0, 14.0, 8.0, 7.0, 12.0, 12.0, 12.0, 12.0, 13.0, 7.0, 6.0, 11.0, 11.0, 12.0, 12.0, 13.0, 8.0, 8.0, 12.0, 11.0, 11.0, 10.0, 11.0, 9.0, 5.0, 10.0, 10.0, 10.0, 10.0, 10.0, 4.0, 3.0, 19.0, 22.0, 10.0, 13.0, 12.0, 7.0, 5.0, 8.0, 9.0, 8.0, 10.0, 10.0, 5.0, 4.0, 9.0, 9.0, 9.0, 12.0, 13.0, 12.0, 5.0, 8.0, 9.0, 9.0, 10.0, 10.0, 8.0, 3.0, 10.0, 8.0, 8.0, 9.0, 11.0, 3.0, 2.0, 7.0, 8.0, 8.0, 8.0, 9.0, 4.0, 3.0, 8.0, 23.0, 7.0, 8.0, 9.0, 5.0, 3.0, 8.0, 9.0, 8.0, 9.0, 10.0, 4.0, 3.0, 8.0, 8.0, 8.0, 9.0, 10.0, 4.0, 2.0, 22.0, 9.0, 9.0, 9.0, 10.0, 5.0, 5.0, 8.0, 9.0, 10.0, 10.0, 11.0, 7.0, 4.0, 9.0, 9.0, 10.0, 10.0, 10.0, 6.0, 4.0, 9.0, 9.0, 9.0, 10.0, 11.0, 6.0, 5.0, 9.0, 9.0, 9.0, 10.0, 11.0, 7.0, 5.0, 13.0, 21.0, 25.0, 31.0, 37.0, 15.0, 9.0, 19.0, 14.0, 13.0, 14.0, 16.0, 11.0, 9.0, 29.0, 16.0, 14.0, 15.0, 16.0, 10.0, 9.0, 14.0, 15.0, 15.0, 15.0, 16.0, 13.0, 12.0, 13.0, 15.0, 15.0, 16.0, 16.0, 9.0, 8.0, 13.0, 15.0, 14.0, 15.0, 16.0, 9.0, 7.0, 13.0, 14.0, 12.0, 27.0, 15.0, 9.0, 7.0, 15.0, 13.0, 13.0, 14.0, 14.0, 8.0, 6.0, 11.0, 26.0, 12.0, 12.0, 14.0, 8.0, 6.0, 11.0, 15.0, 12.0, 13.0, 15.0, 8.0, 7.0, 13.0, 12.0, 12.0, 12.0, 14.0, 11.0, 4.0, 11.0, 12.0, 11.0, 12.0, 13.0, 7.0, 9.0, 10.0, 10.0, 10.0, 11.0, 11.0, 4.0, 5.0, 10.0, 10.0, 9.0, 10.0, 12.0, 5.0, 5.0, 11.0, 11.0, 10.0, 11.0, 12.0, 6.0, 4.0, 10.0, 12.0, 12.0, 10.0, 12.0], \"yaxis\": \"y\"}],\n",
              "                        {\"legend\": {\"tracegroupgap\": 0}, \"template\": {\"data\": {\"bar\": [{\"error_x\": {\"color\": \"#2a3f5f\"}, \"error_y\": {\"color\": \"#2a3f5f\"}, \"marker\": {\"line\": {\"color\": \"#E5ECF6\", \"width\": 0.5}}, \"type\": \"bar\"}], \"barpolar\": [{\"marker\": {\"line\": {\"color\": \"#E5ECF6\", \"width\": 0.5}}, \"type\": \"barpolar\"}], \"carpet\": [{\"aaxis\": {\"endlinecolor\": \"#2a3f5f\", \"gridcolor\": \"white\", \"linecolor\": \"white\", \"minorgridcolor\": \"white\", \"startlinecolor\": \"#2a3f5f\"}, \"baxis\": {\"endlinecolor\": \"#2a3f5f\", \"gridcolor\": \"white\", \"linecolor\": \"white\", \"minorgridcolor\": \"white\", \"startlinecolor\": \"#2a3f5f\"}, \"type\": \"carpet\"}], \"choropleth\": [{\"colorbar\": {\"outlinewidth\": 0, \"ticks\": \"\"}, \"type\": \"choropleth\"}], \"contour\": [{\"colorbar\": {\"outlinewidth\": 0, \"ticks\": \"\"}, \"colorscale\": [[0.0, \"#0d0887\"], [0.1111111111111111, \"#46039f\"], [0.2222222222222222, \"#7201a8\"], [0.3333333333333333, \"#9c179e\"], [0.4444444444444444, \"#bd3786\"], [0.5555555555555556, \"#d8576b\"], [0.6666666666666666, \"#ed7953\"], [0.7777777777777778, \"#fb9f3a\"], [0.8888888888888888, \"#fdca26\"], [1.0, \"#f0f921\"]], \"type\": \"contour\"}], \"contourcarpet\": [{\"colorbar\": {\"outlinewidth\": 0, \"ticks\": \"\"}, \"type\": \"contourcarpet\"}], \"heatmap\": [{\"colorbar\": {\"outlinewidth\": 0, \"ticks\": \"\"}, \"colorscale\": [[0.0, \"#0d0887\"], [0.1111111111111111, \"#46039f\"], [0.2222222222222222, \"#7201a8\"], [0.3333333333333333, \"#9c179e\"], [0.4444444444444444, \"#bd3786\"], [0.5555555555555556, \"#d8576b\"], [0.6666666666666666, \"#ed7953\"], [0.7777777777777778, \"#fb9f3a\"], [0.8888888888888888, \"#fdca26\"], [1.0, \"#f0f921\"]], \"type\": \"heatmap\"}], \"heatmapgl\": [{\"colorbar\": {\"outlinewidth\": 0, \"ticks\": \"\"}, \"colorscale\": [[0.0, \"#0d0887\"], [0.1111111111111111, \"#46039f\"], [0.2222222222222222, \"#7201a8\"], [0.3333333333333333, \"#9c179e\"], [0.4444444444444444, \"#bd3786\"], [0.5555555555555556, \"#d8576b\"], [0.6666666666666666, \"#ed7953\"], [0.7777777777777778, \"#fb9f3a\"], [0.8888888888888888, \"#fdca26\"], [1.0, \"#f0f921\"]], \"type\": \"heatmapgl\"}], \"histogram\": [{\"marker\": {\"colorbar\": {\"outlinewidth\": 0, \"ticks\": \"\"}}, \"type\": \"histogram\"}], \"histogram2d\": [{\"colorbar\": {\"outlinewidth\": 0, \"ticks\": \"\"}, \"colorscale\": [[0.0, \"#0d0887\"], [0.1111111111111111, \"#46039f\"], [0.2222222222222222, \"#7201a8\"], [0.3333333333333333, \"#9c179e\"], [0.4444444444444444, \"#bd3786\"], [0.5555555555555556, \"#d8576b\"], [0.6666666666666666, \"#ed7953\"], [0.7777777777777778, \"#fb9f3a\"], [0.8888888888888888, \"#fdca26\"], [1.0, \"#f0f921\"]], \"type\": \"histogram2d\"}], \"histogram2dcontour\": [{\"colorbar\": {\"outlinewidth\": 0, \"ticks\": \"\"}, \"colorscale\": [[0.0, \"#0d0887\"], [0.1111111111111111, \"#46039f\"], [0.2222222222222222, \"#7201a8\"], [0.3333333333333333, \"#9c179e\"], [0.4444444444444444, \"#bd3786\"], [0.5555555555555556, \"#d8576b\"], [0.6666666666666666, \"#ed7953\"], [0.7777777777777778, \"#fb9f3a\"], [0.8888888888888888, \"#fdca26\"], [1.0, \"#f0f921\"]], \"type\": \"histogram2dcontour\"}], \"mesh3d\": [{\"colorbar\": {\"outlinewidth\": 0, \"ticks\": \"\"}, \"type\": \"mesh3d\"}], \"parcoords\": [{\"line\": {\"colorbar\": {\"outlinewidth\": 0, \"ticks\": \"\"}}, \"type\": \"parcoords\"}], \"pie\": [{\"automargin\": true, \"type\": \"pie\"}], \"scatter\": [{\"marker\": {\"colorbar\": {\"outlinewidth\": 0, \"ticks\": \"\"}}, \"type\": \"scatter\"}], \"scatter3d\": [{\"line\": {\"colorbar\": {\"outlinewidth\": 0, \"ticks\": \"\"}}, \"marker\": {\"colorbar\": {\"outlinewidth\": 0, \"ticks\": \"\"}}, \"type\": \"scatter3d\"}], \"scattercarpet\": [{\"marker\": {\"colorbar\": {\"outlinewidth\": 0, \"ticks\": \"\"}}, \"type\": \"scattercarpet\"}], \"scattergeo\": [{\"marker\": {\"colorbar\": {\"outlinewidth\": 0, \"ticks\": \"\"}}, \"type\": \"scattergeo\"}], \"scattergl\": [{\"marker\": {\"colorbar\": {\"outlinewidth\": 0, \"ticks\": \"\"}}, \"type\": \"scattergl\"}], \"scattermapbox\": [{\"marker\": {\"colorbar\": {\"outlinewidth\": 0, \"ticks\": \"\"}}, \"type\": \"scattermapbox\"}], \"scatterpolar\": [{\"marker\": {\"colorbar\": {\"outlinewidth\": 0, \"ticks\": \"\"}}, \"type\": \"scatterpolar\"}], \"scatterpolargl\": [{\"marker\": {\"colorbar\": {\"outlinewidth\": 0, \"ticks\": \"\"}}, \"type\": \"scatterpolargl\"}], \"scatterternary\": [{\"marker\": {\"colorbar\": {\"outlinewidth\": 0, \"ticks\": \"\"}}, \"type\": \"scatterternary\"}], \"surface\": [{\"colorbar\": {\"outlinewidth\": 0, \"ticks\": \"\"}, \"colorscale\": [[0.0, \"#0d0887\"], [0.1111111111111111, \"#46039f\"], [0.2222222222222222, \"#7201a8\"], [0.3333333333333333, \"#9c179e\"], [0.4444444444444444, \"#bd3786\"], [0.5555555555555556, \"#d8576b\"], [0.6666666666666666, \"#ed7953\"], [0.7777777777777778, \"#fb9f3a\"], [0.8888888888888888, \"#fdca26\"], [1.0, \"#f0f921\"]], \"type\": \"surface\"}], \"table\": [{\"cells\": {\"fill\": {\"color\": \"#EBF0F8\"}, \"line\": {\"color\": \"white\"}}, \"header\": {\"fill\": {\"color\": \"#C8D4E3\"}, \"line\": {\"color\": \"white\"}}, \"type\": \"table\"}]}, \"layout\": {\"annotationdefaults\": {\"arrowcolor\": \"#2a3f5f\", \"arrowhead\": 0, \"arrowwidth\": 1}, \"coloraxis\": {\"colorbar\": {\"outlinewidth\": 0, \"ticks\": \"\"}}, \"colorscale\": {\"diverging\": [[0, \"#8e0152\"], [0.1, \"#c51b7d\"], [0.2, \"#de77ae\"], [0.3, \"#f1b6da\"], [0.4, \"#fde0ef\"], [0.5, \"#f7f7f7\"], [0.6, \"#e6f5d0\"], [0.7, \"#b8e186\"], [0.8, \"#7fbc41\"], [0.9, \"#4d9221\"], [1, \"#276419\"]], \"sequential\": [[0.0, \"#0d0887\"], [0.1111111111111111, \"#46039f\"], [0.2222222222222222, \"#7201a8\"], [0.3333333333333333, \"#9c179e\"], [0.4444444444444444, \"#bd3786\"], [0.5555555555555556, \"#d8576b\"], [0.6666666666666666, \"#ed7953\"], [0.7777777777777778, \"#fb9f3a\"], [0.8888888888888888, \"#fdca26\"], [1.0, \"#f0f921\"]], \"sequentialminus\": [[0.0, \"#0d0887\"], [0.1111111111111111, \"#46039f\"], [0.2222222222222222, \"#7201a8\"], [0.3333333333333333, \"#9c179e\"], [0.4444444444444444, \"#bd3786\"], [0.5555555555555556, \"#d8576b\"], [0.6666666666666666, \"#ed7953\"], [0.7777777777777778, \"#fb9f3a\"], [0.8888888888888888, \"#fdca26\"], [1.0, \"#f0f921\"]]}, \"colorway\": [\"#636efa\", \"#EF553B\", \"#00cc96\", \"#ab63fa\", \"#FFA15A\", \"#19d3f3\", \"#FF6692\", \"#B6E880\", \"#FF97FF\", \"#FECB52\"], \"font\": {\"color\": \"#2a3f5f\"}, \"geo\": {\"bgcolor\": \"white\", \"lakecolor\": \"white\", \"landcolor\": \"#E5ECF6\", \"showlakes\": true, \"showland\": true, \"subunitcolor\": \"white\"}, \"hoverlabel\": {\"align\": \"left\"}, \"hovermode\": \"closest\", \"mapbox\": {\"style\": \"light\"}, \"paper_bgcolor\": \"white\", \"plot_bgcolor\": \"#E5ECF6\", \"polar\": {\"angularaxis\": {\"gridcolor\": \"white\", \"linecolor\": \"white\", \"ticks\": \"\"}, \"bgcolor\": \"#E5ECF6\", \"radialaxis\": {\"gridcolor\": \"white\", \"linecolor\": \"white\", \"ticks\": \"\"}}, \"scene\": {\"xaxis\": {\"backgroundcolor\": \"#E5ECF6\", \"gridcolor\": \"white\", \"gridwidth\": 2, \"linecolor\": \"white\", \"showbackground\": true, \"ticks\": \"\", \"zerolinecolor\": \"white\"}, \"yaxis\": {\"backgroundcolor\": \"#E5ECF6\", \"gridcolor\": \"white\", \"gridwidth\": 2, \"linecolor\": \"white\", \"showbackground\": true, \"ticks\": \"\", \"zerolinecolor\": \"white\"}, \"zaxis\": {\"backgroundcolor\": \"#E5ECF6\", \"gridcolor\": \"white\", \"gridwidth\": 2, \"linecolor\": \"white\", \"showbackground\": true, \"ticks\": \"\", \"zerolinecolor\": \"white\"}}, \"shapedefaults\": {\"line\": {\"color\": \"#2a3f5f\"}}, \"ternary\": {\"aaxis\": {\"gridcolor\": \"white\", \"linecolor\": \"white\", \"ticks\": \"\"}, \"baxis\": {\"gridcolor\": \"white\", \"linecolor\": \"white\", \"ticks\": \"\"}, \"bgcolor\": \"#E5ECF6\", \"caxis\": {\"gridcolor\": \"white\", \"linecolor\": \"white\", \"ticks\": \"\"}}, \"title\": {\"x\": 0.05}, \"xaxis\": {\"automargin\": true, \"gridcolor\": \"white\", \"linecolor\": \"white\", \"ticks\": \"\", \"title\": {\"standoff\": 15}, \"zerolinecolor\": \"white\", \"zerolinewidth\": 2}, \"yaxis\": {\"automargin\": true, \"gridcolor\": \"white\", \"linecolor\": \"white\", \"ticks\": \"\", \"title\": {\"standoff\": 15}, \"zerolinecolor\": \"white\", \"zerolinewidth\": 2}}}, \"title\": {\"text\": \"Google Mobility Report\"}, \"xaxis\": {\"anchor\": \"y\", \"domain\": [0.0, 1.0], \"title\": {\"text\": \"date\"}}, \"yaxis\": {\"anchor\": \"x\", \"domain\": [0.0, 1.0], \"title\": {\"text\": \"value\"}}},\n",
              "                        {\"responsive\": true}\n",
              "                    ).then(function(){\n",
              "                            \n",
              "var gd = document.getElementById('7986f7e4-855c-4516-9d60-1892cfe731e4');\n",
              "var x = new MutationObserver(function (mutations, observer) {{\n",
              "        var display = window.getComputedStyle(gd).display;\n",
              "        if (!display || display === 'none') {{\n",
              "            console.log([gd, 'removed!']);\n",
              "            Plotly.purge(gd);\n",
              "            observer.disconnect();\n",
              "        }}\n",
              "}});\n",
              "\n",
              "// Listen for the removal of the full notebook cells\n",
              "var notebookContainer = gd.closest('#notebook-container');\n",
              "if (notebookContainer) {{\n",
              "    x.observe(notebookContainer, {childList: true});\n",
              "}}\n",
              "\n",
              "// Listen for the clearing of the current output cell\n",
              "var outputEl = gd.closest('.output');\n",
              "if (outputEl) {{\n",
              "    x.observe(outputEl, {childList: true});\n",
              "}}\n",
              "\n",
              "                        })\n",
              "                };\n",
              "                \n",
              "            </script>\n",
              "        </div>\n",
              "</body>\n",
              "</html>"
            ]
          },
          "metadata": {
            "tags": []
          }
        }
      ]
    },
    {
      "cell_type": "markdown",
      "metadata": {
        "id": "-wxJD0iqpMHX"
      },
      "source": [
        "#### 曜日効果が含まれ分かりにくいため，７日移動平均をとる\n",
        "上記の結果は「週末に職場への人の移動が減少する」また「公園は週末に人出が増える」等の曜日効果が含まれ，細かく振動している。\n",
        "\n",
        "そこで，トレンドを把握するため，７日移動平均をとる。\n",
        "\n",
        "移動平均(moving average)は pandas の機能に含まれており，rolling().mean() を用いる。"
      ]
    },
    {
      "cell_type": "code",
      "metadata": {
        "scrolled": true,
        "id": "U7asX72vpMHX"
      },
      "source": [
        "window = 7 # ウィンドウ幅\n",
        "\n",
        "# 移動平均を求める\n",
        "rolling_mean = df_tokyo[['小売・娯楽', '食料品店・薬局', '公園', '乗換駅', '職場', '住宅']].rolling(window).mean()\n",
        "\n",
        "# date 列と結合する\n",
        "rolling_mean = pd.concat([df_tokyo['date'], rolling_mean], axis=1)\n",
        "\n",
        "# 冒頭の６日間は値が存在しないため，これをカットする（windows-1 行目以降を取り出す)\n",
        "rolling_mean = rolling_mean[window-1:] # 頭の window 分を削除"
      ],
      "execution_count": null,
      "outputs": []
    },
    {
      "cell_type": "code",
      "metadata": {
        "scrolled": true,
        "colab": {
          "base_uri": "https://localhost:8080/",
          "height": 202
        },
        "id": "ODhwdR_ZpMHX",
        "outputId": "1110ae70-2d0f-4620-a085-3a609d67757f"
      },
      "source": [
        "# (参考) ７日移動平均の確認。ここでスタート日が 2020年2月15日から 2020年2月21日へ変更されている点に注意する。\n",
        "rolling_mean.head()"
      ],
      "execution_count": null,
      "outputs": [
        {
          "output_type": "execute_result",
          "data": {
            "text/html": [
              "<div>\n",
              "<style scoped>\n",
              "    .dataframe tbody tr th:only-of-type {\n",
              "        vertical-align: middle;\n",
              "    }\n",
              "\n",
              "    .dataframe tbody tr th {\n",
              "        vertical-align: top;\n",
              "    }\n",
              "\n",
              "    .dataframe thead th {\n",
              "        text-align: right;\n",
              "    }\n",
              "</style>\n",
              "<table border=\"1\" class=\"dataframe\">\n",
              "  <thead>\n",
              "    <tr style=\"text-align: right;\">\n",
              "      <th></th>\n",
              "      <th>date</th>\n",
              "      <th>小売・娯楽</th>\n",
              "      <th>食料品店・薬局</th>\n",
              "      <th>公園</th>\n",
              "      <th>乗換駅</th>\n",
              "      <th>職場</th>\n",
              "      <th>住宅</th>\n",
              "    </tr>\n",
              "  </thead>\n",
              "  <tbody>\n",
              "    <tr>\n",
              "      <th>2517330</th>\n",
              "      <td>2020-02-21</td>\n",
              "      <td>-4.714286</td>\n",
              "      <td>1.142857</td>\n",
              "      <td>-2.857143</td>\n",
              "      <td>-3.857143</td>\n",
              "      <td>0.000000</td>\n",
              "      <td>1.285714</td>\n",
              "    </tr>\n",
              "    <tr>\n",
              "      <th>2517331</th>\n",
              "      <td>2020-02-22</td>\n",
              "      <td>-5.714286</td>\n",
              "      <td>0.428571</td>\n",
              "      <td>-5.142857</td>\n",
              "      <td>-4.714286</td>\n",
              "      <td>-0.714286</td>\n",
              "      <td>1.428571</td>\n",
              "    </tr>\n",
              "    <tr>\n",
              "      <th>2517332</th>\n",
              "      <td>2020-02-23</td>\n",
              "      <td>-4.285714</td>\n",
              "      <td>2.142857</td>\n",
              "      <td>2.142857</td>\n",
              "      <td>-4.142857</td>\n",
              "      <td>-0.714286</td>\n",
              "      <td>1.000000</td>\n",
              "    </tr>\n",
              "    <tr>\n",
              "      <th>2517333</th>\n",
              "      <td>2020-02-24</td>\n",
              "      <td>-4.428571</td>\n",
              "      <td>1.571429</td>\n",
              "      <td>6.857143</td>\n",
              "      <td>-9.714286</td>\n",
              "      <td>-10.285714</td>\n",
              "      <td>3.714286</td>\n",
              "    </tr>\n",
              "    <tr>\n",
              "      <th>2517334</th>\n",
              "      <td>2020-02-25</td>\n",
              "      <td>-5.000000</td>\n",
              "      <td>1.857143</td>\n",
              "      <td>5.714286</td>\n",
              "      <td>-10.000000</td>\n",
              "      <td>-10.428571</td>\n",
              "      <td>3.714286</td>\n",
              "    </tr>\n",
              "  </tbody>\n",
              "</table>\n",
              "</div>"
            ],
            "text/plain": [
              "               date     小売・娯楽   食料品店・薬局  ...        乗換駅         職場        住宅\n",
              "2517330  2020-02-21 -4.714286  1.142857  ...  -3.857143   0.000000  1.285714\n",
              "2517331  2020-02-22 -5.714286  0.428571  ...  -4.714286  -0.714286  1.428571\n",
              "2517332  2020-02-23 -4.285714  2.142857  ...  -4.142857  -0.714286  1.000000\n",
              "2517333  2020-02-24 -4.428571  1.571429  ...  -9.714286 -10.285714  3.714286\n",
              "2517334  2020-02-25 -5.000000  1.857143  ... -10.000000 -10.428571  3.714286\n",
              "\n",
              "[5 rows x 7 columns]"
            ]
          },
          "metadata": {
            "tags": []
          },
          "execution_count": 53
        }
      ]
    },
    {
      "cell_type": "markdown",
      "metadata": {
        "id": "pb47Qqu-z6Cn"
      },
      "source": [
        "#### 改めて東京の移動状況を可視化"
      ]
    },
    {
      "cell_type": "code",
      "metadata": {
        "scrolled": true,
        "colab": {
          "base_uri": "https://localhost:8080/",
          "height": 542
        },
        "id": "kJBuGI3HpMHY",
        "outputId": "1ca5c54e-c7a6-4ee3-ed7b-17ca656b0393"
      },
      "source": [
        "import plotly_express as px\n",
        "\n",
        "df_melt = rolling_mean.melt(id_vars='date', value_vars=[\"小売・娯楽\", \"食料品店・薬局\", \"公園\", \"乗換駅\", \"職場\", \"住宅\"])\n",
        "fig = px.line(df_melt, x=\"date\", y=\"value\", color='variable', title=\"Google Mobility Report (Tokyo)\")\n",
        "fig.show()\n",
        "\n",
        "# (メモ) Anaconda 3 での記述\n",
        "#fig = px.line(rolling_mean, x='date', y=['小売・娯楽', '食料品店・薬局', '公園', '乗換駅', '職場', '住宅'],\n",
        "#              title=\"Google Mobility Report (Tokyo)\")"
      ],
      "execution_count": null,
      "outputs": [
        {
          "output_type": "display_data",
          "data": {
            "text/html": [
              "<html>\n",
              "<head><meta charset=\"utf-8\" /></head>\n",
              "<body>\n",
              "    <div>\n",
              "            <script src=\"https://cdnjs.cloudflare.com/ajax/libs/mathjax/2.7.5/MathJax.js?config=TeX-AMS-MML_SVG\"></script><script type=\"text/javascript\">if (window.MathJax) {MathJax.Hub.Config({SVG: {font: \"STIX-Web\"}});}</script>\n",
              "                <script type=\"text/javascript\">window.PlotlyConfig = {MathJaxConfig: 'local'};</script>\n",
              "        <script src=\"https://cdn.plot.ly/plotly-latest.min.js\"></script>    \n",
              "            <div id=\"62261696-52f3-4ece-b007-269df53c4332\" class=\"plotly-graph-div\" style=\"height:525px; width:100%;\"></div>\n",
              "            <script type=\"text/javascript\">\n",
              "                \n",
              "                    window.PLOTLYENV=window.PLOTLYENV || {};\n",
              "                    \n",
              "                if (document.getElementById(\"62261696-52f3-4ece-b007-269df53c4332\")) {\n",
              "                    Plotly.newPlot(\n",
              "                        '62261696-52f3-4ece-b007-269df53c4332',\n",
              "                        [{\"hoverlabel\": {\"namelength\": 0}, \"hovertemplate\": \"variable=\\u5c0f\\u58f2\\u30fb\\u5a2f\\u697d<br>date=%{x}<br>value=%{y}\", \"legendgroup\": \"variable=\\u5c0f\\u58f2\\u30fb\\u5a2f\\u697d\", \"line\": {\"color\": \"#636efa\", \"dash\": \"solid\"}, \"mode\": \"lines\", \"name\": \"variable=\\u5c0f\\u58f2\\u30fb\\u5a2f\\u697d\", \"showlegend\": true, \"type\": \"scattergl\", \"x\": [\"2020-02-21\", \"2020-02-22\", \"2020-02-23\", \"2020-02-24\", \"2020-02-25\", \"2020-02-26\", \"2020-02-27\", \"2020-02-28\", \"2020-02-29\", \"2020-03-01\", \"2020-03-02\", \"2020-03-03\", \"2020-03-04\", \"2020-03-05\", \"2020-03-06\", \"2020-03-07\", \"2020-03-08\", \"2020-03-09\", \"2020-03-10\", \"2020-03-11\", \"2020-03-12\", \"2020-03-13\", \"2020-03-14\", \"2020-03-15\", \"2020-03-16\", \"2020-03-17\", \"2020-03-18\", \"2020-03-19\", \"2020-03-20\", \"2020-03-21\", \"2020-03-22\", \"2020-03-23\", \"2020-03-24\", \"2020-03-25\", \"2020-03-26\", \"2020-03-27\", \"2020-03-28\", \"2020-03-29\", \"2020-03-30\", \"2020-03-31\", \"2020-04-01\", \"2020-04-02\", \"2020-04-03\", \"2020-04-04\", \"2020-04-05\", \"2020-04-06\", \"2020-04-07\", \"2020-04-08\", \"2020-04-09\", \"2020-04-10\", \"2020-04-11\", \"2020-04-12\", \"2020-04-13\", \"2020-04-14\", \"2020-04-15\", \"2020-04-16\", \"2020-04-17\", \"2020-04-18\", \"2020-04-19\", \"2020-04-20\", \"2020-04-21\", \"2020-04-22\", \"2020-04-23\", \"2020-04-24\", \"2020-04-25\", \"2020-04-26\", \"2020-04-27\", \"2020-04-28\", \"2020-04-29\", \"2020-04-30\", \"2020-05-01\", \"2020-05-02\", \"2020-05-03\", \"2020-05-04\", \"2020-05-05\", \"2020-05-06\", \"2020-05-07\", \"2020-05-08\", \"2020-05-09\", \"2020-05-10\", \"2020-05-11\", \"2020-05-12\", \"2020-05-13\", \"2020-05-14\", \"2020-05-15\", \"2020-05-16\", \"2020-05-17\", \"2020-05-18\", \"2020-05-19\", \"2020-05-20\", \"2020-05-21\", \"2020-05-22\", \"2020-05-23\", \"2020-05-24\", \"2020-05-25\", \"2020-05-26\", \"2020-05-27\", \"2020-05-28\", \"2020-05-29\", \"2020-05-30\", \"2020-05-31\", \"2020-06-01\", \"2020-06-02\", \"2020-06-03\", \"2020-06-04\", \"2020-06-05\", \"2020-06-06\", \"2020-06-07\", \"2020-06-08\", \"2020-06-09\", \"2020-06-10\", \"2020-06-11\", \"2020-06-12\", \"2020-06-13\", \"2020-06-14\", \"2020-06-15\", \"2020-06-16\", \"2020-06-17\", \"2020-06-18\", \"2020-06-19\", \"2020-06-20\", \"2020-06-21\", \"2020-06-22\", \"2020-06-23\", \"2020-06-24\", \"2020-06-25\", \"2020-06-26\", \"2020-06-27\", \"2020-06-28\", \"2020-06-29\", \"2020-06-30\", \"2020-07-01\", \"2020-07-02\", \"2020-07-03\", \"2020-07-04\", \"2020-07-05\", \"2020-07-06\", \"2020-07-07\", \"2020-07-08\", \"2020-07-09\", \"2020-07-10\", \"2020-07-11\", \"2020-07-12\", \"2020-07-13\", \"2020-07-14\", \"2020-07-15\", \"2020-07-16\", \"2020-07-17\", \"2020-07-18\", \"2020-07-19\", \"2020-07-20\", \"2020-07-21\", \"2020-07-22\", \"2020-07-23\", \"2020-07-24\", \"2020-07-25\", \"2020-07-26\", \"2020-07-27\", \"2020-07-28\", \"2020-07-29\", \"2020-07-30\", \"2020-07-31\", \"2020-08-01\", \"2020-08-02\", \"2020-08-03\", \"2020-08-04\", \"2020-08-05\", \"2020-08-06\", \"2020-08-07\", \"2020-08-08\", \"2020-08-09\", \"2020-08-10\", \"2020-08-11\", \"2020-08-12\", \"2020-08-13\", \"2020-08-14\", \"2020-08-15\", \"2020-08-16\", \"2020-08-17\", \"2020-08-18\", \"2020-08-19\", \"2020-08-20\", \"2020-08-21\", \"2020-08-22\", \"2020-08-23\", \"2020-08-24\", \"2020-08-25\", \"2020-08-26\", \"2020-08-27\", \"2020-08-28\", \"2020-08-29\", \"2020-08-30\", \"2020-08-31\", \"2020-09-01\", \"2020-09-02\", \"2020-09-03\", \"2020-09-04\", \"2020-09-05\", \"2020-09-06\", \"2020-09-07\", \"2020-09-08\", \"2020-09-09\", \"2020-09-10\", \"2020-09-11\", \"2020-09-12\", \"2020-09-13\", \"2020-09-14\", \"2020-09-15\", \"2020-09-16\", \"2020-09-17\", \"2020-09-18\", \"2020-09-19\", \"2020-09-20\", \"2020-09-21\", \"2020-09-22\", \"2020-09-23\", \"2020-09-24\", \"2020-09-25\", \"2020-09-26\", \"2020-09-27\", \"2020-09-28\", \"2020-09-29\", \"2020-09-30\", \"2020-10-01\", \"2020-10-02\", \"2020-10-03\", \"2020-10-04\", \"2020-10-05\", \"2020-10-06\", \"2020-10-07\", \"2020-10-08\", \"2020-10-09\", \"2020-10-10\", \"2020-10-11\", \"2020-10-12\", \"2020-10-13\", \"2020-10-14\", \"2020-10-15\", \"2020-10-16\", \"2020-10-17\", \"2020-10-18\", \"2020-10-19\", \"2020-10-20\", \"2020-10-21\", \"2020-10-22\", \"2020-10-23\", \"2020-10-24\", \"2020-10-25\", \"2020-10-26\", \"2020-10-27\", \"2020-10-28\", \"2020-10-29\", \"2020-10-30\", \"2020-10-31\", \"2020-11-01\", \"2020-11-02\", \"2020-11-03\", \"2020-11-04\", \"2020-11-05\", \"2020-11-06\", \"2020-11-07\", \"2020-11-08\", \"2020-11-09\", \"2020-11-10\", \"2020-11-11\", \"2020-11-12\", \"2020-11-13\", \"2020-11-14\", \"2020-11-15\", \"2020-11-16\", \"2020-11-17\", \"2020-11-18\", \"2020-11-19\", \"2020-11-20\", \"2020-11-21\", \"2020-11-22\", \"2020-11-23\", \"2020-11-24\", \"2020-11-25\", \"2020-11-26\", \"2020-11-27\", \"2020-11-28\", \"2020-11-29\", \"2020-11-30\", \"2020-12-01\", \"2020-12-02\", \"2020-12-03\", \"2020-12-04\", \"2020-12-05\", \"2020-12-06\", \"2020-12-07\", \"2020-12-08\", \"2020-12-09\", \"2020-12-10\", \"2020-12-11\", \"2020-12-12\", \"2020-12-13\", \"2020-12-14\", \"2020-12-15\", \"2020-12-16\", \"2020-12-17\", \"2020-12-18\", \"2020-12-19\", \"2020-12-20\", \"2020-12-21\", \"2020-12-22\", \"2020-12-23\", \"2020-12-24\", \"2020-12-25\", \"2020-12-26\", \"2020-12-27\", \"2020-12-28\", \"2020-12-29\", \"2020-12-30\", \"2020-12-31\", \"2021-01-01\", \"2021-01-02\", \"2021-01-03\", \"2021-01-04\", \"2021-01-05\", \"2021-01-06\", \"2021-01-07\", \"2021-01-08\", \"2021-01-09\", \"2021-01-10\", \"2021-01-11\", \"2021-01-12\", \"2021-01-13\", \"2021-01-14\", \"2021-01-15\", \"2021-01-16\", \"2021-01-17\", \"2021-01-18\", \"2021-01-19\", \"2021-01-20\", \"2021-01-21\", \"2021-01-22\", \"2021-01-23\", \"2021-01-24\", \"2021-01-25\", \"2021-01-26\", \"2021-01-27\", \"2021-01-28\", \"2021-01-29\", \"2021-01-30\", \"2021-01-31\", \"2021-02-01\", \"2021-02-02\", \"2021-02-03\", \"2021-02-04\", \"2021-02-05\", \"2021-02-06\", \"2021-02-07\", \"2021-02-08\", \"2021-02-09\", \"2021-02-10\", \"2021-02-11\", \"2021-02-12\", \"2021-02-13\", \"2021-02-14\", \"2021-02-15\", \"2021-02-16\", \"2021-02-17\", \"2021-02-18\", \"2021-02-19\", \"2021-02-20\", \"2021-02-21\", \"2021-02-22\", \"2021-02-23\", \"2021-02-24\", \"2021-02-25\", \"2021-02-26\", \"2021-02-27\", \"2021-02-28\", \"2021-03-01\", \"2021-03-02\", \"2021-03-03\", \"2021-03-04\", \"2021-03-05\", \"2021-03-06\", \"2021-03-07\", \"2021-03-08\", \"2021-03-09\", \"2021-03-10\", \"2021-03-11\", \"2021-03-12\", \"2021-03-13\", \"2021-03-14\", \"2021-03-15\", \"2021-03-16\", \"2021-03-17\", \"2021-03-18\", \"2021-03-19\", \"2021-03-20\", \"2021-03-21\", \"2021-03-22\", \"2021-03-23\", \"2021-03-24\", \"2021-03-25\", \"2021-03-26\", \"2021-03-27\", \"2021-03-28\", \"2021-03-29\", \"2021-03-30\", \"2021-03-31\", \"2021-04-01\", \"2021-04-02\", \"2021-04-03\", \"2021-04-04\", \"2021-04-05\", \"2021-04-06\", \"2021-04-07\", \"2021-04-08\", \"2021-04-09\", \"2021-04-10\", \"2021-04-11\", \"2021-04-12\", \"2021-04-13\", \"2021-04-14\", \"2021-04-15\", \"2021-04-16\"], \"xaxis\": \"x\", \"y\": [-4.714285714285714, -5.714285714285714, -4.285714285714286, -4.428571428571429, -5.0, -6.0, -6.571428571428571, -7.285714285714286, -7.857142857142857, -9.571428571428571, -11.857142857142858, -12.142857142857142, -13.428571428571429, -14.285714285714286, -15.0, -15.714285714285714, -17.285714285714285, -16.142857142857142, -17.857142857142858, -16.285714285714285, -15.714285714285714, -15.142857142857142, -16.714285714285715, -14.428571428571429, -14.428571428571429, -12.857142857142858, -12.857142857142858, -11.857142857142858, -12.571428571428571, -10.285714285714286, -10.714285714285714, -10.714285714285714, -10.571428571428571, -10.142857142857142, -11.142857142857142, -11.857142857142858, -16.571428571428573, -23.714285714285715, -25.285714285714285, -27.428571428571427, -32.0, -34.57142857142857, -36.0, -35.42857142857143, -33.57142857142857, -34.285714285714285, -35.57142857142857, -36.57142857142857, -39.285714285714285, -41.857142857142854, -43.285714285714285, -44.57142857142857, -49.714285714285715, -51.857142857142854, -52.42857142857143, -53.142857142857146, -53.857142857142854, -56.714285714285715, -56.0, -55.714285714285715, -56.57142857142857, -57.714285714285715, -58.285714285714285, -58.857142857142854, -57.0, -58.0, -57.42857142857143, -57.42857142857143, -57.42857142857143, -57.142857142857146, -57.142857142857146, -57.42857142857143, -57.285714285714285, -57.42857142857143, -58.0, -59.57142857142857, -59.42857142857143, -59.142857142857146, -58.285714285714285, -57.57142857142857, -56.714285714285715, -56.142857142857146, -54.0, -54.0, -53.857142857142854, -55.142857142857146, -54.142857142857146, -54.285714285714285, -54.857142857142854, -54.714285714285715, -54.857142857142854, -54.714285714285715, -52.57142857142857, -52.285714285714285, -51.0, -49.57142857142857, -48.285714285714285, -46.857142857142854, -45.285714285714285, -43.714285714285715, -42.714285714285715, -42.0, -40.285714285714285, -39.42857142857143, -38.42857142857143, -37.714285714285715, -37.285714285714285, -36.0, -35.0, -34.714285714285715, -34.142857142857146, -34.285714285714285, -33.714285714285715, -34.42857142857143, -34.57142857142857, -33.857142857142854, -33.0, -32.142857142857146, -30.857142857142858, -31.285714285714285, -28.428571428571427, -27.285714285714285, -28.285714285714285, -27.714285714285715, -27.571428571428573, -27.285714285714285, -25.714285714285715, -25.714285714285715, -26.428571428571427, -24.428571428571427, -25.142857142857142, -25.714285714285715, -25.0, -25.571428571428573, -26.428571428571427, -25.714285714285715, -27.285714285714285, -26.857142857142858, -26.428571428571427, -27.571428571428573, -27.285714285714285, -27.142857142857142, -27.0, -26.285714285714285, -26.714285714285715, -27.0, -26.142857142857142, -27.0, -27.571428571428573, -27.857142857142858, -27.571428571428573, -26.857142857142858, -25.857142857142858, -27.285714285714285, -26.857142857142858, -27.571428571428573, -28.428571428571427, -28.714285714285715, -29.285714285714285, -30.0, -28.714285714285715, -28.428571428571427, -27.285714285714285, -26.571428571428573, -26.285714285714285, -26.0, -25.857142857142858, -26.0, -26.0, -26.0, -25.857142857142858, -25.571428571428573, -25.571428571428573, -26.0, -26.0, -26.0, -26.571428571428573, -27.571428571428573, -28.142857142857142, -28.285714285714285, -28.0, -28.0, -28.0, -27.428571428571427, -27.142857142857142, -26.857142857142858, -26.428571428571427, -26.142857142857142, -26.285714285714285, -26.142857142857142, -25.857142857142858, -25.142857142857142, -25.142857142857142, -25.285714285714285, -25.714285714285715, -25.714285714285715, -25.857142857142858, -25.857142857142858, -26.285714285714285, -27.0, -26.857142857142858, -26.428571428571427, -26.0, -25.428571428571427, -25.857142857142858, -24.857142857142858, -24.0, -23.714285714285715, -23.428571428571427, -23.142857142857142, -23.0, -22.0, -21.714285714285715, -19.857142857142858, -19.428571428571427, -20.428571428571427, -21.857142857142858, -22.571428571428573, -23.142857142857142, -22.857142857142858, -23.857142857142858, -23.857142857142858, -22.142857142857142, -20.571428571428573, -19.714285714285715, -18.714285714285715, -18.857142857142858, -19.428571428571427, -19.571428571428573, -20.428571428571427, -21.857142857142858, -23.142857142857142, -26.0, -25.857142857142858, -25.571428571428573, -25.714285714285715, -25.142857142857142, -24.0, -22.285714285714285, -20.714285714285715, -20.0, -20.857142857142858, -20.285714285714285, -20.0, -19.428571428571427, -20.285714285714285, -18.142857142857142, -17.857142857142858, -16.571428571428573, -16.571428571428573, -16.571428571428573, -16.428571428571427, -15.571428571428571, -16.0, -16.714285714285715, -16.428571428571427, -16.0, -16.428571428571427, -16.571428571428573, -16.857142857142858, -17.285714285714285, -17.285714285714285, -17.857142857142858, -18.285714285714285, -17.857142857142858, -17.857142857142858, -17.571428571428573, -17.142857142857142, -17.0, -17.0, -17.285714285714285, -17.571428571428573, -17.714285714285715, -18.285714285714285, -19.0, -19.142857142857142, -18.857142857142858, -19.571428571428573, -20.142857142857142, -20.0, -20.0, -19.857142857142858, -20.428571428571427, -20.857142857142858, -20.285714285714285, -20.571428571428573, -21.0, -20.714285714285715, -21.428571428571427, -20.857142857142858, -20.857142857142858, -20.857142857142858, -20.285714285714285, -20.0, -20.142857142857142, -19.142857142857142, -19.285714285714285, -19.571428571428573, -19.285714285714285, -19.0, -19.0, -18.857142857142858, -19.0, -19.0, -18.428571428571427, -18.428571428571427, -17.857142857142858, -17.0, -16.571428571428573, -16.857142857142858, -17.428571428571427, -16.285714285714285, -15.714285714285714, -16.571428571428573, -19.571428571428573, -26.428571428571427, -30.0, -32.285714285714285, -34.285714285714285, -36.142857142857146, -37.142857142857146, -36.57142857142857, -32.57142857142857, -31.285714285714285, -30.714285714285715, -32.0, -34.142857142857146, -35.285714285714285, -36.142857142857146, -36.57142857142857, -36.285714285714285, -37.0, -37.57142857142857, -37.0, -37.0, -37.0, -36.714285714285715, -38.0, -39.142857142857146, -38.714285714285715, -38.285714285714285, -38.285714285714285, -39.0, -38.714285714285715, -36.857142857142854, -34.42857142857143, -34.42857142857143, -34.42857142857143, -34.142857142857146, -33.142857142857146, -33.142857142857146, -33.0, -33.0, -33.0, -32.857142857142854, -32.142857142857146, -30.857142857142858, -30.571428571428573, -30.571428571428573, -30.571428571428573, -31.857142857142858, -31.571428571428573, -32.0, -33.0, -32.857142857142854, -32.57142857142857, -32.285714285714285, -29.857142857142858, -28.857142857142858, -28.857142857142858, -28.428571428571427, -28.428571428571427, -28.285714285714285, -27.857142857142858, -28.428571428571427, -30.571428571428573, -30.0, -30.0, -30.142857142857142, -29.857142857142858, -30.142857142857142, -30.714285714285715, -29.0, -28.714285714285715, -28.285714285714285, -27.714285714285715, -29.714285714285715, -28.142857142857142, -26.857142857142858, -26.714285714285715, -26.714285714285715, -26.571428571428573, -26.0, -23.428571428571427, -27.142857142857142, -27.142857142857142, -26.285714285714285, -25.428571428571427, -24.857142857142858, -24.142857142857142, -23.428571428571427, -21.285714285714285, -20.428571428571427, -20.285714285714285, -20.0, -20.0, -20.571428571428573, -21.0, -20.571428571428573, -22.0, -22.285714285714285, -22.857142857142858, -23.428571428571427, -23.714285714285715, -24.0, -23.428571428571427, -23.0, -24.285714285714285, -26.0, -25.571428571428573, -25.571428571428573], \"yaxis\": \"y\"}, {\"hoverlabel\": {\"namelength\": 0}, \"hovertemplate\": \"variable=\\u98df\\u6599\\u54c1\\u5e97\\u30fb\\u85ac\\u5c40<br>date=%{x}<br>value=%{y}\", \"legendgroup\": \"variable=\\u98df\\u6599\\u54c1\\u5e97\\u30fb\\u85ac\\u5c40\", \"line\": {\"color\": \"#EF553B\", \"dash\": \"solid\"}, \"mode\": \"lines\", \"name\": \"variable=\\u98df\\u6599\\u54c1\\u5e97\\u30fb\\u85ac\\u5c40\", \"showlegend\": true, \"type\": \"scattergl\", \"x\": [\"2020-02-21\", \"2020-02-22\", \"2020-02-23\", \"2020-02-24\", \"2020-02-25\", \"2020-02-26\", \"2020-02-27\", \"2020-02-28\", \"2020-02-29\", \"2020-03-01\", \"2020-03-02\", \"2020-03-03\", \"2020-03-04\", \"2020-03-05\", \"2020-03-06\", \"2020-03-07\", \"2020-03-08\", \"2020-03-09\", \"2020-03-10\", \"2020-03-11\", \"2020-03-12\", \"2020-03-13\", \"2020-03-14\", \"2020-03-15\", \"2020-03-16\", \"2020-03-17\", \"2020-03-18\", \"2020-03-19\", \"2020-03-20\", \"2020-03-21\", \"2020-03-22\", \"2020-03-23\", \"2020-03-24\", \"2020-03-25\", \"2020-03-26\", \"2020-03-27\", \"2020-03-28\", \"2020-03-29\", \"2020-03-30\", \"2020-03-31\", \"2020-04-01\", \"2020-04-02\", \"2020-04-03\", \"2020-04-04\", \"2020-04-05\", \"2020-04-06\", \"2020-04-07\", \"2020-04-08\", \"2020-04-09\", \"2020-04-10\", \"2020-04-11\", \"2020-04-12\", \"2020-04-13\", \"2020-04-14\", \"2020-04-15\", \"2020-04-16\", \"2020-04-17\", \"2020-04-18\", \"2020-04-19\", \"2020-04-20\", \"2020-04-21\", \"2020-04-22\", \"2020-04-23\", \"2020-04-24\", \"2020-04-25\", \"2020-04-26\", \"2020-04-27\", \"2020-04-28\", \"2020-04-29\", \"2020-04-30\", \"2020-05-01\", \"2020-05-02\", \"2020-05-03\", \"2020-05-04\", \"2020-05-05\", \"2020-05-06\", \"2020-05-07\", \"2020-05-08\", \"2020-05-09\", \"2020-05-10\", \"2020-05-11\", \"2020-05-12\", \"2020-05-13\", \"2020-05-14\", \"2020-05-15\", \"2020-05-16\", \"2020-05-17\", \"2020-05-18\", \"2020-05-19\", \"2020-05-20\", \"2020-05-21\", \"2020-05-22\", \"2020-05-23\", \"2020-05-24\", \"2020-05-25\", \"2020-05-26\", \"2020-05-27\", \"2020-05-28\", \"2020-05-29\", \"2020-05-30\", \"2020-05-31\", \"2020-06-01\", \"2020-06-02\", \"2020-06-03\", \"2020-06-04\", \"2020-06-05\", \"2020-06-06\", \"2020-06-07\", \"2020-06-08\", \"2020-06-09\", \"2020-06-10\", \"2020-06-11\", \"2020-06-12\", \"2020-06-13\", \"2020-06-14\", \"2020-06-15\", \"2020-06-16\", \"2020-06-17\", \"2020-06-18\", \"2020-06-19\", \"2020-06-20\", \"2020-06-21\", \"2020-06-22\", \"2020-06-23\", \"2020-06-24\", \"2020-06-25\", \"2020-06-26\", \"2020-06-27\", \"2020-06-28\", \"2020-06-29\", \"2020-06-30\", \"2020-07-01\", \"2020-07-02\", \"2020-07-03\", \"2020-07-04\", \"2020-07-05\", \"2020-07-06\", \"2020-07-07\", \"2020-07-08\", \"2020-07-09\", \"2020-07-10\", \"2020-07-11\", \"2020-07-12\", \"2020-07-13\", \"2020-07-14\", \"2020-07-15\", \"2020-07-16\", \"2020-07-17\", \"2020-07-18\", \"2020-07-19\", \"2020-07-20\", \"2020-07-21\", \"2020-07-22\", \"2020-07-23\", \"2020-07-24\", \"2020-07-25\", \"2020-07-26\", \"2020-07-27\", \"2020-07-28\", \"2020-07-29\", \"2020-07-30\", \"2020-07-31\", \"2020-08-01\", \"2020-08-02\", \"2020-08-03\", \"2020-08-04\", \"2020-08-05\", \"2020-08-06\", \"2020-08-07\", \"2020-08-08\", \"2020-08-09\", \"2020-08-10\", \"2020-08-11\", \"2020-08-12\", \"2020-08-13\", \"2020-08-14\", \"2020-08-15\", \"2020-08-16\", \"2020-08-17\", \"2020-08-18\", \"2020-08-19\", \"2020-08-20\", \"2020-08-21\", \"2020-08-22\", \"2020-08-23\", \"2020-08-24\", \"2020-08-25\", \"2020-08-26\", \"2020-08-27\", \"2020-08-28\", \"2020-08-29\", \"2020-08-30\", \"2020-08-31\", \"2020-09-01\", \"2020-09-02\", \"2020-09-03\", \"2020-09-04\", \"2020-09-05\", \"2020-09-06\", \"2020-09-07\", \"2020-09-08\", \"2020-09-09\", \"2020-09-10\", \"2020-09-11\", \"2020-09-12\", \"2020-09-13\", \"2020-09-14\", \"2020-09-15\", \"2020-09-16\", \"2020-09-17\", \"2020-09-18\", \"2020-09-19\", \"2020-09-20\", \"2020-09-21\", \"2020-09-22\", \"2020-09-23\", \"2020-09-24\", \"2020-09-25\", \"2020-09-26\", \"2020-09-27\", \"2020-09-28\", \"2020-09-29\", \"2020-09-30\", \"2020-10-01\", \"2020-10-02\", \"2020-10-03\", \"2020-10-04\", \"2020-10-05\", \"2020-10-06\", \"2020-10-07\", \"2020-10-08\", \"2020-10-09\", \"2020-10-10\", \"2020-10-11\", \"2020-10-12\", \"2020-10-13\", \"2020-10-14\", \"2020-10-15\", \"2020-10-16\", \"2020-10-17\", \"2020-10-18\", \"2020-10-19\", \"2020-10-20\", \"2020-10-21\", \"2020-10-22\", \"2020-10-23\", \"2020-10-24\", \"2020-10-25\", \"2020-10-26\", \"2020-10-27\", \"2020-10-28\", \"2020-10-29\", \"2020-10-30\", \"2020-10-31\", \"2020-11-01\", \"2020-11-02\", \"2020-11-03\", \"2020-11-04\", \"2020-11-05\", \"2020-11-06\", \"2020-11-07\", \"2020-11-08\", \"2020-11-09\", \"2020-11-10\", \"2020-11-11\", \"2020-11-12\", \"2020-11-13\", \"2020-11-14\", \"2020-11-15\", \"2020-11-16\", \"2020-11-17\", \"2020-11-18\", \"2020-11-19\", \"2020-11-20\", \"2020-11-21\", \"2020-11-22\", \"2020-11-23\", \"2020-11-24\", \"2020-11-25\", \"2020-11-26\", \"2020-11-27\", \"2020-11-28\", \"2020-11-29\", \"2020-11-30\", \"2020-12-01\", \"2020-12-02\", \"2020-12-03\", \"2020-12-04\", \"2020-12-05\", \"2020-12-06\", \"2020-12-07\", \"2020-12-08\", \"2020-12-09\", \"2020-12-10\", \"2020-12-11\", \"2020-12-12\", \"2020-12-13\", \"2020-12-14\", \"2020-12-15\", \"2020-12-16\", \"2020-12-17\", \"2020-12-18\", \"2020-12-19\", \"2020-12-20\", \"2020-12-21\", \"2020-12-22\", \"2020-12-23\", \"2020-12-24\", \"2020-12-25\", \"2020-12-26\", \"2020-12-27\", \"2020-12-28\", \"2020-12-29\", \"2020-12-30\", \"2020-12-31\", \"2021-01-01\", \"2021-01-02\", \"2021-01-03\", \"2021-01-04\", \"2021-01-05\", \"2021-01-06\", \"2021-01-07\", \"2021-01-08\", \"2021-01-09\", \"2021-01-10\", \"2021-01-11\", \"2021-01-12\", \"2021-01-13\", \"2021-01-14\", \"2021-01-15\", \"2021-01-16\", \"2021-01-17\", \"2021-01-18\", \"2021-01-19\", \"2021-01-20\", \"2021-01-21\", \"2021-01-22\", \"2021-01-23\", \"2021-01-24\", \"2021-01-25\", \"2021-01-26\", \"2021-01-27\", \"2021-01-28\", \"2021-01-29\", \"2021-01-30\", \"2021-01-31\", \"2021-02-01\", \"2021-02-02\", \"2021-02-03\", \"2021-02-04\", \"2021-02-05\", \"2021-02-06\", \"2021-02-07\", \"2021-02-08\", \"2021-02-09\", \"2021-02-10\", \"2021-02-11\", \"2021-02-12\", \"2021-02-13\", \"2021-02-14\", \"2021-02-15\", \"2021-02-16\", \"2021-02-17\", \"2021-02-18\", \"2021-02-19\", \"2021-02-20\", \"2021-02-21\", \"2021-02-22\", \"2021-02-23\", \"2021-02-24\", \"2021-02-25\", \"2021-02-26\", \"2021-02-27\", \"2021-02-28\", \"2021-03-01\", \"2021-03-02\", \"2021-03-03\", \"2021-03-04\", \"2021-03-05\", \"2021-03-06\", \"2021-03-07\", \"2021-03-08\", \"2021-03-09\", \"2021-03-10\", \"2021-03-11\", \"2021-03-12\", \"2021-03-13\", \"2021-03-14\", \"2021-03-15\", \"2021-03-16\", \"2021-03-17\", \"2021-03-18\", \"2021-03-19\", \"2021-03-20\", \"2021-03-21\", \"2021-03-22\", \"2021-03-23\", \"2021-03-24\", \"2021-03-25\", \"2021-03-26\", \"2021-03-27\", \"2021-03-28\", \"2021-03-29\", \"2021-03-30\", \"2021-03-31\", \"2021-04-01\", \"2021-04-02\", \"2021-04-03\", \"2021-04-04\", \"2021-04-05\", \"2021-04-06\", \"2021-04-07\", \"2021-04-08\", \"2021-04-09\", \"2021-04-10\", \"2021-04-11\", \"2021-04-12\", \"2021-04-13\", \"2021-04-14\", \"2021-04-15\", \"2021-04-16\"], \"xaxis\": \"x\", \"y\": [1.1428571428571428, 0.42857142857142855, 2.142857142857143, 1.5714285714285714, 1.8571428571428572, 1.7142857142857142, 2.142857142857143, 4.0, 5.571428571428571, 6.571428571428571, 6.0, 6.714285714285714, 6.0, 5.571428571428571, 4.0, 2.7142857142857144, 0.0, 1.2857142857142858, -1.5714285714285714, -0.14285714285714285, 0.14285714285714285, 0.2857142857142857, -2.4285714285714284, 0.2857142857142857, -0.2857142857142857, 1.7142857142857142, 1.4285714285714286, 1.4285714285714286, 1.0, 4.0, 3.142857142857143, 3.142857142857143, 3.0, 4.428571428571429, 7.428571428571429, 9.0, 7.571428571428571, 2.4285714285714284, 3.7142857142857144, 4.0, 0.14285714285714285, -2.4285714285714284, -3.0, -1.4285714285714286, 2.5714285714285716, 3.0, 2.857142857142857, 4.571428571428571, 3.142857142857143, 2.2857142857142856, 1.7142857142857142, 0.8571428571428571, -5.714285714285714, -5.285714285714286, -4.428571428571429, -4.142857142857143, -3.5714285714285716, -8.0, -6.285714285714286, -4.428571428571429, -5.285714285714286, -7.0, -7.571428571428571, -9.0, -5.857142857142857, -7.714285714285714, -7.142857142857143, -7.857142857142857, -8.142857142857142, -7.571428571428571, -7.428571428571429, -7.428571428571429, -7.0, -6.714285714285714, -7.571428571428571, -10.142857142857142, -10.142857142857142, -10.142857142857142, -9.857142857142858, -9.714285714285714, -8.428571428571429, -7.571428571428571, -4.428571428571429, -5.0, -4.857142857142857, -7.714285714285714, -6.285714285714286, -7.0, -8.857142857142858, -9.0, -9.571428571428571, -10.142857142857142, -6.714285714285714, -7.428571428571429, -6.0, -4.857142857142857, -4.142857142857143, -3.857142857142857, -3.0, -2.5714285714285716, -2.4285714285714284, -3.857142857142857, -2.4285714285714284, -2.4285714285714284, -1.5714285714285714, -1.7142857142857142, -2.5714285714285716, -2.142857142857143, -1.0, -1.4285714285714286, -1.4285714285714286, -3.142857142857143, -3.5714285714285716, -5.428571428571429, -6.285714285714286, -5.714285714285714, -5.428571428571429, -5.285714285714286, -4.142857142857143, -6.142857142857143, -2.857142857142857, -2.4285714285714284, -5.0, -4.714285714285714, -5.0, -4.714285714285714, -2.4285714285714284, -2.857142857142857, -3.857142857142857, -1.4285714285714286, -3.0, -4.142857142857143, -3.2857142857142856, -3.857142857142857, -4.714285714285714, -2.857142857142857, -4.571428571428571, -3.4285714285714284, -2.4285714285714284, -4.428571428571429, -3.7142857142857144, -3.142857142857143, -3.5714285714285716, -2.5714285714285716, -3.142857142857143, -3.7142857142857144, -1.8571428571428572, -3.2857142857142856, -3.7142857142857144, -3.857142857142857, -3.2857142857142856, -2.5714285714285716, -1.7142857142857142, -4.428571428571429, -3.5714285714285716, -4.857142857142857, -5.857142857142857, -6.285714285714286, -7.0, -7.142857142857143, -4.857142857142857, -4.428571428571429, -2.5714285714285716, -1.7142857142857142, -1.4285714285714286, -0.7142857142857143, -0.5714285714285714, -0.7142857142857143, -0.7142857142857143, -1.1428571428571428, -1.5714285714285714, -2.2857142857142856, -2.7142857142857144, -3.857142857142857, -4.571428571428571, -5.142857142857143, -5.857142857142857, -6.428571428571429, -6.142857142857143, -6.142857142857143, -5.428571428571429, -5.0, -5.0, -4.571428571428571, -4.714285714285714, -4.714285714285714, -4.428571428571429, -4.285714285714286, -4.428571428571429, -4.142857142857143, -4.0, -3.2857142857142856, -3.2857142857142856, -3.4285714285714284, -4.0, -4.0, -4.285714285714286, -4.142857142857143, -5.0, -6.0, -6.0, -5.714285714285714, -5.571428571428571, -5.285714285714286, -6.571428571428571, -5.857142857142857, -5.142857142857143, -5.142857142857143, -5.0, -5.285714285714286, -5.571428571428571, -4.571428571428571, -5.142857142857143, -5.142857142857143, -5.428571428571429, -6.285714285714286, -7.714285714285714, -8.142857142857142, -8.571428571428571, -7.285714285714286, -6.428571428571429, -5.857142857142857, -4.142857142857143, -2.4285714285714284, -1.7142857142857142, -0.7142857142857143, -1.0, -1.5714285714285714, -1.8571428571428572, -3.4285714285714284, -5.285714285714286, -6.571428571428571, -9.714285714285714, -9.142857142857142, -8.857142857142858, -8.857142857142858, -8.0, -6.285714285714286, -4.571428571428571, -3.7142857142857144, -3.7142857142857144, -5.142857142857143, -4.571428571428571, -4.428571428571429, -4.142857142857143, -5.571428571428571, -3.0, -3.0, -1.4285714285714286, -2.0, -2.142857142857143, -2.2857142857142856, -1.4285714285714286, -1.8571428571428572, -2.7142857142857144, -3.4285714285714284, -4.0, -4.142857142857143, -4.142857142857143, -4.142857142857143, -4.571428571428571, -4.428571428571429, -4.285714285714286, -3.7142857142857144, -3.7142857142857144, -3.857142857142857, -3.7142857142857144, -3.2857142857142856, -3.0, -2.857142857142857, -3.142857142857143, -3.142857142857143, -3.142857142857143, -3.2857142857142856, -3.5714285714285716, -4.142857142857143, -4.571428571428571, -4.714285714285714, -5.0, -4.571428571428571, -4.714285714285714, -4.571428571428571, -4.428571428571429, -3.7142857142857144, -3.2857142857142856, -4.0, -4.142857142857143, -3.7142857142857144, -4.571428571428571, -4.0, -4.285714285714286, -4.428571428571429, -3.5714285714285716, -3.7142857142857144, -4.0, -3.142857142857143, -3.5714285714285716, -4.0, -3.7142857142857144, -3.5714285714285716, -3.7142857142857144, -3.5714285714285716, -3.5714285714285716, -3.2857142857142856, -2.7142857142857144, -3.0, -2.5714285714285716, -1.4285714285714286, -0.5714285714285714, -0.42857142857142855, -0.42857142857142855, 0.42857142857142855, 1.4285714285714286, 2.142857142857143, 2.4285714285714284, -4.857142857142857, -9.0, -11.714285714285714, -12.857142857142858, -14.142857142857142, -15.428571428571429, -17.0, -10.857142857142858, -7.428571428571429, -5.571428571428571, -6.285714285714286, -7.571428571428571, -7.857142857142857, -8.285714285714286, -9.0, -9.0, -9.857142857142858, -10.0, -9.571428571428571, -9.857142857142858, -10.0, -9.428571428571429, -11.0, -12.714285714285714, -11.714285714285714, -11.142857142857142, -11.428571428571429, -12.714285714285714, -12.571428571428571, -10.571428571428571, -7.714285714285714, -8.285714285714286, -7.714285714285714, -7.428571428571429, -6.0, -6.142857142857143, -6.142857142857143, -6.285714285714286, -6.428571428571429, -7.142857142857143, -6.571428571428571, -6.571428571428571, -6.714285714285714, -6.857142857142857, -6.857142857142857, -8.428571428571429, -7.714285714285714, -8.0, -7.857142857142857, -7.571428571428571, -7.142857142857143, -6.857142857142857, -4.428571428571429, -5.0, -4.857142857142857, -4.285714285714286, -4.285714285714286, -4.428571428571429, -4.142857142857143, -4.285714285714286, -6.0, -5.142857142857143, -5.428571428571429, -5.857142857142857, -5.571428571428571, -6.0, -7.428571428571429, -5.142857142857143, -5.714285714285714, -5.428571428571429, -4.714285714285714, -8.142857142857142, -6.857142857142857, -5.142857142857143, -5.142857142857143, -5.0, -5.0, -4.714285714285714, -1.0, -5.857142857142857, -6.285714285714286, -6.0, -5.857142857142857, -5.857142857142857, -5.857142857142857, -5.428571428571429, -2.5714285714285716, -2.142857142857143, -2.2857142857142856, -2.142857142857143, -2.0, -2.2857142857142856, -2.7142857142857144, -2.2857142857142856, -3.5714285714285716, -3.4285714285714284, -3.5714285714285716, -4.0, -4.142857142857143, -4.285714285714286, -3.2857142857142856, -2.142857142857143, -3.142857142857143, -5.0, -3.5714285714285716, -2.857142857142857], \"yaxis\": \"y\"}, {\"hoverlabel\": {\"namelength\": 0}, \"hovertemplate\": \"variable=\\u516c\\u5712<br>date=%{x}<br>value=%{y}\", \"legendgroup\": \"variable=\\u516c\\u5712\", \"line\": {\"color\": \"#00cc96\", \"dash\": \"solid\"}, \"mode\": \"lines\", \"name\": \"variable=\\u516c\\u5712\", \"showlegend\": true, \"type\": \"scattergl\", \"x\": [\"2020-02-21\", \"2020-02-22\", \"2020-02-23\", \"2020-02-24\", \"2020-02-25\", \"2020-02-26\", \"2020-02-27\", \"2020-02-28\", \"2020-02-29\", \"2020-03-01\", \"2020-03-02\", \"2020-03-03\", \"2020-03-04\", \"2020-03-05\", \"2020-03-06\", \"2020-03-07\", \"2020-03-08\", \"2020-03-09\", \"2020-03-10\", \"2020-03-11\", \"2020-03-12\", \"2020-03-13\", \"2020-03-14\", \"2020-03-15\", \"2020-03-16\", \"2020-03-17\", \"2020-03-18\", \"2020-03-19\", \"2020-03-20\", \"2020-03-21\", \"2020-03-22\", \"2020-03-23\", \"2020-03-24\", \"2020-03-25\", \"2020-03-26\", \"2020-03-27\", \"2020-03-28\", \"2020-03-29\", \"2020-03-30\", \"2020-03-31\", \"2020-04-01\", \"2020-04-02\", \"2020-04-03\", \"2020-04-04\", \"2020-04-05\", \"2020-04-06\", \"2020-04-07\", \"2020-04-08\", \"2020-04-09\", \"2020-04-10\", \"2020-04-11\", \"2020-04-12\", \"2020-04-13\", \"2020-04-14\", \"2020-04-15\", \"2020-04-16\", \"2020-04-17\", \"2020-04-18\", \"2020-04-19\", \"2020-04-20\", \"2020-04-21\", \"2020-04-22\", \"2020-04-23\", \"2020-04-24\", \"2020-04-25\", \"2020-04-26\", \"2020-04-27\", \"2020-04-28\", \"2020-04-29\", \"2020-04-30\", \"2020-05-01\", \"2020-05-02\", \"2020-05-03\", \"2020-05-04\", \"2020-05-05\", \"2020-05-06\", \"2020-05-07\", \"2020-05-08\", \"2020-05-09\", \"2020-05-10\", \"2020-05-11\", \"2020-05-12\", \"2020-05-13\", \"2020-05-14\", \"2020-05-15\", \"2020-05-16\", \"2020-05-17\", \"2020-05-18\", \"2020-05-19\", \"2020-05-20\", \"2020-05-21\", \"2020-05-22\", \"2020-05-23\", \"2020-05-24\", \"2020-05-25\", \"2020-05-26\", \"2020-05-27\", \"2020-05-28\", \"2020-05-29\", \"2020-05-30\", \"2020-05-31\", \"2020-06-01\", \"2020-06-02\", \"2020-06-03\", \"2020-06-04\", \"2020-06-05\", \"2020-06-06\", \"2020-06-07\", \"2020-06-08\", \"2020-06-09\", \"2020-06-10\", \"2020-06-11\", \"2020-06-12\", \"2020-06-13\", \"2020-06-14\", \"2020-06-15\", \"2020-06-16\", \"2020-06-17\", \"2020-06-18\", \"2020-06-19\", \"2020-06-20\", \"2020-06-21\", \"2020-06-22\", \"2020-06-23\", \"2020-06-24\", \"2020-06-25\", \"2020-06-26\", \"2020-06-27\", \"2020-06-28\", \"2020-06-29\", \"2020-06-30\", \"2020-07-01\", \"2020-07-02\", \"2020-07-03\", \"2020-07-04\", \"2020-07-05\", \"2020-07-06\", \"2020-07-07\", \"2020-07-08\", \"2020-07-09\", \"2020-07-10\", \"2020-07-11\", \"2020-07-12\", \"2020-07-13\", \"2020-07-14\", \"2020-07-15\", \"2020-07-16\", \"2020-07-17\", \"2020-07-18\", \"2020-07-19\", \"2020-07-20\", \"2020-07-21\", \"2020-07-22\", \"2020-07-23\", \"2020-07-24\", \"2020-07-25\", \"2020-07-26\", \"2020-07-27\", \"2020-07-28\", \"2020-07-29\", \"2020-07-30\", \"2020-07-31\", \"2020-08-01\", \"2020-08-02\", \"2020-08-03\", \"2020-08-04\", \"2020-08-05\", \"2020-08-06\", \"2020-08-07\", \"2020-08-08\", \"2020-08-09\", \"2020-08-10\", \"2020-08-11\", \"2020-08-12\", \"2020-08-13\", \"2020-08-14\", \"2020-08-15\", \"2020-08-16\", \"2020-08-17\", \"2020-08-18\", \"2020-08-19\", \"2020-08-20\", \"2020-08-21\", \"2020-08-22\", \"2020-08-23\", \"2020-08-24\", \"2020-08-25\", \"2020-08-26\", \"2020-08-27\", \"2020-08-28\", \"2020-08-29\", \"2020-08-30\", \"2020-08-31\", \"2020-09-01\", \"2020-09-02\", \"2020-09-03\", \"2020-09-04\", \"2020-09-05\", \"2020-09-06\", \"2020-09-07\", \"2020-09-08\", \"2020-09-09\", \"2020-09-10\", \"2020-09-11\", \"2020-09-12\", \"2020-09-13\", \"2020-09-14\", \"2020-09-15\", \"2020-09-16\", \"2020-09-17\", \"2020-09-18\", \"2020-09-19\", \"2020-09-20\", \"2020-09-21\", \"2020-09-22\", \"2020-09-23\", \"2020-09-24\", \"2020-09-25\", \"2020-09-26\", \"2020-09-27\", \"2020-09-28\", \"2020-09-29\", \"2020-09-30\", \"2020-10-01\", \"2020-10-02\", \"2020-10-03\", \"2020-10-04\", \"2020-10-05\", \"2020-10-06\", \"2020-10-07\", \"2020-10-08\", \"2020-10-09\", \"2020-10-10\", \"2020-10-11\", \"2020-10-12\", \"2020-10-13\", \"2020-10-14\", \"2020-10-15\", \"2020-10-16\", \"2020-10-17\", \"2020-10-18\", \"2020-10-19\", \"2020-10-20\", \"2020-10-21\", \"2020-10-22\", \"2020-10-23\", \"2020-10-24\", \"2020-10-25\", \"2020-10-26\", \"2020-10-27\", \"2020-10-28\", \"2020-10-29\", \"2020-10-30\", \"2020-10-31\", \"2020-11-01\", \"2020-11-02\", \"2020-11-03\", \"2020-11-04\", \"2020-11-05\", \"2020-11-06\", \"2020-11-07\", \"2020-11-08\", \"2020-11-09\", \"2020-11-10\", \"2020-11-11\", \"2020-11-12\", \"2020-11-13\", \"2020-11-14\", \"2020-11-15\", \"2020-11-16\", \"2020-11-17\", \"2020-11-18\", \"2020-11-19\", \"2020-11-20\", \"2020-11-21\", \"2020-11-22\", \"2020-11-23\", \"2020-11-24\", \"2020-11-25\", \"2020-11-26\", \"2020-11-27\", \"2020-11-28\", \"2020-11-29\", \"2020-11-30\", \"2020-12-01\", \"2020-12-02\", \"2020-12-03\", \"2020-12-04\", \"2020-12-05\", \"2020-12-06\", \"2020-12-07\", \"2020-12-08\", \"2020-12-09\", \"2020-12-10\", \"2020-12-11\", \"2020-12-12\", \"2020-12-13\", \"2020-12-14\", \"2020-12-15\", \"2020-12-16\", \"2020-12-17\", \"2020-12-18\", \"2020-12-19\", \"2020-12-20\", \"2020-12-21\", \"2020-12-22\", \"2020-12-23\", \"2020-12-24\", \"2020-12-25\", \"2020-12-26\", \"2020-12-27\", \"2020-12-28\", \"2020-12-29\", \"2020-12-30\", \"2020-12-31\", \"2021-01-01\", \"2021-01-02\", \"2021-01-03\", \"2021-01-04\", \"2021-01-05\", \"2021-01-06\", \"2021-01-07\", \"2021-01-08\", \"2021-01-09\", \"2021-01-10\", \"2021-01-11\", \"2021-01-12\", \"2021-01-13\", \"2021-01-14\", \"2021-01-15\", \"2021-01-16\", \"2021-01-17\", \"2021-01-18\", \"2021-01-19\", \"2021-01-20\", \"2021-01-21\", \"2021-01-22\", \"2021-01-23\", \"2021-01-24\", \"2021-01-25\", \"2021-01-26\", \"2021-01-27\", \"2021-01-28\", \"2021-01-29\", \"2021-01-30\", \"2021-01-31\", \"2021-02-01\", \"2021-02-02\", \"2021-02-03\", \"2021-02-04\", \"2021-02-05\", \"2021-02-06\", \"2021-02-07\", \"2021-02-08\", \"2021-02-09\", \"2021-02-10\", \"2021-02-11\", \"2021-02-12\", \"2021-02-13\", \"2021-02-14\", \"2021-02-15\", \"2021-02-16\", \"2021-02-17\", \"2021-02-18\", \"2021-02-19\", \"2021-02-20\", \"2021-02-21\", \"2021-02-22\", \"2021-02-23\", \"2021-02-24\", \"2021-02-25\", \"2021-02-26\", \"2021-02-27\", \"2021-02-28\", \"2021-03-01\", \"2021-03-02\", \"2021-03-03\", \"2021-03-04\", \"2021-03-05\", \"2021-03-06\", \"2021-03-07\", \"2021-03-08\", \"2021-03-09\", \"2021-03-10\", \"2021-03-11\", \"2021-03-12\", \"2021-03-13\", \"2021-03-14\", \"2021-03-15\", \"2021-03-16\", \"2021-03-17\", \"2021-03-18\", \"2021-03-19\", \"2021-03-20\", \"2021-03-21\", \"2021-03-22\", \"2021-03-23\", \"2021-03-24\", \"2021-03-25\", \"2021-03-26\", \"2021-03-27\", \"2021-03-28\", \"2021-03-29\", \"2021-03-30\", \"2021-03-31\", \"2021-04-01\", \"2021-04-02\", \"2021-04-03\", \"2021-04-04\", \"2021-04-05\", \"2021-04-06\", \"2021-04-07\", \"2021-04-08\", \"2021-04-09\", \"2021-04-10\", \"2021-04-11\", \"2021-04-12\", \"2021-04-13\", \"2021-04-14\", \"2021-04-15\", \"2021-04-16\"], \"xaxis\": \"x\", \"y\": [-2.857142857142857, -5.142857142857143, 2.142857142857143, 6.857142857142857, 5.714285714285714, 2.4285714285714284, 1.2857142857142858, 0.42857142857142855, 0.2857142857142857, 0.0, -9.857142857142858, -7.571428571428571, -9.142857142857142, -9.285714285714286, -8.285714285714286, -9.428571428571429, -18.857142857142858, -12.571428571428571, -19.285714285714285, -13.0, -10.285714285714286, -9.285714285714286, -15.285714285714286, -5.285714285714286, -7.285714285714286, -1.2857142857142858, -0.8571428571428571, -0.14285714285714285, 4.0, 17.714285714285715, 22.714285714285715, 24.142857142857142, 25.0, 27.285714285714285, 29.0, 24.285714285714285, 14.428571428571429, -2.2857142857142856, -4.571428571428571, -7.714285714285714, -19.285714285714285, -23.285714285714285, -23.285714285714285, -18.285714285714285, -13.142857142857142, -10.714285714285714, -9.714285714285714, -2.857142857142857, -3.4285714285714284, -5.428571428571429, -6.857142857142857, -7.0, -16.714285714285715, -16.571428571428573, -15.571428571428571, -15.857142857142858, -15.571428571428571, -24.142857142857142, -18.0, -17.0, -16.714285714285715, -19.857142857142858, -20.142857142857142, -21.142857142857142, -14.285714285714286, -17.571428571428573, -14.428571428571429, -17.142857142857142, -13.714285714285714, -12.857142857142858, -11.571428571428571, -11.0, -10.571428571428571, -8.142857142857142, -4.857142857142857, -13.142857142857142, -13.571428571428571, -13.571428571428571, -14.285714285714286, -15.714285714285714, -14.0, -15.428571428571429, -9.285714285714286, -8.857142857142858, -9.285714285714286, -15.857142857142858, -12.857142857142858, -16.428571428571427, -22.857142857142858, -26.428571428571427, -30.428571428571427, -32.57142857142857, -26.0, -25.428571428571427, -21.285714285714285, -17.0, -12.714285714285714, -9.714285714285714, -6.428571428571429, -4.571428571428571, -6.571428571428571, -11.571428571428571, -9.285714285714286, -10.0, -9.428571428571429, -10.714285714285714, -12.428571428571429, -10.857142857142858, -6.428571428571429, -6.428571428571429, -6.571428571428571, -9.857142857142858, -11.0, -17.142857142857142, -23.571428571428573, -24.142857142857142, -24.0, -23.285714285714285, -20.857142857142858, -25.0, -16.142857142857142, -11.714285714285714, -16.285714285714285, -16.714285714285715, -17.428571428571427, -18.571428571428573, -13.285714285714286, -14.142857142857142, -18.0, -12.428571428571429, -15.571428571428571, -19.428571428571427, -17.285714285714285, -19.285714285714285, -23.428571428571427, -20.0, -24.857142857142858, -23.285714285714285, -21.142857142857142, -25.571428571428573, -25.428571428571427, -23.571428571428573, -22.285714285714285, -20.428571428571427, -21.857142857142858, -24.142857142857142, -20.285714285714285, -22.714285714285715, -25.571428571428573, -24.571428571428573, -23.0, -20.428571428571427, -18.285714285714285, -24.0, -18.714285714285715, -19.285714285714285, -24.142857142857142, -25.142857142857142, -27.142857142857142, -27.0, -21.428571428571427, -23.571428571428573, -18.428571428571427, -13.714285714285714, -12.142857142857142, -9.857142857142858, -8.857142857142858, -8.857142857142858, -8.428571428571429, -9.142857142857142, -10.571428571428571, -9.0, -10.0, -11.857142857142858, -13.285714285714286, -13.428571428571429, -14.857142857142858, -17.142857142857142, -20.285714285714285, -20.0, -18.571428571428573, -18.0, -18.285714285714285, -17.714285714285715, -17.571428571428573, -16.857142857142858, -16.571428571428573, -16.714285714285715, -17.142857142857142, -17.142857142857142, -16.857142857142858, -15.571428571428571, -16.0, -16.0, -17.142857142857142, -17.142857142857142, -17.428571428571427, -18.0, -20.857142857142858, -22.857142857142858, -23.0, -22.0, -21.0, -20.142857142857142, -22.857142857142858, -18.857142857142858, -16.285714285714285, -15.285714285714286, -14.142857142857142, -13.428571428571429, -13.0, -8.285714285714286, -8.857142857142858, -2.7142857142857144, 1.5714285714285714, -2.7142857142857144, -7.285714285714286, -11.285714285714286, -16.428571428571427, -15.428571428571429, -20.571428571428573, -24.857142857142858, -20.0, -16.571428571428573, -12.142857142857142, -5.857142857142857, -4.714285714285714, -5.714285714285714, -5.571428571428571, -8.285714285714286, -13.0, -18.857142857142858, -28.0, -31.142857142857142, -30.571428571428573, -30.714285714285715, -28.857142857142858, -26.0, -21.285714285714285, -20.428571428571427, -17.857142857142858, -21.428571428571427, -21.714285714285715, -21.142857142857142, -18.857142857142858, -22.0, -13.714285714285714, -11.285714285714286, -7.714285714285714, -7.714285714285714, -8.428571428571429, -7.857142857142857, -5.142857142857143, -5.571428571428571, -7.857142857142857, -9.428571428571429, -8.571428571428571, -8.714285714285714, -9.142857142857142, -8.857142857142858, -10.142857142857142, -9.428571428571429, -8.571428571428571, -9.571428571428571, -9.714285714285714, -10.571428571428571, -9.857142857142858, -8.571428571428571, -8.285714285714286, -7.571428571428571, -7.285714285714286, -6.285714285714286, -5.0, -5.857142857142857, -6.714285714285714, -6.714285714285714, -3.0, -5.285714285714286, -9.571428571428571, -9.857142857142858, -10.571428571428571, -11.428571428571429, -14.285714285714286, -18.857142857142858, -17.571428571428573, -17.428571428571427, -19.285714285714285, -18.714285714285715, -23.428571428571427, -22.428571428571427, -22.285714285714285, -22.142857142857142, -20.0, -19.428571428571427, -19.285714285714285, -14.714285714285714, -14.857142857142858, -16.142857142857142, -16.857142857142858, -17.142857142857142, -17.714285714285715, -18.285714285714285, -20.142857142857142, -22.428571428571427, -22.142857142857142, -22.285714285714285, -21.857142857142858, -21.857142857142858, -21.714285714285715, -21.571428571428573, -21.857142857142858, -21.857142857142858, -21.428571428571427, -24.571428571428573, -25.571428571428573, -24.714285714285715, -25.142857142857142, -25.714285714285715, -25.285714285714285, -26.857142857142858, -25.571428571428573, -25.285714285714285, -27.714285714285715, -28.142857142857142, -27.714285714285715, -28.285714285714285, -30.857142857142858, -29.857142857142858, -29.0, -29.714285714285715, -27.142857142857142, -28.285714285714285, -29.285714285714285, -27.428571428571427, -28.0, -28.571428571428573, -27.285714285714285, -34.42857142857143, -39.714285714285715, -39.142857142857146, -38.57142857142857, -39.42857142857143, -42.285714285714285, -42.857142857142854, -37.0, -29.428571428571427, -29.714285714285715, -30.428571428571427, -28.714285714285715, -25.857142857142858, -25.0, -23.857142857142858, -22.142857142857142, -22.428571428571427, -21.428571428571427, -21.285714285714285, -18.285714285714285, -18.428571428571427, -18.285714285714285, -18.428571428571427, -21.714285714285715, -20.714285714285715, -21.428571428571427, -24.571428571428573, -24.285714285714285, -24.0, -22.714285714285715, -16.857142857142858, -13.857142857142858, -14.0, -13.428571428571429, -14.428571428571429, -16.571428571428573, -18.714285714285715, -20.0, -27.428571428571427, -27.0, -26.714285714285715, -26.571428571428573, -25.0, -26.857142857142858, -31.142857142857142, -26.857142857142858, -26.0, -25.428571428571427, -24.285714285714285, -31.285714285714285, -28.714285714285715, -23.428571428571427, -22.0, -21.142857142857142, -20.142857142857142, -18.428571428571427, -10.428571428571429, -19.428571428571427, -20.714285714285715, -18.714285714285715, -15.428571428571429, -15.571428571428571, -13.0, -7.571428571428571, -1.1428571428571428, 2.857142857142857, 2.5714285714285716, 1.4285714285714286, 2.2857142857142856, -0.42857142857142855, -4.0, -2.4285714285714284, -9.142857142857142, -11.285714285714286, -12.428571428571429, -13.857142857142858, -15.0, -16.571428571428573, -13.428571428571429, -9.428571428571429, -11.857142857142858, -17.857142857142858, -17.285714285714285, -17.142857142857142], \"yaxis\": \"y\"}, {\"hoverlabel\": {\"namelength\": 0}, \"hovertemplate\": \"variable=\\u4e57\\u63db\\u99c5<br>date=%{x}<br>value=%{y}\", \"legendgroup\": \"variable=\\u4e57\\u63db\\u99c5\", \"line\": {\"color\": \"#ab63fa\", \"dash\": \"solid\"}, \"mode\": \"lines\", \"name\": \"variable=\\u4e57\\u63db\\u99c5\", \"showlegend\": true, \"type\": \"scattergl\", \"x\": [\"2020-02-21\", \"2020-02-22\", \"2020-02-23\", \"2020-02-24\", \"2020-02-25\", \"2020-02-26\", \"2020-02-27\", \"2020-02-28\", \"2020-02-29\", \"2020-03-01\", \"2020-03-02\", \"2020-03-03\", \"2020-03-04\", \"2020-03-05\", \"2020-03-06\", \"2020-03-07\", \"2020-03-08\", \"2020-03-09\", \"2020-03-10\", \"2020-03-11\", \"2020-03-12\", \"2020-03-13\", \"2020-03-14\", \"2020-03-15\", \"2020-03-16\", \"2020-03-17\", \"2020-03-18\", \"2020-03-19\", \"2020-03-20\", \"2020-03-21\", \"2020-03-22\", \"2020-03-23\", \"2020-03-24\", \"2020-03-25\", \"2020-03-26\", \"2020-03-27\", \"2020-03-28\", \"2020-03-29\", \"2020-03-30\", \"2020-03-31\", \"2020-04-01\", \"2020-04-02\", \"2020-04-03\", \"2020-04-04\", \"2020-04-05\", \"2020-04-06\", \"2020-04-07\", \"2020-04-08\", \"2020-04-09\", \"2020-04-10\", \"2020-04-11\", \"2020-04-12\", \"2020-04-13\", \"2020-04-14\", \"2020-04-15\", \"2020-04-16\", \"2020-04-17\", \"2020-04-18\", \"2020-04-19\", \"2020-04-20\", \"2020-04-21\", \"2020-04-22\", \"2020-04-23\", \"2020-04-24\", \"2020-04-25\", \"2020-04-26\", \"2020-04-27\", \"2020-04-28\", \"2020-04-29\", \"2020-04-30\", \"2020-05-01\", \"2020-05-02\", \"2020-05-03\", \"2020-05-04\", \"2020-05-05\", \"2020-05-06\", \"2020-05-07\", \"2020-05-08\", \"2020-05-09\", \"2020-05-10\", \"2020-05-11\", \"2020-05-12\", \"2020-05-13\", \"2020-05-14\", \"2020-05-15\", \"2020-05-16\", \"2020-05-17\", \"2020-05-18\", \"2020-05-19\", \"2020-05-20\", \"2020-05-21\", \"2020-05-22\", \"2020-05-23\", \"2020-05-24\", \"2020-05-25\", \"2020-05-26\", \"2020-05-27\", \"2020-05-28\", \"2020-05-29\", \"2020-05-30\", \"2020-05-31\", \"2020-06-01\", \"2020-06-02\", \"2020-06-03\", \"2020-06-04\", \"2020-06-05\", \"2020-06-06\", \"2020-06-07\", \"2020-06-08\", \"2020-06-09\", \"2020-06-10\", \"2020-06-11\", \"2020-06-12\", \"2020-06-13\", \"2020-06-14\", \"2020-06-15\", \"2020-06-16\", \"2020-06-17\", \"2020-06-18\", \"2020-06-19\", \"2020-06-20\", \"2020-06-21\", \"2020-06-22\", \"2020-06-23\", \"2020-06-24\", \"2020-06-25\", \"2020-06-26\", \"2020-06-27\", \"2020-06-28\", \"2020-06-29\", \"2020-06-30\", \"2020-07-01\", \"2020-07-02\", \"2020-07-03\", \"2020-07-04\", \"2020-07-05\", \"2020-07-06\", \"2020-07-07\", \"2020-07-08\", \"2020-07-09\", \"2020-07-10\", \"2020-07-11\", \"2020-07-12\", \"2020-07-13\", \"2020-07-14\", \"2020-07-15\", \"2020-07-16\", \"2020-07-17\", \"2020-07-18\", \"2020-07-19\", \"2020-07-20\", \"2020-07-21\", \"2020-07-22\", \"2020-07-23\", \"2020-07-24\", \"2020-07-25\", \"2020-07-26\", \"2020-07-27\", \"2020-07-28\", \"2020-07-29\", \"2020-07-30\", \"2020-07-31\", \"2020-08-01\", \"2020-08-02\", \"2020-08-03\", \"2020-08-04\", \"2020-08-05\", \"2020-08-06\", \"2020-08-07\", \"2020-08-08\", \"2020-08-09\", \"2020-08-10\", \"2020-08-11\", \"2020-08-12\", \"2020-08-13\", \"2020-08-14\", \"2020-08-15\", \"2020-08-16\", \"2020-08-17\", \"2020-08-18\", \"2020-08-19\", \"2020-08-20\", \"2020-08-21\", \"2020-08-22\", \"2020-08-23\", \"2020-08-24\", \"2020-08-25\", \"2020-08-26\", \"2020-08-27\", \"2020-08-28\", \"2020-08-29\", \"2020-08-30\", \"2020-08-31\", \"2020-09-01\", \"2020-09-02\", \"2020-09-03\", \"2020-09-04\", \"2020-09-05\", \"2020-09-06\", \"2020-09-07\", \"2020-09-08\", \"2020-09-09\", \"2020-09-10\", \"2020-09-11\", \"2020-09-12\", \"2020-09-13\", \"2020-09-14\", \"2020-09-15\", \"2020-09-16\", \"2020-09-17\", \"2020-09-18\", \"2020-09-19\", \"2020-09-20\", \"2020-09-21\", \"2020-09-22\", \"2020-09-23\", \"2020-09-24\", \"2020-09-25\", \"2020-09-26\", \"2020-09-27\", \"2020-09-28\", \"2020-09-29\", \"2020-09-30\", \"2020-10-01\", \"2020-10-02\", \"2020-10-03\", \"2020-10-04\", \"2020-10-05\", \"2020-10-06\", \"2020-10-07\", \"2020-10-08\", \"2020-10-09\", \"2020-10-10\", \"2020-10-11\", \"2020-10-12\", \"2020-10-13\", \"2020-10-14\", \"2020-10-15\", \"2020-10-16\", \"2020-10-17\", \"2020-10-18\", \"2020-10-19\", \"2020-10-20\", \"2020-10-21\", \"2020-10-22\", \"2020-10-23\", \"2020-10-24\", \"2020-10-25\", \"2020-10-26\", \"2020-10-27\", \"2020-10-28\", \"2020-10-29\", \"2020-10-30\", \"2020-10-31\", \"2020-11-01\", \"2020-11-02\", \"2020-11-03\", \"2020-11-04\", \"2020-11-05\", \"2020-11-06\", \"2020-11-07\", \"2020-11-08\", \"2020-11-09\", \"2020-11-10\", \"2020-11-11\", \"2020-11-12\", \"2020-11-13\", \"2020-11-14\", \"2020-11-15\", \"2020-11-16\", \"2020-11-17\", \"2020-11-18\", \"2020-11-19\", \"2020-11-20\", \"2020-11-21\", \"2020-11-22\", \"2020-11-23\", \"2020-11-24\", \"2020-11-25\", \"2020-11-26\", \"2020-11-27\", \"2020-11-28\", \"2020-11-29\", \"2020-11-30\", \"2020-12-01\", \"2020-12-02\", \"2020-12-03\", \"2020-12-04\", \"2020-12-05\", \"2020-12-06\", \"2020-12-07\", \"2020-12-08\", \"2020-12-09\", \"2020-12-10\", \"2020-12-11\", \"2020-12-12\", \"2020-12-13\", \"2020-12-14\", \"2020-12-15\", \"2020-12-16\", \"2020-12-17\", \"2020-12-18\", \"2020-12-19\", \"2020-12-20\", \"2020-12-21\", \"2020-12-22\", \"2020-12-23\", \"2020-12-24\", \"2020-12-25\", \"2020-12-26\", \"2020-12-27\", \"2020-12-28\", \"2020-12-29\", \"2020-12-30\", \"2020-12-31\", \"2021-01-01\", \"2021-01-02\", \"2021-01-03\", \"2021-01-04\", \"2021-01-05\", \"2021-01-06\", \"2021-01-07\", \"2021-01-08\", \"2021-01-09\", \"2021-01-10\", \"2021-01-11\", \"2021-01-12\", \"2021-01-13\", \"2021-01-14\", \"2021-01-15\", \"2021-01-16\", \"2021-01-17\", \"2021-01-18\", \"2021-01-19\", \"2021-01-20\", \"2021-01-21\", \"2021-01-22\", \"2021-01-23\", \"2021-01-24\", \"2021-01-25\", \"2021-01-26\", \"2021-01-27\", \"2021-01-28\", \"2021-01-29\", \"2021-01-30\", \"2021-01-31\", \"2021-02-01\", \"2021-02-02\", \"2021-02-03\", \"2021-02-04\", \"2021-02-05\", \"2021-02-06\", \"2021-02-07\", \"2021-02-08\", \"2021-02-09\", \"2021-02-10\", \"2021-02-11\", \"2021-02-12\", \"2021-02-13\", \"2021-02-14\", \"2021-02-15\", \"2021-02-16\", \"2021-02-17\", \"2021-02-18\", \"2021-02-19\", \"2021-02-20\", \"2021-02-21\", \"2021-02-22\", \"2021-02-23\", \"2021-02-24\", \"2021-02-25\", \"2021-02-26\", \"2021-02-27\", \"2021-02-28\", \"2021-03-01\", \"2021-03-02\", \"2021-03-03\", \"2021-03-04\", \"2021-03-05\", \"2021-03-06\", \"2021-03-07\", \"2021-03-08\", \"2021-03-09\", \"2021-03-10\", \"2021-03-11\", \"2021-03-12\", \"2021-03-13\", \"2021-03-14\", \"2021-03-15\", \"2021-03-16\", \"2021-03-17\", \"2021-03-18\", \"2021-03-19\", \"2021-03-20\", \"2021-03-21\", \"2021-03-22\", \"2021-03-23\", \"2021-03-24\", \"2021-03-25\", \"2021-03-26\", \"2021-03-27\", \"2021-03-28\", \"2021-03-29\", \"2021-03-30\", \"2021-03-31\", \"2021-04-01\", \"2021-04-02\", \"2021-04-03\", \"2021-04-04\", \"2021-04-05\", \"2021-04-06\", \"2021-04-07\", \"2021-04-08\", \"2021-04-09\", \"2021-04-10\", \"2021-04-11\", \"2021-04-12\", \"2021-04-13\", \"2021-04-14\", \"2021-04-15\", \"2021-04-16\"], \"xaxis\": \"x\", \"y\": [-3.857142857142857, -4.714285714285714, -4.142857142857143, -9.714285714285714, -10.0, -10.428571428571429, -11.142857142857142, -12.142857142857142, -14.142857142857142, -17.0, -13.571428571428571, -15.142857142857142, -16.857142857142858, -18.0, -19.142857142857142, -20.0, -21.285714285714285, -21.428571428571427, -21.857142857142858, -21.571428571428573, -21.571428571428573, -21.428571428571427, -22.142857142857142, -20.714285714285715, -20.571428571428573, -20.285714285714285, -19.857142857142858, -19.142857142857142, -22.714285714285715, -21.428571428571427, -21.0, -20.857142857142858, -20.714285714285715, -20.571428571428573, -21.142857142857142, -18.428571428571427, -22.0, -27.428571428571427, -29.142857142857142, -30.714285714285715, -33.142857142857146, -35.285714285714285, -36.42857142857143, -36.714285714285715, -36.57142857142857, -37.285714285714285, -38.857142857142854, -41.0, -43.42857142857143, -46.0, -47.57142857142857, -48.714285714285715, -52.142857142857146, -54.42857142857143, -55.42857142857143, -56.42857142857143, -57.285714285714285, -58.857142857142854, -58.142857142857146, -58.42857142857143, -58.714285714285715, -59.42857142857143, -59.714285714285715, -59.714285714285715, -58.285714285714285, -58.857142857142854, -58.714285714285715, -58.714285714285715, -60.857142857142854, -60.714285714285715, -61.0, -61.285714285714285, -61.142857142857146, -63.857142857142854, -66.57142857142857, -67.28571428571429, -66.42857142857143, -65.71428571428571, -64.85714285714286, -64.28571428571429, -60.57142857142857, -57.42857142857143, -54.0, -54.285714285714285, -54.142857142857146, -55.0, -54.42857142857143, -54.57142857142857, -54.857142857142854, -54.57142857142857, -54.57142857142857, -54.42857142857143, -53.0, -52.57142857142857, -51.857142857142854, -50.857142857142854, -50.0, -49.0, -47.857142857142854, -46.57142857142857, -45.714285714285715, -44.0, -42.285714285714285, -41.0, -39.714285714285715, -38.714285714285715, -38.142857142857146, -37.285714285714285, -37.285714285714285, -37.142857142857146, -36.857142857142854, -36.857142857142854, -36.714285714285715, -37.142857142857146, -37.285714285714285, -37.0, -36.57142857142857, -36.142857142857146, -35.57142857142857, -35.42857142857143, -33.57142857142857, -32.714285714285715, -32.57142857142857, -32.142857142857146, -31.857142857142858, -31.285714285714285, -30.571428571428573, -30.285714285714285, -30.428571428571427, -29.857142857142858, -29.857142857142858, -29.714285714285715, -29.428571428571427, -29.285714285714285, -30.0, -29.857142857142858, -30.0, -29.857142857142858, -30.0, -30.285714285714285, -30.285714285714285, -30.285714285714285, -30.285714285714285, -30.285714285714285, -30.571428571428573, -30.428571428571427, -30.428571428571427, -30.857142857142858, -31.285714285714285, -31.571428571428573, -31.571428571428573, -31.428571428571427, -31.142857142857142, -35.285714285714285, -39.0, -39.714285714285715, -39.714285714285715, -39.714285714285715, -40.0, -40.714285714285715, -36.857142857142854, -33.142857142857146, -32.285714285714285, -32.42857142857143, -32.714285714285715, -32.857142857142854, -33.0, -33.285714285714285, -33.57142857142857, -33.57142857142857, -33.285714285714285, -37.42857142857143, -38.714285714285715, -40.285714285714285, -42.285714285714285, -44.42857142857143, -45.57142857142857, -46.285714285714285, -42.857142857142854, -42.0, -40.714285714285715, -39.0, -37.0, -35.857142857142854, -35.42857142857143, -35.0, -34.42857142857143, -34.0, -33.714285714285715, -33.42857142857143, -33.142857142857146, -32.714285714285715, -32.42857142857143, -32.285714285714285, -32.285714285714285, -32.0, -31.714285714285715, -31.571428571428573, -32.0, -32.0, -31.857142857142858, -31.571428571428573, -31.285714285714285, -31.0, -31.0, -29.857142857142858, -29.428571428571427, -29.142857142857142, -28.714285714285715, -28.428571428571427, -28.142857142857142, -26.857142857142858, -26.0, -29.0, -32.42857142857143, -32.42857142857143, -33.285714285714285, -33.285714285714285, -33.857142857142854, -34.142857142857146, -30.714285714285715, -27.142857142857142, -27.0, -26.142857142857142, -26.142857142857142, -25.857142857142858, -25.714285714285715, -26.0, -26.142857142857142, -26.285714285714285, -26.571428571428573, -26.857142857142858, -29.0, -29.285714285714285, -29.285714285714285, -29.142857142857142, -29.0, -28.571428571428573, -28.0, -26.142857142857142, -25.142857142857142, -25.142857142857142, -25.0, -24.857142857142858, -24.857142857142858, -25.142857142857142, -24.142857142857142, -23.857142857142858, -23.571428571428573, -23.571428571428573, -23.714285714285715, -23.857142857142858, -23.857142857142858, -24.0, -24.571428571428573, -24.857142857142858, -28.571428571428573, -28.571428571428573, -28.428571428571427, -28.428571428571427, -28.714285714285715, -28.714285714285715, -28.714285714285715, -25.142857142857142, -25.285714285714285, -25.428571428571427, -25.428571428571427, -25.285714285714285, -25.285714285714285, -25.285714285714285, -25.428571428571427, -25.428571428571427, -25.428571428571427, -25.571428571428573, -25.857142857142858, -25.857142857142858, -29.571428571428573, -29.714285714285715, -29.714285714285715, -29.714285714285715, -29.857142857142858, -30.142857142857142, -31.0, -27.428571428571427, -27.428571428571427, -28.0, -28.428571428571427, -28.571428571428573, -29.142857142857142, -28.857142857142858, -29.0, -29.285714285714285, -29.285714285714285, -29.142857142857142, -29.0, -28.428571428571427, -28.428571428571427, -28.571428571428573, -28.285714285714285, -28.0, -28.142857142857142, -28.142857142857142, -28.285714285714285, -28.428571428571427, -28.285714285714285, -28.428571428571427, -28.428571428571427, -28.285714285714285, -28.285714285714285, -28.714285714285715, -29.142857142857142, -30.428571428571427, -33.285714285714285, -37.285714285714285, -42.57142857142857, -49.285714285714285, -52.857142857142854, -54.714285714285715, -56.0, -54.42857142857143, -51.57142857142857, -47.42857142857143, -42.285714285714285, -40.714285714285715, -41.0, -43.714285714285715, -44.142857142857146, -44.714285714285715, -45.42857142857143, -46.0, -45.857142857142854, -46.285714285714285, -43.0, -43.42857142857143, -43.714285714285715, -43.857142857142854, -43.714285714285715, -44.285714285714285, -44.714285714285715, -44.285714285714285, -44.0, -44.0, -44.0, -43.857142857142854, -43.0, -41.714285714285715, -41.714285714285715, -41.42857142857143, -41.285714285714285, -41.0, -40.857142857142854, -40.57142857142857, -40.285714285714285, -40.285714285714285, -40.142857142857146, -39.42857142857143, -42.0, -41.857142857142854, -41.57142857142857, -41.142857142857146, -41.0, -40.57142857142857, -40.714285714285715, -37.714285714285715, -37.285714285714285, -36.714285714285715, -36.142857142857146, -35.57142857142857, -38.714285714285715, -38.42857142857143, -38.0, -37.857142857142854, -38.0, -37.857142857142854, -37.714285714285715, -34.857142857142854, -34.714285714285715, -34.857142857142854, -34.857142857142854, -34.57142857142857, -34.857142857142854, -35.0, -34.42857142857143, -34.285714285714285, -34.0, -33.714285714285715, -34.57142857142857, -33.285714285714285, -32.857142857142854, -32.57142857142857, -32.42857142857143, -32.142857142857146, -32.0, -30.714285714285715, -32.714285714285715, -32.57142857142857, -32.142857142857146, -31.428571428571427, -31.0, -30.285714285714285, -28.857142857142858, -27.0, -26.571428571428573, -26.571428571428573, -26.428571428571427, -26.142857142857142, -26.428571428571427, -27.142857142857142, -27.428571428571427, -27.714285714285715, -27.714285714285715, -27.857142857142858, -28.142857142857142, -28.0, -28.285714285714285, -28.0, -27.714285714285715, -27.857142857142858, -28.142857142857142, -28.0, -28.142857142857142], \"yaxis\": \"y\"}, {\"hoverlabel\": {\"namelength\": 0}, \"hovertemplate\": \"variable=\\u8077\\u5834<br>date=%{x}<br>value=%{y}\", \"legendgroup\": \"variable=\\u8077\\u5834\", \"line\": {\"color\": \"#FFA15A\", \"dash\": \"solid\"}, \"mode\": \"lines\", \"name\": \"variable=\\u8077\\u5834\", \"showlegend\": true, \"type\": \"scattergl\", \"x\": [\"2020-02-21\", \"2020-02-22\", \"2020-02-23\", \"2020-02-24\", \"2020-02-25\", \"2020-02-26\", \"2020-02-27\", \"2020-02-28\", \"2020-02-29\", \"2020-03-01\", \"2020-03-02\", \"2020-03-03\", \"2020-03-04\", \"2020-03-05\", \"2020-03-06\", \"2020-03-07\", \"2020-03-08\", \"2020-03-09\", \"2020-03-10\", \"2020-03-11\", \"2020-03-12\", \"2020-03-13\", \"2020-03-14\", \"2020-03-15\", \"2020-03-16\", \"2020-03-17\", \"2020-03-18\", \"2020-03-19\", \"2020-03-20\", \"2020-03-21\", \"2020-03-22\", \"2020-03-23\", \"2020-03-24\", \"2020-03-25\", \"2020-03-26\", \"2020-03-27\", \"2020-03-28\", \"2020-03-29\", \"2020-03-30\", \"2020-03-31\", \"2020-04-01\", \"2020-04-02\", \"2020-04-03\", \"2020-04-04\", \"2020-04-05\", \"2020-04-06\", \"2020-04-07\", \"2020-04-08\", \"2020-04-09\", \"2020-04-10\", \"2020-04-11\", \"2020-04-12\", \"2020-04-13\", \"2020-04-14\", \"2020-04-15\", \"2020-04-16\", \"2020-04-17\", \"2020-04-18\", \"2020-04-19\", \"2020-04-20\", \"2020-04-21\", \"2020-04-22\", \"2020-04-23\", \"2020-04-24\", \"2020-04-25\", \"2020-04-26\", \"2020-04-27\", \"2020-04-28\", \"2020-04-29\", \"2020-04-30\", \"2020-05-01\", \"2020-05-02\", \"2020-05-03\", \"2020-05-04\", \"2020-05-05\", \"2020-05-06\", \"2020-05-07\", \"2020-05-08\", \"2020-05-09\", \"2020-05-10\", \"2020-05-11\", \"2020-05-12\", \"2020-05-13\", \"2020-05-14\", \"2020-05-15\", \"2020-05-16\", \"2020-05-17\", \"2020-05-18\", \"2020-05-19\", \"2020-05-20\", \"2020-05-21\", \"2020-05-22\", \"2020-05-23\", \"2020-05-24\", \"2020-05-25\", \"2020-05-26\", \"2020-05-27\", \"2020-05-28\", \"2020-05-29\", \"2020-05-30\", \"2020-05-31\", \"2020-06-01\", \"2020-06-02\", \"2020-06-03\", \"2020-06-04\", \"2020-06-05\", \"2020-06-06\", \"2020-06-07\", \"2020-06-08\", \"2020-06-09\", \"2020-06-10\", \"2020-06-11\", \"2020-06-12\", \"2020-06-13\", \"2020-06-14\", \"2020-06-15\", \"2020-06-16\", \"2020-06-17\", \"2020-06-18\", \"2020-06-19\", \"2020-06-20\", \"2020-06-21\", \"2020-06-22\", \"2020-06-23\", \"2020-06-24\", \"2020-06-25\", \"2020-06-26\", \"2020-06-27\", \"2020-06-28\", \"2020-06-29\", \"2020-06-30\", \"2020-07-01\", \"2020-07-02\", \"2020-07-03\", \"2020-07-04\", \"2020-07-05\", \"2020-07-06\", \"2020-07-07\", \"2020-07-08\", \"2020-07-09\", \"2020-07-10\", \"2020-07-11\", \"2020-07-12\", \"2020-07-13\", \"2020-07-14\", \"2020-07-15\", \"2020-07-16\", \"2020-07-17\", \"2020-07-18\", \"2020-07-19\", \"2020-07-20\", \"2020-07-21\", \"2020-07-22\", \"2020-07-23\", \"2020-07-24\", \"2020-07-25\", \"2020-07-26\", \"2020-07-27\", \"2020-07-28\", \"2020-07-29\", \"2020-07-30\", \"2020-07-31\", \"2020-08-01\", \"2020-08-02\", \"2020-08-03\", \"2020-08-04\", \"2020-08-05\", \"2020-08-06\", \"2020-08-07\", \"2020-08-08\", \"2020-08-09\", \"2020-08-10\", \"2020-08-11\", \"2020-08-12\", \"2020-08-13\", \"2020-08-14\", \"2020-08-15\", \"2020-08-16\", \"2020-08-17\", \"2020-08-18\", \"2020-08-19\", \"2020-08-20\", \"2020-08-21\", \"2020-08-22\", \"2020-08-23\", \"2020-08-24\", \"2020-08-25\", \"2020-08-26\", \"2020-08-27\", \"2020-08-28\", \"2020-08-29\", \"2020-08-30\", \"2020-08-31\", \"2020-09-01\", \"2020-09-02\", \"2020-09-03\", \"2020-09-04\", \"2020-09-05\", \"2020-09-06\", \"2020-09-07\", \"2020-09-08\", \"2020-09-09\", \"2020-09-10\", \"2020-09-11\", \"2020-09-12\", \"2020-09-13\", \"2020-09-14\", \"2020-09-15\", \"2020-09-16\", \"2020-09-17\", \"2020-09-18\", \"2020-09-19\", \"2020-09-20\", \"2020-09-21\", \"2020-09-22\", \"2020-09-23\", \"2020-09-24\", \"2020-09-25\", \"2020-09-26\", \"2020-09-27\", \"2020-09-28\", \"2020-09-29\", \"2020-09-30\", \"2020-10-01\", \"2020-10-02\", \"2020-10-03\", \"2020-10-04\", \"2020-10-05\", \"2020-10-06\", \"2020-10-07\", \"2020-10-08\", \"2020-10-09\", \"2020-10-10\", \"2020-10-11\", \"2020-10-12\", \"2020-10-13\", \"2020-10-14\", \"2020-10-15\", \"2020-10-16\", \"2020-10-17\", \"2020-10-18\", \"2020-10-19\", \"2020-10-20\", \"2020-10-21\", \"2020-10-22\", \"2020-10-23\", \"2020-10-24\", \"2020-10-25\", \"2020-10-26\", \"2020-10-27\", \"2020-10-28\", \"2020-10-29\", \"2020-10-30\", \"2020-10-31\", \"2020-11-01\", \"2020-11-02\", \"2020-11-03\", \"2020-11-04\", \"2020-11-05\", \"2020-11-06\", \"2020-11-07\", \"2020-11-08\", \"2020-11-09\", \"2020-11-10\", \"2020-11-11\", \"2020-11-12\", \"2020-11-13\", \"2020-11-14\", \"2020-11-15\", \"2020-11-16\", \"2020-11-17\", \"2020-11-18\", \"2020-11-19\", \"2020-11-20\", \"2020-11-21\", \"2020-11-22\", \"2020-11-23\", \"2020-11-24\", \"2020-11-25\", \"2020-11-26\", \"2020-11-27\", \"2020-11-28\", \"2020-11-29\", \"2020-11-30\", \"2020-12-01\", \"2020-12-02\", \"2020-12-03\", \"2020-12-04\", \"2020-12-05\", \"2020-12-06\", \"2020-12-07\", \"2020-12-08\", \"2020-12-09\", \"2020-12-10\", \"2020-12-11\", \"2020-12-12\", \"2020-12-13\", \"2020-12-14\", \"2020-12-15\", \"2020-12-16\", \"2020-12-17\", \"2020-12-18\", \"2020-12-19\", \"2020-12-20\", \"2020-12-21\", \"2020-12-22\", \"2020-12-23\", \"2020-12-24\", \"2020-12-25\", \"2020-12-26\", \"2020-12-27\", \"2020-12-28\", \"2020-12-29\", \"2020-12-30\", \"2020-12-31\", \"2021-01-01\", \"2021-01-02\", \"2021-01-03\", \"2021-01-04\", \"2021-01-05\", \"2021-01-06\", \"2021-01-07\", \"2021-01-08\", \"2021-01-09\", \"2021-01-10\", \"2021-01-11\", \"2021-01-12\", \"2021-01-13\", \"2021-01-14\", \"2021-01-15\", \"2021-01-16\", \"2021-01-17\", \"2021-01-18\", \"2021-01-19\", \"2021-01-20\", \"2021-01-21\", \"2021-01-22\", \"2021-01-23\", \"2021-01-24\", \"2021-01-25\", \"2021-01-26\", \"2021-01-27\", \"2021-01-28\", \"2021-01-29\", \"2021-01-30\", \"2021-01-31\", \"2021-02-01\", \"2021-02-02\", \"2021-02-03\", \"2021-02-04\", \"2021-02-05\", \"2021-02-06\", \"2021-02-07\", \"2021-02-08\", \"2021-02-09\", \"2021-02-10\", \"2021-02-11\", \"2021-02-12\", \"2021-02-13\", \"2021-02-14\", \"2021-02-15\", \"2021-02-16\", \"2021-02-17\", \"2021-02-18\", \"2021-02-19\", \"2021-02-20\", \"2021-02-21\", \"2021-02-22\", \"2021-02-23\", \"2021-02-24\", \"2021-02-25\", \"2021-02-26\", \"2021-02-27\", \"2021-02-28\", \"2021-03-01\", \"2021-03-02\", \"2021-03-03\", \"2021-03-04\", \"2021-03-05\", \"2021-03-06\", \"2021-03-07\", \"2021-03-08\", \"2021-03-09\", \"2021-03-10\", \"2021-03-11\", \"2021-03-12\", \"2021-03-13\", \"2021-03-14\", \"2021-03-15\", \"2021-03-16\", \"2021-03-17\", \"2021-03-18\", \"2021-03-19\", \"2021-03-20\", \"2021-03-21\", \"2021-03-22\", \"2021-03-23\", \"2021-03-24\", \"2021-03-25\", \"2021-03-26\", \"2021-03-27\", \"2021-03-28\", \"2021-03-29\", \"2021-03-30\", \"2021-03-31\", \"2021-04-01\", \"2021-04-02\", \"2021-04-03\", \"2021-04-04\", \"2021-04-05\", \"2021-04-06\", \"2021-04-07\", \"2021-04-08\", \"2021-04-09\", \"2021-04-10\", \"2021-04-11\", \"2021-04-12\", \"2021-04-13\", \"2021-04-14\", \"2021-04-15\", \"2021-04-16\"], \"xaxis\": \"x\", \"y\": [0.0, -0.7142857142857143, -0.7142857142857143, -10.285714285714286, -10.428571428571429, -10.428571428571429, -10.571428571428571, -10.428571428571429, -10.142857142857142, -10.142857142857142, -1.4285714285714286, -2.142857142857143, -3.142857142857143, -3.857142857142857, -4.857142857142857, -5.857142857142857, -6.857142857142857, -7.0, -7.571428571428571, -7.571428571428571, -7.714285714285714, -7.714285714285714, -8.428571428571429, -7.714285714285714, -7.571428571428571, -7.142857142857143, -7.0, -7.0, -15.285714285714286, -15.142857142857142, -15.428571428571429, -15.571428571428571, -15.857142857142858, -16.0, -16.285714285714285, -9.0, -10.285714285714286, -13.428571428571429, -14.857142857142858, -15.857142857142858, -17.571428571428573, -19.142857142857142, -20.142857142857142, -21.0, -21.0, -21.857142857142858, -23.428571428571427, -25.571428571428573, -28.0, -30.428571428571427, -32.142857142857146, -33.714285714285715, -36.714285714285715, -39.142857142857146, -40.57142857142857, -41.714285714285715, -42.714285714285715, -43.714285714285715, -43.42857142857143, -43.857142857142854, -44.285714285714285, -44.714285714285715, -45.0, -45.0, -44.285714285714285, -44.714285714285715, -44.714285714285715, -44.714285714285715, -49.0, -49.285714285714285, -50.0, -50.285714285714285, -50.42857142857143, -55.285714285714285, -60.142857142857146, -60.42857142857143, -59.285714285714285, -58.142857142857146, -57.0, -56.142857142857146, -50.42857142857143, -45.142857142857146, -40.0, -40.285714285714285, -40.285714285714285, -40.857142857142854, -40.42857142857143, -40.57142857142857, -40.714285714285715, -40.57142857142857, -40.42857142857143, -40.142857142857146, -39.285714285714285, -39.0, -38.57142857142857, -37.714285714285715, -37.0, -36.142857142857146, -35.285714285714285, -34.285714285714285, -33.285714285714285, -31.571428571428573, -30.0, -28.714285714285715, -27.571428571428573, -26.571428571428573, -26.285714285714285, -25.857142857142858, -25.714285714285715, -25.571428571428573, -25.285714285714285, -25.142857142857142, -25.0, -25.285714285714285, -25.142857142857142, -24.857142857142858, -24.571428571428573, -24.428571428571427, -24.142857142857142, -24.142857142857142, -23.0, -22.571428571428573, -22.714285714285715, -22.714285714285715, -22.428571428571427, -22.142857142857142, -21.714285714285715, -21.714285714285715, -21.857142857142858, -21.428571428571427, -21.0, -20.714285714285715, -20.428571428571427, -20.285714285714285, -20.285714285714285, -20.0, -20.142857142857142, -20.285714285714285, -20.428571428571427, -20.571428571428573, -20.571428571428573, -20.428571428571427, -20.428571428571427, -20.285714285714285, -20.428571428571427, -20.428571428571427, -20.428571428571427, -20.571428571428573, -20.571428571428573, -20.571428571428573, -20.428571428571427, -20.142857142857142, -19.857142857142858, -26.571428571428573, -33.142857142857146, -34.142857142857146, -34.42857142857143, -34.714285714285715, -34.857142857142854, -35.285714285714285, -28.714285714285715, -22.0, -20.714285714285715, -20.285714285714285, -20.285714285714285, -20.571428571428573, -20.857142857142858, -21.142857142857142, -21.714285714285715, -22.285714285714285, -22.714285714285715, -30.0, -32.285714285714285, -34.857142857142854, -38.57142857142857, -42.285714285714285, -45.0, -45.57142857142857, -39.285714285714285, -37.42857142857143, -35.142857142857146, -31.714285714285715, -28.142857142857142, -25.428571428571427, -24.714285714285715, -24.0, -23.428571428571427, -22.857142857142858, -22.285714285714285, -21.714285714285715, -21.428571428571427, -21.142857142857142, -20.714285714285715, -20.428571428571427, -20.285714285714285, -20.142857142857142, -20.0, -19.857142857142858, -20.142857142857142, -20.428571428571427, -20.571428571428573, -20.571428571428573, -20.571428571428573, -20.428571428571427, -20.571428571428573, -20.142857142857142, -19.571428571428573, -19.142857142857142, -18.857142857142858, -18.571428571428573, -18.428571428571427, -17.857142857142858, -17.714285714285715, -25.142857142857142, -32.42857142857143, -32.142857142857146, -32.42857142857143, -32.285714285714285, -32.0, -31.571428571428573, -24.0, -16.571428571428573, -16.428571428571427, -16.0, -15.857142857142858, -16.0, -16.285714285714285, -16.285714285714285, -16.285714285714285, -16.428571428571427, -16.714285714285715, -17.142857142857142, -18.428571428571427, -18.285714285714285, -18.428571428571427, -18.428571428571427, -18.428571428571427, -18.142857142857142, -17.857142857142858, -17.285714285714285, -17.142857142857142, -17.142857142857142, -17.142857142857142, -17.0, -16.857142857142858, -16.857142857142858, -16.142857142857142, -16.142857142857142, -15.857142857142858, -15.714285714285714, -15.714285714285714, -15.571428571428571, -15.285714285714286, -15.0, -14.857142857142858, -15.428571428571429, -22.714285714285715, -22.285714285714285, -22.142857142857142, -22.0, -22.0, -22.142857142857142, -21.428571428571427, -14.0, -14.285714285714286, -14.428571428571429, -14.571428571428571, -14.857142857142858, -14.857142857142858, -15.0, -15.142857142857142, -15.285714285714286, -15.285714285714286, -15.428571428571429, -15.428571428571429, -15.571428571428571, -23.142857142857142, -23.0, -22.857142857142858, -22.857142857142858, -22.714285714285715, -22.428571428571427, -22.428571428571427, -14.571428571428571, -14.571428571428571, -14.714285714285714, -14.714285714285714, -14.714285714285714, -15.0, -14.857142857142858, -15.142857142857142, -15.142857142857142, -15.0, -15.0, -15.0, -15.0, -15.0, -15.0, -15.142857142857142, -15.285714285714286, -15.428571428571429, -15.571428571428571, -15.428571428571429, -15.285714285714286, -15.285714285714286, -15.428571428571429, -15.428571428571429, -15.428571428571429, -15.428571428571429, -15.571428571428571, -15.428571428571429, -18.0, -23.714285714285715, -31.285714285714285, -40.142857142857146, -50.0, -57.42857142857143, -61.42857142857143, -63.142857142857146, -58.714285714285715, -51.857142857142854, -43.57142857142857, -34.285714285714285, -27.428571428571427, -24.714285714285715, -28.285714285714285, -27.857142857142858, -28.142857142857142, -28.714285714285715, -29.428571428571427, -29.857142857142858, -30.285714285714285, -23.857142857142858, -24.428571428571427, -24.857142857142858, -25.142857142857142, -25.142857142857142, -25.714285714285715, -26.285714285714285, -26.142857142857142, -26.142857142857142, -26.285714285714285, -26.285714285714285, -26.142857142857142, -25.571428571428573, -24.428571428571427, -24.285714285714285, -24.142857142857142, -23.857142857142858, -23.714285714285715, -23.714285714285715, -23.714285714285715, -23.857142857142858, -23.857142857142858, -23.571428571428573, -23.285714285714285, -29.428571428571427, -29.571428571428573, -29.285714285714285, -28.857142857142858, -29.0, -29.0, -29.142857142857142, -22.857142857142858, -22.428571428571427, -22.285714285714285, -22.142857142857142, -22.285714285714285, -28.714285714285715, -28.428571428571427, -28.142857142857142, -28.0, -27.714285714285715, -27.285714285714285, -26.571428571428573, -20.285714285714285, -20.428571428571427, -20.571428571428573, -20.714285714285715, -21.0, -21.428571428571427, -21.857142857142858, -21.571428571428573, -21.571428571428573, -21.571428571428573, -21.714285714285715, -22.571428571428573, -22.142857142857142, -21.857142857142858, -21.857142857142858, -21.714285714285715, -21.571428571428573, -21.571428571428573, -22.857142857142858, -24.0, -24.0, -23.857142857142858, -23.857142857142858, -23.857142857142858, -23.857142857142858, -21.571428571428573, -20.714285714285715, -21.0, -21.285714285714285, -21.0, -20.857142857142858, -20.714285714285715, -21.142857142857142, -21.428571428571427, -21.428571428571427, -21.285714285714285, -21.857142857142858, -21.857142857142858, -21.714285714285715, -21.571428571428573, -21.428571428571427, -21.0, -21.0, -21.0, -20.857142857142858, -20.714285714285715], \"yaxis\": \"y\"}, {\"hoverlabel\": {\"namelength\": 0}, \"hovertemplate\": \"variable=\\u4f4f\\u5b85<br>date=%{x}<br>value=%{y}\", \"legendgroup\": \"variable=\\u4f4f\\u5b85\", \"line\": {\"color\": \"#19d3f3\", \"dash\": \"solid\"}, \"mode\": \"lines\", \"name\": \"variable=\\u4f4f\\u5b85\", \"showlegend\": true, \"type\": \"scattergl\", \"x\": [\"2020-02-21\", \"2020-02-22\", \"2020-02-23\", \"2020-02-24\", \"2020-02-25\", \"2020-02-26\", \"2020-02-27\", \"2020-02-28\", \"2020-02-29\", \"2020-03-01\", \"2020-03-02\", \"2020-03-03\", \"2020-03-04\", \"2020-03-05\", \"2020-03-06\", \"2020-03-07\", \"2020-03-08\", \"2020-03-09\", \"2020-03-10\", \"2020-03-11\", \"2020-03-12\", \"2020-03-13\", \"2020-03-14\", \"2020-03-15\", \"2020-03-16\", \"2020-03-17\", \"2020-03-18\", \"2020-03-19\", \"2020-03-20\", \"2020-03-21\", \"2020-03-22\", \"2020-03-23\", \"2020-03-24\", \"2020-03-25\", \"2020-03-26\", \"2020-03-27\", \"2020-03-28\", \"2020-03-29\", \"2020-03-30\", \"2020-03-31\", \"2020-04-01\", \"2020-04-02\", \"2020-04-03\", \"2020-04-04\", \"2020-04-05\", \"2020-04-06\", \"2020-04-07\", \"2020-04-08\", \"2020-04-09\", \"2020-04-10\", \"2020-04-11\", \"2020-04-12\", \"2020-04-13\", \"2020-04-14\", \"2020-04-15\", \"2020-04-16\", \"2020-04-17\", \"2020-04-18\", \"2020-04-19\", \"2020-04-20\", \"2020-04-21\", \"2020-04-22\", \"2020-04-23\", \"2020-04-24\", \"2020-04-25\", \"2020-04-26\", \"2020-04-27\", \"2020-04-28\", \"2020-04-29\", \"2020-04-30\", \"2020-05-01\", \"2020-05-02\", \"2020-05-03\", \"2020-05-04\", \"2020-05-05\", \"2020-05-06\", \"2020-05-07\", \"2020-05-08\", \"2020-05-09\", \"2020-05-10\", \"2020-05-11\", \"2020-05-12\", \"2020-05-13\", \"2020-05-14\", \"2020-05-15\", \"2020-05-16\", \"2020-05-17\", \"2020-05-18\", \"2020-05-19\", \"2020-05-20\", \"2020-05-21\", \"2020-05-22\", \"2020-05-23\", \"2020-05-24\", \"2020-05-25\", \"2020-05-26\", \"2020-05-27\", \"2020-05-28\", \"2020-05-29\", \"2020-05-30\", \"2020-05-31\", \"2020-06-01\", \"2020-06-02\", \"2020-06-03\", \"2020-06-04\", \"2020-06-05\", \"2020-06-06\", \"2020-06-07\", \"2020-06-08\", \"2020-06-09\", \"2020-06-10\", \"2020-06-11\", \"2020-06-12\", \"2020-06-13\", \"2020-06-14\", \"2020-06-15\", \"2020-06-16\", \"2020-06-17\", \"2020-06-18\", \"2020-06-19\", \"2020-06-20\", \"2020-06-21\", \"2020-06-22\", \"2020-06-23\", \"2020-06-24\", \"2020-06-25\", \"2020-06-26\", \"2020-06-27\", \"2020-06-28\", \"2020-06-29\", \"2020-06-30\", \"2020-07-01\", \"2020-07-02\", \"2020-07-03\", \"2020-07-04\", \"2020-07-05\", \"2020-07-06\", \"2020-07-07\", \"2020-07-08\", \"2020-07-09\", \"2020-07-10\", \"2020-07-11\", \"2020-07-12\", \"2020-07-13\", \"2020-07-14\", \"2020-07-15\", \"2020-07-16\", \"2020-07-17\", \"2020-07-18\", \"2020-07-19\", \"2020-07-20\", \"2020-07-21\", \"2020-07-22\", \"2020-07-23\", \"2020-07-24\", \"2020-07-25\", \"2020-07-26\", \"2020-07-27\", \"2020-07-28\", \"2020-07-29\", \"2020-07-30\", \"2020-07-31\", \"2020-08-01\", \"2020-08-02\", \"2020-08-03\", \"2020-08-04\", \"2020-08-05\", \"2020-08-06\", \"2020-08-07\", \"2020-08-08\", \"2020-08-09\", \"2020-08-10\", \"2020-08-11\", \"2020-08-12\", \"2020-08-13\", \"2020-08-14\", \"2020-08-15\", \"2020-08-16\", \"2020-08-17\", \"2020-08-18\", \"2020-08-19\", \"2020-08-20\", \"2020-08-21\", \"2020-08-22\", \"2020-08-23\", \"2020-08-24\", \"2020-08-25\", \"2020-08-26\", \"2020-08-27\", \"2020-08-28\", \"2020-08-29\", \"2020-08-30\", \"2020-08-31\", \"2020-09-01\", \"2020-09-02\", \"2020-09-03\", \"2020-09-04\", \"2020-09-05\", \"2020-09-06\", \"2020-09-07\", \"2020-09-08\", \"2020-09-09\", \"2020-09-10\", \"2020-09-11\", \"2020-09-12\", \"2020-09-13\", \"2020-09-14\", \"2020-09-15\", \"2020-09-16\", \"2020-09-17\", \"2020-09-18\", \"2020-09-19\", \"2020-09-20\", \"2020-09-21\", \"2020-09-22\", \"2020-09-23\", \"2020-09-24\", \"2020-09-25\", \"2020-09-26\", \"2020-09-27\", \"2020-09-28\", \"2020-09-29\", \"2020-09-30\", \"2020-10-01\", \"2020-10-02\", \"2020-10-03\", \"2020-10-04\", \"2020-10-05\", \"2020-10-06\", \"2020-10-07\", \"2020-10-08\", \"2020-10-09\", \"2020-10-10\", \"2020-10-11\", \"2020-10-12\", \"2020-10-13\", \"2020-10-14\", \"2020-10-15\", \"2020-10-16\", \"2020-10-17\", \"2020-10-18\", \"2020-10-19\", \"2020-10-20\", \"2020-10-21\", \"2020-10-22\", \"2020-10-23\", \"2020-10-24\", \"2020-10-25\", \"2020-10-26\", \"2020-10-27\", \"2020-10-28\", \"2020-10-29\", \"2020-10-30\", \"2020-10-31\", \"2020-11-01\", \"2020-11-02\", \"2020-11-03\", \"2020-11-04\", \"2020-11-05\", \"2020-11-06\", \"2020-11-07\", \"2020-11-08\", \"2020-11-09\", \"2020-11-10\", \"2020-11-11\", \"2020-11-12\", \"2020-11-13\", \"2020-11-14\", \"2020-11-15\", \"2020-11-16\", \"2020-11-17\", \"2020-11-18\", \"2020-11-19\", \"2020-11-20\", \"2020-11-21\", \"2020-11-22\", \"2020-11-23\", \"2020-11-24\", \"2020-11-25\", \"2020-11-26\", \"2020-11-27\", \"2020-11-28\", \"2020-11-29\", \"2020-11-30\", \"2020-12-01\", \"2020-12-02\", \"2020-12-03\", \"2020-12-04\", \"2020-12-05\", \"2020-12-06\", \"2020-12-07\", \"2020-12-08\", \"2020-12-09\", \"2020-12-10\", \"2020-12-11\", \"2020-12-12\", \"2020-12-13\", \"2020-12-14\", \"2020-12-15\", \"2020-12-16\", \"2020-12-17\", \"2020-12-18\", \"2020-12-19\", \"2020-12-20\", \"2020-12-21\", \"2020-12-22\", \"2020-12-23\", \"2020-12-24\", \"2020-12-25\", \"2020-12-26\", \"2020-12-27\", \"2020-12-28\", \"2020-12-29\", \"2020-12-30\", \"2020-12-31\", \"2021-01-01\", \"2021-01-02\", \"2021-01-03\", \"2021-01-04\", \"2021-01-05\", \"2021-01-06\", \"2021-01-07\", \"2021-01-08\", \"2021-01-09\", \"2021-01-10\", \"2021-01-11\", \"2021-01-12\", \"2021-01-13\", \"2021-01-14\", \"2021-01-15\", \"2021-01-16\", \"2021-01-17\", \"2021-01-18\", \"2021-01-19\", \"2021-01-20\", \"2021-01-21\", \"2021-01-22\", \"2021-01-23\", \"2021-01-24\", \"2021-01-25\", \"2021-01-26\", \"2021-01-27\", \"2021-01-28\", \"2021-01-29\", \"2021-01-30\", \"2021-01-31\", \"2021-02-01\", \"2021-02-02\", \"2021-02-03\", \"2021-02-04\", \"2021-02-05\", \"2021-02-06\", \"2021-02-07\", \"2021-02-08\", \"2021-02-09\", \"2021-02-10\", \"2021-02-11\", \"2021-02-12\", \"2021-02-13\", \"2021-02-14\", \"2021-02-15\", \"2021-02-16\", \"2021-02-17\", \"2021-02-18\", \"2021-02-19\", \"2021-02-20\", \"2021-02-21\", \"2021-02-22\", \"2021-02-23\", \"2021-02-24\", \"2021-02-25\", \"2021-02-26\", \"2021-02-27\", \"2021-02-28\", \"2021-03-01\", \"2021-03-02\", \"2021-03-03\", \"2021-03-04\", \"2021-03-05\", \"2021-03-06\", \"2021-03-07\", \"2021-03-08\", \"2021-03-09\", \"2021-03-10\", \"2021-03-11\", \"2021-03-12\", \"2021-03-13\", \"2021-03-14\", \"2021-03-15\", \"2021-03-16\", \"2021-03-17\", \"2021-03-18\", \"2021-03-19\", \"2021-03-20\", \"2021-03-21\", \"2021-03-22\", \"2021-03-23\", \"2021-03-24\", \"2021-03-25\", \"2021-03-26\", \"2021-03-27\", \"2021-03-28\", \"2021-03-29\", \"2021-03-30\", \"2021-03-31\", \"2021-04-01\", \"2021-04-02\", \"2021-04-03\", \"2021-04-04\", \"2021-04-05\", \"2021-04-06\", \"2021-04-07\", \"2021-04-08\", \"2021-04-09\", \"2021-04-10\", \"2021-04-11\", \"2021-04-12\", \"2021-04-13\", \"2021-04-14\", \"2021-04-15\", \"2021-04-16\"], \"xaxis\": \"x\", \"y\": [1.2857142857142858, 1.4285714285714286, 1.0, 3.7142857142857144, 3.7142857142857144, 3.857142857142857, 4.142857142857143, 4.428571428571429, 4.857142857142857, 5.428571428571429, 3.5714285714285716, 4.142857142857143, 4.857142857142857, 5.428571428571429, 5.857142857142857, 6.0, 6.428571428571429, 6.285714285714286, 6.714285714285714, 6.428571428571429, 6.285714285714286, 6.285714285714286, 6.714285714285714, 6.285714285714286, 6.285714285714286, 5.857142857142857, 5.857142857142857, 5.571428571428571, 7.714285714285714, 7.0, 6.714285714285714, 6.714285714285714, 6.857142857142857, 6.714285714285714, 7.0, 5.285714285714286, 6.571428571428571, 8.285714285714286, 9.0, 9.571428571428571, 10.857142857142858, 11.714285714285714, 12.285714285714286, 12.285714285714286, 12.0, 12.285714285714286, 13.0, 13.714285714285714, 15.0, 16.285714285714285, 16.857142857142858, 17.285714285714285, 19.142857142857142, 20.285714285714285, 21.0, 21.428571428571427, 21.857142857142858, 22.571428571428573, 22.285714285714285, 22.285714285714285, 22.428571428571427, 22.714285714285715, 22.857142857142858, 23.0, 22.428571428571427, 22.714285714285715, 22.714285714285715, 22.714285714285715, 23.714285714285715, 23.857142857142858, 24.0, 24.142857142857142, 24.142857142857142, 25.714285714285715, 27.428571428571427, 28.142857142857142, 27.571428571428573, 27.142857142857142, 26.857142857142858, 26.714285714285715, 24.571428571428573, 22.714285714285715, 20.714285714285715, 20.857142857142858, 20.857142857142858, 21.142857142857142, 20.857142857142858, 21.0, 21.285714285714285, 21.285714285714285, 21.428571428571427, 21.428571428571427, 21.0, 21.0, 20.714285714285715, 20.142857142857142, 19.571428571428573, 19.0, 18.285714285714285, 17.714285714285715, 17.428571428571427, 16.714285714285715, 15.857142857142858, 15.285714285714286, 14.714285714285714, 14.285714285714286, 14.142857142857142, 13.857142857142858, 13.714285714285714, 13.714285714285714, 13.571428571428571, 13.571428571428571, 13.428571428571429, 13.714285714285714, 13.857142857142858, 13.571428571428571, 13.285714285714286, 13.142857142857142, 12.714285714285714, 12.714285714285714, 11.714285714285714, 11.285714285714286, 11.428571428571429, 11.285714285714286, 11.142857142857142, 11.142857142857142, 10.714285714285714, 10.857142857142858, 11.142857142857142, 10.714285714285714, 10.857142857142858, 10.857142857142858, 10.571428571428571, 10.571428571428571, 10.857142857142858, 10.714285714285714, 11.0, 10.857142857142858, 10.857142857142858, 11.142857142857142, 11.142857142857142, 11.0, 10.857142857142858, 10.714285714285714, 10.857142857142858, 10.857142857142858, 10.714285714285714, 11.0, 11.285714285714286, 11.428571428571429, 11.428571428571429, 11.142857142857142, 10.857142857142858, 13.0, 14.714285714285714, 14.714285714285714, 14.714285714285714, 14.714285714285714, 14.857142857142858, 15.142857142857142, 13.0, 11.0, 10.714285714285714, 10.714285714285714, 10.714285714285714, 10.714285714285714, 10.714285714285714, 10.714285714285714, 10.714285714285714, 10.714285714285714, 10.428571428571429, 12.428571428571429, 13.0, 13.714285714285714, 14.714285714285714, 15.857142857142858, 16.142857142857142, 16.428571428571427, 14.714285714285714, 14.285714285714286, 13.571428571428571, 12.714285714285714, 11.714285714285714, 11.428571428571429, 11.428571428571429, 11.285714285714286, 11.142857142857142, 11.142857142857142, 11.0, 10.857142857142858, 10.714285714285714, 10.571428571428571, 10.428571428571429, 10.285714285714286, 10.285714285714286, 10.285714285714286, 10.285714285714286, 10.428571428571429, 10.714285714285714, 10.857142857142858, 10.857142857142858, 10.714285714285714, 10.428571428571429, 10.142857142857142, 10.285714285714286, 9.857142857142858, 9.571428571428571, 9.428571428571429, 9.285714285714286, 9.285714285714286, 9.142857142857142, 8.428571428571429, 8.142857142857142, 9.428571428571429, 11.142857142857142, 11.142857142857142, 11.571428571428571, 11.857142857142858, 12.285714285714286, 12.571428571428571, 11.0, 9.142857142857142, 8.857142857142858, 8.428571428571429, 8.142857142857142, 7.857142857142857, 7.714285714285714, 7.857142857142857, 7.857142857142857, 8.0, 8.285714285714286, 8.714285714285714, 9.714285714285714, 9.857142857142858, 9.714285714285714, 9.714285714285714, 9.714285714285714, 9.428571428571429, 9.0, 8.428571428571429, 8.142857142857142, 8.428571428571429, 8.285714285714286, 8.142857142857142, 8.0, 8.142857142857142, 7.428571428571429, 7.285714285714286, 6.857142857142857, 6.857142857142857, 6.857142857142857, 6.714285714285714, 6.428571428571429, 6.571428571428571, 6.714285714285714, 6.857142857142857, 9.0, 8.857142857142858, 8.857142857142858, 8.857142857142858, 9.0, 9.0, 9.0, 7.0, 7.142857142857143, 7.285714285714286, 7.428571428571429, 7.285714285714286, 7.285714285714286, 7.285714285714286, 7.142857142857143, 7.142857142857143, 7.142857142857143, 7.142857142857143, 7.142857142857143, 7.0, 9.0, 9.142857142857142, 9.285714285714286, 9.285714285714286, 9.285714285714286, 9.428571428571429, 9.857142857142858, 7.857142857142857, 7.857142857142857, 8.0, 8.142857142857142, 8.285714285714286, 8.571428571428571, 8.428571428571429, 8.571428571428571, 8.571428571428571, 8.571428571428571, 8.571428571428571, 8.428571428571429, 8.285714285714286, 8.285714285714286, 8.285714285714286, 8.285714285714286, 8.142857142857142, 8.142857142857142, 8.285714285714286, 8.285714285714286, 8.428571428571429, 8.428571428571429, 8.428571428571429, 8.428571428571429, 8.428571428571429, 8.428571428571429, 8.571428571428571, 8.571428571428571, 9.142857142857142, 10.857142857142858, 13.142857142857142, 16.142857142857142, 19.857142857142858, 21.0, 21.571428571428573, 22.428571428571427, 21.428571428571427, 19.714285714285715, 17.285714285714285, 14.285714285714286, 13.714285714285714, 13.714285714285714, 15.142857142857142, 15.428571428571429, 15.571428571428571, 15.714285714285714, 15.714285714285714, 15.571428571428571, 15.571428571428571, 13.428571428571429, 13.285714285714286, 13.428571428571429, 13.428571428571429, 13.428571428571429, 13.857142857142858, 14.285714285714286, 14.142857142857142, 14.142857142857142, 14.142857142857142, 14.285714285714286, 14.285714285714286, 13.714285714285714, 13.142857142857142, 13.142857142857142, 13.142857142857142, 13.0, 12.857142857142858, 12.857142857142858, 12.857142857142858, 12.714285714285714, 12.714285714285714, 12.571428571428571, 12.285714285714286, 14.0, 13.857142857142858, 13.857142857142858, 13.857142857142858, 14.142857142857142, 14.0, 14.142857142857142, 12.285714285714286, 12.142857142857142, 12.0, 11.857142857142858, 11.285714285714286, 13.142857142857142, 13.0, 12.714285714285714, 12.714285714285714, 12.714285714285714, 12.714285714285714, 12.714285714285714, 11.142857142857142, 11.142857142857142, 11.285714285714286, 11.428571428571429, 11.428571428571429, 11.571428571428571, 11.857142857142858, 11.428571428571429, 11.428571428571429, 11.285714285714286, 11.142857142857142, 11.571428571428571, 11.142857142857142, 10.857142857142858, 10.857142857142858, 10.714285714285714, 10.714285714285714, 10.571428571428571, 10.0, 10.714285714285714, 10.571428571428571, 10.285714285714286, 10.142857142857142, 10.0, 9.714285714285714, 9.285714285714286, 8.714285714285714, 8.714285714285714, 8.714285714285714, 8.571428571428571, 8.428571428571429, 8.571428571428571, 8.714285714285714, 8.714285714285714, 8.857142857142858, 9.0, 9.142857142857142, 9.285714285714286, 9.285714285714286, 9.428571428571429, 9.285714285714286, 9.142857142857142, 9.285714285714286, 9.571428571428571, 9.428571428571429, 9.428571428571429], \"yaxis\": \"y\"}],\n",
              "                        {\"legend\": {\"tracegroupgap\": 0}, \"template\": {\"data\": {\"bar\": [{\"error_x\": {\"color\": \"#2a3f5f\"}, \"error_y\": {\"color\": \"#2a3f5f\"}, \"marker\": {\"line\": {\"color\": \"#E5ECF6\", \"width\": 0.5}}, \"type\": \"bar\"}], \"barpolar\": [{\"marker\": {\"line\": {\"color\": \"#E5ECF6\", \"width\": 0.5}}, \"type\": \"barpolar\"}], \"carpet\": [{\"aaxis\": {\"endlinecolor\": \"#2a3f5f\", \"gridcolor\": \"white\", \"linecolor\": \"white\", \"minorgridcolor\": \"white\", \"startlinecolor\": \"#2a3f5f\"}, \"baxis\": {\"endlinecolor\": \"#2a3f5f\", \"gridcolor\": \"white\", \"linecolor\": \"white\", \"minorgridcolor\": \"white\", \"startlinecolor\": \"#2a3f5f\"}, \"type\": \"carpet\"}], \"choropleth\": [{\"colorbar\": {\"outlinewidth\": 0, \"ticks\": \"\"}, \"type\": \"choropleth\"}], \"contour\": [{\"colorbar\": {\"outlinewidth\": 0, \"ticks\": \"\"}, \"colorscale\": [[0.0, \"#0d0887\"], [0.1111111111111111, \"#46039f\"], [0.2222222222222222, \"#7201a8\"], [0.3333333333333333, \"#9c179e\"], [0.4444444444444444, \"#bd3786\"], [0.5555555555555556, \"#d8576b\"], [0.6666666666666666, \"#ed7953\"], [0.7777777777777778, \"#fb9f3a\"], [0.8888888888888888, \"#fdca26\"], [1.0, \"#f0f921\"]], \"type\": \"contour\"}], \"contourcarpet\": [{\"colorbar\": {\"outlinewidth\": 0, \"ticks\": \"\"}, \"type\": \"contourcarpet\"}], \"heatmap\": [{\"colorbar\": {\"outlinewidth\": 0, \"ticks\": \"\"}, \"colorscale\": [[0.0, \"#0d0887\"], [0.1111111111111111, \"#46039f\"], [0.2222222222222222, \"#7201a8\"], [0.3333333333333333, \"#9c179e\"], [0.4444444444444444, \"#bd3786\"], [0.5555555555555556, \"#d8576b\"], [0.6666666666666666, \"#ed7953\"], [0.7777777777777778, \"#fb9f3a\"], [0.8888888888888888, \"#fdca26\"], [1.0, \"#f0f921\"]], \"type\": \"heatmap\"}], \"heatmapgl\": [{\"colorbar\": {\"outlinewidth\": 0, \"ticks\": \"\"}, \"colorscale\": [[0.0, \"#0d0887\"], [0.1111111111111111, \"#46039f\"], [0.2222222222222222, \"#7201a8\"], [0.3333333333333333, \"#9c179e\"], [0.4444444444444444, \"#bd3786\"], [0.5555555555555556, \"#d8576b\"], [0.6666666666666666, \"#ed7953\"], [0.7777777777777778, \"#fb9f3a\"], [0.8888888888888888, \"#fdca26\"], [1.0, \"#f0f921\"]], \"type\": \"heatmapgl\"}], \"histogram\": [{\"marker\": {\"colorbar\": {\"outlinewidth\": 0, \"ticks\": \"\"}}, \"type\": \"histogram\"}], \"histogram2d\": [{\"colorbar\": {\"outlinewidth\": 0, \"ticks\": \"\"}, \"colorscale\": [[0.0, \"#0d0887\"], [0.1111111111111111, \"#46039f\"], [0.2222222222222222, \"#7201a8\"], [0.3333333333333333, \"#9c179e\"], [0.4444444444444444, \"#bd3786\"], [0.5555555555555556, \"#d8576b\"], [0.6666666666666666, \"#ed7953\"], [0.7777777777777778, \"#fb9f3a\"], [0.8888888888888888, \"#fdca26\"], [1.0, \"#f0f921\"]], \"type\": \"histogram2d\"}], \"histogram2dcontour\": [{\"colorbar\": {\"outlinewidth\": 0, \"ticks\": \"\"}, \"colorscale\": [[0.0, \"#0d0887\"], [0.1111111111111111, \"#46039f\"], [0.2222222222222222, \"#7201a8\"], [0.3333333333333333, \"#9c179e\"], [0.4444444444444444, \"#bd3786\"], [0.5555555555555556, \"#d8576b\"], [0.6666666666666666, \"#ed7953\"], [0.7777777777777778, \"#fb9f3a\"], [0.8888888888888888, \"#fdca26\"], [1.0, \"#f0f921\"]], \"type\": \"histogram2dcontour\"}], \"mesh3d\": [{\"colorbar\": {\"outlinewidth\": 0, \"ticks\": \"\"}, \"type\": \"mesh3d\"}], \"parcoords\": [{\"line\": {\"colorbar\": {\"outlinewidth\": 0, \"ticks\": \"\"}}, \"type\": \"parcoords\"}], \"pie\": [{\"automargin\": true, \"type\": \"pie\"}], \"scatter\": [{\"marker\": {\"colorbar\": {\"outlinewidth\": 0, \"ticks\": \"\"}}, \"type\": \"scatter\"}], \"scatter3d\": [{\"line\": {\"colorbar\": {\"outlinewidth\": 0, \"ticks\": \"\"}}, \"marker\": {\"colorbar\": {\"outlinewidth\": 0, \"ticks\": \"\"}}, \"type\": \"scatter3d\"}], \"scattercarpet\": [{\"marker\": {\"colorbar\": {\"outlinewidth\": 0, \"ticks\": \"\"}}, \"type\": \"scattercarpet\"}], \"scattergeo\": [{\"marker\": {\"colorbar\": {\"outlinewidth\": 0, \"ticks\": \"\"}}, \"type\": \"scattergeo\"}], \"scattergl\": [{\"marker\": {\"colorbar\": {\"outlinewidth\": 0, \"ticks\": \"\"}}, \"type\": \"scattergl\"}], \"scattermapbox\": [{\"marker\": {\"colorbar\": {\"outlinewidth\": 0, \"ticks\": \"\"}}, \"type\": \"scattermapbox\"}], \"scatterpolar\": [{\"marker\": {\"colorbar\": {\"outlinewidth\": 0, \"ticks\": \"\"}}, \"type\": \"scatterpolar\"}], \"scatterpolargl\": [{\"marker\": {\"colorbar\": {\"outlinewidth\": 0, \"ticks\": \"\"}}, \"type\": \"scatterpolargl\"}], \"scatterternary\": [{\"marker\": {\"colorbar\": {\"outlinewidth\": 0, \"ticks\": \"\"}}, \"type\": \"scatterternary\"}], \"surface\": [{\"colorbar\": {\"outlinewidth\": 0, \"ticks\": \"\"}, \"colorscale\": [[0.0, \"#0d0887\"], [0.1111111111111111, \"#46039f\"], [0.2222222222222222, \"#7201a8\"], [0.3333333333333333, \"#9c179e\"], [0.4444444444444444, \"#bd3786\"], [0.5555555555555556, \"#d8576b\"], [0.6666666666666666, \"#ed7953\"], [0.7777777777777778, \"#fb9f3a\"], [0.8888888888888888, \"#fdca26\"], [1.0, \"#f0f921\"]], \"type\": \"surface\"}], \"table\": [{\"cells\": {\"fill\": {\"color\": \"#EBF0F8\"}, \"line\": {\"color\": \"white\"}}, \"header\": {\"fill\": {\"color\": \"#C8D4E3\"}, \"line\": {\"color\": \"white\"}}, \"type\": \"table\"}]}, \"layout\": {\"annotationdefaults\": {\"arrowcolor\": \"#2a3f5f\", \"arrowhead\": 0, \"arrowwidth\": 1}, \"coloraxis\": {\"colorbar\": {\"outlinewidth\": 0, \"ticks\": \"\"}}, \"colorscale\": {\"diverging\": [[0, \"#8e0152\"], [0.1, \"#c51b7d\"], [0.2, \"#de77ae\"], [0.3, \"#f1b6da\"], [0.4, \"#fde0ef\"], [0.5, \"#f7f7f7\"], [0.6, \"#e6f5d0\"], [0.7, \"#b8e186\"], [0.8, \"#7fbc41\"], [0.9, \"#4d9221\"], [1, \"#276419\"]], \"sequential\": [[0.0, \"#0d0887\"], [0.1111111111111111, \"#46039f\"], [0.2222222222222222, \"#7201a8\"], [0.3333333333333333, \"#9c179e\"], [0.4444444444444444, \"#bd3786\"], [0.5555555555555556, \"#d8576b\"], [0.6666666666666666, \"#ed7953\"], [0.7777777777777778, \"#fb9f3a\"], [0.8888888888888888, \"#fdca26\"], [1.0, \"#f0f921\"]], \"sequentialminus\": [[0.0, \"#0d0887\"], [0.1111111111111111, \"#46039f\"], [0.2222222222222222, \"#7201a8\"], [0.3333333333333333, \"#9c179e\"], [0.4444444444444444, \"#bd3786\"], [0.5555555555555556, \"#d8576b\"], [0.6666666666666666, \"#ed7953\"], [0.7777777777777778, \"#fb9f3a\"], [0.8888888888888888, \"#fdca26\"], [1.0, \"#f0f921\"]]}, \"colorway\": [\"#636efa\", \"#EF553B\", \"#00cc96\", \"#ab63fa\", \"#FFA15A\", \"#19d3f3\", \"#FF6692\", \"#B6E880\", \"#FF97FF\", \"#FECB52\"], \"font\": {\"color\": \"#2a3f5f\"}, \"geo\": {\"bgcolor\": \"white\", \"lakecolor\": \"white\", \"landcolor\": \"#E5ECF6\", \"showlakes\": true, \"showland\": true, \"subunitcolor\": \"white\"}, \"hoverlabel\": {\"align\": \"left\"}, \"hovermode\": \"closest\", \"mapbox\": {\"style\": \"light\"}, \"paper_bgcolor\": \"white\", \"plot_bgcolor\": \"#E5ECF6\", \"polar\": {\"angularaxis\": {\"gridcolor\": \"white\", \"linecolor\": \"white\", \"ticks\": \"\"}, \"bgcolor\": \"#E5ECF6\", \"radialaxis\": {\"gridcolor\": \"white\", \"linecolor\": \"white\", \"ticks\": \"\"}}, \"scene\": {\"xaxis\": {\"backgroundcolor\": \"#E5ECF6\", \"gridcolor\": \"white\", \"gridwidth\": 2, \"linecolor\": \"white\", \"showbackground\": true, \"ticks\": \"\", \"zerolinecolor\": \"white\"}, \"yaxis\": {\"backgroundcolor\": \"#E5ECF6\", \"gridcolor\": \"white\", \"gridwidth\": 2, \"linecolor\": \"white\", \"showbackground\": true, \"ticks\": \"\", \"zerolinecolor\": \"white\"}, \"zaxis\": {\"backgroundcolor\": \"#E5ECF6\", \"gridcolor\": \"white\", \"gridwidth\": 2, \"linecolor\": \"white\", \"showbackground\": true, \"ticks\": \"\", \"zerolinecolor\": \"white\"}}, \"shapedefaults\": {\"line\": {\"color\": \"#2a3f5f\"}}, \"ternary\": {\"aaxis\": {\"gridcolor\": \"white\", \"linecolor\": \"white\", \"ticks\": \"\"}, \"baxis\": {\"gridcolor\": \"white\", \"linecolor\": \"white\", \"ticks\": \"\"}, \"bgcolor\": \"#E5ECF6\", \"caxis\": {\"gridcolor\": \"white\", \"linecolor\": \"white\", \"ticks\": \"\"}}, \"title\": {\"x\": 0.05}, \"xaxis\": {\"automargin\": true, \"gridcolor\": \"white\", \"linecolor\": \"white\", \"ticks\": \"\", \"title\": {\"standoff\": 15}, \"zerolinecolor\": \"white\", \"zerolinewidth\": 2}, \"yaxis\": {\"automargin\": true, \"gridcolor\": \"white\", \"linecolor\": \"white\", \"ticks\": \"\", \"title\": {\"standoff\": 15}, \"zerolinecolor\": \"white\", \"zerolinewidth\": 2}}}, \"title\": {\"text\": \"Google Mobility Report (Tokyo)\"}, \"xaxis\": {\"anchor\": \"y\", \"domain\": [0.0, 1.0], \"title\": {\"text\": \"date\"}}, \"yaxis\": {\"anchor\": \"x\", \"domain\": [0.0, 1.0], \"title\": {\"text\": \"value\"}}},\n",
              "                        {\"responsive\": true}\n",
              "                    ).then(function(){\n",
              "                            \n",
              "var gd = document.getElementById('62261696-52f3-4ece-b007-269df53c4332');\n",
              "var x = new MutationObserver(function (mutations, observer) {{\n",
              "        var display = window.getComputedStyle(gd).display;\n",
              "        if (!display || display === 'none') {{\n",
              "            console.log([gd, 'removed!']);\n",
              "            Plotly.purge(gd);\n",
              "            observer.disconnect();\n",
              "        }}\n",
              "}});\n",
              "\n",
              "// Listen for the removal of the full notebook cells\n",
              "var notebookContainer = gd.closest('#notebook-container');\n",
              "if (notebookContainer) {{\n",
              "    x.observe(notebookContainer, {childList: true});\n",
              "}}\n",
              "\n",
              "// Listen for the clearing of the current output cell\n",
              "var outputEl = gd.closest('.output');\n",
              "if (outputEl) {{\n",
              "    x.observe(outputEl, {childList: true});\n",
              "}}\n",
              "\n",
              "                        })\n",
              "                };\n",
              "                \n",
              "            </script>\n",
              "        </div>\n",
              "</body>\n",
              "</html>"
            ]
          },
          "metadata": {
            "tags": []
          }
        }
      ]
    },
    {
      "cell_type": "markdown",
      "metadata": {
        "id": "jXQ20mJwpMHY"
      },
      "source": [
        "上記のグラフより見えてくることは以下のとおり：\n",
        "- 第１波の頃，職場における人の往来は40%以上，減少した。一方，住宅への滞在は 20%超，増加している。（注意：-60% に至ったのは GW のためである）\n",
        "- １回目の緊急事態宣言(2020年4月7日)以降はしばらく職場への人の往来は減少傾向にあった。\n",
        "- 一方，２回目の緊急時事態宣言(2021年1月7日)以降は，職場の減少は見られないが，公園に出掛ける（つまり，外出を目的とする）人出は減少した。\n",
        "- 食料品店・薬局は，（やや減少しているものの）概ね変化は小さい。これは生活必需品の購入が要因であろう。\n",
        "- 小売・娯楽施設は，期間を通じて人の往来が減っている。\n",
        "\n",
        "以上より，新型コロナ禍によって日本社会が大きな影響を受けいてることが明らかである。"
      ]
    },
    {
      "cell_type": "markdown",
      "metadata": {
        "id": "mwl1BLo5pMHY"
      },
      "source": [
        "#### (参考) 同じデータ処理を山口県でやってみると・・・\n",
        "祝日効果を除くと，期間を通じて変化の小さいことが分かる。"
      ]
    },
    {
      "cell_type": "code",
      "metadata": {
        "scrolled": false,
        "colab": {
          "base_uri": "https://localhost:8080/",
          "height": 542
        },
        "id": "V303aiBIpMHY",
        "outputId": "28e933b7-0ad1-4103-a4f7-aa31f7f300e1"
      },
      "source": [
        "# 日本のデータのみ絞り込む (# データ数 = 20496件)\n",
        "df_yamaguchi = df.copy() # 大元のデータフレーム df を壊したくないから，コピーをとる\n",
        "condition = (df['country_region_code'] == 'JP') & (df['sub_region_1'] == 'Yamaguchi') # 絞り込むための条件\n",
        "df_yamaguchi = df_yamaguchi[condition] # 絞り込み\n",
        "\n",
        "# 移動平均を求める\n",
        "window = 7 # ウィンドウ幅\n",
        "rolling_mean = df_yamaguchi[['小売・娯楽', '食料品店・薬局', '公園', '乗換駅', '職場', '住宅']].rolling(window).mean()\n",
        "rolling_mean = pd.concat([df_yamaguchi['date'], rolling_mean], axis=1)\n",
        "rolling_mean = rolling_mean[window-1:] # 頭の window 分を削除\n",
        "\n",
        "# 可視化\n",
        "import plotly_express as px\n",
        "df_melt = rolling_mean.melt(id_vars='date', value_vars=[\"小売・娯楽\", \"食料品店・薬局\", \"公園\", \"乗換駅\", \"職場\", \"住宅\"])\n",
        "fig = px.line(df_melt, x=\"date\", y=\"value\", color='variable', title=\"Google Mobility Report (Tokyo)\")\n",
        "fig.show()"
      ],
      "execution_count": null,
      "outputs": [
        {
          "output_type": "display_data",
          "data": {
            "text/html": [
              "<html>\n",
              "<head><meta charset=\"utf-8\" /></head>\n",
              "<body>\n",
              "    <div>\n",
              "            <script src=\"https://cdnjs.cloudflare.com/ajax/libs/mathjax/2.7.5/MathJax.js?config=TeX-AMS-MML_SVG\"></script><script type=\"text/javascript\">if (window.MathJax) {MathJax.Hub.Config({SVG: {font: \"STIX-Web\"}});}</script>\n",
              "                <script type=\"text/javascript\">window.PlotlyConfig = {MathJaxConfig: 'local'};</script>\n",
              "        <script src=\"https://cdn.plot.ly/plotly-latest.min.js\"></script>    \n",
              "            <div id=\"19011b87-332d-448a-b2a9-83fd7703cafa\" class=\"plotly-graph-div\" style=\"height:525px; width:100%;\"></div>\n",
              "            <script type=\"text/javascript\">\n",
              "                \n",
              "                    window.PLOTLYENV=window.PLOTLYENV || {};\n",
              "                    \n",
              "                if (document.getElementById(\"19011b87-332d-448a-b2a9-83fd7703cafa\")) {\n",
              "                    Plotly.newPlot(\n",
              "                        '19011b87-332d-448a-b2a9-83fd7703cafa',\n",
              "                        [{\"hoverlabel\": {\"namelength\": 0}, \"hovertemplate\": \"variable=\\u5c0f\\u58f2\\u30fb\\u5a2f\\u697d<br>date=%{x}<br>value=%{y}\", \"legendgroup\": \"variable=\\u5c0f\\u58f2\\u30fb\\u5a2f\\u697d\", \"line\": {\"color\": \"#636efa\", \"dash\": \"solid\"}, \"mode\": \"lines\", \"name\": \"variable=\\u5c0f\\u58f2\\u30fb\\u5a2f\\u697d\", \"showlegend\": true, \"type\": \"scattergl\", \"x\": [\"2020-02-21\", \"2020-02-22\", \"2020-02-23\", \"2020-02-24\", \"2020-02-25\", \"2020-02-26\", \"2020-02-27\", \"2020-02-28\", \"2020-02-29\", \"2020-03-01\", \"2020-03-02\", \"2020-03-03\", \"2020-03-04\", \"2020-03-05\", \"2020-03-06\", \"2020-03-07\", \"2020-03-08\", \"2020-03-09\", \"2020-03-10\", \"2020-03-11\", \"2020-03-12\", \"2020-03-13\", \"2020-03-14\", \"2020-03-15\", \"2020-03-16\", \"2020-03-17\", \"2020-03-18\", \"2020-03-19\", \"2020-03-20\", \"2020-03-21\", \"2020-03-22\", \"2020-03-23\", \"2020-03-24\", \"2020-03-25\", \"2020-03-26\", \"2020-03-27\", \"2020-03-28\", \"2020-03-29\", \"2020-03-30\", \"2020-03-31\", \"2020-04-01\", \"2020-04-02\", \"2020-04-03\", \"2020-04-04\", \"2020-04-05\", \"2020-04-06\", \"2020-04-07\", \"2020-04-08\", \"2020-04-09\", \"2020-04-10\", \"2020-04-11\", \"2020-04-12\", \"2020-04-13\", \"2020-04-14\", \"2020-04-15\", \"2020-04-16\", \"2020-04-17\", \"2020-04-18\", \"2020-04-19\", \"2020-04-20\", \"2020-04-21\", \"2020-04-22\", \"2020-04-23\", \"2020-04-24\", \"2020-04-25\", \"2020-04-26\", \"2020-04-27\", \"2020-04-28\", \"2020-04-29\", \"2020-04-30\", \"2020-05-01\", \"2020-05-02\", \"2020-05-03\", \"2020-05-04\", \"2020-05-05\", \"2020-05-06\", \"2020-05-07\", \"2020-05-08\", \"2020-05-09\", \"2020-05-10\", \"2020-05-11\", \"2020-05-12\", \"2020-05-13\", \"2020-05-14\", \"2020-05-15\", \"2020-05-16\", \"2020-05-17\", \"2020-05-18\", \"2020-05-19\", \"2020-05-20\", \"2020-05-21\", \"2020-05-22\", \"2020-05-23\", \"2020-05-24\", \"2020-05-25\", \"2020-05-26\", \"2020-05-27\", \"2020-05-28\", \"2020-05-29\", \"2020-05-30\", \"2020-05-31\", \"2020-06-01\", \"2020-06-02\", \"2020-06-03\", \"2020-06-04\", \"2020-06-05\", \"2020-06-06\", \"2020-06-07\", \"2020-06-08\", \"2020-06-09\", \"2020-06-10\", \"2020-06-11\", \"2020-06-12\", \"2020-06-13\", \"2020-06-14\", \"2020-06-15\", \"2020-06-16\", \"2020-06-17\", \"2020-06-18\", \"2020-06-19\", \"2020-06-20\", \"2020-06-21\", \"2020-06-22\", \"2020-06-23\", \"2020-06-24\", \"2020-06-25\", \"2020-06-26\", \"2020-06-27\", \"2020-06-28\", \"2020-06-29\", \"2020-06-30\", \"2020-07-01\", \"2020-07-02\", \"2020-07-03\", \"2020-07-04\", \"2020-07-05\", \"2020-07-06\", \"2020-07-07\", \"2020-07-08\", \"2020-07-09\", \"2020-07-10\", \"2020-07-11\", \"2020-07-12\", \"2020-07-13\", \"2020-07-14\", \"2020-07-15\", \"2020-07-16\", \"2020-07-17\", \"2020-07-18\", \"2020-07-19\", \"2020-07-20\", \"2020-07-21\", \"2020-07-22\", \"2020-07-23\", \"2020-07-24\", \"2020-07-25\", \"2020-07-26\", \"2020-07-27\", \"2020-07-28\", \"2020-07-29\", \"2020-07-30\", \"2020-07-31\", \"2020-08-01\", \"2020-08-02\", \"2020-08-03\", \"2020-08-04\", \"2020-08-05\", \"2020-08-06\", \"2020-08-07\", \"2020-08-08\", \"2020-08-09\", \"2020-08-10\", \"2020-08-11\", \"2020-08-12\", \"2020-08-13\", \"2020-08-14\", \"2020-08-15\", \"2020-08-16\", \"2020-08-17\", \"2020-08-18\", \"2020-08-19\", \"2020-08-20\", \"2020-08-21\", \"2020-08-22\", \"2020-08-23\", \"2020-08-24\", \"2020-08-25\", \"2020-08-26\", \"2020-08-27\", \"2020-08-28\", \"2020-08-29\", \"2020-08-30\", \"2020-08-31\", \"2020-09-01\", \"2020-09-02\", \"2020-09-03\", \"2020-09-04\", \"2020-09-05\", \"2020-09-06\", \"2020-09-07\", \"2020-09-08\", \"2020-09-09\", \"2020-09-10\", \"2020-09-11\", \"2020-09-12\", \"2020-09-13\", \"2020-09-14\", \"2020-09-15\", \"2020-09-16\", \"2020-09-17\", \"2020-09-18\", \"2020-09-19\", \"2020-09-20\", \"2020-09-21\", \"2020-09-22\", \"2020-09-23\", \"2020-09-24\", \"2020-09-25\", \"2020-09-26\", \"2020-09-27\", \"2020-09-28\", \"2020-09-29\", \"2020-09-30\", \"2020-10-01\", \"2020-10-02\", \"2020-10-03\", \"2020-10-04\", \"2020-10-05\", \"2020-10-06\", \"2020-10-07\", \"2020-10-08\", \"2020-10-09\", \"2020-10-10\", \"2020-10-11\", \"2020-10-12\", \"2020-10-13\", \"2020-10-14\", \"2020-10-15\", \"2020-10-16\", \"2020-10-17\", \"2020-10-18\", \"2020-10-19\", \"2020-10-20\", \"2020-10-21\", \"2020-10-22\", \"2020-10-23\", \"2020-10-24\", \"2020-10-25\", \"2020-10-26\", \"2020-10-27\", \"2020-10-28\", \"2020-10-29\", \"2020-10-30\", \"2020-10-31\", \"2020-11-01\", \"2020-11-02\", \"2020-11-03\", \"2020-11-04\", \"2020-11-05\", \"2020-11-06\", \"2020-11-07\", \"2020-11-08\", \"2020-11-09\", \"2020-11-10\", \"2020-11-11\", \"2020-11-12\", \"2020-11-13\", \"2020-11-14\", \"2020-11-15\", \"2020-11-16\", \"2020-11-17\", \"2020-11-18\", \"2020-11-19\", \"2020-11-20\", \"2020-11-21\", \"2020-11-22\", \"2020-11-23\", \"2020-11-24\", \"2020-11-25\", \"2020-11-26\", \"2020-11-27\", \"2020-11-28\", \"2020-11-29\", \"2020-11-30\", \"2020-12-01\", \"2020-12-02\", \"2020-12-03\", \"2020-12-04\", \"2020-12-05\", \"2020-12-06\", \"2020-12-07\", \"2020-12-08\", \"2020-12-09\", \"2020-12-10\", \"2020-12-11\", \"2020-12-12\", \"2020-12-13\", \"2020-12-14\", \"2020-12-15\", \"2020-12-16\", \"2020-12-17\", \"2020-12-18\", \"2020-12-19\", \"2020-12-20\", \"2020-12-21\", \"2020-12-22\", \"2020-12-23\", \"2020-12-24\", \"2020-12-25\", \"2020-12-26\", \"2020-12-27\", \"2020-12-28\", \"2020-12-29\", \"2020-12-30\", \"2020-12-31\", \"2021-01-01\", \"2021-01-02\", \"2021-01-03\", \"2021-01-04\", \"2021-01-05\", \"2021-01-06\", \"2021-01-07\", \"2021-01-08\", \"2021-01-09\", \"2021-01-10\", \"2021-01-11\", \"2021-01-12\", \"2021-01-13\", \"2021-01-14\", \"2021-01-15\", \"2021-01-16\", \"2021-01-17\", \"2021-01-18\", \"2021-01-19\", \"2021-01-20\", \"2021-01-21\", \"2021-01-22\", \"2021-01-23\", \"2021-01-24\", \"2021-01-25\", \"2021-01-26\", \"2021-01-27\", \"2021-01-28\", \"2021-01-29\", \"2021-01-30\", \"2021-01-31\", \"2021-02-01\", \"2021-02-02\", \"2021-02-03\", \"2021-02-04\", \"2021-02-05\", \"2021-02-06\", \"2021-02-07\", \"2021-02-08\", \"2021-02-09\", \"2021-02-10\", \"2021-02-11\", \"2021-02-12\", \"2021-02-13\", \"2021-02-14\", \"2021-02-15\", \"2021-02-16\", \"2021-02-17\", \"2021-02-18\", \"2021-02-19\", \"2021-02-20\", \"2021-02-21\", \"2021-02-22\", \"2021-02-23\", \"2021-02-24\", \"2021-02-25\", \"2021-02-26\", \"2021-02-27\", \"2021-02-28\", \"2021-03-01\", \"2021-03-02\", \"2021-03-03\", \"2021-03-04\", \"2021-03-05\", \"2021-03-06\", \"2021-03-07\", \"2021-03-08\", \"2021-03-09\", \"2021-03-10\", \"2021-03-11\", \"2021-03-12\", \"2021-03-13\", \"2021-03-14\", \"2021-03-15\", \"2021-03-16\", \"2021-03-17\", \"2021-03-18\", \"2021-03-19\", \"2021-03-20\", \"2021-03-21\", \"2021-03-22\", \"2021-03-23\", \"2021-03-24\", \"2021-03-25\", \"2021-03-26\", \"2021-03-27\", \"2021-03-28\", \"2021-03-29\", \"2021-03-30\", \"2021-03-31\", \"2021-04-01\", \"2021-04-02\", \"2021-04-03\", \"2021-04-04\", \"2021-04-05\", \"2021-04-06\", \"2021-04-07\", \"2021-04-08\", \"2021-04-09\", \"2021-04-10\", \"2021-04-11\", \"2021-04-12\", \"2021-04-13\", \"2021-04-14\", \"2021-04-15\", \"2021-04-16\"], \"xaxis\": \"x\", \"y\": [-1.1428571428571428, -1.2857142857142858, 0.0, 3.857142857142857, 4.142857142857143, 4.285714285714286, 4.0, 3.857142857142857, 3.0, 2.2857142857142856, -1.1428571428571428, -1.1428571428571428, -2.4285714285714284, -3.4285714285714284, -4.571428571428571, -5.428571428571429, -6.285714285714286, -7.0, -8.0, -7.142857142857143, -6.428571428571429, -5.571428571428571, -4.142857142857143, -3.857142857142857, -3.4285714285714284, -2.7142857142857144, -3.0, -1.8571428571428572, 0.7142857142857143, 0.5714285714285714, 0.2857142857142857, 0.7142857142857143, 1.0, 2.142857142857143, 1.1428571428571428, -2.857142857142857, -3.4285714285714284, -2.857142857142857, -2.857142857142857, -3.0, -4.857142857142857, -5.142857142857143, -4.285714285714286, -4.285714285714286, -5.142857142857143, -5.857142857142857, -6.857142857142857, -7.142857142857143, -8.571428571428571, -9.571428571428571, -10.857142857142858, -14.142857142857142, -16.428571428571427, -17.428571428571427, -17.714285714285715, -18.428571428571427, -19.857142857142858, -21.428571428571427, -21.285714285714285, -21.0, -21.714285714285715, -23.142857142857142, -24.142857142857142, -24.142857142857142, -24.142857142857142, -24.285714285714285, -24.285714285714285, -23.714285714285715, -22.428571428571427, -21.428571428571427, -21.285714285714285, -21.857142857142858, -23.571428571428573, -22.142857142857142, -21.142857142857142, -21.714285714285715, -22.0, -21.857142857142858, -21.571428571428573, -18.714285714285715, -19.714285714285715, -21.0, -20.857142857142858, -20.571428571428573, -21.142857142857142, -20.428571428571427, -19.714285714285715, -20.714285714285715, -20.285714285714285, -19.571428571428573, -19.142857142857142, -17.857142857142858, -16.571428571428573, -16.142857142857142, -14.285714285714286, -14.0, -13.857142857142858, -13.428571428571429, -13.0, -12.428571428571429, -11.857142857142858, -11.857142857142858, -11.571428571428571, -11.571428571428571, -11.571428571428571, -11.285714285714286, -11.142857142857142, -10.571428571428571, -10.428571428571429, -10.0, -9.428571428571429, -10.285714285714286, -10.0, -10.142857142857142, -10.571428571428571, -9.714285714285714, -9.571428571428571, -9.428571428571429, -9.714285714285714, -9.0, -7.714285714285714, -6.285714285714286, -6.714285714285714, -6.714285714285714, -6.571428571428571, -5.285714285714286, -5.428571428571429, -5.857142857142857, -6.142857142857143, -6.142857142857143, -5.857142857142857, -5.857142857142857, -5.285714285714286, -5.714285714285714, -5.571428571428571, -5.857142857142857, -7.857142857142857, -9.714285714285714, -9.428571428571429, -9.714285714285714, -10.428571428571429, -10.142857142857142, -10.142857142857142, -9.0, -7.428571428571429, -7.428571428571429, -7.0, -6.285714285714286, -7.428571428571429, -8.0, -7.142857142857143, -7.142857142857143, -7.142857142857143, -4.428571428571429, -3.7142857142857144, -3.0, -3.2857142857142856, -3.857142857142857, -3.857142857142857, -4.428571428571429, -7.428571428571429, -8.285714285714286, -8.714285714285714, -8.428571428571429, -7.857142857142857, -7.714285714285714, -7.142857142857143, -6.571428571428571, -6.0, -5.714285714285714, -5.142857142857143, -2.0, -0.7142857142857143, 1.2857142857142858, 4.571428571428571, 7.428571428571429, 7.857142857142857, 7.142857142857143, 4.285714285714286, 2.857142857142857, 0.42857142857142855, -3.0, -6.571428571428571, -7.571428571428571, -7.714285714285714, -8.285714285714286, -8.285714285714286, -8.857142857142858, -9.571428571428571, -9.714285714285714, -9.857142857142858, -9.714285714285714, -9.714285714285714, -10.0, -10.714285714285714, -10.857142857142858, -9.285714285714286, -8.0, -10.285714285714286, -15.714285714285714, -15.571428571428571, -14.571428571428571, -13.714285714285714, -15.0, -16.142857142857142, -13.142857142857142, -7.428571428571429, -7.0, -6.714285714285714, -7.285714285714286, -7.142857142857143, -6.285714285714286, -4.714285714285714, 0.14285714285714285, 2.7142857142857144, 2.142857142857143, 1.8571428571428572, 2.0, 1.5714285714285714, 0.14285714285714285, -4.428571428571429, -7.142857142857143, -6.285714285714286, -5.714285714285714, -6.142857142857143, -6.285714285714286, -6.428571428571429, -6.714285714285714, -7.0, -7.428571428571429, -7.714285714285714, -7.571428571428571, -7.285714285714286, -7.285714285714286, -7.285714285714286, -7.428571428571429, -7.571428571428571, -6.571428571428571, -6.142857142857143, -5.714285714285714, -5.285714285714286, -5.142857142857143, -4.428571428571429, -3.857142857142857, -5.285714285714286, -4.714285714285714, -4.285714285714286, -3.5714285714285716, -3.142857142857143, -3.2857142857142856, -3.2857142857142856, -2.2857142857142856, -2.857142857142857, -3.142857142857143, -3.857142857142857, -3.857142857142857, -1.1428571428571428, -1.7142857142857142, -2.0, -2.5714285714285716, -3.7142857142857144, -3.857142857142857, -4.571428571428571, -7.714285714285714, -7.428571428571429, -7.285714285714286, -7.0, -6.285714285714286, -6.285714285714286, -6.142857142857143, -6.428571428571429, -6.714285714285714, -7.285714285714286, -7.285714285714286, -7.571428571428571, -7.714285714285714, -4.857142857142857, -5.0, -4.571428571428571, -4.142857142857143, -4.285714285714286, -4.428571428571429, -4.714285714285714, -7.714285714285714, -7.571428571428571, -8.285714285714286, -8.714285714285714, -8.714285714285714, -8.571428571428571, -8.428571428571429, -8.714285714285714, -8.857142857142858, -8.857142857142858, -8.428571428571429, -8.714285714285714, -8.428571428571429, -8.428571428571429, -8.571428571428571, -7.857142857142857, -7.428571428571429, -7.428571428571429, -7.0, -7.0, -6.857142857142857, -6.142857142857143, -6.285714285714286, -5.714285714285714, -4.714285714285714, -4.0, -4.571428571428571, -5.142857142857143, -2.7142857142857144, 0.42857142857142855, 2.2857142857142856, 1.1428571428571428, -3.857142857142857, -6.428571428571429, -8.285714285714286, -10.0, -13.714285714285714, -16.571428571428573, -19.857142857142858, -21.0, -22.714285714285715, -22.714285714285715, -22.142857142857142, -23.0, -23.714285714285715, -21.571428571428573, -17.428571428571427, -14.428571428571429, -13.857142857142858, -17.714285714285715, -18.285714285714285, -18.714285714285715, -19.285714285714285, -20.285714285714285, -20.857142857142858, -21.0, -19.714285714285715, -20.285714285714285, -20.0, -19.714285714285715, -19.714285714285715, -19.0, -18.428571428571427, -19.714285714285715, -18.285714285714285, -18.714285714285715, -19.0, -18.428571428571427, -18.142857142857142, -18.0, -17.142857142857142, -17.428571428571427, -16.428571428571427, -13.0, -12.285714285714286, -12.285714285714286, -12.571428571428571, -12.0, -11.714285714285714, -13.857142857142858, -18.142857142857142, -18.142857142857142, -17.571428571428573, -16.857142857142858, -15.857142857142858, -13.142857142857142, -11.285714285714286, -9.142857142857142, -9.571428571428571, -9.571428571428571, -9.142857142857142, -10.0, -13.142857142857142, -12.428571428571429, -12.857142857142858, -12.142857142857142, -11.857142857142858, -11.857142857142858, -11.428571428571429, -10.428571428571429, -10.142857142857142, -8.857142857142858, -9.142857142857142, -8.428571428571429, -8.0, -7.428571428571429, -7.714285714285714, -7.571428571428571, -7.714285714285714, -6.0, -6.285714285714286, -6.714285714285714, -7.0, -6.142857142857143, -6.0, -5.428571428571429, -5.571428571428571, -5.142857142857143, -5.428571428571429, -4.571428571428571, -4.285714285714286, -4.0, -4.428571428571429, -5.142857142857143, -5.857142857142857, -6.142857142857143, -6.714285714285714, -7.285714285714286, -7.857142857142857, -8.285714285714286, -8.571428571428571, -8.428571428571429, -7.857142857142857, -9.142857142857142, -10.285714285714286, -10.857142857142858, -10.428571428571429, -10.714285714285714], \"yaxis\": \"y\"}, {\"hoverlabel\": {\"namelength\": 0}, \"hovertemplate\": \"variable=\\u98df\\u6599\\u54c1\\u5e97\\u30fb\\u85ac\\u5c40<br>date=%{x}<br>value=%{y}\", \"legendgroup\": \"variable=\\u98df\\u6599\\u54c1\\u5e97\\u30fb\\u85ac\\u5c40\", \"line\": {\"color\": \"#EF553B\", \"dash\": \"solid\"}, \"mode\": \"lines\", \"name\": \"variable=\\u98df\\u6599\\u54c1\\u5e97\\u30fb\\u85ac\\u5c40\", \"showlegend\": true, \"type\": \"scattergl\", \"x\": [\"2020-02-21\", \"2020-02-22\", \"2020-02-23\", \"2020-02-24\", \"2020-02-25\", \"2020-02-26\", \"2020-02-27\", \"2020-02-28\", \"2020-02-29\", \"2020-03-01\", \"2020-03-02\", \"2020-03-03\", \"2020-03-04\", \"2020-03-05\", \"2020-03-06\", \"2020-03-07\", \"2020-03-08\", \"2020-03-09\", \"2020-03-10\", \"2020-03-11\", \"2020-03-12\", \"2020-03-13\", \"2020-03-14\", \"2020-03-15\", \"2020-03-16\", \"2020-03-17\", \"2020-03-18\", \"2020-03-19\", \"2020-03-20\", \"2020-03-21\", \"2020-03-22\", \"2020-03-23\", \"2020-03-24\", \"2020-03-25\", \"2020-03-26\", \"2020-03-27\", \"2020-03-28\", \"2020-03-29\", \"2020-03-30\", \"2020-03-31\", \"2020-04-01\", \"2020-04-02\", \"2020-04-03\", \"2020-04-04\", \"2020-04-05\", \"2020-04-06\", \"2020-04-07\", \"2020-04-08\", \"2020-04-09\", \"2020-04-10\", \"2020-04-11\", \"2020-04-12\", \"2020-04-13\", \"2020-04-14\", \"2020-04-15\", \"2020-04-16\", \"2020-04-17\", \"2020-04-18\", \"2020-04-19\", \"2020-04-20\", \"2020-04-21\", \"2020-04-22\", \"2020-04-23\", \"2020-04-24\", \"2020-04-25\", \"2020-04-26\", \"2020-04-27\", \"2020-04-28\", \"2020-04-29\", \"2020-04-30\", \"2020-05-01\", \"2020-05-02\", \"2020-05-03\", \"2020-05-04\", \"2020-05-05\", \"2020-05-06\", \"2020-05-07\", \"2020-05-08\", \"2020-05-09\", \"2020-05-10\", \"2020-05-11\", \"2020-05-12\", \"2020-05-13\", \"2020-05-14\", \"2020-05-15\", \"2020-05-16\", \"2020-05-17\", \"2020-05-18\", \"2020-05-19\", \"2020-05-20\", \"2020-05-21\", \"2020-05-22\", \"2020-05-23\", \"2020-05-24\", \"2020-05-25\", \"2020-05-26\", \"2020-05-27\", \"2020-05-28\", \"2020-05-29\", \"2020-05-30\", \"2020-05-31\", \"2020-06-01\", \"2020-06-02\", \"2020-06-03\", \"2020-06-04\", \"2020-06-05\", \"2020-06-06\", \"2020-06-07\", \"2020-06-08\", \"2020-06-09\", \"2020-06-10\", \"2020-06-11\", \"2020-06-12\", \"2020-06-13\", \"2020-06-14\", \"2020-06-15\", \"2020-06-16\", \"2020-06-17\", \"2020-06-18\", \"2020-06-19\", \"2020-06-20\", \"2020-06-21\", \"2020-06-22\", \"2020-06-23\", \"2020-06-24\", \"2020-06-25\", \"2020-06-26\", \"2020-06-27\", \"2020-06-28\", \"2020-06-29\", \"2020-06-30\", \"2020-07-01\", \"2020-07-02\", \"2020-07-03\", \"2020-07-04\", \"2020-07-05\", \"2020-07-06\", \"2020-07-07\", \"2020-07-08\", \"2020-07-09\", \"2020-07-10\", \"2020-07-11\", \"2020-07-12\", \"2020-07-13\", \"2020-07-14\", \"2020-07-15\", \"2020-07-16\", \"2020-07-17\", \"2020-07-18\", \"2020-07-19\", \"2020-07-20\", \"2020-07-21\", \"2020-07-22\", \"2020-07-23\", \"2020-07-24\", \"2020-07-25\", \"2020-07-26\", \"2020-07-27\", \"2020-07-28\", \"2020-07-29\", \"2020-07-30\", \"2020-07-31\", \"2020-08-01\", \"2020-08-02\", \"2020-08-03\", \"2020-08-04\", \"2020-08-05\", \"2020-08-06\", \"2020-08-07\", \"2020-08-08\", \"2020-08-09\", \"2020-08-10\", \"2020-08-11\", \"2020-08-12\", \"2020-08-13\", \"2020-08-14\", \"2020-08-15\", \"2020-08-16\", \"2020-08-17\", \"2020-08-18\", \"2020-08-19\", \"2020-08-20\", \"2020-08-21\", \"2020-08-22\", \"2020-08-23\", \"2020-08-24\", \"2020-08-25\", \"2020-08-26\", \"2020-08-27\", \"2020-08-28\", \"2020-08-29\", \"2020-08-30\", \"2020-08-31\", \"2020-09-01\", \"2020-09-02\", \"2020-09-03\", \"2020-09-04\", \"2020-09-05\", \"2020-09-06\", \"2020-09-07\", \"2020-09-08\", \"2020-09-09\", \"2020-09-10\", \"2020-09-11\", \"2020-09-12\", \"2020-09-13\", \"2020-09-14\", \"2020-09-15\", \"2020-09-16\", \"2020-09-17\", \"2020-09-18\", \"2020-09-19\", \"2020-09-20\", \"2020-09-21\", \"2020-09-22\", \"2020-09-23\", \"2020-09-24\", \"2020-09-25\", \"2020-09-26\", \"2020-09-27\", \"2020-09-28\", \"2020-09-29\", \"2020-09-30\", \"2020-10-01\", \"2020-10-02\", \"2020-10-03\", \"2020-10-04\", \"2020-10-05\", \"2020-10-06\", \"2020-10-07\", \"2020-10-08\", \"2020-10-09\", \"2020-10-10\", \"2020-10-11\", \"2020-10-12\", \"2020-10-13\", \"2020-10-14\", \"2020-10-15\", \"2020-10-16\", \"2020-10-17\", \"2020-10-18\", \"2020-10-19\", \"2020-10-20\", \"2020-10-21\", \"2020-10-22\", \"2020-10-23\", \"2020-10-24\", \"2020-10-25\", \"2020-10-26\", \"2020-10-27\", \"2020-10-28\", \"2020-10-29\", \"2020-10-30\", \"2020-10-31\", \"2020-11-01\", \"2020-11-02\", \"2020-11-03\", \"2020-11-04\", \"2020-11-05\", \"2020-11-06\", \"2020-11-07\", \"2020-11-08\", \"2020-11-09\", \"2020-11-10\", \"2020-11-11\", \"2020-11-12\", \"2020-11-13\", \"2020-11-14\", \"2020-11-15\", \"2020-11-16\", \"2020-11-17\", \"2020-11-18\", \"2020-11-19\", \"2020-11-20\", \"2020-11-21\", \"2020-11-22\", \"2020-11-23\", \"2020-11-24\", \"2020-11-25\", \"2020-11-26\", \"2020-11-27\", \"2020-11-28\", \"2020-11-29\", \"2020-11-30\", \"2020-12-01\", \"2020-12-02\", \"2020-12-03\", \"2020-12-04\", \"2020-12-05\", \"2020-12-06\", \"2020-12-07\", \"2020-12-08\", \"2020-12-09\", \"2020-12-10\", \"2020-12-11\", \"2020-12-12\", \"2020-12-13\", \"2020-12-14\", \"2020-12-15\", \"2020-12-16\", \"2020-12-17\", \"2020-12-18\", \"2020-12-19\", \"2020-12-20\", \"2020-12-21\", \"2020-12-22\", \"2020-12-23\", \"2020-12-24\", \"2020-12-25\", \"2020-12-26\", \"2020-12-27\", \"2020-12-28\", \"2020-12-29\", \"2020-12-30\", \"2020-12-31\", \"2021-01-01\", \"2021-01-02\", \"2021-01-03\", \"2021-01-04\", \"2021-01-05\", \"2021-01-06\", \"2021-01-07\", \"2021-01-08\", \"2021-01-09\", \"2021-01-10\", \"2021-01-11\", \"2021-01-12\", \"2021-01-13\", \"2021-01-14\", \"2021-01-15\", \"2021-01-16\", \"2021-01-17\", \"2021-01-18\", \"2021-01-19\", \"2021-01-20\", \"2021-01-21\", \"2021-01-22\", \"2021-01-23\", \"2021-01-24\", \"2021-01-25\", \"2021-01-26\", \"2021-01-27\", \"2021-01-28\", \"2021-01-29\", \"2021-01-30\", \"2021-01-31\", \"2021-02-01\", \"2021-02-02\", \"2021-02-03\", \"2021-02-04\", \"2021-02-05\", \"2021-02-06\", \"2021-02-07\", \"2021-02-08\", \"2021-02-09\", \"2021-02-10\", \"2021-02-11\", \"2021-02-12\", \"2021-02-13\", \"2021-02-14\", \"2021-02-15\", \"2021-02-16\", \"2021-02-17\", \"2021-02-18\", \"2021-02-19\", \"2021-02-20\", \"2021-02-21\", \"2021-02-22\", \"2021-02-23\", \"2021-02-24\", \"2021-02-25\", \"2021-02-26\", \"2021-02-27\", \"2021-02-28\", \"2021-03-01\", \"2021-03-02\", \"2021-03-03\", \"2021-03-04\", \"2021-03-05\", \"2021-03-06\", \"2021-03-07\", \"2021-03-08\", \"2021-03-09\", \"2021-03-10\", \"2021-03-11\", \"2021-03-12\", \"2021-03-13\", \"2021-03-14\", \"2021-03-15\", \"2021-03-16\", \"2021-03-17\", \"2021-03-18\", \"2021-03-19\", \"2021-03-20\", \"2021-03-21\", \"2021-03-22\", \"2021-03-23\", \"2021-03-24\", \"2021-03-25\", \"2021-03-26\", \"2021-03-27\", \"2021-03-28\", \"2021-03-29\", \"2021-03-30\", \"2021-03-31\", \"2021-04-01\", \"2021-04-02\", \"2021-04-03\", \"2021-04-04\", \"2021-04-05\", \"2021-04-06\", \"2021-04-07\", \"2021-04-08\", \"2021-04-09\", \"2021-04-10\", \"2021-04-11\", \"2021-04-12\", \"2021-04-13\", \"2021-04-14\", \"2021-04-15\", \"2021-04-16\"], \"xaxis\": \"x\", \"y\": [1.1428571428571428, 1.2857142857142858, 3.142857142857143, 3.7142857142857144, 4.428571428571429, 4.857142857142857, 5.428571428571429, 7.0, 7.571428571428571, 7.714285714285714, 8.142857142857142, 8.285714285714286, 8.0, 7.285714285714286, 5.571428571428571, 4.285714285714286, 3.142857142857143, 2.2857142857142856, 1.2857142857142858, 1.2857142857142858, 1.5714285714285714, 1.8571428571428572, 2.2857142857142856, 2.4285714285714284, 2.4285714285714284, 2.857142857142857, 2.857142857142857, 2.857142857142857, 3.5714285714285716, 4.0, 3.5714285714285716, 3.5714285714285716, 3.5714285714285716, 4.142857142857143, 4.0, 2.142857142857143, 1.7142857142857142, 2.857142857142857, 3.2857142857142856, 3.4285714285714284, 2.4285714285714284, 2.7142857142857144, 4.0, 4.714285714285714, 4.571428571428571, 4.857142857142857, 5.285714285714286, 6.0, 5.571428571428571, 5.428571428571429, 5.142857142857143, 2.4285714285714284, 0.8571428571428571, 0.2857142857142857, 1.0, 1.2857142857142858, 1.0, 0.2857142857142857, 1.1428571428571428, 1.8571428571428572, 1.4285714285714286, -0.14285714285714285, -1.2857142857142858, -1.2857142857142858, -1.4285714285714286, -1.4285714285714286, -1.2857142857142858, -0.8571428571428571, -1.0, 0.14285714285714285, 0.2857142857142857, 0.14285714285714285, -2.142857142857143, -2.2857142857142856, -2.7142857142857144, -3.0, -3.5714285714285716, -3.857142857142857, -4.857142857142857, -2.5714285714285716, -2.5714285714285716, -2.4285714285714284, -1.8571428571428572, -2.142857142857143, -3.142857142857143, -2.5714285714285716, -1.8571428571428572, -3.142857142857143, -3.142857142857143, -2.5714285714285716, -2.4285714285714284, -1.4285714285714286, -0.5714285714285714, -0.42857142857142855, 1.2857142857142858, 1.2857142857142858, 1.2857142857142858, 1.7142857142857142, 2.0, 2.4285714285714284, 2.2857142857142856, 1.8571428571428572, 2.142857142857143, 2.0, 1.7142857142857142, 1.5714285714285714, 1.2857142857142858, 2.0, 2.2857142857142856, 2.2857142857142856, 2.4285714285714284, 1.2857142857142858, 1.5714285714285714, 0.8571428571428571, 0.0, 0.8571428571428571, 0.8571428571428571, 1.0, 0.2857142857142857, 0.2857142857142857, 1.5714285714285714, 2.5714285714285716, 1.8571428571428572, 2.0, 1.8571428571428572, 3.4285714285714284, 3.2857142857142856, 2.7142857142857144, 2.7142857142857144, 2.4285714285714284, 2.4285714285714284, 2.142857142857143, 2.7142857142857144, 2.2857142857142856, 2.4285714285714284, 2.142857142857143, 0.14285714285714285, -1.1428571428571428, -0.42857142857142855, -0.8571428571428571, -1.4285714285714286, -1.1428571428571428, -1.0, 0.2857142857142857, 1.2857142857142858, 1.1428571428571428, 1.5714285714285714, 2.7142857142857144, 2.4285714285714284, 2.142857142857143, 3.2857142857142856, 3.5714285714285716, 3.5714285714285716, 4.285714285714286, 3.0, 3.4285714285714284, 3.0, 2.4285714285714284, 2.4285714285714284, 2.142857142857143, 1.5714285714285714, 2.857142857142857, 2.5714285714285716, 3.4285714285714284, 3.7142857142857144, 3.857142857142857, 4.142857142857143, 4.142857142857143, 4.428571428571429, 4.714285714285714, 5.285714285714286, 6.0, 6.571428571428571, 7.428571428571429, 8.857142857142858, 9.857142857142858, 9.428571428571429, 8.142857142857142, 7.285714285714286, 6.285714285714286, 4.714285714285714, 2.857142857142857, 1.0, 0.8571428571428571, 0.7142857142857143, 0.42857142857142855, 0.7142857142857143, 0.7142857142857143, 0.7142857142857143, 0.8571428571428571, 0.7142857142857143, 1.1428571428571428, 1.4285714285714286, 1.4285714285714286, 1.2857142857142858, 1.0, 3.0, 5.285714285714286, 3.7142857142857144, -2.4285714285714284, -2.4285714285714284, -2.4285714285714284, -2.142857142857143, -4.571428571428571, -7.428571428571429, -5.857142857142857, 0.0, -0.14285714285714285, -0.14285714285714285, -0.7142857142857143, -0.42857142857142855, 0.42857142857142855, 1.4285714285714286, 2.857142857142857, 3.5714285714285716, 3.857142857142857, 3.7142857142857144, 4.142857142857143, 4.0, 3.4285714285714284, 2.5714285714285716, 2.0, 2.4285714285714284, 3.2857142857142856, 2.857142857142857, 2.857142857142857, 2.2857142857142856, 1.8571428571428572, 1.4285714285714286, 0.8571428571428571, 0.5714285714285714, 0.42857142857142855, 0.2857142857142857, 0.5714285714285714, 0.5714285714285714, 0.42857142857142855, 0.14285714285714285, 1.2857142857142858, 1.5714285714285714, 1.8571428571428572, 1.8571428571428572, 1.7142857142857142, 2.0, 2.2857142857142856, 0.14285714285714285, 0.7142857142857143, 0.7142857142857143, 0.8571428571428571, 1.1428571428571428, 1.2857142857142858, 1.2857142857142858, 2.2857142857142856, 1.7142857142857142, 1.5714285714285714, 1.4285714285714286, 1.1428571428571428, 1.4285714285714286, 1.2857142857142858, 1.2857142857142858, 0.8571428571428571, 0.42857142857142855, 0.42857142857142855, 0.2857142857142857, -0.14285714285714285, 0.0, 0.14285714285714285, 0.42857142857142855, 0.7142857142857143, 1.1428571428571428, 1.1428571428571428, 0.8571428571428571, 0.7142857142857143, 0.2857142857142857, 0.42857142857142855, 0.7142857142857143, 0.14285714285714285, 0.8571428571428571, 0.8571428571428571, 1.1428571428571428, 1.4285714285714286, 1.4285714285714286, 1.1428571428571428, 1.0, 0.8571428571428571, 1.1428571428571428, 1.1428571428571428, 1.4285714285714286, 1.4285714285714286, 1.5714285714285714, 2.0, 1.7142857142857142, 1.7142857142857142, 1.5714285714285714, 1.7142857142857142, 1.5714285714285714, 1.8571428571428572, 2.0, 1.7142857142857142, 2.2857142857142856, 2.2857142857142856, 2.142857142857143, 2.2857142857142856, 2.0, 1.8571428571428572, 2.4285714285714284, 2.142857142857143, 2.7142857142857144, 3.5714285714285716, 4.428571428571429, 4.714285714285714, 4.857142857142857, 6.714285714285714, 8.857142857142858, 10.714285714285714, 10.571428571428571, 3.857142857142857, 0.42857142857142855, -1.7142857142857142, -3.7142857142857144, -6.285714285714286, -7.857142857142857, -10.571428571428571, -8.142857142857142, -7.857142857142857, -7.0, -6.857142857142857, -6.571428571428571, -7.714285714285714, -6.428571428571429, -3.4285714285714284, -1.5714285714285714, -1.8571428571428572, -3.4285714285714284, -4.428571428571429, -4.714285714285714, -5.0, -6.0, -6.571428571428571, -6.571428571428571, -5.714285714285714, -6.714285714285714, -6.428571428571429, -6.0, -6.0, -5.142857142857143, -4.714285714285714, -5.714285714285714, -3.2857142857142856, -4.142857142857143, -4.714285714285714, -4.142857142857143, -4.0, -3.857142857142857, -3.142857142857143, -4.571428571428571, -3.5714285714285716, -2.857142857142857, -2.4285714285714284, -2.2857142857142856, -2.4285714285714284, -1.7142857142857142, -1.1428571428571428, -2.4285714285714284, -3.5714285714285716, -3.142857142857143, -2.5714285714285716, -1.7142857142857142, -1.1428571428571428, -0.42857142857142855, 0.8571428571428571, 2.5714285714285716, 1.7142857142857142, 2.0, 2.5714285714285716, 2.142857142857143, 1.1428571428571428, 1.4285714285714286, 0.5714285714285714, 1.0, 0.5714285714285714, -0.2857142857142857, -0.5714285714285714, -0.42857142857142855, -0.2857142857142857, 0.2857142857142857, -0.2857142857142857, 0.2857142857142857, 1.0, 1.7142857142857142, 1.7142857142857142, 1.7142857142857142, 2.0, 3.4285714285714284, 2.7142857142857144, 2.142857142857143, 2.0, 2.5714285714285716, 2.2857142857142856, 2.7142857142857144, 2.5714285714285716, 3.5714285714285716, 3.2857142857142856, 3.5714285714285716, 3.7142857142857144, 4.285714285714286, 4.0, 4.0, 3.857142857142857, 3.4285714285714284, 3.2857142857142856, 3.142857142857143, 3.0, 2.7142857142857144, 2.4285714285714284, 2.4285714285714284, 3.857142857142857, 3.0, 2.2857142857142856, 2.0, 2.857142857142857, 2.7142857142857144], \"yaxis\": \"y\"}, {\"hoverlabel\": {\"namelength\": 0}, \"hovertemplate\": \"variable=\\u516c\\u5712<br>date=%{x}<br>value=%{y}\", \"legendgroup\": \"variable=\\u516c\\u5712\", \"line\": {\"color\": \"#00cc96\", \"dash\": \"solid\"}, \"mode\": \"lines\", \"name\": \"variable=\\u516c\\u5712\", \"showlegend\": true, \"type\": \"scattergl\", \"x\": [\"2020-02-21\", \"2020-02-22\", \"2020-02-23\", \"2020-02-24\", \"2020-02-25\", \"2020-02-26\", \"2020-02-27\", \"2020-02-28\", \"2020-02-29\", \"2020-03-01\", \"2020-03-02\", \"2020-03-03\", \"2020-03-04\", \"2020-03-05\", \"2020-03-06\", \"2020-03-07\", \"2020-03-08\", \"2020-03-09\", \"2020-03-10\", \"2020-03-11\", \"2020-03-12\", \"2020-03-13\", \"2020-03-14\", \"2020-03-15\", \"2020-03-16\", \"2020-03-17\", \"2020-03-18\", \"2020-03-19\", \"2020-03-20\", \"2020-03-21\", \"2020-03-22\", \"2020-03-23\", \"2020-03-24\", \"2020-03-25\", \"2020-03-26\", \"2020-03-27\", \"2020-03-28\", \"2020-03-29\", \"2020-03-30\", \"2020-03-31\", \"2020-04-01\", \"2020-04-02\", \"2020-04-03\", \"2020-04-04\", \"2020-04-05\", \"2020-04-06\", \"2020-04-07\", \"2020-04-08\", \"2020-04-09\", \"2020-04-10\", \"2020-04-11\", \"2020-04-12\", \"2020-04-13\", \"2020-04-14\", \"2020-04-15\", \"2020-04-16\", \"2020-04-17\", \"2020-04-18\", \"2020-04-19\", \"2020-04-20\", \"2020-04-21\", \"2020-04-22\", \"2020-04-23\", \"2020-04-24\", \"2020-04-25\", \"2020-04-26\", \"2020-04-27\", \"2020-04-28\", \"2020-04-29\", \"2020-04-30\", \"2020-05-01\", \"2020-05-02\", \"2020-05-03\", \"2020-05-04\", \"2020-05-05\", \"2020-05-06\", \"2020-05-07\", \"2020-05-08\", \"2020-05-09\", \"2020-05-10\", \"2020-05-11\", \"2020-05-12\", \"2020-05-13\", \"2020-05-14\", \"2020-05-15\", \"2020-05-16\", \"2020-05-17\", \"2020-05-18\", \"2020-05-19\", \"2020-05-20\", \"2020-05-21\", \"2020-05-22\", \"2020-05-23\", \"2020-05-24\", \"2020-05-25\", \"2020-05-26\", \"2020-05-27\", \"2020-05-28\", \"2020-05-29\", \"2020-05-30\", \"2020-05-31\", \"2020-06-01\", \"2020-06-02\", \"2020-06-03\", \"2020-06-04\", \"2020-06-05\", \"2020-06-06\", \"2020-06-07\", \"2020-06-08\", \"2020-06-09\", \"2020-06-10\", \"2020-06-11\", \"2020-06-12\", \"2020-06-13\", \"2020-06-14\", \"2020-06-15\", \"2020-06-16\", \"2020-06-17\", \"2020-06-18\", \"2020-06-19\", \"2020-06-20\", \"2020-06-21\", \"2020-06-22\", \"2020-06-23\", \"2020-06-24\", \"2020-06-25\", \"2020-06-26\", \"2020-06-27\", \"2020-06-28\", \"2020-06-29\", \"2020-06-30\", \"2020-07-01\", \"2020-07-02\", \"2020-07-03\", \"2020-07-04\", \"2020-07-05\", \"2020-07-06\", \"2020-07-07\", \"2020-07-08\", \"2020-07-09\", \"2020-07-10\", \"2020-07-11\", \"2020-07-12\", \"2020-07-13\", \"2020-07-14\", \"2020-07-15\", \"2020-07-16\", \"2020-07-17\", \"2020-07-18\", \"2020-07-19\", \"2020-07-20\", \"2020-07-21\", \"2020-07-22\", \"2020-07-23\", \"2020-07-24\", \"2020-07-25\", \"2020-07-26\", \"2020-07-27\", \"2020-07-28\", \"2020-07-29\", \"2020-07-30\", \"2020-07-31\", \"2020-08-01\", \"2020-08-02\", \"2020-08-03\", \"2020-08-04\", \"2020-08-05\", \"2020-08-06\", \"2020-08-07\", \"2020-08-08\", \"2020-08-09\", \"2020-08-10\", \"2020-08-11\", \"2020-08-12\", \"2020-08-13\", \"2020-08-14\", \"2020-08-15\", \"2020-08-16\", \"2020-08-17\", \"2020-08-18\", \"2020-08-19\", \"2020-08-20\", \"2020-08-21\", \"2020-08-22\", \"2020-08-23\", \"2020-08-24\", \"2020-08-25\", \"2020-08-26\", \"2020-08-27\", \"2020-08-28\", \"2020-08-29\", \"2020-08-30\", \"2020-08-31\", \"2020-09-01\", \"2020-09-02\", \"2020-09-03\", \"2020-09-04\", \"2020-09-05\", \"2020-09-06\", \"2020-09-07\", \"2020-09-08\", \"2020-09-09\", \"2020-09-10\", \"2020-09-11\", \"2020-09-12\", \"2020-09-13\", \"2020-09-14\", \"2020-09-15\", \"2020-09-16\", \"2020-09-17\", \"2020-09-18\", \"2020-09-19\", \"2020-09-20\", \"2020-09-21\", \"2020-09-22\", \"2020-09-23\", \"2020-09-24\", \"2020-09-25\", \"2020-09-26\", \"2020-09-27\", \"2020-09-28\", \"2020-09-29\", \"2020-09-30\", \"2020-10-01\", \"2020-10-02\", \"2020-10-03\", \"2020-10-04\", \"2020-10-05\", \"2020-10-06\", \"2020-10-07\", \"2020-10-08\", \"2020-10-09\", \"2020-10-10\", \"2020-10-11\", \"2020-10-12\", \"2020-10-13\", \"2020-10-14\", \"2020-10-15\", \"2020-10-16\", \"2020-10-17\", \"2020-10-18\", \"2020-10-19\", \"2020-10-20\", \"2020-10-21\", \"2020-10-22\", \"2020-10-23\", \"2020-10-24\", \"2020-10-25\", \"2020-10-26\", \"2020-10-27\", \"2020-10-28\", \"2020-10-29\", \"2020-10-30\", \"2020-10-31\", \"2020-11-01\", \"2020-11-02\", \"2020-11-03\", \"2020-11-04\", \"2020-11-05\", \"2020-11-06\", \"2020-11-07\", \"2020-11-08\", \"2020-11-09\", \"2020-11-10\", \"2020-11-11\", \"2020-11-12\", \"2020-11-13\", \"2020-11-14\", \"2020-11-15\", \"2020-11-16\", \"2020-11-17\", \"2020-11-18\", \"2020-11-19\", \"2020-11-20\", \"2020-11-21\", \"2020-11-22\", \"2020-11-23\", \"2020-11-24\", \"2020-11-25\", \"2020-11-26\", \"2020-11-27\", \"2020-11-28\", \"2020-11-29\", \"2020-11-30\", \"2020-12-01\", \"2020-12-02\", \"2020-12-03\", \"2020-12-04\", \"2020-12-05\", \"2020-12-06\", \"2020-12-07\", \"2020-12-08\", \"2020-12-09\", \"2020-12-10\", \"2020-12-11\", \"2020-12-12\", \"2020-12-13\", \"2020-12-14\", \"2020-12-15\", \"2020-12-16\", \"2020-12-17\", \"2020-12-18\", \"2020-12-19\", \"2020-12-20\", \"2020-12-21\", \"2020-12-22\", \"2020-12-23\", \"2020-12-24\", \"2020-12-25\", \"2020-12-26\", \"2020-12-27\", \"2020-12-28\", \"2020-12-29\", \"2020-12-30\", \"2020-12-31\", \"2021-01-01\", \"2021-01-02\", \"2021-01-03\", \"2021-01-04\", \"2021-01-05\", \"2021-01-06\", \"2021-01-07\", \"2021-01-08\", \"2021-01-09\", \"2021-01-10\", \"2021-01-11\", \"2021-01-12\", \"2021-01-13\", \"2021-01-14\", \"2021-01-15\", \"2021-01-16\", \"2021-01-17\", \"2021-01-18\", \"2021-01-19\", \"2021-01-20\", \"2021-01-21\", \"2021-01-22\", \"2021-01-23\", \"2021-01-24\", \"2021-01-25\", \"2021-01-26\", \"2021-01-27\", \"2021-01-28\", \"2021-01-29\", \"2021-01-30\", \"2021-01-31\", \"2021-02-01\", \"2021-02-02\", \"2021-02-03\", \"2021-02-04\", \"2021-02-05\", \"2021-02-06\", \"2021-02-07\", \"2021-02-08\", \"2021-02-09\", \"2021-02-10\", \"2021-02-11\", \"2021-02-12\", \"2021-02-13\", \"2021-02-14\", \"2021-02-15\", \"2021-02-16\", \"2021-02-17\", \"2021-02-18\", \"2021-02-19\", \"2021-02-20\", \"2021-02-21\", \"2021-02-22\", \"2021-02-23\", \"2021-02-24\", \"2021-02-25\", \"2021-02-26\", \"2021-02-27\", \"2021-02-28\", \"2021-03-01\", \"2021-03-02\", \"2021-03-03\", \"2021-03-04\", \"2021-03-05\", \"2021-03-06\", \"2021-03-07\", \"2021-03-08\", \"2021-03-09\", \"2021-03-10\", \"2021-03-11\", \"2021-03-12\", \"2021-03-13\", \"2021-03-14\", \"2021-03-15\", \"2021-03-16\", \"2021-03-17\", \"2021-03-18\", \"2021-03-19\", \"2021-03-20\", \"2021-03-21\", \"2021-03-22\", \"2021-03-23\", \"2021-03-24\", \"2021-03-25\", \"2021-03-26\", \"2021-03-27\", \"2021-03-28\", \"2021-03-29\", \"2021-03-30\", \"2021-03-31\", \"2021-04-01\", \"2021-04-02\", \"2021-04-03\", \"2021-04-04\", \"2021-04-05\", \"2021-04-06\", \"2021-04-07\", \"2021-04-08\", \"2021-04-09\", \"2021-04-10\", \"2021-04-11\", \"2021-04-12\", \"2021-04-13\", \"2021-04-14\", \"2021-04-15\", \"2021-04-16\"], \"xaxis\": \"x\", \"y\": [2.2857142857142856, 0.42857142857142855, 12.571428571428571, 26.285714285714285, 26.714285714285715, 26.142857142857142, 24.857142857142858, 22.428571428571427, 17.142857142857142, 9.142857142857142, -2.4285714285714284, -1.4285714285714286, -4.0, -5.285714285714286, -3.0, -1.2857142857142858, -0.8571428571428571, 0.0, -4.571428571428571, -1.5714285714285714, 1.2857142857142858, 1.2857142857142858, 4.571428571428571, 4.428571428571429, 3.0, 9.428571428571429, 10.714285714285714, 11.285714285714286, 18.857142857142858, 25.857142857142858, 25.428571428571427, 29.285714285714285, 30.571428571428573, 32.714285714285715, 29.285714285714285, 15.857142857142858, 5.0, 11.571428571428571, 10.428571428571429, 8.142857142857142, 1.1428571428571428, 8.571428571428571, 18.714285714285715, 31.142857142857142, 32.285714285714285, 35.285714285714285, 38.142857142857146, 43.142857142857146, 39.0, 34.714285714285715, 27.714285714285715, 10.714285714285714, 0.2857142857142857, -2.142857142857143, -3.7142857142857144, -4.571428571428571, -8.0, -12.0, -6.142857142857143, -2.142857142857143, -4.0, -5.857142857142857, -9.142857142857142, -7.857142857142857, -5.714285714285714, -4.428571428571429, -3.0, -2.5714285714285716, 1.0, 2.4285714285714284, 3.2857142857142856, 2.5714285714285716, -5.428571428571429, -4.285714285714286, -0.42857142857142855, -1.0, -1.7142857142857142, -2.142857142857143, -7.142857142857143, -3.142857142857143, -4.571428571428571, -8.857142857142858, -10.285714285714286, -9.0, -13.0, -12.714285714285714, -7.0, -12.857142857142858, -13.285714285714286, -13.857142857142858, -14.285714285714286, -10.0, -3.857142857142857, -2.7142857142857144, 2.4285714285714284, 0.5714285714285714, 1.0, 1.4285714285714286, 1.2857142857142858, 1.4285714285714286, -2.0, -3.4285714285714284, -0.5714285714285714, -0.5714285714285714, -1.0, -0.8571428571428571, -0.42857142857142855, 3.2857142857142856, 5.428571428571429, 5.571428571428571, 4.285714285714286, -0.7142857142857143, -2.0, -8.428571428571429, -15.285714285714286, -15.571428571428571, -15.714285714285714, -13.571428571428571, -14.142857142857142, -14.142857142857142, -7.142857142857143, 0.8571428571428571, 1.4285714285714286, 1.5714285714285714, 1.4285714285714286, 2.857142857142857, 2.5714285714285716, -2.7142857142857144, -4.714285714285714, -6.571428571428571, -10.0, -11.428571428571429, -6.571428571428571, -8.857142857142858, -5.857142857142857, -6.0, -10.571428571428571, -13.428571428571429, -13.142857142857142, -15.714285714285714, -16.714285714285715, -17.714285714285715, -21.571428571428573, -20.285714285714285, -16.285714285714285, -17.0, -14.857142857142858, -10.285714285714286, -7.571428571428571, -4.0, 0.0, 0.5714285714285714, -0.7142857142857143, 0.0, -1.8571428571428572, -1.4285714285714286, -2.857142857142857, -5.714285714285714, -6.142857142857143, -3.7142857142857144, -4.857142857142857, -3.2857142857142856, -3.0, 0.42857142857142855, 5.0, 7.857142857142857, 9.142857142857142, 10.285714285714286, 10.857142857142858, 9.857142857142858, 11.714285714285714, 15.714285714285714, 16.0, 18.714285714285715, 25.714285714285715, 32.57142857142857, 35.42857142857143, 32.57142857142857, 27.142857142857142, 25.428571428571427, 21.285714285714285, 12.714285714285714, 5.0, 0.7142857142857143, -1.2857142857142858, -1.7142857142857142, -2.142857142857143, -3.0, -3.5714285714285716, -3.5714285714285716, -2.4285714285714284, -1.5714285714285714, -1.5714285714285714, -1.8571428571428572, -3.5714285714285716, -4.142857142857143, -4.571428571428571, -7.857142857142857, -14.285714285714286, -20.428571428571427, -19.714285714285715, -16.857142857142858, -14.571428571428571, -15.285714285714286, -16.142857142857142, -8.142857142857142, 0.7142857142857143, 3.0, 2.4285714285714284, 0.0, 0.42857142857142855, 7.0, 13.428571428571429, 25.571428571428573, 31.571428571428573, 31.857142857142858, 30.857142857142858, 30.857142857142858, 28.571428571428573, 22.714285714285715, 9.285714285714286, 1.8571428571428572, 2.0, 5.142857142857143, 6.285714285714286, 7.714285714285714, 6.714285714285714, 6.857142857142857, 7.285714285714286, 8.0, 6.428571428571429, 6.428571428571429, 6.142857142857143, 8.428571428571429, 9.142857142857142, 9.714285714285714, 10.285714285714286, 12.285714285714286, 11.714285714285714, 9.142857142857142, 8.428571428571429, 7.142857142857143, 6.0, 4.857142857142857, -1.4285714285714286, -0.8571428571428571, 1.1428571428571428, 0.7142857142857143, 1.0, 0.8571428571428571, 0.42857142857142855, 6.0, 5.428571428571429, 5.857142857142857, 6.0, 1.7142857142857142, 7.285714285714286, 7.0, 6.428571428571429, 6.428571428571429, 1.5714285714285714, 1.1428571428571428, 4.571428571428571, -1.5714285714285714, -1.1428571428571428, -0.42857142857142855, 0.14285714285714285, 4.857142857142857, 5.571428571428571, 6.571428571428571, 7.571428571428571, 7.857142857142857, 6.428571428571429, 5.0, 5.0, 2.0, 6.142857142857143, 5.0, 4.0, 4.571428571428571, 4.428571428571429, 2.142857142857143, 1.5714285714285714, -4.857142857142857, -5.428571428571429, -5.428571428571429, -6.142857142857143, -6.142857142857143, -6.142857142857143, -5.428571428571429, -4.857142857142857, -5.857142857142857, -6.714285714285714, -7.0, -7.0, -7.142857142857143, -9.142857142857142, -10.714285714285714, -12.0, -14.142857142857142, -15.285714285714286, -16.285714285714285, -18.0, -19.428571428571427, -19.285714285714285, -18.428571428571427, -16.714285714285715, -18.714285714285715, -18.571428571428573, -18.428571428571427, -19.285714285714285, -17.142857142857142, -15.428571428571429, -19.285714285714285, -20.0, -18.285714285714285, -19.285714285714285, -17.571428571428573, -18.0, -19.857142857142858, -17.0, -18.142857142857142, -24.571428571428573, -28.571428571428573, -32.57142857142857, -34.285714285714285, -35.714285714285715, -35.714285714285715, -31.714285714285715, -27.142857142857142, -22.571428571428573, -20.571428571428573, -23.0, -22.142857142857142, -21.714285714285715, -21.714285714285715, -24.571428571428573, -29.0, -29.857142857142858, -26.714285714285715, -29.428571428571427, -29.428571428571427, -29.714285714285715, -29.0, -25.428571428571427, -21.857142857142858, -26.0, -23.714285714285715, -24.428571428571427, -25.285714285714285, -23.285714285714285, -21.142857142857142, -20.571428571428573, -17.142857142857142, -16.142857142857142, -14.857142857142858, -9.428571428571429, -8.857142857142858, -9.285714285714286, -10.142857142857142, -11.428571428571429, -11.857142857142858, -16.428571428571427, -24.285714285714285, -25.428571428571427, -24.285714285714285, -20.428571428571427, -16.571428571428573, -8.857142857142858, -3.857142857142857, 0.14285714285714285, -2.0, -2.5714285714285716, -3.857142857142857, -6.0, -15.571428571428571, -15.571428571428571, -16.142857142857142, -14.857142857142858, -15.285714285714286, -17.0, -16.0, -12.857142857142858, -12.142857142857142, -10.714285714285714, -12.0, -12.142857142857142, -11.0, -10.428571428571429, -12.857142857142858, -12.285714285714286, -11.142857142857142, -6.0, -8.428571428571429, -12.428571428571429, -12.857142857142858, -8.285714285714286, -7.285714285714286, -5.714285714285714, -2.5714285714285716, 8.857142857142858, 9.0, 14.0, 16.857142857142858, 20.0, 20.857142857142858, 19.0, 14.571428571428571, 12.428571428571429, 7.857142857142857, 4.285714285714286, 0.14285714285714285, -3.4285714285714284, -5.857142857142857, -8.0, 0.42857142857142855, -2.142857142857143, -6.857142857142857, -8.142857142857142, -7.428571428571429, -9.0], \"yaxis\": \"y\"}, {\"hoverlabel\": {\"namelength\": 0}, \"hovertemplate\": \"variable=\\u4e57\\u63db\\u99c5<br>date=%{x}<br>value=%{y}\", \"legendgroup\": \"variable=\\u4e57\\u63db\\u99c5\", \"line\": {\"color\": \"#ab63fa\", \"dash\": \"solid\"}, \"mode\": \"lines\", \"name\": \"variable=\\u4e57\\u63db\\u99c5\", \"showlegend\": true, \"type\": \"scattergl\", \"x\": [\"2020-02-21\", \"2020-02-22\", \"2020-02-23\", \"2020-02-24\", \"2020-02-25\", \"2020-02-26\", \"2020-02-27\", \"2020-02-28\", \"2020-02-29\", \"2020-03-01\", \"2020-03-02\", \"2020-03-03\", \"2020-03-04\", \"2020-03-05\", \"2020-03-06\", \"2020-03-07\", \"2020-03-08\", \"2020-03-09\", \"2020-03-10\", \"2020-03-11\", \"2020-03-12\", \"2020-03-13\", \"2020-03-14\", \"2020-03-15\", \"2020-03-16\", \"2020-03-17\", \"2020-03-18\", \"2020-03-19\", \"2020-03-20\", \"2020-03-21\", \"2020-03-22\", \"2020-03-23\", \"2020-03-24\", \"2020-03-25\", \"2020-03-26\", \"2020-03-27\", \"2020-03-28\", \"2020-03-29\", \"2020-03-30\", \"2020-03-31\", \"2020-04-01\", \"2020-04-02\", \"2020-04-03\", \"2020-04-04\", \"2020-04-05\", \"2020-04-06\", \"2020-04-07\", \"2020-04-08\", \"2020-04-09\", \"2020-04-10\", \"2020-04-11\", \"2020-04-12\", \"2020-04-13\", \"2020-04-14\", \"2020-04-15\", \"2020-04-16\", \"2020-04-17\", \"2020-04-18\", \"2020-04-19\", \"2020-04-20\", \"2020-04-21\", \"2020-04-22\", \"2020-04-23\", \"2020-04-24\", \"2020-04-25\", \"2020-04-26\", \"2020-04-27\", \"2020-04-28\", \"2020-04-29\", \"2020-04-30\", \"2020-05-01\", \"2020-05-02\", \"2020-05-03\", \"2020-05-04\", \"2020-05-05\", \"2020-05-06\", \"2020-05-07\", \"2020-05-08\", \"2020-05-09\", \"2020-05-10\", \"2020-05-11\", \"2020-05-12\", \"2020-05-13\", \"2020-05-14\", \"2020-05-15\", \"2020-05-16\", \"2020-05-17\", \"2020-05-18\", \"2020-05-19\", \"2020-05-20\", \"2020-05-21\", \"2020-05-22\", \"2020-05-23\", \"2020-05-24\", \"2020-05-25\", \"2020-05-26\", \"2020-05-27\", \"2020-05-28\", \"2020-05-29\", \"2020-05-30\", \"2020-05-31\", \"2020-06-01\", \"2020-06-02\", \"2020-06-03\", \"2020-06-04\", \"2020-06-05\", \"2020-06-06\", \"2020-06-07\", \"2020-06-08\", \"2020-06-09\", \"2020-06-10\", \"2020-06-11\", \"2020-06-12\", \"2020-06-13\", \"2020-06-14\", \"2020-06-15\", \"2020-06-16\", \"2020-06-17\", \"2020-06-18\", \"2020-06-19\", \"2020-06-20\", \"2020-06-21\", \"2020-06-22\", \"2020-06-23\", \"2020-06-24\", \"2020-06-25\", \"2020-06-26\", \"2020-06-27\", \"2020-06-28\", \"2020-06-29\", \"2020-06-30\", \"2020-07-01\", \"2020-07-02\", \"2020-07-03\", \"2020-07-04\", \"2020-07-05\", \"2020-07-06\", \"2020-07-07\", \"2020-07-08\", \"2020-07-09\", \"2020-07-10\", \"2020-07-11\", \"2020-07-12\", \"2020-07-13\", \"2020-07-14\", \"2020-07-15\", \"2020-07-16\", \"2020-07-17\", \"2020-07-18\", \"2020-07-19\", \"2020-07-20\", \"2020-07-21\", \"2020-07-22\", \"2020-07-23\", \"2020-07-24\", \"2020-07-25\", \"2020-07-26\", \"2020-07-27\", \"2020-07-28\", \"2020-07-29\", \"2020-07-30\", \"2020-07-31\", \"2020-08-01\", \"2020-08-02\", \"2020-08-03\", \"2020-08-04\", \"2020-08-05\", \"2020-08-06\", \"2020-08-07\", \"2020-08-08\", \"2020-08-09\", \"2020-08-10\", \"2020-08-11\", \"2020-08-12\", \"2020-08-13\", \"2020-08-14\", \"2020-08-15\", \"2020-08-16\", \"2020-08-17\", \"2020-08-18\", \"2020-08-19\", \"2020-08-20\", \"2020-08-21\", \"2020-08-22\", \"2020-08-23\", \"2020-08-24\", \"2020-08-25\", \"2020-08-26\", \"2020-08-27\", \"2020-08-28\", \"2020-08-29\", \"2020-08-30\", \"2020-08-31\", \"2020-09-01\", \"2020-09-02\", \"2020-09-03\", \"2020-09-04\", \"2020-09-05\", \"2020-09-06\", \"2020-09-07\", \"2020-09-08\", \"2020-09-09\", \"2020-09-10\", \"2020-09-11\", \"2020-09-12\", \"2020-09-13\", \"2020-09-14\", \"2020-09-15\", \"2020-09-16\", \"2020-09-17\", \"2020-09-18\", \"2020-09-19\", \"2020-09-20\", \"2020-09-21\", \"2020-09-22\", \"2020-09-23\", \"2020-09-24\", \"2020-09-25\", \"2020-09-26\", \"2020-09-27\", \"2020-09-28\", \"2020-09-29\", \"2020-09-30\", \"2020-10-01\", \"2020-10-02\", \"2020-10-03\", \"2020-10-04\", \"2020-10-05\", \"2020-10-06\", \"2020-10-07\", \"2020-10-08\", \"2020-10-09\", \"2020-10-10\", \"2020-10-11\", \"2020-10-12\", \"2020-10-13\", \"2020-10-14\", \"2020-10-15\", \"2020-10-16\", \"2020-10-17\", \"2020-10-18\", \"2020-10-19\", \"2020-10-20\", \"2020-10-21\", \"2020-10-22\", \"2020-10-23\", \"2020-10-24\", \"2020-10-25\", \"2020-10-26\", \"2020-10-27\", \"2020-10-28\", \"2020-10-29\", \"2020-10-30\", \"2020-10-31\", \"2020-11-01\", \"2020-11-02\", \"2020-11-03\", \"2020-11-04\", \"2020-11-05\", \"2020-11-06\", \"2020-11-07\", \"2020-11-08\", \"2020-11-09\", \"2020-11-10\", \"2020-11-11\", \"2020-11-12\", \"2020-11-13\", \"2020-11-14\", \"2020-11-15\", \"2020-11-16\", \"2020-11-17\", \"2020-11-18\", \"2020-11-19\", \"2020-11-20\", \"2020-11-21\", \"2020-11-22\", \"2020-11-23\", \"2020-11-24\", \"2020-11-25\", \"2020-11-26\", \"2020-11-27\", \"2020-11-28\", \"2020-11-29\", \"2020-11-30\", \"2020-12-01\", \"2020-12-02\", \"2020-12-03\", \"2020-12-04\", \"2020-12-05\", \"2020-12-06\", \"2020-12-07\", \"2020-12-08\", \"2020-12-09\", \"2020-12-10\", \"2020-12-11\", \"2020-12-12\", \"2020-12-13\", \"2020-12-14\", \"2020-12-15\", \"2020-12-16\", \"2020-12-17\", \"2020-12-18\", \"2020-12-19\", \"2020-12-20\", \"2020-12-21\", \"2020-12-22\", \"2020-12-23\", \"2020-12-24\", \"2020-12-25\", \"2020-12-26\", \"2020-12-27\", \"2020-12-28\", \"2020-12-29\", \"2020-12-30\", \"2020-12-31\", \"2021-01-01\", \"2021-01-02\", \"2021-01-03\", \"2021-01-04\", \"2021-01-05\", \"2021-01-06\", \"2021-01-07\", \"2021-01-08\", \"2021-01-09\", \"2021-01-10\", \"2021-01-11\", \"2021-01-12\", \"2021-01-13\", \"2021-01-14\", \"2021-01-15\", \"2021-01-16\", \"2021-01-17\", \"2021-01-18\", \"2021-01-19\", \"2021-01-20\", \"2021-01-21\", \"2021-01-22\", \"2021-01-23\", \"2021-01-24\", \"2021-01-25\", \"2021-01-26\", \"2021-01-27\", \"2021-01-28\", \"2021-01-29\", \"2021-01-30\", \"2021-01-31\", \"2021-02-01\", \"2021-02-02\", \"2021-02-03\", \"2021-02-04\", \"2021-02-05\", \"2021-02-06\", \"2021-02-07\", \"2021-02-08\", \"2021-02-09\", \"2021-02-10\", \"2021-02-11\", \"2021-02-12\", \"2021-02-13\", \"2021-02-14\", \"2021-02-15\", \"2021-02-16\", \"2021-02-17\", \"2021-02-18\", \"2021-02-19\", \"2021-02-20\", \"2021-02-21\", \"2021-02-22\", \"2021-02-23\", \"2021-02-24\", \"2021-02-25\", \"2021-02-26\", \"2021-02-27\", \"2021-02-28\", \"2021-03-01\", \"2021-03-02\", \"2021-03-03\", \"2021-03-04\", \"2021-03-05\", \"2021-03-06\", \"2021-03-07\", \"2021-03-08\", \"2021-03-09\", \"2021-03-10\", \"2021-03-11\", \"2021-03-12\", \"2021-03-13\", \"2021-03-14\", \"2021-03-15\", \"2021-03-16\", \"2021-03-17\", \"2021-03-18\", \"2021-03-19\", \"2021-03-20\", \"2021-03-21\", \"2021-03-22\", \"2021-03-23\", \"2021-03-24\", \"2021-03-25\", \"2021-03-26\", \"2021-03-27\", \"2021-03-28\", \"2021-03-29\", \"2021-03-30\", \"2021-03-31\", \"2021-04-01\", \"2021-04-02\", \"2021-04-03\", \"2021-04-04\", \"2021-04-05\", \"2021-04-06\", \"2021-04-07\", \"2021-04-08\", \"2021-04-09\", \"2021-04-10\", \"2021-04-11\", \"2021-04-12\", \"2021-04-13\", \"2021-04-14\", \"2021-04-15\", \"2021-04-16\"], \"xaxis\": \"x\", \"y\": [0.7142857142857143, 1.7142857142857142, 6.142857142857143, 8.428571428571429, 9.142857142857142, 9.142857142857142, 8.285714285714286, 6.0, 1.4285714285714286, -4.285714285714286, -8.571428571428571, -10.857142857142858, -13.571428571428571, -15.428571428571429, -16.571428571428573, -17.142857142857142, -17.571428571428573, -17.571428571428573, -18.571428571428573, -17.714285714285715, -17.0, -16.571428571428573, -15.0, -14.142857142857142, -14.0, -12.428571428571429, -11.857142857142858, -10.142857142857142, -8.0, -5.428571428571429, -4.142857142857143, -2.857142857142857, -2.7142857142857144, -2.0, -3.5714285714285716, -6.571428571428571, -9.714285714285714, -10.0, -10.857142857142858, -11.571428571428571, -14.0, -14.428571428571429, -13.857142857142858, -13.714285714285714, -15.714285714285714, -16.571428571428573, -17.285714285714285, -17.428571428571427, -18.714285714285715, -20.0, -22.142857142857142, -27.0, -29.142857142857142, -30.0, -30.714285714285715, -31.714285714285715, -33.42857142857143, -35.0, -34.285714285714285, -34.857142857142854, -36.285714285714285, -37.714285714285715, -39.0, -39.285714285714285, -39.714285714285715, -40.142857142857146, -40.42857142857143, -40.857142857142854, -42.714285714285715, -43.142857142857146, -43.857142857142854, -44.57142857142857, -47.285714285714285, -50.42857142857143, -53.142857142857146, -54.285714285714285, -54.142857142857146, -53.42857142857143, -53.714285714285715, -51.285714285714285, -47.42857142857143, -44.142857142857146, -40.857142857142854, -39.857142857142854, -40.142857142857146, -39.42857142857143, -37.57142857142857, -38.714285714285715, -38.714285714285715, -38.142857142857146, -37.714285714285715, -36.142857142857146, -34.0, -32.857142857142854, -30.285714285714285, -29.142857142857142, -27.857142857142858, -26.714285714285715, -26.0, -25.571428571428573, -26.285714285714285, -26.571428571428573, -26.142857142857142, -26.428571428571427, -26.428571428571427, -26.0, -25.571428571428573, -23.714285714285715, -23.0, -22.571428571428573, -22.428571428571427, -23.142857142857142, -23.142857142857142, -24.428571428571427, -26.142857142857142, -26.0, -25.571428571428573, -24.571428571428573, -24.571428571428573, -24.428571428571427, -21.714285714285715, -18.285714285714285, -17.571428571428573, -17.285714285714285, -17.0, -16.0, -15.142857142857142, -16.142857142857142, -16.857142857142858, -17.285714285714285, -17.857142857142858, -18.142857142857142, -17.142857142857142, -17.714285714285715, -17.142857142857142, -17.285714285714285, -19.0, -21.857142857142858, -21.714285714285715, -21.857142857142858, -22.142857142857142, -22.857142857142858, -23.857142857142858, -22.714285714285715, -19.714285714285715, -19.571428571428573, -19.285714285714285, -18.0, -17.0, -16.285714285714285, -15.0, -14.0, -12.857142857142858, -12.285714285714286, -15.142857142857142, -14.285714285714286, -13.142857142857142, -13.857142857142858, -14.428571428571429, -15.714285714285714, -16.428571428571427, -14.0, -14.571428571428571, -15.285714285714286, -15.0, -14.857142857142858, -14.428571428571429, -14.0, -13.428571428571429, -12.142857142857142, -9.857142857142858, -9.571428571428571, -9.571428571428571, -9.0, -7.857142857142857, -7.285714285714286, -6.428571428571429, -7.0, -7.285714285714286, -7.428571428571429, -8.571428571428571, -10.571428571428571, -12.285714285714286, -15.142857142857142, -17.571428571428573, -17.857142857142858, -18.0, -18.142857142857142, -18.428571428571427, -18.428571428571427, -18.142857142857142, -17.571428571428573, -17.714285714285715, -17.857142857142858, -18.857142857142858, -19.857142857142858, -20.0, -21.285714285714285, -25.428571428571427, -32.714285714285715, -32.142857142857146, -30.571428571428573, -29.142857142857142, -28.857142857142858, -28.857142857142858, -24.285714285714285, -16.142857142857142, -15.714285714285714, -15.571428571428571, -15.857142857142858, -15.0, -10.0, -4.571428571428571, 0.0, 1.7142857142857142, 1.8571428571428572, 2.142857142857143, 1.8571428571428572, -1.0, -5.428571428571429, -9.714285714285714, -11.428571428571429, -11.428571428571429, -11.142857142857142, -11.0, -10.571428571428571, -10.571428571428571, -10.714285714285714, -10.571428571428571, -10.428571428571429, -10.428571428571429, -10.428571428571429, -10.857142857142858, -10.428571428571429, -10.142857142857142, -10.0, -9.571428571428571, -8.714285714285714, -7.857142857142857, -6.857142857142857, -5.285714285714286, -4.714285714285714, -4.142857142857143, -4.0, -5.142857142857143, -5.142857142857143, -4.714285714285714, -5.142857142857143, -5.142857142857143, -5.285714285714286, -5.142857142857143, -4.142857142857143, -4.142857142857143, -3.2857142857142856, -3.4285714285714284, -4.285714285714286, -4.428571428571429, -4.714285714285714, -4.857142857142857, -5.428571428571429, -8.0, -8.142857142857142, -7.428571428571429, -7.285714285714286, -6.857142857142857, -6.571428571428571, -6.0, -3.857142857142857, -3.4285714285714284, -3.2857142857142856, -3.4285714285714284, -3.4285714285714284, -3.5714285714285716, -3.5714285714285716, -2.7142857142857144, -3.2857142857142856, -2.857142857142857, -3.142857142857143, -3.5714285714285716, -3.7142857142857144, -4.428571428571429, -7.285714285714286, -9.571428571428571, -11.0, -11.571428571428571, -12.428571428571429, -13.285714285714286, -13.571428571428571, -13.285714285714286, -12.857142857142858, -12.857142857142858, -13.0, -13.142857142857142, -12.857142857142858, -12.714285714285714, -12.714285714285714, -13.428571428571429, -13.714285714285714, -13.857142857142858, -14.0, -14.142857142857142, -14.428571428571429, -15.0, -15.428571428571429, -15.571428571428571, -15.428571428571429, -15.0, -15.428571428571429, -15.428571428571429, -14.714285714285714, -14.428571428571429, -13.857142857142858, -13.571428571428571, -15.857142857142858, -20.428571428571427, -26.285714285714285, -29.857142857142858, -30.0, -31.428571428571427, -33.0, -31.857142857142858, -29.714285714285715, -25.714285714285715, -26.857142857142858, -29.714285714285715, -32.285714285714285, -32.0, -31.857142857142858, -30.142857142857142, -29.571428571428573, -27.714285714285715, -27.0, -25.428571428571427, -26.142857142857142, -26.714285714285715, -27.142857142857142, -28.0, -29.428571428571427, -30.142857142857142, -29.428571428571427, -30.0, -30.142857142857142, -30.142857142857142, -30.428571428571427, -29.428571428571427, -28.0, -28.714285714285715, -28.285714285714285, -28.571428571428573, -28.857142857142858, -28.285714285714285, -27.285714285714285, -27.142857142857142, -26.571428571428573, -26.428571428571427, -25.714285714285715, -26.0, -25.571428571428573, -25.285714285714285, -24.714285714285715, -24.285714285714285, -23.571428571428573, -24.571428571428573, -23.857142857142858, -23.285714285714285, -22.142857142857142, -20.428571428571427, -19.571428571428573, -19.571428571428573, -17.428571428571427, -16.142857142857142, -16.571428571428573, -17.0, -17.571428571428573, -18.285714285714285, -18.714285714285715, -19.571428571428573, -20.571428571428573, -20.428571428571427, -20.285714285714285, -20.428571428571427, -19.857142857142858, -19.142857142857142, -18.571428571428573, -17.714285714285715, -17.714285714285715, -17.0, -15.714285714285714, -15.0, -14.714285714285714, -14.285714285714286, -13.714285714285714, -11.857142857142858, -11.428571428571429, -12.142857142857142, -12.142857142857142, -11.428571428571429, -11.0, -10.428571428571429, -10.0, -7.714285714285714, -7.857142857142857, -6.714285714285714, -6.142857142857143, -6.0, -6.714285714285714, -7.714285714285714, -9.428571428571429, -10.428571428571429, -11.714285714285714, -12.428571428571429, -13.285714285714286, -13.571428571428571, -13.571428571428571, -14.142857142857142, -12.0, -12.142857142857142, -13.0, -12.714285714285714, -12.0, -12.142857142857142], \"yaxis\": \"y\"}, {\"hoverlabel\": {\"namelength\": 0}, \"hovertemplate\": \"variable=\\u8077\\u5834<br>date=%{x}<br>value=%{y}\", \"legendgroup\": \"variable=\\u8077\\u5834\", \"line\": {\"color\": \"#FFA15A\", \"dash\": \"solid\"}, \"mode\": \"lines\", \"name\": \"variable=\\u8077\\u5834\", \"showlegend\": true, \"type\": \"scattergl\", \"x\": [\"2020-02-21\", \"2020-02-22\", \"2020-02-23\", \"2020-02-24\", \"2020-02-25\", \"2020-02-26\", \"2020-02-27\", \"2020-02-28\", \"2020-02-29\", \"2020-03-01\", \"2020-03-02\", \"2020-03-03\", \"2020-03-04\", \"2020-03-05\", \"2020-03-06\", \"2020-03-07\", \"2020-03-08\", \"2020-03-09\", \"2020-03-10\", \"2020-03-11\", \"2020-03-12\", \"2020-03-13\", \"2020-03-14\", \"2020-03-15\", \"2020-03-16\", \"2020-03-17\", \"2020-03-18\", \"2020-03-19\", \"2020-03-20\", \"2020-03-21\", \"2020-03-22\", \"2020-03-23\", \"2020-03-24\", \"2020-03-25\", \"2020-03-26\", \"2020-03-27\", \"2020-03-28\", \"2020-03-29\", \"2020-03-30\", \"2020-03-31\", \"2020-04-01\", \"2020-04-02\", \"2020-04-03\", \"2020-04-04\", \"2020-04-05\", \"2020-04-06\", \"2020-04-07\", \"2020-04-08\", \"2020-04-09\", \"2020-04-10\", \"2020-04-11\", \"2020-04-12\", \"2020-04-13\", \"2020-04-14\", \"2020-04-15\", \"2020-04-16\", \"2020-04-17\", \"2020-04-18\", \"2020-04-19\", \"2020-04-20\", \"2020-04-21\", \"2020-04-22\", \"2020-04-23\", \"2020-04-24\", \"2020-04-25\", \"2020-04-26\", \"2020-04-27\", \"2020-04-28\", \"2020-04-29\", \"2020-04-30\", \"2020-05-01\", \"2020-05-02\", \"2020-05-03\", \"2020-05-04\", \"2020-05-05\", \"2020-05-06\", \"2020-05-07\", \"2020-05-08\", \"2020-05-09\", \"2020-05-10\", \"2020-05-11\", \"2020-05-12\", \"2020-05-13\", \"2020-05-14\", \"2020-05-15\", \"2020-05-16\", \"2020-05-17\", \"2020-05-18\", \"2020-05-19\", \"2020-05-20\", \"2020-05-21\", \"2020-05-22\", \"2020-05-23\", \"2020-05-24\", \"2020-05-25\", \"2020-05-26\", \"2020-05-27\", \"2020-05-28\", \"2020-05-29\", \"2020-05-30\", \"2020-05-31\", \"2020-06-01\", \"2020-06-02\", \"2020-06-03\", \"2020-06-04\", \"2020-06-05\", \"2020-06-06\", \"2020-06-07\", \"2020-06-08\", \"2020-06-09\", \"2020-06-10\", \"2020-06-11\", \"2020-06-12\", \"2020-06-13\", \"2020-06-14\", \"2020-06-15\", \"2020-06-16\", \"2020-06-17\", \"2020-06-18\", \"2020-06-19\", \"2020-06-20\", \"2020-06-21\", \"2020-06-22\", \"2020-06-23\", \"2020-06-24\", \"2020-06-25\", \"2020-06-26\", \"2020-06-27\", \"2020-06-28\", \"2020-06-29\", \"2020-06-30\", \"2020-07-01\", \"2020-07-02\", \"2020-07-03\", \"2020-07-04\", \"2020-07-05\", \"2020-07-06\", \"2020-07-07\", \"2020-07-08\", \"2020-07-09\", \"2020-07-10\", \"2020-07-11\", \"2020-07-12\", \"2020-07-13\", \"2020-07-14\", \"2020-07-15\", \"2020-07-16\", \"2020-07-17\", \"2020-07-18\", \"2020-07-19\", \"2020-07-20\", \"2020-07-21\", \"2020-07-22\", \"2020-07-23\", \"2020-07-24\", \"2020-07-25\", \"2020-07-26\", \"2020-07-27\", \"2020-07-28\", \"2020-07-29\", \"2020-07-30\", \"2020-07-31\", \"2020-08-01\", \"2020-08-02\", \"2020-08-03\", \"2020-08-04\", \"2020-08-05\", \"2020-08-06\", \"2020-08-07\", \"2020-08-08\", \"2020-08-09\", \"2020-08-10\", \"2020-08-11\", \"2020-08-12\", \"2020-08-13\", \"2020-08-14\", \"2020-08-15\", \"2020-08-16\", \"2020-08-17\", \"2020-08-18\", \"2020-08-19\", \"2020-08-20\", \"2020-08-21\", \"2020-08-22\", \"2020-08-23\", \"2020-08-24\", \"2020-08-25\", \"2020-08-26\", \"2020-08-27\", \"2020-08-28\", \"2020-08-29\", \"2020-08-30\", \"2020-08-31\", \"2020-09-01\", \"2020-09-02\", \"2020-09-03\", \"2020-09-04\", \"2020-09-05\", \"2020-09-06\", \"2020-09-07\", \"2020-09-08\", \"2020-09-09\", \"2020-09-10\", \"2020-09-11\", \"2020-09-12\", \"2020-09-13\", \"2020-09-14\", \"2020-09-15\", \"2020-09-16\", \"2020-09-17\", \"2020-09-18\", \"2020-09-19\", \"2020-09-20\", \"2020-09-21\", \"2020-09-22\", \"2020-09-23\", \"2020-09-24\", \"2020-09-25\", \"2020-09-26\", \"2020-09-27\", \"2020-09-28\", \"2020-09-29\", \"2020-09-30\", \"2020-10-01\", \"2020-10-02\", \"2020-10-03\", \"2020-10-04\", \"2020-10-05\", \"2020-10-06\", \"2020-10-07\", \"2020-10-08\", \"2020-10-09\", \"2020-10-10\", \"2020-10-11\", \"2020-10-12\", \"2020-10-13\", \"2020-10-14\", \"2020-10-15\", \"2020-10-16\", \"2020-10-17\", \"2020-10-18\", \"2020-10-19\", \"2020-10-20\", \"2020-10-21\", \"2020-10-22\", \"2020-10-23\", \"2020-10-24\", \"2020-10-25\", \"2020-10-26\", \"2020-10-27\", \"2020-10-28\", \"2020-10-29\", \"2020-10-30\", \"2020-10-31\", \"2020-11-01\", \"2020-11-02\", \"2020-11-03\", \"2020-11-04\", \"2020-11-05\", \"2020-11-06\", \"2020-11-07\", \"2020-11-08\", \"2020-11-09\", \"2020-11-10\", \"2020-11-11\", \"2020-11-12\", \"2020-11-13\", \"2020-11-14\", \"2020-11-15\", \"2020-11-16\", \"2020-11-17\", \"2020-11-18\", \"2020-11-19\", \"2020-11-20\", \"2020-11-21\", \"2020-11-22\", \"2020-11-23\", \"2020-11-24\", \"2020-11-25\", \"2020-11-26\", \"2020-11-27\", \"2020-11-28\", \"2020-11-29\", \"2020-11-30\", \"2020-12-01\", \"2020-12-02\", \"2020-12-03\", \"2020-12-04\", \"2020-12-05\", \"2020-12-06\", \"2020-12-07\", \"2020-12-08\", \"2020-12-09\", \"2020-12-10\", \"2020-12-11\", \"2020-12-12\", \"2020-12-13\", \"2020-12-14\", \"2020-12-15\", \"2020-12-16\", \"2020-12-17\", \"2020-12-18\", \"2020-12-19\", \"2020-12-20\", \"2020-12-21\", \"2020-12-22\", \"2020-12-23\", \"2020-12-24\", \"2020-12-25\", \"2020-12-26\", \"2020-12-27\", \"2020-12-28\", \"2020-12-29\", \"2020-12-30\", \"2020-12-31\", \"2021-01-01\", \"2021-01-02\", \"2021-01-03\", \"2021-01-04\", \"2021-01-05\", \"2021-01-06\", \"2021-01-07\", \"2021-01-08\", \"2021-01-09\", \"2021-01-10\", \"2021-01-11\", \"2021-01-12\", \"2021-01-13\", \"2021-01-14\", \"2021-01-15\", \"2021-01-16\", \"2021-01-17\", \"2021-01-18\", \"2021-01-19\", \"2021-01-20\", \"2021-01-21\", \"2021-01-22\", \"2021-01-23\", \"2021-01-24\", \"2021-01-25\", \"2021-01-26\", \"2021-01-27\", \"2021-01-28\", \"2021-01-29\", \"2021-01-30\", \"2021-01-31\", \"2021-02-01\", \"2021-02-02\", \"2021-02-03\", \"2021-02-04\", \"2021-02-05\", \"2021-02-06\", \"2021-02-07\", \"2021-02-08\", \"2021-02-09\", \"2021-02-10\", \"2021-02-11\", \"2021-02-12\", \"2021-02-13\", \"2021-02-14\", \"2021-02-15\", \"2021-02-16\", \"2021-02-17\", \"2021-02-18\", \"2021-02-19\", \"2021-02-20\", \"2021-02-21\", \"2021-02-22\", \"2021-02-23\", \"2021-02-24\", \"2021-02-25\", \"2021-02-26\", \"2021-02-27\", \"2021-02-28\", \"2021-03-01\", \"2021-03-02\", \"2021-03-03\", \"2021-03-04\", \"2021-03-05\", \"2021-03-06\", \"2021-03-07\", \"2021-03-08\", \"2021-03-09\", \"2021-03-10\", \"2021-03-11\", \"2021-03-12\", \"2021-03-13\", \"2021-03-14\", \"2021-03-15\", \"2021-03-16\", \"2021-03-17\", \"2021-03-18\", \"2021-03-19\", \"2021-03-20\", \"2021-03-21\", \"2021-03-22\", \"2021-03-23\", \"2021-03-24\", \"2021-03-25\", \"2021-03-26\", \"2021-03-27\", \"2021-03-28\", \"2021-03-29\", \"2021-03-30\", \"2021-03-31\", \"2021-04-01\", \"2021-04-02\", \"2021-04-03\", \"2021-04-04\", \"2021-04-05\", \"2021-04-06\", \"2021-04-07\", \"2021-04-08\", \"2021-04-09\", \"2021-04-10\", \"2021-04-11\", \"2021-04-12\", \"2021-04-13\", \"2021-04-14\", \"2021-04-15\", \"2021-04-16\"], \"xaxis\": \"x\", \"y\": [0.7142857142857143, 0.0, 0.14285714285714285, -7.142857142857143, -6.857142857142857, -6.714285714285714, -6.714285714285714, -6.571428571428571, -5.714285714285714, -4.857142857142857, 2.5714285714285716, 2.142857142857143, 1.5714285714285714, 1.1428571428571428, 0.5714285714285714, -0.2857142857142857, -1.5714285714285714, -2.0, -2.4285714285714284, -2.4285714285714284, -2.5714285714285716, -2.7142857142857144, -3.2857142857142856, -3.4285714285714284, -3.2857142857142856, -2.857142857142857, -2.7142857142857144, -2.857142857142857, -9.571428571428571, -9.571428571428571, -9.428571428571429, -9.571428571428571, -9.714285714285714, -10.0, -10.0, -3.7142857142857144, -3.4285714285714284, -3.0, -3.4285714285714284, -3.7142857142857144, -4.285714285714286, -4.857142857142857, -5.0, -5.142857142857143, -6.142857142857143, -6.285714285714286, -6.714285714285714, -7.285714285714286, -7.571428571428571, -7.857142857142857, -9.285714285714286, -10.571428571428571, -11.0, -11.142857142857142, -10.857142857142858, -11.0, -11.428571428571429, -11.285714285714286, -11.428571428571429, -11.714285714285714, -12.428571428571429, -13.285714285714286, -14.0, -14.571428571428571, -15.428571428571429, -16.0, -16.714285714285715, -17.142857142857142, -23.571428571428573, -24.571428571428573, -26.142857142857142, -26.714285714285715, -28.0, -35.57142857142857, -43.0, -43.857142857142854, -42.857142857142854, -41.285714285714285, -40.0, -38.285714285714285, -29.857142857142858, -21.714285714285715, -14.0, -13.571428571428571, -13.142857142857142, -13.142857142857142, -12.571428571428571, -12.714285714285714, -12.571428571428571, -12.285714285714286, -12.0, -11.714285714285714, -11.571428571428571, -11.285714285714286, -10.857142857142858, -10.571428571428571, -10.285714285714286, -9.857142857142858, -9.428571428571429, -8.571428571428571, -8.428571428571429, -8.0, -7.714285714285714, -7.428571428571429, -7.285714285714286, -7.142857142857143, -7.285714285714286, -7.142857142857143, -7.142857142857143, -7.0, -7.0, -7.285714285714286, -7.285714285714286, -8.428571428571429, -8.714285714285714, -8.571428571428571, -8.571428571428571, -8.571428571428571, -8.428571428571429, -8.428571428571429, -7.285714285714286, -6.857142857142857, -7.0, -7.0, -7.0, -7.0, -7.0, -7.857142857142857, -7.857142857142857, -7.714285714285714, -7.571428571428571, -7.285714285714286, -7.0, -7.0, -6.0, -5.857142857142857, -6.285714285714286, -7.0, -7.285714285714286, -7.285714285714286, -7.428571428571429, -8.142857142857142, -8.428571428571429, -8.285714285714286, -7.857142857142857, -7.714285714285714, -7.714285714285714, -7.428571428571429, -6.571428571428571, -6.571428571428571, -6.285714285714286, -6.142857142857143, -6.142857142857143, -13.0, -20.285714285714285, -21.714285714285715, -21.857142857142858, -22.142857142857142, -22.285714285714285, -22.428571428571427, -15.857142857142858, -8.714285714285714, -7.0, -6.571428571428571, -6.571428571428571, -6.714285714285714, -7.0, -7.142857142857143, -7.571428571428571, -8.142857142857142, -8.285714285714286, -15.857142857142858, -18.0, -20.428571428571427, -25.714285714285715, -32.142857142857146, -37.142857142857146, -38.42857142857143, -31.571428571428573, -29.571428571428573, -27.142857142857142, -21.857142857142858, -15.285714285714286, -10.285714285714286, -9.0, -8.428571428571429, -8.285714285714286, -8.142857142857142, -8.0, -7.857142857142857, -7.714285714285714, -7.714285714285714, -7.714285714285714, -7.571428571428571, -7.714285714285714, -7.857142857142857, -7.714285714285714, -7.428571428571429, -7.428571428571429, -14.142857142857142, -14.285714285714286, -14.142857142857142, -14.0, -14.142857142857142, -14.714285714285714, -14.142857142857142, -7.285714285714286, -7.285714285714286, -7.285714285714286, -7.285714285714286, -7.142857142857143, -6.285714285714286, -6.428571428571429, -13.714285714285714, -20.571428571428573, -20.142857142857142, -19.857142857142858, -19.571428571428573, -19.428571428571427, -18.857142857142858, -11.428571428571429, -4.428571428571429, -4.428571428571429, -4.142857142857143, -4.142857142857143, -4.428571428571429, -4.857142857142857, -4.857142857142857, -5.0, -5.285714285714286, -5.571428571428571, -5.571428571428571, -6.285714285714286, -6.0, -6.142857142857143, -6.0, -5.857142857142857, -5.714285714285714, -5.857142857142857, -5.142857142857143, -5.428571428571429, -5.285714285714286, -5.285714285714286, -5.285714285714286, -5.571428571428571, -5.428571428571429, -6.0, -5.857142857142857, -5.857142857142857, -5.857142857142857, -5.714285714285714, -5.428571428571429, -5.285714285714286, -4.714285714285714, -4.714285714285714, -5.142857142857143, -12.0, -12.0, -12.0, -12.0, -11.714285714285714, -11.857142857142858, -11.285714285714286, -4.428571428571429, -4.571428571428571, -4.714285714285714, -4.857142857142857, -5.714285714285714, -5.857142857142857, -6.0, -6.0, -6.0, -6.0, -6.0, -5.428571428571429, -5.571428571428571, -13.0, -12.857142857142858, -12.714285714285714, -12.571428571428571, -12.428571428571429, -12.571428571428571, -12.285714285714286, -4.428571428571429, -4.285714285714286, -4.285714285714286, -4.285714285714286, -4.142857142857143, -3.5714285714285716, -3.5714285714285716, -3.857142857142857, -4.0, -4.0, -3.857142857142857, -4.0, -4.714285714285714, -4.571428571428571, -4.571428571428571, -4.571428571428571, -4.571428571428571, -4.714285714285714, -4.714285714285714, -4.142857142857143, -4.285714285714286, -4.285714285714286, -4.428571428571429, -4.428571428571429, -4.571428571428571, -4.857142857142857, -4.857142857142857, -4.428571428571429, -6.714285714285714, -12.142857142857142, -20.142857142857142, -29.571428571428573, -40.285714285714285, -48.142857142857146, -51.57142857142857, -53.714285714285715, -49.57142857142857, -42.0, -33.285714285714285, -24.714285714285715, -19.571428571428573, -17.285714285714285, -20.285714285714285, -19.0, -18.571428571428573, -17.857142857142858, -15.714285714285714, -13.142857142857142, -13.285714285714286, -6.428571428571429, -6.857142857142857, -7.285714285714286, -7.571428571428571, -7.857142857142857, -8.857142857142858, -8.571428571428571, -8.285714285714286, -8.285714285714286, -8.285714285714286, -8.285714285714286, -8.142857142857142, -7.428571428571429, -7.0, -6.857142857142857, -6.571428571428571, -6.571428571428571, -6.571428571428571, -6.428571428571429, -6.571428571428571, -6.857142857142857, -7.0, -7.285714285714286, -7.142857142857143, -13.571428571428571, -14.0, -14.285714285714286, -14.142857142857142, -14.142857142857142, -13.857142857142858, -14.285714285714286, -8.571428571428571, -8.0, -7.285714285714286, -7.142857142857143, -7.428571428571429, -14.0, -13.285714285714286, -12.285714285714286, -12.285714285714286, -12.142857142857142, -11.571428571428571, -11.0, -4.428571428571429, -4.571428571428571, -4.714285714285714, -4.714285714285714, -4.857142857142857, -5.285714285714286, -5.428571428571429, -5.571428571428571, -5.714285714285714, -5.857142857142857, -6.142857142857143, -6.714285714285714, -6.571428571428571, -6.428571428571429, -6.285714285714286, -6.285714285714286, -6.142857142857143, -6.285714285714286, -8.571428571428571, -8.857142857142858, -9.0, -9.0, -9.0, -9.142857142857142, -9.0, -6.571428571428571, -6.285714285714286, -6.571428571428571, -6.714285714285714, -6.714285714285714, -6.857142857142857, -7.0, -7.0, -7.714285714285714, -7.857142857142857, -8.142857142857142, -8.571428571428571, -9.0, -8.857142857142858, -9.428571428571429, -9.142857142857142, -9.0, -8.857142857142858, -8.714285714285714, -8.142857142857142, -8.142857142857142], \"yaxis\": \"y\"}, {\"hoverlabel\": {\"namelength\": 0}, \"hovertemplate\": \"variable=\\u4f4f\\u5b85<br>date=%{x}<br>value=%{y}\", \"legendgroup\": \"variable=\\u4f4f\\u5b85\", \"line\": {\"color\": \"#19d3f3\", \"dash\": \"solid\"}, \"mode\": \"lines\", \"name\": \"variable=\\u4f4f\\u5b85\", \"showlegend\": true, \"type\": \"scattergl\", \"x\": [\"2020-02-21\", \"2020-02-22\", \"2020-02-23\", \"2020-02-24\", \"2020-02-25\", \"2020-02-26\", \"2020-02-27\", \"2020-02-28\", \"2020-02-29\", \"2020-03-01\", \"2020-03-02\", \"2020-03-03\", \"2020-03-04\", \"2020-03-05\", \"2020-03-06\", \"2020-03-07\", \"2020-03-08\", \"2020-03-09\", \"2020-03-10\", \"2020-03-11\", \"2020-03-12\", \"2020-03-13\", \"2020-03-14\", \"2020-03-15\", \"2020-03-16\", \"2020-03-17\", \"2020-03-18\", \"2020-03-19\", \"2020-03-20\", \"2020-03-21\", \"2020-03-22\", \"2020-03-23\", \"2020-03-24\", \"2020-03-25\", \"2020-03-26\", \"2020-03-27\", \"2020-03-28\", \"2020-03-29\", \"2020-03-30\", \"2020-03-31\", \"2020-04-01\", \"2020-04-02\", \"2020-04-03\", \"2020-04-04\", \"2020-04-05\", \"2020-04-06\", \"2020-04-07\", \"2020-04-08\", \"2020-04-09\", \"2020-04-10\", \"2020-04-11\", \"2020-04-12\", \"2020-04-13\", \"2020-04-14\", \"2020-04-15\", \"2020-04-16\", \"2020-04-17\", \"2020-04-18\", \"2020-04-19\", \"2020-04-20\", \"2020-04-21\", \"2020-04-22\", \"2020-04-23\", \"2020-04-24\", \"2020-04-25\", \"2020-04-26\", \"2020-04-27\", \"2020-04-28\", \"2020-04-29\", \"2020-04-30\", \"2020-05-01\", \"2020-05-02\", \"2020-05-03\", \"2020-05-04\", \"2020-05-05\", \"2020-05-06\", \"2020-05-07\", \"2020-05-08\", \"2020-05-09\", \"2020-05-10\", \"2020-05-11\", \"2020-05-12\", \"2020-05-13\", \"2020-05-14\", \"2020-05-15\", \"2020-05-16\", \"2020-05-17\", \"2020-05-18\", \"2020-05-19\", \"2020-05-20\", \"2020-05-21\", \"2020-05-22\", \"2020-05-23\", \"2020-05-24\", \"2020-05-25\", \"2020-05-26\", \"2020-05-27\", \"2020-05-28\", \"2020-05-29\", \"2020-05-30\", \"2020-05-31\", \"2020-06-01\", \"2020-06-02\", \"2020-06-03\", \"2020-06-04\", \"2020-06-05\", \"2020-06-06\", \"2020-06-07\", \"2020-06-08\", \"2020-06-09\", \"2020-06-10\", \"2020-06-11\", \"2020-06-12\", \"2020-06-13\", \"2020-06-14\", \"2020-06-15\", \"2020-06-16\", \"2020-06-17\", \"2020-06-18\", \"2020-06-19\", \"2020-06-20\", \"2020-06-21\", \"2020-06-22\", \"2020-06-23\", \"2020-06-24\", \"2020-06-25\", \"2020-06-26\", \"2020-06-27\", \"2020-06-28\", \"2020-06-29\", \"2020-06-30\", \"2020-07-01\", \"2020-07-02\", \"2020-07-03\", \"2020-07-04\", \"2020-07-05\", \"2020-07-06\", \"2020-07-07\", \"2020-07-08\", \"2020-07-09\", \"2020-07-10\", \"2020-07-11\", \"2020-07-12\", \"2020-07-13\", \"2020-07-14\", \"2020-07-15\", \"2020-07-16\", \"2020-07-17\", \"2020-07-18\", \"2020-07-19\", \"2020-07-20\", \"2020-07-21\", \"2020-07-22\", \"2020-07-23\", \"2020-07-24\", \"2020-07-25\", \"2020-07-26\", \"2020-07-27\", \"2020-07-28\", \"2020-07-29\", \"2020-07-30\", \"2020-07-31\", \"2020-08-01\", \"2020-08-02\", \"2020-08-03\", \"2020-08-04\", \"2020-08-05\", \"2020-08-06\", \"2020-08-07\", \"2020-08-08\", \"2020-08-09\", \"2020-08-10\", \"2020-08-11\", \"2020-08-12\", \"2020-08-13\", \"2020-08-14\", \"2020-08-15\", \"2020-08-16\", \"2020-08-17\", \"2020-08-18\", \"2020-08-19\", \"2020-08-20\", \"2020-08-21\", \"2020-08-22\", \"2020-08-23\", \"2020-08-24\", \"2020-08-25\", \"2020-08-26\", \"2020-08-27\", \"2020-08-28\", \"2020-08-29\", \"2020-08-30\", \"2020-08-31\", \"2020-09-01\", \"2020-09-02\", \"2020-09-03\", \"2020-09-04\", \"2020-09-05\", \"2020-09-06\", \"2020-09-07\", \"2020-09-08\", \"2020-09-09\", \"2020-09-10\", \"2020-09-11\", \"2020-09-12\", \"2020-09-13\", \"2020-09-14\", \"2020-09-15\", \"2020-09-16\", \"2020-09-17\", \"2020-09-18\", \"2020-09-19\", \"2020-09-20\", \"2020-09-21\", \"2020-09-22\", \"2020-09-23\", \"2020-09-24\", \"2020-09-25\", \"2020-09-26\", \"2020-09-27\", \"2020-09-28\", \"2020-09-29\", \"2020-09-30\", \"2020-10-01\", \"2020-10-02\", \"2020-10-03\", \"2020-10-04\", \"2020-10-05\", \"2020-10-06\", \"2020-10-07\", \"2020-10-08\", \"2020-10-09\", \"2020-10-10\", \"2020-10-11\", \"2020-10-12\", \"2020-10-13\", \"2020-10-14\", \"2020-10-15\", \"2020-10-16\", \"2020-10-17\", \"2020-10-18\", \"2020-10-19\", \"2020-10-20\", \"2020-10-21\", \"2020-10-22\", \"2020-10-23\", \"2020-10-24\", \"2020-10-25\", \"2020-10-26\", \"2020-10-27\", \"2020-10-28\", \"2020-10-29\", \"2020-10-30\", \"2020-10-31\", \"2020-11-01\", \"2020-11-02\", \"2020-11-03\", \"2020-11-04\", \"2020-11-05\", \"2020-11-06\", \"2020-11-07\", \"2020-11-08\", \"2020-11-09\", \"2020-11-10\", \"2020-11-11\", \"2020-11-12\", \"2020-11-13\", \"2020-11-14\", \"2020-11-15\", \"2020-11-16\", \"2020-11-17\", \"2020-11-18\", \"2020-11-19\", \"2020-11-20\", \"2020-11-21\", \"2020-11-22\", \"2020-11-23\", \"2020-11-24\", \"2020-11-25\", \"2020-11-26\", \"2020-11-27\", \"2020-11-28\", \"2020-11-29\", \"2020-11-30\", \"2020-12-01\", \"2020-12-02\", \"2020-12-03\", \"2020-12-04\", \"2020-12-05\", \"2020-12-06\", \"2020-12-07\", \"2020-12-08\", \"2020-12-09\", \"2020-12-10\", \"2020-12-11\", \"2020-12-12\", \"2020-12-13\", \"2020-12-14\", \"2020-12-15\", \"2020-12-16\", \"2020-12-17\", \"2020-12-18\", \"2020-12-19\", \"2020-12-20\", \"2020-12-21\", \"2020-12-22\", \"2020-12-23\", \"2020-12-24\", \"2020-12-25\", \"2020-12-26\", \"2020-12-27\", \"2020-12-28\", \"2020-12-29\", \"2020-12-30\", \"2020-12-31\", \"2021-01-01\", \"2021-01-02\", \"2021-01-03\", \"2021-01-04\", \"2021-01-05\", \"2021-01-06\", \"2021-01-07\", \"2021-01-08\", \"2021-01-09\", \"2021-01-10\", \"2021-01-11\", \"2021-01-12\", \"2021-01-13\", \"2021-01-14\", \"2021-01-15\", \"2021-01-16\", \"2021-01-17\", \"2021-01-18\", \"2021-01-19\", \"2021-01-20\", \"2021-01-21\", \"2021-01-22\", \"2021-01-23\", \"2021-01-24\", \"2021-01-25\", \"2021-01-26\", \"2021-01-27\", \"2021-01-28\", \"2021-01-29\", \"2021-01-30\", \"2021-01-31\", \"2021-02-01\", \"2021-02-02\", \"2021-02-03\", \"2021-02-04\", \"2021-02-05\", \"2021-02-06\", \"2021-02-07\", \"2021-02-08\", \"2021-02-09\", \"2021-02-10\", \"2021-02-11\", \"2021-02-12\", \"2021-02-13\", \"2021-02-14\", \"2021-02-15\", \"2021-02-16\", \"2021-02-17\", \"2021-02-18\", \"2021-02-19\", \"2021-02-20\", \"2021-02-21\", \"2021-02-22\", \"2021-02-23\", \"2021-02-24\", \"2021-02-25\", \"2021-02-26\", \"2021-02-27\", \"2021-02-28\", \"2021-03-01\", \"2021-03-02\", \"2021-03-03\", \"2021-03-04\", \"2021-03-05\", \"2021-03-06\", \"2021-03-07\", \"2021-03-08\", \"2021-03-09\", \"2021-03-10\", \"2021-03-11\", \"2021-03-12\", \"2021-03-13\", \"2021-03-14\", \"2021-03-15\", \"2021-03-16\", \"2021-03-17\", \"2021-03-18\", \"2021-03-19\", \"2021-03-20\", \"2021-03-21\", \"2021-03-22\", \"2021-03-23\", \"2021-03-24\", \"2021-03-25\", \"2021-03-26\", \"2021-03-27\", \"2021-03-28\", \"2021-03-29\", \"2021-03-30\", \"2021-03-31\", \"2021-04-01\", \"2021-04-02\", \"2021-04-03\", \"2021-04-04\", \"2021-04-05\", \"2021-04-06\", \"2021-04-07\", \"2021-04-08\", \"2021-04-09\", \"2021-04-10\", \"2021-04-11\", \"2021-04-12\", \"2021-04-13\", \"2021-04-14\", \"2021-04-15\", \"2021-04-16\"], \"xaxis\": \"x\", \"y\": [0.7142857142857143, 0.8571428571428571, 0.42857142857142855, 1.8571428571428572, 1.7142857142857142, 1.7142857142857142, 1.8571428571428572, 2.142857142857143, 2.5714285714285716, 3.142857142857143, 1.7142857142857142, 2.0, 2.4285714285714284, 2.7142857142857144, 3.0, 3.142857142857143, 3.2857142857142856, 3.5714285714285716, 4.0, 4.0, 4.0, 4.0, 3.857142857142857, 3.857142857142857, 3.7142857142857144, 3.4285714285714284, 3.2857142857142856, 3.0, 4.428571428571429, 4.285714285714286, 4.142857142857143, 4.142857142857143, 4.0, 4.0, 4.285714285714286, 3.142857142857143, 3.4285714285714284, 3.4285714285714284, 3.5714285714285716, 3.857142857142857, 4.285714285714286, 4.285714285714286, 4.142857142857143, 4.142857142857143, 4.428571428571429, 4.428571428571429, 4.571428571428571, 4.571428571428571, 4.857142857142857, 5.0, 5.428571428571429, 6.285714285714286, 6.857142857142857, 7.0, 7.142857142857143, 7.428571428571429, 8.0, 8.428571428571429, 8.428571428571429, 8.571428571428571, 9.0, 9.428571428571429, 9.857142857142858, 10.0, 10.142857142857142, 10.142857142857142, 10.285714285714286, 10.285714285714286, 11.571428571428571, 11.857142857142858, 12.428571428571429, 12.571428571428571, 13.0, 15.142857142857142, 17.428571428571427, 18.285714285714285, 18.0, 17.428571428571427, 17.428571428571427, 17.0, 14.571428571428571, 12.142857142857142, 9.857142857142858, 9.428571428571429, 9.428571428571429, 9.142857142857142, 8.714285714285714, 9.0, 9.0, 8.857142857142858, 8.857142857142858, 8.428571428571429, 8.0, 7.857142857142857, 7.285714285714286, 7.0, 6.714285714285714, 6.428571428571429, 6.285714285714286, 6.0, 6.0, 5.857142857142857, 5.714285714285714, 5.714285714285714, 5.714285714285714, 5.571428571428571, 5.571428571428571, 5.285714285714286, 5.285714285714286, 5.142857142857143, 5.0, 5.285714285714286, 5.285714285714286, 5.571428571428571, 5.857142857142857, 5.714285714285714, 5.714285714285714, 5.571428571428571, 5.571428571428571, 5.428571428571429, 4.714285714285714, 4.142857142857143, 4.142857142857143, 4.142857142857143, 4.142857142857143, 4.0, 4.0, 4.428571428571429, 4.571428571428571, 4.571428571428571, 4.571428571428571, 4.571428571428571, 4.142857142857143, 4.285714285714286, 4.0, 4.0, 4.428571428571429, 4.857142857142857, 4.857142857142857, 5.0, 5.142857142857143, 5.285714285714286, 5.428571428571429, 5.285714285714286, 4.857142857142857, 4.857142857142857, 4.714285714285714, 4.285714285714286, 4.142857142857143, 4.142857142857143, 3.857142857142857, 3.7142857142857144, 3.5714285714285716, 5.285714285714286, 7.714285714285714, 8.0, 8.0, 8.142857142857142, 8.285714285714286, 8.571428571428571, 7.0, 4.714285714285714, 4.428571428571429, 4.285714285714286, 4.142857142857143, 4.142857142857143, 4.0, 4.0, 3.857142857142857, 3.857142857142857, 3.7142857142857144, 5.571428571428571, 6.0, 6.571428571428571, 7.714285714285714, 9.428571428571429, 10.142857142857142, 10.428571428571429, 8.714285714285714, 8.285714285714286, 7.857142857142857, 6.714285714285714, 5.285714285714286, 4.714285714285714, 4.714285714285714, 4.571428571428571, 4.571428571428571, 4.571428571428571, 4.571428571428571, 4.428571428571429, 4.428571428571429, 4.285714285714286, 4.285714285714286, 4.285714285714286, 4.428571428571429, 4.571428571428571, 4.428571428571429, 4.428571428571429, 5.142857142857143, 8.0, 7.857142857142857, 7.428571428571429, 7.0, 7.0, 7.0, 6.0, 2.857142857142857, 2.5714285714285716, 2.5714285714285716, 2.7142857142857144, 2.5714285714285716, 2.0, 1.5714285714285714, 2.857142857142857, 4.571428571428571, 4.571428571428571, 4.571428571428571, 4.571428571428571, 4.857142857142857, 5.428571428571429, 4.285714285714286, 2.7142857142857144, 2.7142857142857144, 2.5714285714285716, 2.5714285714285716, 2.4285714285714284, 2.4285714285714284, 2.2857142857142856, 2.2857142857142856, 2.2857142857142856, 2.4285714285714284, 2.4285714285714284, 2.7142857142857144, 2.5714285714285716, 2.7142857142857144, 2.7142857142857144, 2.7142857142857144, 2.5714285714285716, 2.5714285714285716, 2.4285714285714284, 2.2857142857142856, 2.2857142857142856, 2.2857142857142856, 2.2857142857142856, 2.5714285714285716, 2.5714285714285716, 2.4285714285714284, 2.4285714285714284, 2.2857142857142856, 2.142857142857143, 2.0, 1.7142857142857142, 1.7142857142857142, 1.7142857142857142, 1.8571428571428572, 2.142857142857143, 4.0, 4.142857142857143, 4.142857142857143, 4.142857142857143, 4.428571428571429, 4.428571428571429, 4.285714285714286, 2.5714285714285716, 2.5714285714285716, 2.5714285714285716, 2.5714285714285716, 2.4285714285714284, 2.4285714285714284, 2.4285714285714284, 2.4285714285714284, 2.4285714285714284, 2.5714285714285716, 2.7142857142857144, 2.7142857142857144, 2.857142857142857, 4.571428571428571, 4.571428571428571, 4.571428571428571, 4.571428571428571, 4.571428571428571, 4.714285714285714, 4.857142857142857, 3.142857142857143, 3.2857142857142856, 3.4285714285714284, 3.4285714285714284, 3.4285714285714284, 3.2857142857142856, 3.142857142857143, 3.142857142857143, 3.142857142857143, 3.0, 2.857142857142857, 2.7142857142857144, 2.7142857142857144, 2.7142857142857144, 2.7142857142857144, 2.5714285714285716, 2.7142857142857144, 2.857142857142857, 2.857142857142857, 2.857142857142857, 2.857142857142857, 2.857142857142857, 3.0, 2.857142857142857, 2.857142857142857, 3.0, 3.142857142857143, 3.2857142857142856, 3.857142857142857, 5.285714285714286, 7.714285714285714, 10.857142857142858, 14.428571428571429, 15.857142857142858, 16.285714285714285, 17.0, 16.142857142857142, 14.0, 11.714285714285714, 9.714285714285714, 9.571428571428571, 9.714285714285714, 10.714285714285714, 10.285714285714286, 10.142857142857142, 9.285714285714286, 7.714285714285714, 6.571428571428571, 6.285714285714286, 4.285714285714286, 4.285714285714286, 4.285714285714286, 4.428571428571429, 4.857142857142857, 5.285714285714286, 5.428571428571429, 5.285714285714286, 5.428571428571429, 5.571428571428571, 5.571428571428571, 5.428571428571429, 5.142857142857143, 4.857142857142857, 5.0, 4.714285714285714, 4.714285714285714, 4.714285714285714, 4.571428571428571, 4.428571428571429, 4.428571428571429, 4.285714285714286, 4.428571428571429, 4.142857142857143, 5.857142857142857, 5.857142857142857, 5.857142857142857, 5.857142857142857, 5.714285714285714, 5.571428571428571, 6.142857142857143, 4.857142857142857, 4.714285714285714, 4.571428571428571, 4.285714285714286, 4.142857142857143, 5.857142857142857, 5.285714285714286, 4.571428571428571, 4.714285714285714, 4.714285714285714, 4.714285714285714, 4.857142857142857, 3.2857142857142856, 3.2857142857142856, 3.4285714285714284, 3.4285714285714284, 3.4285714285714284, 3.4285714285714284, 3.4285714285714284, 3.2857142857142856, 3.2857142857142856, 3.142857142857143, 3.142857142857143, 3.0, 2.857142857142857, 2.7142857142857144, 2.7142857142857144, 2.7142857142857144, 2.7142857142857144, 2.4285714285714284, 2.857142857142857, 3.0, 3.142857142857143, 3.0, 3.0, 3.0, 2.857142857142857, 2.142857142857143, 2.2857142857142856, 2.142857142857143, 2.142857142857143, 2.0, 2.0, 2.142857142857143, 2.4285714285714284, 2.5714285714285716, 2.7142857142857144, 2.7142857142857144, 2.857142857142857, 3.0, 3.0, 3.0, 2.5714285714285716, 2.5714285714285716, 2.857142857142857, 2.857142857142857, 2.5714285714285716, 2.7142857142857144], \"yaxis\": \"y\"}],\n",
              "                        {\"legend\": {\"tracegroupgap\": 0}, \"template\": {\"data\": {\"bar\": [{\"error_x\": {\"color\": \"#2a3f5f\"}, \"error_y\": {\"color\": \"#2a3f5f\"}, \"marker\": {\"line\": {\"color\": \"#E5ECF6\", \"width\": 0.5}}, \"type\": \"bar\"}], \"barpolar\": [{\"marker\": {\"line\": {\"color\": \"#E5ECF6\", \"width\": 0.5}}, \"type\": \"barpolar\"}], \"carpet\": [{\"aaxis\": {\"endlinecolor\": \"#2a3f5f\", \"gridcolor\": \"white\", \"linecolor\": \"white\", \"minorgridcolor\": \"white\", \"startlinecolor\": \"#2a3f5f\"}, \"baxis\": {\"endlinecolor\": \"#2a3f5f\", \"gridcolor\": \"white\", \"linecolor\": \"white\", \"minorgridcolor\": \"white\", \"startlinecolor\": \"#2a3f5f\"}, \"type\": \"carpet\"}], \"choropleth\": [{\"colorbar\": {\"outlinewidth\": 0, \"ticks\": \"\"}, \"type\": \"choropleth\"}], \"contour\": [{\"colorbar\": {\"outlinewidth\": 0, \"ticks\": \"\"}, \"colorscale\": [[0.0, \"#0d0887\"], [0.1111111111111111, \"#46039f\"], [0.2222222222222222, \"#7201a8\"], [0.3333333333333333, \"#9c179e\"], [0.4444444444444444, \"#bd3786\"], [0.5555555555555556, \"#d8576b\"], [0.6666666666666666, \"#ed7953\"], [0.7777777777777778, \"#fb9f3a\"], [0.8888888888888888, \"#fdca26\"], [1.0, \"#f0f921\"]], \"type\": \"contour\"}], \"contourcarpet\": [{\"colorbar\": {\"outlinewidth\": 0, \"ticks\": \"\"}, \"type\": \"contourcarpet\"}], \"heatmap\": [{\"colorbar\": {\"outlinewidth\": 0, \"ticks\": \"\"}, \"colorscale\": [[0.0, \"#0d0887\"], [0.1111111111111111, \"#46039f\"], [0.2222222222222222, \"#7201a8\"], [0.3333333333333333, \"#9c179e\"], [0.4444444444444444, \"#bd3786\"], [0.5555555555555556, \"#d8576b\"], [0.6666666666666666, \"#ed7953\"], [0.7777777777777778, \"#fb9f3a\"], [0.8888888888888888, \"#fdca26\"], [1.0, \"#f0f921\"]], \"type\": \"heatmap\"}], \"heatmapgl\": [{\"colorbar\": {\"outlinewidth\": 0, \"ticks\": \"\"}, \"colorscale\": [[0.0, \"#0d0887\"], [0.1111111111111111, \"#46039f\"], [0.2222222222222222, \"#7201a8\"], [0.3333333333333333, \"#9c179e\"], [0.4444444444444444, \"#bd3786\"], [0.5555555555555556, \"#d8576b\"], [0.6666666666666666, \"#ed7953\"], [0.7777777777777778, \"#fb9f3a\"], [0.8888888888888888, \"#fdca26\"], [1.0, \"#f0f921\"]], \"type\": \"heatmapgl\"}], \"histogram\": [{\"marker\": {\"colorbar\": {\"outlinewidth\": 0, \"ticks\": \"\"}}, \"type\": \"histogram\"}], \"histogram2d\": [{\"colorbar\": {\"outlinewidth\": 0, \"ticks\": \"\"}, \"colorscale\": [[0.0, \"#0d0887\"], [0.1111111111111111, \"#46039f\"], [0.2222222222222222, \"#7201a8\"], [0.3333333333333333, \"#9c179e\"], [0.4444444444444444, \"#bd3786\"], [0.5555555555555556, \"#d8576b\"], [0.6666666666666666, \"#ed7953\"], [0.7777777777777778, \"#fb9f3a\"], [0.8888888888888888, \"#fdca26\"], [1.0, \"#f0f921\"]], \"type\": \"histogram2d\"}], \"histogram2dcontour\": [{\"colorbar\": {\"outlinewidth\": 0, \"ticks\": \"\"}, \"colorscale\": [[0.0, \"#0d0887\"], [0.1111111111111111, \"#46039f\"], [0.2222222222222222, \"#7201a8\"], [0.3333333333333333, \"#9c179e\"], [0.4444444444444444, \"#bd3786\"], [0.5555555555555556, \"#d8576b\"], [0.6666666666666666, \"#ed7953\"], [0.7777777777777778, \"#fb9f3a\"], [0.8888888888888888, \"#fdca26\"], [1.0, \"#f0f921\"]], \"type\": \"histogram2dcontour\"}], \"mesh3d\": [{\"colorbar\": {\"outlinewidth\": 0, \"ticks\": \"\"}, \"type\": \"mesh3d\"}], \"parcoords\": [{\"line\": {\"colorbar\": {\"outlinewidth\": 0, \"ticks\": \"\"}}, \"type\": \"parcoords\"}], \"pie\": [{\"automargin\": true, \"type\": \"pie\"}], \"scatter\": [{\"marker\": {\"colorbar\": {\"outlinewidth\": 0, \"ticks\": \"\"}}, \"type\": \"scatter\"}], \"scatter3d\": [{\"line\": {\"colorbar\": {\"outlinewidth\": 0, \"ticks\": \"\"}}, \"marker\": {\"colorbar\": {\"outlinewidth\": 0, \"ticks\": \"\"}}, \"type\": \"scatter3d\"}], \"scattercarpet\": [{\"marker\": {\"colorbar\": {\"outlinewidth\": 0, \"ticks\": \"\"}}, \"type\": \"scattercarpet\"}], \"scattergeo\": [{\"marker\": {\"colorbar\": {\"outlinewidth\": 0, \"ticks\": \"\"}}, \"type\": \"scattergeo\"}], \"scattergl\": [{\"marker\": {\"colorbar\": {\"outlinewidth\": 0, \"ticks\": \"\"}}, \"type\": \"scattergl\"}], \"scattermapbox\": [{\"marker\": {\"colorbar\": {\"outlinewidth\": 0, \"ticks\": \"\"}}, \"type\": \"scattermapbox\"}], \"scatterpolar\": [{\"marker\": {\"colorbar\": {\"outlinewidth\": 0, \"ticks\": \"\"}}, \"type\": \"scatterpolar\"}], \"scatterpolargl\": [{\"marker\": {\"colorbar\": {\"outlinewidth\": 0, \"ticks\": \"\"}}, \"type\": \"scatterpolargl\"}], \"scatterternary\": [{\"marker\": {\"colorbar\": {\"outlinewidth\": 0, \"ticks\": \"\"}}, \"type\": \"scatterternary\"}], \"surface\": [{\"colorbar\": {\"outlinewidth\": 0, \"ticks\": \"\"}, \"colorscale\": [[0.0, \"#0d0887\"], [0.1111111111111111, \"#46039f\"], [0.2222222222222222, \"#7201a8\"], [0.3333333333333333, \"#9c179e\"], [0.4444444444444444, \"#bd3786\"], [0.5555555555555556, \"#d8576b\"], [0.6666666666666666, \"#ed7953\"], [0.7777777777777778, \"#fb9f3a\"], [0.8888888888888888, \"#fdca26\"], [1.0, \"#f0f921\"]], \"type\": \"surface\"}], \"table\": [{\"cells\": {\"fill\": {\"color\": \"#EBF0F8\"}, \"line\": {\"color\": \"white\"}}, \"header\": {\"fill\": {\"color\": \"#C8D4E3\"}, \"line\": {\"color\": \"white\"}}, \"type\": \"table\"}]}, \"layout\": {\"annotationdefaults\": {\"arrowcolor\": \"#2a3f5f\", \"arrowhead\": 0, \"arrowwidth\": 1}, \"coloraxis\": {\"colorbar\": {\"outlinewidth\": 0, \"ticks\": \"\"}}, \"colorscale\": {\"diverging\": [[0, \"#8e0152\"], [0.1, \"#c51b7d\"], [0.2, \"#de77ae\"], [0.3, \"#f1b6da\"], [0.4, \"#fde0ef\"], [0.5, \"#f7f7f7\"], [0.6, \"#e6f5d0\"], [0.7, \"#b8e186\"], [0.8, \"#7fbc41\"], [0.9, \"#4d9221\"], [1, \"#276419\"]], \"sequential\": [[0.0, \"#0d0887\"], [0.1111111111111111, \"#46039f\"], [0.2222222222222222, \"#7201a8\"], [0.3333333333333333, \"#9c179e\"], [0.4444444444444444, \"#bd3786\"], [0.5555555555555556, \"#d8576b\"], [0.6666666666666666, \"#ed7953\"], [0.7777777777777778, \"#fb9f3a\"], [0.8888888888888888, \"#fdca26\"], [1.0, \"#f0f921\"]], \"sequentialminus\": [[0.0, \"#0d0887\"], [0.1111111111111111, \"#46039f\"], [0.2222222222222222, \"#7201a8\"], [0.3333333333333333, \"#9c179e\"], [0.4444444444444444, \"#bd3786\"], [0.5555555555555556, \"#d8576b\"], [0.6666666666666666, \"#ed7953\"], [0.7777777777777778, \"#fb9f3a\"], [0.8888888888888888, \"#fdca26\"], [1.0, \"#f0f921\"]]}, \"colorway\": [\"#636efa\", \"#EF553B\", \"#00cc96\", \"#ab63fa\", \"#FFA15A\", \"#19d3f3\", \"#FF6692\", \"#B6E880\", \"#FF97FF\", \"#FECB52\"], \"font\": {\"color\": \"#2a3f5f\"}, \"geo\": {\"bgcolor\": \"white\", \"lakecolor\": \"white\", \"landcolor\": \"#E5ECF6\", \"showlakes\": true, \"showland\": true, \"subunitcolor\": \"white\"}, \"hoverlabel\": {\"align\": \"left\"}, \"hovermode\": \"closest\", \"mapbox\": {\"style\": \"light\"}, \"paper_bgcolor\": \"white\", \"plot_bgcolor\": \"#E5ECF6\", \"polar\": {\"angularaxis\": {\"gridcolor\": \"white\", \"linecolor\": \"white\", \"ticks\": \"\"}, \"bgcolor\": \"#E5ECF6\", \"radialaxis\": {\"gridcolor\": \"white\", \"linecolor\": \"white\", \"ticks\": \"\"}}, \"scene\": {\"xaxis\": {\"backgroundcolor\": \"#E5ECF6\", \"gridcolor\": \"white\", \"gridwidth\": 2, \"linecolor\": \"white\", \"showbackground\": true, \"ticks\": \"\", \"zerolinecolor\": \"white\"}, \"yaxis\": {\"backgroundcolor\": \"#E5ECF6\", \"gridcolor\": \"white\", \"gridwidth\": 2, \"linecolor\": \"white\", \"showbackground\": true, \"ticks\": \"\", \"zerolinecolor\": \"white\"}, \"zaxis\": {\"backgroundcolor\": \"#E5ECF6\", \"gridcolor\": \"white\", \"gridwidth\": 2, \"linecolor\": \"white\", \"showbackground\": true, \"ticks\": \"\", \"zerolinecolor\": \"white\"}}, \"shapedefaults\": {\"line\": {\"color\": \"#2a3f5f\"}}, \"ternary\": {\"aaxis\": {\"gridcolor\": \"white\", \"linecolor\": \"white\", \"ticks\": \"\"}, \"baxis\": {\"gridcolor\": \"white\", \"linecolor\": \"white\", \"ticks\": \"\"}, \"bgcolor\": \"#E5ECF6\", \"caxis\": {\"gridcolor\": \"white\", \"linecolor\": \"white\", \"ticks\": \"\"}}, \"title\": {\"x\": 0.05}, \"xaxis\": {\"automargin\": true, \"gridcolor\": \"white\", \"linecolor\": \"white\", \"ticks\": \"\", \"title\": {\"standoff\": 15}, \"zerolinecolor\": \"white\", \"zerolinewidth\": 2}, \"yaxis\": {\"automargin\": true, \"gridcolor\": \"white\", \"linecolor\": \"white\", \"ticks\": \"\", \"title\": {\"standoff\": 15}, \"zerolinecolor\": \"white\", \"zerolinewidth\": 2}}}, \"title\": {\"text\": \"Google Mobility Report (Tokyo)\"}, \"xaxis\": {\"anchor\": \"y\", \"domain\": [0.0, 1.0], \"title\": {\"text\": \"date\"}}, \"yaxis\": {\"anchor\": \"x\", \"domain\": [0.0, 1.0], \"title\": {\"text\": \"value\"}}},\n",
              "                        {\"responsive\": true}\n",
              "                    ).then(function(){\n",
              "                            \n",
              "var gd = document.getElementById('19011b87-332d-448a-b2a9-83fd7703cafa');\n",
              "var x = new MutationObserver(function (mutations, observer) {{\n",
              "        var display = window.getComputedStyle(gd).display;\n",
              "        if (!display || display === 'none') {{\n",
              "            console.log([gd, 'removed!']);\n",
              "            Plotly.purge(gd);\n",
              "            observer.disconnect();\n",
              "        }}\n",
              "}});\n",
              "\n",
              "// Listen for the removal of the full notebook cells\n",
              "var notebookContainer = gd.closest('#notebook-container');\n",
              "if (notebookContainer) {{\n",
              "    x.observe(notebookContainer, {childList: true});\n",
              "}}\n",
              "\n",
              "// Listen for the clearing of the current output cell\n",
              "var outputEl = gd.closest('.output');\n",
              "if (outputEl) {{\n",
              "    x.observe(outputEl, {childList: true});\n",
              "}}\n",
              "\n",
              "                        })\n",
              "                };\n",
              "                \n",
              "            </script>\n",
              "        </div>\n",
              "</body>\n",
              "</html>"
            ]
          },
          "metadata": {
            "tags": []
          }
        }
      ]
    },
    {
      "cell_type": "markdown",
      "metadata": {
        "id": "qYA0DgJdpMHZ"
      },
      "source": [
        "---"
      ]
    },
    {
      "cell_type": "markdown",
      "metadata": {
        "id": "D20k97TgpMHZ"
      },
      "source": [
        "# ここから本気で解析！"
      ]
    },
    {
      "cell_type": "markdown",
      "metadata": {
        "id": "R7VnuAlIpMHZ"
      },
      "source": [
        "---"
      ]
    },
    {
      "cell_type": "markdown",
      "metadata": {
        "id": "ZAnseVrApMHZ"
      },
      "source": [
        "職場への移動，休日の外出の抑制状況を見るには「乗換駅」での人出を評価するのが適切であろう。"
      ]
    },
    {
      "cell_type": "markdown",
      "metadata": {
        "id": "7EOfpg93pMHa"
      },
      "source": [
        "## 日本の都道府県を対象とした解析"
      ]
    },
    {
      "cell_type": "markdown",
      "metadata": {
        "id": "GedtNIXApMHa"
      },
      "source": [
        "### 日本のデータのみを取り出す\n",
        "日本のデータのみを取り出すには df['country_region_code'] == 'JP' という条件を与えればよい。"
      ]
    },
    {
      "cell_type": "code",
      "metadata": {
        "id": "zxm0GVLWpMHa"
      },
      "source": [
        "df_japan = df.copy() # 大元のデータフレーム df を壊したくないから，コピーをとる\n",
        "condition = (df['country_region_code'] == 'JP') # 絞り込むための条件\n",
        "df_japan = df_japan[condition] # 絞り込み"
      ],
      "execution_count": null,
      "outputs": []
    },
    {
      "cell_type": "markdown",
      "metadata": {
        "id": "y2ok0PI_pMHa"
      },
      "source": [
        "### 特定の都道府県のみを取り出す\n",
        "ピボット(pivot)を用いてデータを並べ替える。\n",
        "\n",
        "日本のデータのみを含むデータフレーム df_japan に対して，sub_region_1 の値を指定し，特定の都道府県のデータを取り出す。"
      ]
    },
    {
      "cell_type": "markdown",
      "metadata": {
        "id": "Pc8-1U_QpMHa"
      },
      "source": [
        "#### ピボットを用いた並び替え"
      ]
    },
    {
      "cell_type": "code",
      "metadata": {
        "colab": {
          "base_uri": "https://localhost:8080/",
          "height": 309
        },
        "id": "v-0-iPZspMHb",
        "outputId": "08b47684-5815-4a22-eedf-b62fd4ebf984"
      },
      "source": [
        "# 列を sub_region_1 (都道府県名)，表中の値として \"乗換駅\" を指定し，ピポット\n",
        "# その後，\"date\" (年月日)列と結合\n",
        "japan = pd.concat([df_japan['date'], df_japan.pivot(columns='sub_region_1', values='乗換駅')], axis=1)\n",
        "japan.head()"
      ],
      "execution_count": null,
      "outputs": [
        {
          "output_type": "execute_result",
          "data": {
            "text/html": [
              "<div>\n",
              "<style scoped>\n",
              "    .dataframe tbody tr th:only-of-type {\n",
              "        vertical-align: middle;\n",
              "    }\n",
              "\n",
              "    .dataframe tbody tr th {\n",
              "        vertical-align: top;\n",
              "    }\n",
              "\n",
              "    .dataframe thead th {\n",
              "        text-align: right;\n",
              "    }\n",
              "</style>\n",
              "<table border=\"1\" class=\"dataframe\">\n",
              "  <thead>\n",
              "    <tr style=\"text-align: right;\">\n",
              "      <th></th>\n",
              "      <th>date</th>\n",
              "      <th>NaN</th>\n",
              "      <th>Aichi</th>\n",
              "      <th>Akita</th>\n",
              "      <th>Aomori</th>\n",
              "      <th>Chiba</th>\n",
              "      <th>Ehime</th>\n",
              "      <th>Fukui</th>\n",
              "      <th>Fukuoka</th>\n",
              "      <th>Fukushima</th>\n",
              "      <th>Gifu</th>\n",
              "      <th>Gunma</th>\n",
              "      <th>Hiroshima</th>\n",
              "      <th>Hokkaido</th>\n",
              "      <th>Hyogo</th>\n",
              "      <th>Ibaraki</th>\n",
              "      <th>Ishikawa</th>\n",
              "      <th>Iwate</th>\n",
              "      <th>Kagawa</th>\n",
              "      <th>Kagoshima</th>\n",
              "      <th>Kanagawa</th>\n",
              "      <th>Kochi</th>\n",
              "      <th>Kumamoto</th>\n",
              "      <th>Kyoto</th>\n",
              "      <th>Mie</th>\n",
              "      <th>Miyagi</th>\n",
              "      <th>Miyazaki</th>\n",
              "      <th>Nagano</th>\n",
              "      <th>Nagasaki</th>\n",
              "      <th>Nara</th>\n",
              "      <th>Niigata</th>\n",
              "      <th>Oita</th>\n",
              "      <th>Okayama</th>\n",
              "      <th>Okinawa</th>\n",
              "      <th>Osaka</th>\n",
              "      <th>Saga</th>\n",
              "      <th>Saitama</th>\n",
              "      <th>Shiga</th>\n",
              "      <th>Shimane</th>\n",
              "      <th>Shizuoka</th>\n",
              "      <th>Tochigi</th>\n",
              "      <th>Tokushima</th>\n",
              "      <th>Tokyo</th>\n",
              "      <th>Tottori</th>\n",
              "      <th>Toyama</th>\n",
              "      <th>Wakayama</th>\n",
              "      <th>Yamagata</th>\n",
              "      <th>Yamaguchi</th>\n",
              "      <th>Yamanashi</th>\n",
              "    </tr>\n",
              "  </thead>\n",
              "  <tbody>\n",
              "    <tr>\n",
              "      <th>2499817</th>\n",
              "      <td>2020-02-15</td>\n",
              "      <td>1.0</td>\n",
              "      <td>NaN</td>\n",
              "      <td>NaN</td>\n",
              "      <td>NaN</td>\n",
              "      <td>NaN</td>\n",
              "      <td>NaN</td>\n",
              "      <td>NaN</td>\n",
              "      <td>NaN</td>\n",
              "      <td>NaN</td>\n",
              "      <td>NaN</td>\n",
              "      <td>NaN</td>\n",
              "      <td>NaN</td>\n",
              "      <td>NaN</td>\n",
              "      <td>NaN</td>\n",
              "      <td>NaN</td>\n",
              "      <td>NaN</td>\n",
              "      <td>NaN</td>\n",
              "      <td>NaN</td>\n",
              "      <td>NaN</td>\n",
              "      <td>NaN</td>\n",
              "      <td>NaN</td>\n",
              "      <td>NaN</td>\n",
              "      <td>NaN</td>\n",
              "      <td>NaN</td>\n",
              "      <td>NaN</td>\n",
              "      <td>NaN</td>\n",
              "      <td>NaN</td>\n",
              "      <td>NaN</td>\n",
              "      <td>NaN</td>\n",
              "      <td>NaN</td>\n",
              "      <td>NaN</td>\n",
              "      <td>NaN</td>\n",
              "      <td>NaN</td>\n",
              "      <td>NaN</td>\n",
              "      <td>NaN</td>\n",
              "      <td>NaN</td>\n",
              "      <td>NaN</td>\n",
              "      <td>NaN</td>\n",
              "      <td>NaN</td>\n",
              "      <td>NaN</td>\n",
              "      <td>NaN</td>\n",
              "      <td>NaN</td>\n",
              "      <td>NaN</td>\n",
              "      <td>NaN</td>\n",
              "      <td>NaN</td>\n",
              "      <td>NaN</td>\n",
              "      <td>NaN</td>\n",
              "      <td>NaN</td>\n",
              "    </tr>\n",
              "    <tr>\n",
              "      <th>2499818</th>\n",
              "      <td>2020-02-16</td>\n",
              "      <td>-10.0</td>\n",
              "      <td>NaN</td>\n",
              "      <td>NaN</td>\n",
              "      <td>NaN</td>\n",
              "      <td>NaN</td>\n",
              "      <td>NaN</td>\n",
              "      <td>NaN</td>\n",
              "      <td>NaN</td>\n",
              "      <td>NaN</td>\n",
              "      <td>NaN</td>\n",
              "      <td>NaN</td>\n",
              "      <td>NaN</td>\n",
              "      <td>NaN</td>\n",
              "      <td>NaN</td>\n",
              "      <td>NaN</td>\n",
              "      <td>NaN</td>\n",
              "      <td>NaN</td>\n",
              "      <td>NaN</td>\n",
              "      <td>NaN</td>\n",
              "      <td>NaN</td>\n",
              "      <td>NaN</td>\n",
              "      <td>NaN</td>\n",
              "      <td>NaN</td>\n",
              "      <td>NaN</td>\n",
              "      <td>NaN</td>\n",
              "      <td>NaN</td>\n",
              "      <td>NaN</td>\n",
              "      <td>NaN</td>\n",
              "      <td>NaN</td>\n",
              "      <td>NaN</td>\n",
              "      <td>NaN</td>\n",
              "      <td>NaN</td>\n",
              "      <td>NaN</td>\n",
              "      <td>NaN</td>\n",
              "      <td>NaN</td>\n",
              "      <td>NaN</td>\n",
              "      <td>NaN</td>\n",
              "      <td>NaN</td>\n",
              "      <td>NaN</td>\n",
              "      <td>NaN</td>\n",
              "      <td>NaN</td>\n",
              "      <td>NaN</td>\n",
              "      <td>NaN</td>\n",
              "      <td>NaN</td>\n",
              "      <td>NaN</td>\n",
              "      <td>NaN</td>\n",
              "      <td>NaN</td>\n",
              "      <td>NaN</td>\n",
              "    </tr>\n",
              "    <tr>\n",
              "      <th>2499819</th>\n",
              "      <td>2020-02-17</td>\n",
              "      <td>-1.0</td>\n",
              "      <td>NaN</td>\n",
              "      <td>NaN</td>\n",
              "      <td>NaN</td>\n",
              "      <td>NaN</td>\n",
              "      <td>NaN</td>\n",
              "      <td>NaN</td>\n",
              "      <td>NaN</td>\n",
              "      <td>NaN</td>\n",
              "      <td>NaN</td>\n",
              "      <td>NaN</td>\n",
              "      <td>NaN</td>\n",
              "      <td>NaN</td>\n",
              "      <td>NaN</td>\n",
              "      <td>NaN</td>\n",
              "      <td>NaN</td>\n",
              "      <td>NaN</td>\n",
              "      <td>NaN</td>\n",
              "      <td>NaN</td>\n",
              "      <td>NaN</td>\n",
              "      <td>NaN</td>\n",
              "      <td>NaN</td>\n",
              "      <td>NaN</td>\n",
              "      <td>NaN</td>\n",
              "      <td>NaN</td>\n",
              "      <td>NaN</td>\n",
              "      <td>NaN</td>\n",
              "      <td>NaN</td>\n",
              "      <td>NaN</td>\n",
              "      <td>NaN</td>\n",
              "      <td>NaN</td>\n",
              "      <td>NaN</td>\n",
              "      <td>NaN</td>\n",
              "      <td>NaN</td>\n",
              "      <td>NaN</td>\n",
              "      <td>NaN</td>\n",
              "      <td>NaN</td>\n",
              "      <td>NaN</td>\n",
              "      <td>NaN</td>\n",
              "      <td>NaN</td>\n",
              "      <td>NaN</td>\n",
              "      <td>NaN</td>\n",
              "      <td>NaN</td>\n",
              "      <td>NaN</td>\n",
              "      <td>NaN</td>\n",
              "      <td>NaN</td>\n",
              "      <td>NaN</td>\n",
              "      <td>NaN</td>\n",
              "    </tr>\n",
              "    <tr>\n",
              "      <th>2499820</th>\n",
              "      <td>2020-02-18</td>\n",
              "      <td>-2.0</td>\n",
              "      <td>NaN</td>\n",
              "      <td>NaN</td>\n",
              "      <td>NaN</td>\n",
              "      <td>NaN</td>\n",
              "      <td>NaN</td>\n",
              "      <td>NaN</td>\n",
              "      <td>NaN</td>\n",
              "      <td>NaN</td>\n",
              "      <td>NaN</td>\n",
              "      <td>NaN</td>\n",
              "      <td>NaN</td>\n",
              "      <td>NaN</td>\n",
              "      <td>NaN</td>\n",
              "      <td>NaN</td>\n",
              "      <td>NaN</td>\n",
              "      <td>NaN</td>\n",
              "      <td>NaN</td>\n",
              "      <td>NaN</td>\n",
              "      <td>NaN</td>\n",
              "      <td>NaN</td>\n",
              "      <td>NaN</td>\n",
              "      <td>NaN</td>\n",
              "      <td>NaN</td>\n",
              "      <td>NaN</td>\n",
              "      <td>NaN</td>\n",
              "      <td>NaN</td>\n",
              "      <td>NaN</td>\n",
              "      <td>NaN</td>\n",
              "      <td>NaN</td>\n",
              "      <td>NaN</td>\n",
              "      <td>NaN</td>\n",
              "      <td>NaN</td>\n",
              "      <td>NaN</td>\n",
              "      <td>NaN</td>\n",
              "      <td>NaN</td>\n",
              "      <td>NaN</td>\n",
              "      <td>NaN</td>\n",
              "      <td>NaN</td>\n",
              "      <td>NaN</td>\n",
              "      <td>NaN</td>\n",
              "      <td>NaN</td>\n",
              "      <td>NaN</td>\n",
              "      <td>NaN</td>\n",
              "      <td>NaN</td>\n",
              "      <td>NaN</td>\n",
              "      <td>NaN</td>\n",
              "      <td>NaN</td>\n",
              "    </tr>\n",
              "    <tr>\n",
              "      <th>2499821</th>\n",
              "      <td>2020-02-19</td>\n",
              "      <td>-3.0</td>\n",
              "      <td>NaN</td>\n",
              "      <td>NaN</td>\n",
              "      <td>NaN</td>\n",
              "      <td>NaN</td>\n",
              "      <td>NaN</td>\n",
              "      <td>NaN</td>\n",
              "      <td>NaN</td>\n",
              "      <td>NaN</td>\n",
              "      <td>NaN</td>\n",
              "      <td>NaN</td>\n",
              "      <td>NaN</td>\n",
              "      <td>NaN</td>\n",
              "      <td>NaN</td>\n",
              "      <td>NaN</td>\n",
              "      <td>NaN</td>\n",
              "      <td>NaN</td>\n",
              "      <td>NaN</td>\n",
              "      <td>NaN</td>\n",
              "      <td>NaN</td>\n",
              "      <td>NaN</td>\n",
              "      <td>NaN</td>\n",
              "      <td>NaN</td>\n",
              "      <td>NaN</td>\n",
              "      <td>NaN</td>\n",
              "      <td>NaN</td>\n",
              "      <td>NaN</td>\n",
              "      <td>NaN</td>\n",
              "      <td>NaN</td>\n",
              "      <td>NaN</td>\n",
              "      <td>NaN</td>\n",
              "      <td>NaN</td>\n",
              "      <td>NaN</td>\n",
              "      <td>NaN</td>\n",
              "      <td>NaN</td>\n",
              "      <td>NaN</td>\n",
              "      <td>NaN</td>\n",
              "      <td>NaN</td>\n",
              "      <td>NaN</td>\n",
              "      <td>NaN</td>\n",
              "      <td>NaN</td>\n",
              "      <td>NaN</td>\n",
              "      <td>NaN</td>\n",
              "      <td>NaN</td>\n",
              "      <td>NaN</td>\n",
              "      <td>NaN</td>\n",
              "      <td>NaN</td>\n",
              "      <td>NaN</td>\n",
              "    </tr>\n",
              "  </tbody>\n",
              "</table>\n",
              "</div>"
            ],
            "text/plain": [
              "               date   NaN  Aichi  ...  Yamagata  Yamaguchi  Yamanashi\n",
              "2499817  2020-02-15   1.0    NaN  ...       NaN        NaN        NaN\n",
              "2499818  2020-02-16 -10.0    NaN  ...       NaN        NaN        NaN\n",
              "2499819  2020-02-17  -1.0    NaN  ...       NaN        NaN        NaN\n",
              "2499820  2020-02-18  -2.0    NaN  ...       NaN        NaN        NaN\n",
              "2499821  2020-02-19  -3.0    NaN  ...       NaN        NaN        NaN\n",
              "\n",
              "[5 rows x 49 columns]"
            ]
          },
          "metadata": {
            "tags": []
          },
          "execution_count": 57
        }
      ]
    },
    {
      "cell_type": "markdown",
      "metadata": {
        "id": "PbIPuSYSpMHb"
      },
      "source": [
        "#### 分析対象地域を山口県，東京都，大阪府に絞る"
      ]
    },
    {
      "cell_type": "code",
      "metadata": {
        "id": "WYMf3aSipMHb"
      },
      "source": [
        "# 分析対象地域の絞り込み\n",
        "japan = japan[['date', 'Yamaguchi', 'Tokyo', 'Osaka']] # 特定の都道府県に絞り込む\n",
        "japan = japan.fillna(0) # 値が NaN の箇所をゼロで埋める\n",
        "japan = japan.groupby('date').sum() # グルーピングして集計\n",
        "\n",
        "# 移動平均を求める\n",
        "window = 7 # ウィンドウ幅\n",
        "rolling_mean = japan[['Yamaguchi', 'Tokyo', 'Osaka']].rolling(window).mean()\n",
        "# rolling_mean = pd.concat([japan['date'], rolling_mean], axis=1)\n",
        "rolling_mean = rolling_mean[window-1:] # 頭の window 分を削除"
      ],
      "execution_count": null,
      "outputs": []
    },
    {
      "cell_type": "markdown",
      "metadata": {
        "id": "jA1wWXoGpMHb"
      },
      "source": [
        "#### 可視化"
      ]
    },
    {
      "cell_type": "code",
      "metadata": {
        "colab": {
          "base_uri": "https://localhost:8080/",
          "height": 542
        },
        "id": "_WM2VNyvpMHb",
        "outputId": "5938a72d-7249-488b-b155-bc1eeea09f7b"
      },
      "source": [
        "import plotly_express as px\n",
        "rolling_mean =  rolling_mean.reset_index() # 'date' をインデック列から外す\n",
        "df_melt = rolling_mean.melt(id_vars=\"date\", value_vars=[\"Yamaguchi\", \"Tokyo\", \"Osaka\"])\n",
        "fig = px.line(df_melt, x=\"date\", y=\"value\", color='variable', title=\"Google Mobility Report (Yamaguchi / Tokyo / Osaka)\")\n",
        "fig.show()"
      ],
      "execution_count": null,
      "outputs": [
        {
          "output_type": "display_data",
          "data": {
            "text/html": [
              "<html>\n",
              "<head><meta charset=\"utf-8\" /></head>\n",
              "<body>\n",
              "    <div>\n",
              "            <script src=\"https://cdnjs.cloudflare.com/ajax/libs/mathjax/2.7.5/MathJax.js?config=TeX-AMS-MML_SVG\"></script><script type=\"text/javascript\">if (window.MathJax) {MathJax.Hub.Config({SVG: {font: \"STIX-Web\"}});}</script>\n",
              "                <script type=\"text/javascript\">window.PlotlyConfig = {MathJaxConfig: 'local'};</script>\n",
              "        <script src=\"https://cdn.plot.ly/plotly-latest.min.js\"></script>    \n",
              "            <div id=\"4846899a-4d0a-4416-8797-557c9292943a\" class=\"plotly-graph-div\" style=\"height:525px; width:100%;\"></div>\n",
              "            <script type=\"text/javascript\">\n",
              "                \n",
              "                    window.PLOTLYENV=window.PLOTLYENV || {};\n",
              "                    \n",
              "                if (document.getElementById(\"4846899a-4d0a-4416-8797-557c9292943a\")) {\n",
              "                    Plotly.newPlot(\n",
              "                        '4846899a-4d0a-4416-8797-557c9292943a',\n",
              "                        [{\"hoverlabel\": {\"namelength\": 0}, \"hovertemplate\": \"variable=Yamaguchi<br>date=%{x}<br>value=%{y}\", \"legendgroup\": \"variable=Yamaguchi\", \"line\": {\"color\": \"#636efa\", \"dash\": \"solid\"}, \"mode\": \"lines\", \"name\": \"variable=Yamaguchi\", \"showlegend\": true, \"type\": \"scattergl\", \"x\": [\"2020-02-21\", \"2020-02-22\", \"2020-02-23\", \"2020-02-24\", \"2020-02-25\", \"2020-02-26\", \"2020-02-27\", \"2020-02-28\", \"2020-02-29\", \"2020-03-01\", \"2020-03-02\", \"2020-03-03\", \"2020-03-04\", \"2020-03-05\", \"2020-03-06\", \"2020-03-07\", \"2020-03-08\", \"2020-03-09\", \"2020-03-10\", \"2020-03-11\", \"2020-03-12\", \"2020-03-13\", \"2020-03-14\", \"2020-03-15\", \"2020-03-16\", \"2020-03-17\", \"2020-03-18\", \"2020-03-19\", \"2020-03-20\", \"2020-03-21\", \"2020-03-22\", \"2020-03-23\", \"2020-03-24\", \"2020-03-25\", \"2020-03-26\", \"2020-03-27\", \"2020-03-28\", \"2020-03-29\", \"2020-03-30\", \"2020-03-31\", \"2020-04-01\", \"2020-04-02\", \"2020-04-03\", \"2020-04-04\", \"2020-04-05\", \"2020-04-06\", \"2020-04-07\", \"2020-04-08\", \"2020-04-09\", \"2020-04-10\", \"2020-04-11\", \"2020-04-12\", \"2020-04-13\", \"2020-04-14\", \"2020-04-15\", \"2020-04-16\", \"2020-04-17\", \"2020-04-18\", \"2020-04-19\", \"2020-04-20\", \"2020-04-21\", \"2020-04-22\", \"2020-04-23\", \"2020-04-24\", \"2020-04-25\", \"2020-04-26\", \"2020-04-27\", \"2020-04-28\", \"2020-04-29\", \"2020-04-30\", \"2020-05-01\", \"2020-05-02\", \"2020-05-03\", \"2020-05-04\", \"2020-05-05\", \"2020-05-06\", \"2020-05-07\", \"2020-05-08\", \"2020-05-09\", \"2020-05-10\", \"2020-05-11\", \"2020-05-12\", \"2020-05-13\", \"2020-05-14\", \"2020-05-15\", \"2020-05-16\", \"2020-05-17\", \"2020-05-18\", \"2020-05-19\", \"2020-05-20\", \"2020-05-21\", \"2020-05-22\", \"2020-05-23\", \"2020-05-24\", \"2020-05-25\", \"2020-05-26\", \"2020-05-27\", \"2020-05-28\", \"2020-05-29\", \"2020-05-30\", \"2020-05-31\", \"2020-06-01\", \"2020-06-02\", \"2020-06-03\", \"2020-06-04\", \"2020-06-05\", \"2020-06-06\", \"2020-06-07\", \"2020-06-08\", \"2020-06-09\", \"2020-06-10\", \"2020-06-11\", \"2020-06-12\", \"2020-06-13\", \"2020-06-14\", \"2020-06-15\", \"2020-06-16\", \"2020-06-17\", \"2020-06-18\", \"2020-06-19\", \"2020-06-20\", \"2020-06-21\", \"2020-06-22\", \"2020-06-23\", \"2020-06-24\", \"2020-06-25\", \"2020-06-26\", \"2020-06-27\", \"2020-06-28\", \"2020-06-29\", \"2020-06-30\", \"2020-07-01\", \"2020-07-02\", \"2020-07-03\", \"2020-07-04\", \"2020-07-05\", \"2020-07-06\", \"2020-07-07\", \"2020-07-08\", \"2020-07-09\", \"2020-07-10\", \"2020-07-11\", \"2020-07-12\", \"2020-07-13\", \"2020-07-14\", \"2020-07-15\", \"2020-07-16\", \"2020-07-17\", \"2020-07-18\", \"2020-07-19\", \"2020-07-20\", \"2020-07-21\", \"2020-07-22\", \"2020-07-23\", \"2020-07-24\", \"2020-07-25\", \"2020-07-26\", \"2020-07-27\", \"2020-07-28\", \"2020-07-29\", \"2020-07-30\", \"2020-07-31\", \"2020-08-01\", \"2020-08-02\", \"2020-08-03\", \"2020-08-04\", \"2020-08-05\", \"2020-08-06\", \"2020-08-07\", \"2020-08-08\", \"2020-08-09\", \"2020-08-10\", \"2020-08-11\", \"2020-08-12\", \"2020-08-13\", \"2020-08-14\", \"2020-08-15\", \"2020-08-16\", \"2020-08-17\", \"2020-08-18\", \"2020-08-19\", \"2020-08-20\", \"2020-08-21\", \"2020-08-22\", \"2020-08-23\", \"2020-08-24\", \"2020-08-25\", \"2020-08-26\", \"2020-08-27\", \"2020-08-28\", \"2020-08-29\", \"2020-08-30\", \"2020-08-31\", \"2020-09-01\", \"2020-09-02\", \"2020-09-03\", \"2020-09-04\", \"2020-09-05\", \"2020-09-06\", \"2020-09-07\", \"2020-09-08\", \"2020-09-09\", \"2020-09-10\", \"2020-09-11\", \"2020-09-12\", \"2020-09-13\", \"2020-09-14\", \"2020-09-15\", \"2020-09-16\", \"2020-09-17\", \"2020-09-18\", \"2020-09-19\", \"2020-09-20\", \"2020-09-21\", \"2020-09-22\", \"2020-09-23\", \"2020-09-24\", \"2020-09-25\", \"2020-09-26\", \"2020-09-27\", \"2020-09-28\", \"2020-09-29\", \"2020-09-30\", \"2020-10-01\", \"2020-10-02\", \"2020-10-03\", \"2020-10-04\", \"2020-10-05\", \"2020-10-06\", \"2020-10-07\", \"2020-10-08\", \"2020-10-09\", \"2020-10-10\", \"2020-10-11\", \"2020-10-12\", \"2020-10-13\", \"2020-10-14\", \"2020-10-15\", \"2020-10-16\", \"2020-10-17\", \"2020-10-18\", \"2020-10-19\", \"2020-10-20\", \"2020-10-21\", \"2020-10-22\", \"2020-10-23\", \"2020-10-24\", \"2020-10-25\", \"2020-10-26\", \"2020-10-27\", \"2020-10-28\", \"2020-10-29\", \"2020-10-30\", \"2020-10-31\", \"2020-11-01\", \"2020-11-02\", \"2020-11-03\", \"2020-11-04\", \"2020-11-05\", \"2020-11-06\", \"2020-11-07\", \"2020-11-08\", \"2020-11-09\", \"2020-11-10\", \"2020-11-11\", \"2020-11-12\", \"2020-11-13\", \"2020-11-14\", \"2020-11-15\", \"2020-11-16\", \"2020-11-17\", \"2020-11-18\", \"2020-11-19\", \"2020-11-20\", \"2020-11-21\", \"2020-11-22\", \"2020-11-23\", \"2020-11-24\", \"2020-11-25\", \"2020-11-26\", \"2020-11-27\", \"2020-11-28\", \"2020-11-29\", \"2020-11-30\", \"2020-12-01\", \"2020-12-02\", \"2020-12-03\", \"2020-12-04\", \"2020-12-05\", \"2020-12-06\", \"2020-12-07\", \"2020-12-08\", \"2020-12-09\", \"2020-12-10\", \"2020-12-11\", \"2020-12-12\", \"2020-12-13\", \"2020-12-14\", \"2020-12-15\", \"2020-12-16\", \"2020-12-17\", \"2020-12-18\", \"2020-12-19\", \"2020-12-20\", \"2020-12-21\", \"2020-12-22\", \"2020-12-23\", \"2020-12-24\", \"2020-12-25\", \"2020-12-26\", \"2020-12-27\", \"2020-12-28\", \"2020-12-29\", \"2020-12-30\", \"2020-12-31\", \"2021-01-01\", \"2021-01-02\", \"2021-01-03\", \"2021-01-04\", \"2021-01-05\", \"2021-01-06\", \"2021-01-07\", \"2021-01-08\", \"2021-01-09\", \"2021-01-10\", \"2021-01-11\", \"2021-01-12\", \"2021-01-13\", \"2021-01-14\", \"2021-01-15\", \"2021-01-16\", \"2021-01-17\", \"2021-01-18\", \"2021-01-19\", \"2021-01-20\", \"2021-01-21\", \"2021-01-22\", \"2021-01-23\", \"2021-01-24\", \"2021-01-25\", \"2021-01-26\", \"2021-01-27\", \"2021-01-28\", \"2021-01-29\", \"2021-01-30\", \"2021-01-31\", \"2021-02-01\", \"2021-02-02\", \"2021-02-03\", \"2021-02-04\", \"2021-02-05\", \"2021-02-06\", \"2021-02-07\", \"2021-02-08\", \"2021-02-09\", \"2021-02-10\", \"2021-02-11\", \"2021-02-12\", \"2021-02-13\", \"2021-02-14\", \"2021-02-15\", \"2021-02-16\", \"2021-02-17\", \"2021-02-18\", \"2021-02-19\", \"2021-02-20\", \"2021-02-21\", \"2021-02-22\", \"2021-02-23\", \"2021-02-24\", \"2021-02-25\", \"2021-02-26\", \"2021-02-27\", \"2021-02-28\", \"2021-03-01\", \"2021-03-02\", \"2021-03-03\", \"2021-03-04\", \"2021-03-05\", \"2021-03-06\", \"2021-03-07\", \"2021-03-08\", \"2021-03-09\", \"2021-03-10\", \"2021-03-11\", \"2021-03-12\", \"2021-03-13\", \"2021-03-14\", \"2021-03-15\", \"2021-03-16\", \"2021-03-17\", \"2021-03-18\", \"2021-03-19\", \"2021-03-20\", \"2021-03-21\", \"2021-03-22\", \"2021-03-23\", \"2021-03-24\", \"2021-03-25\", \"2021-03-26\", \"2021-03-27\", \"2021-03-28\", \"2021-03-29\", \"2021-03-30\", \"2021-03-31\", \"2021-04-01\", \"2021-04-02\", \"2021-04-03\", \"2021-04-04\", \"2021-04-05\", \"2021-04-06\", \"2021-04-07\", \"2021-04-08\", \"2021-04-09\", \"2021-04-10\", \"2021-04-11\", \"2021-04-12\", \"2021-04-13\", \"2021-04-14\", \"2021-04-15\", \"2021-04-16\"], \"xaxis\": \"x\", \"y\": [0.7142857142857143, 1.7142857142857142, 6.142857142857143, 8.428571428571429, 9.142857142857142, 9.142857142857142, 8.285714285714286, 6.0, 1.4285714285714286, -4.285714285714286, -8.571428571428571, -10.857142857142858, -13.571428571428571, -15.428571428571429, -16.571428571428573, -17.142857142857142, -17.571428571428573, -17.571428571428573, -18.571428571428573, -17.714285714285715, -17.0, -16.571428571428573, -15.0, -14.142857142857142, -14.0, -12.428571428571429, -11.857142857142858, -10.142857142857142, -8.0, -5.428571428571429, -4.142857142857143, -2.857142857142857, -2.7142857142857144, -2.0, -3.5714285714285716, -6.571428571428571, -9.714285714285714, -10.0, -10.857142857142858, -11.571428571428571, -14.0, -14.428571428571429, -13.857142857142858, -13.714285714285714, -15.714285714285714, -16.571428571428573, -17.285714285714285, -17.428571428571427, -18.714285714285715, -20.0, -22.142857142857142, -27.0, -29.142857142857142, -30.0, -30.714285714285715, -31.714285714285715, -33.42857142857143, -35.0, -34.285714285714285, -34.857142857142854, -36.285714285714285, -37.714285714285715, -39.0, -39.285714285714285, -39.714285714285715, -40.142857142857146, -40.42857142857143, -40.857142857142854, -42.714285714285715, -43.142857142857146, -43.857142857142854, -44.57142857142857, -47.285714285714285, -50.42857142857143, -53.142857142857146, -54.285714285714285, -54.142857142857146, -53.42857142857143, -53.714285714285715, -51.285714285714285, -47.42857142857143, -44.142857142857146, -40.857142857142854, -39.857142857142854, -40.142857142857146, -39.42857142857143, -37.57142857142857, -38.714285714285715, -38.714285714285715, -38.142857142857146, -37.714285714285715, -36.142857142857146, -34.0, -32.857142857142854, -30.285714285714285, -29.142857142857142, -27.857142857142858, -26.714285714285715, -26.0, -25.571428571428573, -26.285714285714285, -26.571428571428573, -26.142857142857142, -26.428571428571427, -26.428571428571427, -26.0, -25.571428571428573, -23.714285714285715, -23.0, -22.571428571428573, -22.428571428571427, -23.142857142857142, -23.142857142857142, -24.428571428571427, -26.142857142857142, -26.0, -25.571428571428573, -24.571428571428573, -24.571428571428573, -24.428571428571427, -21.714285714285715, -18.285714285714285, -17.571428571428573, -17.285714285714285, -17.0, -16.0, -15.142857142857142, -16.142857142857142, -16.857142857142858, -17.285714285714285, -17.857142857142858, -18.142857142857142, -17.142857142857142, -17.714285714285715, -17.142857142857142, -17.285714285714285, -19.0, -21.857142857142858, -21.714285714285715, -21.857142857142858, -22.142857142857142, -22.857142857142858, -23.857142857142858, -22.714285714285715, -19.714285714285715, -19.571428571428573, -19.285714285714285, -18.0, -17.0, -16.285714285714285, -15.0, -14.0, -12.857142857142858, -12.285714285714286, -15.142857142857142, -14.285714285714286, -13.142857142857142, -13.857142857142858, -14.428571428571429, -15.714285714285714, -16.428571428571427, -14.0, -14.571428571428571, -15.285714285714286, -15.0, -14.857142857142858, -14.428571428571429, -14.0, -13.428571428571429, -12.142857142857142, -9.857142857142858, -9.571428571428571, -9.571428571428571, -9.0, -7.857142857142857, -7.285714285714286, -6.428571428571429, -7.0, -7.285714285714286, -7.428571428571429, -8.571428571428571, -10.571428571428571, -12.285714285714286, -15.142857142857142, -17.571428571428573, -17.857142857142858, -18.0, -18.142857142857142, -18.428571428571427, -18.428571428571427, -18.142857142857142, -17.571428571428573, -17.714285714285715, -17.857142857142858, -18.857142857142858, -19.857142857142858, -20.0, -21.285714285714285, -25.428571428571427, -32.714285714285715, -32.142857142857146, -30.571428571428573, -29.142857142857142, -28.857142857142858, -28.857142857142858, -24.285714285714285, -16.142857142857142, -15.714285714285714, -15.571428571428571, -15.857142857142858, -15.0, -10.0, -4.571428571428571, 0.0, 1.7142857142857142, 1.8571428571428572, 2.142857142857143, 1.8571428571428572, -1.0, -5.428571428571429, -9.714285714285714, -11.428571428571429, -11.428571428571429, -11.142857142857142, -11.0, -10.571428571428571, -10.571428571428571, -10.714285714285714, -10.571428571428571, -10.428571428571429, -10.428571428571429, -10.428571428571429, -10.857142857142858, -10.428571428571429, -10.142857142857142, -10.0, -9.571428571428571, -8.714285714285714, -7.857142857142857, -6.857142857142857, -5.285714285714286, -4.714285714285714, -4.142857142857143, -4.0, -5.142857142857143, -5.142857142857143, -4.714285714285714, -5.142857142857143, -5.142857142857143, -5.285714285714286, -5.142857142857143, -4.142857142857143, -4.142857142857143, -3.2857142857142856, -3.4285714285714284, -4.285714285714286, -4.428571428571429, -4.714285714285714, -4.857142857142857, -5.428571428571429, -8.0, -8.142857142857142, -7.428571428571429, -7.285714285714286, -6.857142857142857, -6.571428571428571, -6.0, -3.857142857142857, -3.4285714285714284, -3.2857142857142856, -3.4285714285714284, -3.4285714285714284, -3.5714285714285716, -3.5714285714285716, -2.7142857142857144, -3.2857142857142856, -2.857142857142857, -3.142857142857143, -3.5714285714285716, -3.7142857142857144, -4.428571428571429, -7.285714285714286, -9.571428571428571, -11.0, -11.571428571428571, -12.428571428571429, -13.285714285714286, -13.571428571428571, -13.285714285714286, -12.857142857142858, -12.857142857142858, -13.0, -13.142857142857142, -12.857142857142858, -12.714285714285714, -12.714285714285714, -13.428571428571429, -13.714285714285714, -13.857142857142858, -14.0, -14.142857142857142, -14.428571428571429, -15.0, -15.428571428571429, -15.571428571428571, -15.428571428571429, -15.0, -15.428571428571429, -15.428571428571429, -14.714285714285714, -14.428571428571429, -13.857142857142858, -13.571428571428571, -15.857142857142858, -20.428571428571427, -26.285714285714285, -29.857142857142858, -30.0, -31.428571428571427, -33.0, -31.857142857142858, -29.714285714285715, -25.714285714285715, -26.857142857142858, -29.714285714285715, -32.285714285714285, -32.0, -31.857142857142858, -30.142857142857142, -29.571428571428573, -27.714285714285715, -27.0, -25.428571428571427, -26.142857142857142, -26.714285714285715, -27.142857142857142, -28.0, -29.428571428571427, -30.142857142857142, -29.428571428571427, -30.0, -30.142857142857142, -30.142857142857142, -30.428571428571427, -29.428571428571427, -28.0, -28.714285714285715, -28.285714285714285, -28.571428571428573, -28.857142857142858, -28.285714285714285, -27.285714285714285, -27.142857142857142, -26.571428571428573, -26.428571428571427, -25.714285714285715, -26.0, -25.571428571428573, -25.285714285714285, -24.714285714285715, -24.285714285714285, -23.571428571428573, -24.571428571428573, -23.857142857142858, -23.285714285714285, -22.142857142857142, -20.428571428571427, -19.571428571428573, -19.571428571428573, -17.428571428571427, -16.142857142857142, -16.571428571428573, -17.0, -17.571428571428573, -18.285714285714285, -18.714285714285715, -19.571428571428573, -20.571428571428573, -20.428571428571427, -20.285714285714285, -20.428571428571427, -19.857142857142858, -19.142857142857142, -18.571428571428573, -17.714285714285715, -17.714285714285715, -17.0, -15.714285714285714, -15.0, -14.714285714285714, -14.285714285714286, -13.714285714285714, -11.857142857142858, -11.428571428571429, -12.142857142857142, -12.142857142857142, -11.428571428571429, -11.0, -10.428571428571429, -10.0, -7.714285714285714, -7.857142857142857, -6.714285714285714, -6.142857142857143, -6.0, -6.714285714285714, -7.714285714285714, -9.428571428571429, -10.428571428571429, -11.714285714285714, -12.428571428571429, -13.285714285714286, -13.571428571428571, -13.571428571428571, -14.142857142857142, -12.0, -12.142857142857142, -13.0, -12.714285714285714, -12.0, -12.142857142857142], \"yaxis\": \"y\"}, {\"hoverlabel\": {\"namelength\": 0}, \"hovertemplate\": \"variable=Tokyo<br>date=%{x}<br>value=%{y}\", \"legendgroup\": \"variable=Tokyo\", \"line\": {\"color\": \"#EF553B\", \"dash\": \"solid\"}, \"mode\": \"lines\", \"name\": \"variable=Tokyo\", \"showlegend\": true, \"type\": \"scattergl\", \"x\": [\"2020-02-21\", \"2020-02-22\", \"2020-02-23\", \"2020-02-24\", \"2020-02-25\", \"2020-02-26\", \"2020-02-27\", \"2020-02-28\", \"2020-02-29\", \"2020-03-01\", \"2020-03-02\", \"2020-03-03\", \"2020-03-04\", \"2020-03-05\", \"2020-03-06\", \"2020-03-07\", \"2020-03-08\", \"2020-03-09\", \"2020-03-10\", \"2020-03-11\", \"2020-03-12\", \"2020-03-13\", \"2020-03-14\", \"2020-03-15\", \"2020-03-16\", \"2020-03-17\", \"2020-03-18\", \"2020-03-19\", \"2020-03-20\", \"2020-03-21\", \"2020-03-22\", \"2020-03-23\", \"2020-03-24\", \"2020-03-25\", \"2020-03-26\", \"2020-03-27\", \"2020-03-28\", \"2020-03-29\", \"2020-03-30\", \"2020-03-31\", \"2020-04-01\", \"2020-04-02\", \"2020-04-03\", \"2020-04-04\", \"2020-04-05\", \"2020-04-06\", \"2020-04-07\", \"2020-04-08\", \"2020-04-09\", \"2020-04-10\", \"2020-04-11\", \"2020-04-12\", \"2020-04-13\", \"2020-04-14\", \"2020-04-15\", \"2020-04-16\", \"2020-04-17\", \"2020-04-18\", \"2020-04-19\", \"2020-04-20\", \"2020-04-21\", \"2020-04-22\", \"2020-04-23\", \"2020-04-24\", \"2020-04-25\", \"2020-04-26\", \"2020-04-27\", \"2020-04-28\", \"2020-04-29\", \"2020-04-30\", \"2020-05-01\", \"2020-05-02\", \"2020-05-03\", \"2020-05-04\", \"2020-05-05\", \"2020-05-06\", \"2020-05-07\", \"2020-05-08\", \"2020-05-09\", \"2020-05-10\", \"2020-05-11\", \"2020-05-12\", \"2020-05-13\", \"2020-05-14\", \"2020-05-15\", \"2020-05-16\", \"2020-05-17\", \"2020-05-18\", \"2020-05-19\", \"2020-05-20\", \"2020-05-21\", \"2020-05-22\", \"2020-05-23\", \"2020-05-24\", \"2020-05-25\", \"2020-05-26\", \"2020-05-27\", \"2020-05-28\", \"2020-05-29\", \"2020-05-30\", \"2020-05-31\", \"2020-06-01\", \"2020-06-02\", \"2020-06-03\", \"2020-06-04\", \"2020-06-05\", \"2020-06-06\", \"2020-06-07\", \"2020-06-08\", \"2020-06-09\", \"2020-06-10\", \"2020-06-11\", \"2020-06-12\", \"2020-06-13\", \"2020-06-14\", \"2020-06-15\", \"2020-06-16\", \"2020-06-17\", \"2020-06-18\", \"2020-06-19\", \"2020-06-20\", \"2020-06-21\", \"2020-06-22\", \"2020-06-23\", \"2020-06-24\", \"2020-06-25\", \"2020-06-26\", \"2020-06-27\", \"2020-06-28\", \"2020-06-29\", \"2020-06-30\", \"2020-07-01\", \"2020-07-02\", \"2020-07-03\", \"2020-07-04\", \"2020-07-05\", \"2020-07-06\", \"2020-07-07\", \"2020-07-08\", \"2020-07-09\", \"2020-07-10\", \"2020-07-11\", \"2020-07-12\", \"2020-07-13\", \"2020-07-14\", \"2020-07-15\", \"2020-07-16\", \"2020-07-17\", \"2020-07-18\", \"2020-07-19\", \"2020-07-20\", \"2020-07-21\", \"2020-07-22\", \"2020-07-23\", \"2020-07-24\", \"2020-07-25\", \"2020-07-26\", \"2020-07-27\", \"2020-07-28\", \"2020-07-29\", \"2020-07-30\", \"2020-07-31\", \"2020-08-01\", \"2020-08-02\", \"2020-08-03\", \"2020-08-04\", \"2020-08-05\", \"2020-08-06\", \"2020-08-07\", \"2020-08-08\", \"2020-08-09\", \"2020-08-10\", \"2020-08-11\", \"2020-08-12\", \"2020-08-13\", \"2020-08-14\", \"2020-08-15\", \"2020-08-16\", \"2020-08-17\", \"2020-08-18\", \"2020-08-19\", \"2020-08-20\", \"2020-08-21\", \"2020-08-22\", \"2020-08-23\", \"2020-08-24\", \"2020-08-25\", \"2020-08-26\", \"2020-08-27\", \"2020-08-28\", \"2020-08-29\", \"2020-08-30\", \"2020-08-31\", \"2020-09-01\", \"2020-09-02\", \"2020-09-03\", \"2020-09-04\", \"2020-09-05\", \"2020-09-06\", \"2020-09-07\", \"2020-09-08\", \"2020-09-09\", \"2020-09-10\", \"2020-09-11\", \"2020-09-12\", \"2020-09-13\", \"2020-09-14\", \"2020-09-15\", \"2020-09-16\", \"2020-09-17\", \"2020-09-18\", \"2020-09-19\", \"2020-09-20\", \"2020-09-21\", \"2020-09-22\", \"2020-09-23\", \"2020-09-24\", \"2020-09-25\", \"2020-09-26\", \"2020-09-27\", \"2020-09-28\", \"2020-09-29\", \"2020-09-30\", \"2020-10-01\", \"2020-10-02\", \"2020-10-03\", \"2020-10-04\", \"2020-10-05\", \"2020-10-06\", \"2020-10-07\", \"2020-10-08\", \"2020-10-09\", \"2020-10-10\", \"2020-10-11\", \"2020-10-12\", \"2020-10-13\", \"2020-10-14\", \"2020-10-15\", \"2020-10-16\", \"2020-10-17\", \"2020-10-18\", \"2020-10-19\", \"2020-10-20\", \"2020-10-21\", \"2020-10-22\", \"2020-10-23\", \"2020-10-24\", \"2020-10-25\", \"2020-10-26\", \"2020-10-27\", \"2020-10-28\", \"2020-10-29\", \"2020-10-30\", \"2020-10-31\", \"2020-11-01\", \"2020-11-02\", \"2020-11-03\", \"2020-11-04\", \"2020-11-05\", \"2020-11-06\", \"2020-11-07\", \"2020-11-08\", \"2020-11-09\", \"2020-11-10\", \"2020-11-11\", \"2020-11-12\", \"2020-11-13\", \"2020-11-14\", \"2020-11-15\", \"2020-11-16\", \"2020-11-17\", \"2020-11-18\", \"2020-11-19\", \"2020-11-20\", \"2020-11-21\", \"2020-11-22\", \"2020-11-23\", \"2020-11-24\", \"2020-11-25\", \"2020-11-26\", \"2020-11-27\", \"2020-11-28\", \"2020-11-29\", \"2020-11-30\", \"2020-12-01\", \"2020-12-02\", \"2020-12-03\", \"2020-12-04\", \"2020-12-05\", \"2020-12-06\", \"2020-12-07\", \"2020-12-08\", \"2020-12-09\", \"2020-12-10\", \"2020-12-11\", \"2020-12-12\", \"2020-12-13\", \"2020-12-14\", \"2020-12-15\", \"2020-12-16\", \"2020-12-17\", \"2020-12-18\", \"2020-12-19\", \"2020-12-20\", \"2020-12-21\", \"2020-12-22\", \"2020-12-23\", \"2020-12-24\", \"2020-12-25\", \"2020-12-26\", \"2020-12-27\", \"2020-12-28\", \"2020-12-29\", \"2020-12-30\", \"2020-12-31\", \"2021-01-01\", \"2021-01-02\", \"2021-01-03\", \"2021-01-04\", \"2021-01-05\", \"2021-01-06\", \"2021-01-07\", \"2021-01-08\", \"2021-01-09\", \"2021-01-10\", \"2021-01-11\", \"2021-01-12\", \"2021-01-13\", \"2021-01-14\", \"2021-01-15\", \"2021-01-16\", \"2021-01-17\", \"2021-01-18\", \"2021-01-19\", \"2021-01-20\", \"2021-01-21\", \"2021-01-22\", \"2021-01-23\", \"2021-01-24\", \"2021-01-25\", \"2021-01-26\", \"2021-01-27\", \"2021-01-28\", \"2021-01-29\", \"2021-01-30\", \"2021-01-31\", \"2021-02-01\", \"2021-02-02\", \"2021-02-03\", \"2021-02-04\", \"2021-02-05\", \"2021-02-06\", \"2021-02-07\", \"2021-02-08\", \"2021-02-09\", \"2021-02-10\", \"2021-02-11\", \"2021-02-12\", \"2021-02-13\", \"2021-02-14\", \"2021-02-15\", \"2021-02-16\", \"2021-02-17\", \"2021-02-18\", \"2021-02-19\", \"2021-02-20\", \"2021-02-21\", \"2021-02-22\", \"2021-02-23\", \"2021-02-24\", \"2021-02-25\", \"2021-02-26\", \"2021-02-27\", \"2021-02-28\", \"2021-03-01\", \"2021-03-02\", \"2021-03-03\", \"2021-03-04\", \"2021-03-05\", \"2021-03-06\", \"2021-03-07\", \"2021-03-08\", \"2021-03-09\", \"2021-03-10\", \"2021-03-11\", \"2021-03-12\", \"2021-03-13\", \"2021-03-14\", \"2021-03-15\", \"2021-03-16\", \"2021-03-17\", \"2021-03-18\", \"2021-03-19\", \"2021-03-20\", \"2021-03-21\", \"2021-03-22\", \"2021-03-23\", \"2021-03-24\", \"2021-03-25\", \"2021-03-26\", \"2021-03-27\", \"2021-03-28\", \"2021-03-29\", \"2021-03-30\", \"2021-03-31\", \"2021-04-01\", \"2021-04-02\", \"2021-04-03\", \"2021-04-04\", \"2021-04-05\", \"2021-04-06\", \"2021-04-07\", \"2021-04-08\", \"2021-04-09\", \"2021-04-10\", \"2021-04-11\", \"2021-04-12\", \"2021-04-13\", \"2021-04-14\", \"2021-04-15\", \"2021-04-16\"], \"xaxis\": \"x\", \"y\": [-3.857142857142857, -4.714285714285714, -4.142857142857143, -9.714285714285714, -10.0, -10.428571428571429, -11.142857142857142, -12.142857142857142, -14.142857142857142, -17.0, -13.571428571428571, -15.142857142857142, -16.857142857142858, -18.0, -19.142857142857142, -20.0, -21.285714285714285, -21.428571428571427, -21.857142857142858, -21.571428571428573, -21.571428571428573, -21.428571428571427, -22.142857142857142, -20.714285714285715, -20.571428571428573, -20.285714285714285, -19.857142857142858, -19.142857142857142, -22.714285714285715, -21.428571428571427, -21.0, -20.857142857142858, -20.714285714285715, -20.571428571428573, -21.142857142857142, -18.428571428571427, -22.0, -27.428571428571427, -29.142857142857142, -30.714285714285715, -33.142857142857146, -35.285714285714285, -36.42857142857143, -36.714285714285715, -36.57142857142857, -37.285714285714285, -38.857142857142854, -41.0, -43.42857142857143, -46.0, -47.57142857142857, -48.714285714285715, -52.142857142857146, -54.42857142857143, -55.42857142857143, -56.42857142857143, -57.285714285714285, -58.857142857142854, -58.142857142857146, -58.42857142857143, -58.714285714285715, -59.42857142857143, -59.714285714285715, -59.714285714285715, -58.285714285714285, -58.857142857142854, -58.714285714285715, -58.714285714285715, -60.857142857142854, -60.714285714285715, -61.0, -61.285714285714285, -61.142857142857146, -63.857142857142854, -66.57142857142857, -67.28571428571429, -66.42857142857143, -65.71428571428571, -64.85714285714286, -64.28571428571429, -60.57142857142857, -57.42857142857143, -54.0, -54.285714285714285, -54.142857142857146, -55.0, -54.42857142857143, -54.57142857142857, -54.857142857142854, -54.57142857142857, -54.57142857142857, -54.42857142857143, -53.0, -52.57142857142857, -51.857142857142854, -50.857142857142854, -50.0, -49.0, -47.857142857142854, -46.57142857142857, -45.714285714285715, -44.0, -42.285714285714285, -41.0, -39.714285714285715, -38.714285714285715, -38.142857142857146, -37.285714285714285, -37.285714285714285, -37.142857142857146, -36.857142857142854, -36.857142857142854, -36.714285714285715, -37.142857142857146, -37.285714285714285, -37.0, -36.57142857142857, -36.142857142857146, -35.57142857142857, -35.42857142857143, -33.57142857142857, -32.714285714285715, -32.57142857142857, -32.142857142857146, -31.857142857142858, -31.285714285714285, -30.571428571428573, -30.285714285714285, -30.428571428571427, -29.857142857142858, -29.857142857142858, -29.714285714285715, -29.428571428571427, -29.285714285714285, -30.0, -29.857142857142858, -30.0, -29.857142857142858, -30.0, -30.285714285714285, -30.285714285714285, -30.285714285714285, -30.285714285714285, -30.285714285714285, -30.571428571428573, -30.428571428571427, -30.428571428571427, -30.857142857142858, -31.285714285714285, -31.571428571428573, -31.571428571428573, -31.428571428571427, -31.142857142857142, -35.285714285714285, -39.0, -39.714285714285715, -39.714285714285715, -39.714285714285715, -40.0, -40.714285714285715, -36.857142857142854, -33.142857142857146, -32.285714285714285, -32.42857142857143, -32.714285714285715, -32.857142857142854, -33.0, -33.285714285714285, -33.57142857142857, -33.57142857142857, -33.285714285714285, -37.42857142857143, -38.714285714285715, -40.285714285714285, -42.285714285714285, -44.42857142857143, -45.57142857142857, -46.285714285714285, -42.857142857142854, -42.0, -40.714285714285715, -39.0, -37.0, -35.857142857142854, -35.42857142857143, -35.0, -34.42857142857143, -34.0, -33.714285714285715, -33.42857142857143, -33.142857142857146, -32.714285714285715, -32.42857142857143, -32.285714285714285, -32.285714285714285, -32.0, -31.714285714285715, -31.571428571428573, -32.0, -32.0, -31.857142857142858, -31.571428571428573, -31.285714285714285, -31.0, -31.0, -29.857142857142858, -29.428571428571427, -29.142857142857142, -28.714285714285715, -28.428571428571427, -28.142857142857142, -26.857142857142858, -26.0, -29.0, -32.42857142857143, -32.42857142857143, -33.285714285714285, -33.285714285714285, -33.857142857142854, -34.142857142857146, -30.714285714285715, -27.142857142857142, -27.0, -26.142857142857142, -26.142857142857142, -25.857142857142858, -25.714285714285715, -26.0, -26.142857142857142, -26.285714285714285, -26.571428571428573, -26.857142857142858, -29.0, -29.285714285714285, -29.285714285714285, -29.142857142857142, -29.0, -28.571428571428573, -28.0, -26.142857142857142, -25.142857142857142, -25.142857142857142, -25.0, -24.857142857142858, -24.857142857142858, -25.142857142857142, -24.142857142857142, -23.857142857142858, -23.571428571428573, -23.571428571428573, -23.714285714285715, -23.857142857142858, -23.857142857142858, -24.0, -24.571428571428573, -24.857142857142858, -28.571428571428573, -28.571428571428573, -28.428571428571427, -28.428571428571427, -28.714285714285715, -28.714285714285715, -28.714285714285715, -25.142857142857142, -25.285714285714285, -25.428571428571427, -25.428571428571427, -25.285714285714285, -25.285714285714285, -25.285714285714285, -25.428571428571427, -25.428571428571427, -25.428571428571427, -25.571428571428573, -25.857142857142858, -25.857142857142858, -29.571428571428573, -29.714285714285715, -29.714285714285715, -29.714285714285715, -29.857142857142858, -30.142857142857142, -31.0, -27.428571428571427, -27.428571428571427, -28.0, -28.428571428571427, -28.571428571428573, -29.142857142857142, -28.857142857142858, -29.0, -29.285714285714285, -29.285714285714285, -29.142857142857142, -29.0, -28.428571428571427, -28.428571428571427, -28.571428571428573, -28.285714285714285, -28.0, -28.142857142857142, -28.142857142857142, -28.285714285714285, -28.428571428571427, -28.285714285714285, -28.428571428571427, -28.428571428571427, -28.285714285714285, -28.285714285714285, -28.714285714285715, -29.142857142857142, -30.428571428571427, -33.285714285714285, -37.285714285714285, -42.57142857142857, -49.285714285714285, -52.857142857142854, -54.714285714285715, -56.0, -54.42857142857143, -51.57142857142857, -47.42857142857143, -42.285714285714285, -40.714285714285715, -41.0, -43.714285714285715, -44.142857142857146, -44.714285714285715, -45.42857142857143, -46.0, -45.857142857142854, -46.285714285714285, -43.0, -43.42857142857143, -43.714285714285715, -43.857142857142854, -43.714285714285715, -44.285714285714285, -44.714285714285715, -44.285714285714285, -44.0, -44.0, -44.0, -43.857142857142854, -43.0, -41.714285714285715, -41.714285714285715, -41.42857142857143, -41.285714285714285, -41.0, -40.857142857142854, -40.57142857142857, -40.285714285714285, -40.285714285714285, -40.142857142857146, -39.42857142857143, -42.0, -41.857142857142854, -41.57142857142857, -41.142857142857146, -41.0, -40.57142857142857, -40.714285714285715, -37.714285714285715, -37.285714285714285, -36.714285714285715, -36.142857142857146, -35.57142857142857, -38.714285714285715, -38.42857142857143, -38.0, -37.857142857142854, -38.0, -37.857142857142854, -37.714285714285715, -34.857142857142854, -34.714285714285715, -34.857142857142854, -34.857142857142854, -34.57142857142857, -34.857142857142854, -35.0, -34.42857142857143, -34.285714285714285, -34.0, -33.714285714285715, -34.57142857142857, -33.285714285714285, -32.857142857142854, -32.57142857142857, -32.42857142857143, -32.142857142857146, -32.0, -30.714285714285715, -32.714285714285715, -32.57142857142857, -32.142857142857146, -31.428571428571427, -31.0, -30.285714285714285, -28.857142857142858, -27.0, -26.571428571428573, -26.571428571428573, -26.428571428571427, -26.142857142857142, -26.428571428571427, -27.142857142857142, -27.428571428571427, -27.714285714285715, -27.714285714285715, -27.857142857142858, -28.142857142857142, -28.0, -28.285714285714285, -28.0, -27.714285714285715, -27.857142857142858, -28.142857142857142, -28.0, -28.142857142857142], \"yaxis\": \"y\"}, {\"hoverlabel\": {\"namelength\": 0}, \"hovertemplate\": \"variable=Osaka<br>date=%{x}<br>value=%{y}\", \"legendgroup\": \"variable=Osaka\", \"line\": {\"color\": \"#00cc96\", \"dash\": \"solid\"}, \"mode\": \"lines\", \"name\": \"variable=Osaka\", \"showlegend\": true, \"type\": \"scattergl\", \"x\": [\"2020-02-21\", \"2020-02-22\", \"2020-02-23\", \"2020-02-24\", \"2020-02-25\", \"2020-02-26\", \"2020-02-27\", \"2020-02-28\", \"2020-02-29\", \"2020-03-01\", \"2020-03-02\", \"2020-03-03\", \"2020-03-04\", \"2020-03-05\", \"2020-03-06\", \"2020-03-07\", \"2020-03-08\", \"2020-03-09\", \"2020-03-10\", \"2020-03-11\", \"2020-03-12\", \"2020-03-13\", \"2020-03-14\", \"2020-03-15\", \"2020-03-16\", \"2020-03-17\", \"2020-03-18\", \"2020-03-19\", \"2020-03-20\", \"2020-03-21\", \"2020-03-22\", \"2020-03-23\", \"2020-03-24\", \"2020-03-25\", \"2020-03-26\", \"2020-03-27\", \"2020-03-28\", \"2020-03-29\", \"2020-03-30\", \"2020-03-31\", \"2020-04-01\", \"2020-04-02\", \"2020-04-03\", \"2020-04-04\", \"2020-04-05\", \"2020-04-06\", \"2020-04-07\", \"2020-04-08\", \"2020-04-09\", \"2020-04-10\", \"2020-04-11\", \"2020-04-12\", \"2020-04-13\", \"2020-04-14\", \"2020-04-15\", \"2020-04-16\", \"2020-04-17\", \"2020-04-18\", \"2020-04-19\", \"2020-04-20\", \"2020-04-21\", \"2020-04-22\", \"2020-04-23\", \"2020-04-24\", \"2020-04-25\", \"2020-04-26\", \"2020-04-27\", \"2020-04-28\", \"2020-04-29\", \"2020-04-30\", \"2020-05-01\", \"2020-05-02\", \"2020-05-03\", \"2020-05-04\", \"2020-05-05\", \"2020-05-06\", \"2020-05-07\", \"2020-05-08\", \"2020-05-09\", \"2020-05-10\", \"2020-05-11\", \"2020-05-12\", \"2020-05-13\", \"2020-05-14\", \"2020-05-15\", \"2020-05-16\", \"2020-05-17\", \"2020-05-18\", \"2020-05-19\", \"2020-05-20\", \"2020-05-21\", \"2020-05-22\", \"2020-05-23\", \"2020-05-24\", \"2020-05-25\", \"2020-05-26\", \"2020-05-27\", \"2020-05-28\", \"2020-05-29\", \"2020-05-30\", \"2020-05-31\", \"2020-06-01\", \"2020-06-02\", \"2020-06-03\", \"2020-06-04\", \"2020-06-05\", \"2020-06-06\", \"2020-06-07\", \"2020-06-08\", \"2020-06-09\", \"2020-06-10\", \"2020-06-11\", \"2020-06-12\", \"2020-06-13\", \"2020-06-14\", \"2020-06-15\", \"2020-06-16\", \"2020-06-17\", \"2020-06-18\", \"2020-06-19\", \"2020-06-20\", \"2020-06-21\", \"2020-06-22\", \"2020-06-23\", \"2020-06-24\", \"2020-06-25\", \"2020-06-26\", \"2020-06-27\", \"2020-06-28\", \"2020-06-29\", \"2020-06-30\", \"2020-07-01\", \"2020-07-02\", \"2020-07-03\", \"2020-07-04\", \"2020-07-05\", \"2020-07-06\", \"2020-07-07\", \"2020-07-08\", \"2020-07-09\", \"2020-07-10\", \"2020-07-11\", \"2020-07-12\", \"2020-07-13\", \"2020-07-14\", \"2020-07-15\", \"2020-07-16\", \"2020-07-17\", \"2020-07-18\", \"2020-07-19\", \"2020-07-20\", \"2020-07-21\", \"2020-07-22\", \"2020-07-23\", \"2020-07-24\", \"2020-07-25\", \"2020-07-26\", \"2020-07-27\", \"2020-07-28\", \"2020-07-29\", \"2020-07-30\", \"2020-07-31\", \"2020-08-01\", \"2020-08-02\", \"2020-08-03\", \"2020-08-04\", \"2020-08-05\", \"2020-08-06\", \"2020-08-07\", \"2020-08-08\", \"2020-08-09\", \"2020-08-10\", \"2020-08-11\", \"2020-08-12\", \"2020-08-13\", \"2020-08-14\", \"2020-08-15\", \"2020-08-16\", \"2020-08-17\", \"2020-08-18\", \"2020-08-19\", \"2020-08-20\", \"2020-08-21\", \"2020-08-22\", \"2020-08-23\", \"2020-08-24\", \"2020-08-25\", \"2020-08-26\", \"2020-08-27\", \"2020-08-28\", \"2020-08-29\", \"2020-08-30\", \"2020-08-31\", \"2020-09-01\", \"2020-09-02\", \"2020-09-03\", \"2020-09-04\", \"2020-09-05\", \"2020-09-06\", \"2020-09-07\", \"2020-09-08\", \"2020-09-09\", \"2020-09-10\", \"2020-09-11\", \"2020-09-12\", \"2020-09-13\", \"2020-09-14\", \"2020-09-15\", \"2020-09-16\", \"2020-09-17\", \"2020-09-18\", \"2020-09-19\", \"2020-09-20\", \"2020-09-21\", \"2020-09-22\", \"2020-09-23\", \"2020-09-24\", \"2020-09-25\", \"2020-09-26\", \"2020-09-27\", \"2020-09-28\", \"2020-09-29\", \"2020-09-30\", \"2020-10-01\", \"2020-10-02\", \"2020-10-03\", \"2020-10-04\", \"2020-10-05\", \"2020-10-06\", \"2020-10-07\", \"2020-10-08\", \"2020-10-09\", \"2020-10-10\", \"2020-10-11\", \"2020-10-12\", \"2020-10-13\", \"2020-10-14\", \"2020-10-15\", \"2020-10-16\", \"2020-10-17\", \"2020-10-18\", \"2020-10-19\", \"2020-10-20\", \"2020-10-21\", \"2020-10-22\", \"2020-10-23\", \"2020-10-24\", \"2020-10-25\", \"2020-10-26\", \"2020-10-27\", \"2020-10-28\", \"2020-10-29\", \"2020-10-30\", \"2020-10-31\", \"2020-11-01\", \"2020-11-02\", \"2020-11-03\", \"2020-11-04\", \"2020-11-05\", \"2020-11-06\", \"2020-11-07\", \"2020-11-08\", \"2020-11-09\", \"2020-11-10\", \"2020-11-11\", \"2020-11-12\", \"2020-11-13\", \"2020-11-14\", \"2020-11-15\", \"2020-11-16\", \"2020-11-17\", \"2020-11-18\", \"2020-11-19\", \"2020-11-20\", \"2020-11-21\", \"2020-11-22\", \"2020-11-23\", \"2020-11-24\", \"2020-11-25\", \"2020-11-26\", \"2020-11-27\", \"2020-11-28\", \"2020-11-29\", \"2020-11-30\", \"2020-12-01\", \"2020-12-02\", \"2020-12-03\", \"2020-12-04\", \"2020-12-05\", \"2020-12-06\", \"2020-12-07\", \"2020-12-08\", \"2020-12-09\", \"2020-12-10\", \"2020-12-11\", \"2020-12-12\", \"2020-12-13\", \"2020-12-14\", \"2020-12-15\", \"2020-12-16\", \"2020-12-17\", \"2020-12-18\", \"2020-12-19\", \"2020-12-20\", \"2020-12-21\", \"2020-12-22\", \"2020-12-23\", \"2020-12-24\", \"2020-12-25\", \"2020-12-26\", \"2020-12-27\", \"2020-12-28\", \"2020-12-29\", \"2020-12-30\", \"2020-12-31\", \"2021-01-01\", \"2021-01-02\", \"2021-01-03\", \"2021-01-04\", \"2021-01-05\", \"2021-01-06\", \"2021-01-07\", \"2021-01-08\", \"2021-01-09\", \"2021-01-10\", \"2021-01-11\", \"2021-01-12\", \"2021-01-13\", \"2021-01-14\", \"2021-01-15\", \"2021-01-16\", \"2021-01-17\", \"2021-01-18\", \"2021-01-19\", \"2021-01-20\", \"2021-01-21\", \"2021-01-22\", \"2021-01-23\", \"2021-01-24\", \"2021-01-25\", \"2021-01-26\", \"2021-01-27\", \"2021-01-28\", \"2021-01-29\", \"2021-01-30\", \"2021-01-31\", \"2021-02-01\", \"2021-02-02\", \"2021-02-03\", \"2021-02-04\", \"2021-02-05\", \"2021-02-06\", \"2021-02-07\", \"2021-02-08\", \"2021-02-09\", \"2021-02-10\", \"2021-02-11\", \"2021-02-12\", \"2021-02-13\", \"2021-02-14\", \"2021-02-15\", \"2021-02-16\", \"2021-02-17\", \"2021-02-18\", \"2021-02-19\", \"2021-02-20\", \"2021-02-21\", \"2021-02-22\", \"2021-02-23\", \"2021-02-24\", \"2021-02-25\", \"2021-02-26\", \"2021-02-27\", \"2021-02-28\", \"2021-03-01\", \"2021-03-02\", \"2021-03-03\", \"2021-03-04\", \"2021-03-05\", \"2021-03-06\", \"2021-03-07\", \"2021-03-08\", \"2021-03-09\", \"2021-03-10\", \"2021-03-11\", \"2021-03-12\", \"2021-03-13\", \"2021-03-14\", \"2021-03-15\", \"2021-03-16\", \"2021-03-17\", \"2021-03-18\", \"2021-03-19\", \"2021-03-20\", \"2021-03-21\", \"2021-03-22\", \"2021-03-23\", \"2021-03-24\", \"2021-03-25\", \"2021-03-26\", \"2021-03-27\", \"2021-03-28\", \"2021-03-29\", \"2021-03-30\", \"2021-03-31\", \"2021-04-01\", \"2021-04-02\", \"2021-04-03\", \"2021-04-04\", \"2021-04-05\", \"2021-04-06\", \"2021-04-07\", \"2021-04-08\", \"2021-04-09\", \"2021-04-10\", \"2021-04-11\", \"2021-04-12\", \"2021-04-13\", \"2021-04-14\", \"2021-04-15\", \"2021-04-16\"], \"xaxis\": \"x\", \"y\": [-3.7142857142857144, -4.857142857142857, -4.0, -8.714285714285714, -8.571428571428571, -8.857142857142858, -9.428571428571429, -10.428571428571429, -12.571428571428571, -16.0, -13.0, -14.857142857142858, -16.857142857142858, -18.428571428571427, -19.714285714285715, -20.285714285714285, -21.428571428571427, -21.714285714285715, -22.142857142857142, -21.714285714285715, -21.571428571428573, -21.571428571428573, -22.0, -21.285714285714285, -21.571428571428573, -21.142857142857142, -21.0, -20.0, -23.714285714285715, -23.142857142857142, -23.142857142857142, -22.571428571428573, -22.571428571428573, -22.142857142857142, -22.714285714285715, -19.142857142857142, -20.142857142857142, -21.285714285714285, -22.0, -22.285714285714285, -23.714285714285715, -24.857142857142858, -25.571428571428573, -26.428571428571427, -27.714285714285715, -28.428571428571427, -29.857142857142858, -31.857142857142858, -34.142857142857146, -36.57142857142857, -38.57142857142857, -41.42857142857143, -44.42857142857143, -46.714285714285715, -47.857142857142854, -49.0, -50.0, -50.714285714285715, -49.857142857142854, -50.142857142857146, -50.714285714285715, -51.57142857142857, -52.142857142857146, -52.285714285714285, -51.857142857142854, -52.0, -52.0, -51.857142857142854, -54.57142857142857, -54.285714285714285, -54.57142857142857, -54.714285714285715, -54.714285714285715, -58.142857142857146, -61.285714285714285, -61.57142857142857, -60.857142857142854, -60.0, -59.57142857142857, -59.142857142857146, -55.0, -51.42857142857143, -47.42857142857143, -47.57142857142857, -47.57142857142857, -48.0, -47.285714285714285, -47.285714285714285, -47.0, -46.57142857142857, -46.0, -45.142857142857146, -43.285714285714285, -42.42857142857143, -41.0, -40.0, -39.0, -38.0, -37.0, -36.0, -35.42857142857143, -34.42857142857143, -33.285714285714285, -32.285714285714285, -31.428571428571427, -30.857142857142858, -30.571428571428573, -29.857142857142858, -29.857142857142858, -29.714285714285715, -29.571428571428573, -29.571428571428573, -29.285714285714285, -29.428571428571427, -29.428571428571427, -29.0, -28.571428571428573, -28.142857142857142, -27.714285714285715, -27.428571428571427, -26.0, -24.857142857142858, -24.714285714285715, -24.428571428571427, -24.142857142857142, -23.571428571428573, -23.142857142857142, -22.857142857142858, -23.0, -22.714285714285715, -22.714285714285715, -22.428571428571427, -22.142857142857142, -22.0, -22.714285714285715, -22.571428571428573, -22.714285714285715, -22.571428571428573, -22.857142857142858, -23.142857142857142, -23.0, -23.0, -22.857142857142858, -22.857142857142858, -23.0, -22.714285714285715, -22.571428571428573, -22.714285714285715, -22.571428571428573, -23.142857142857142, -23.0, -22.857142857142858, -22.428571428571427, -26.428571428571427, -31.142857142857142, -32.42857142857143, -32.857142857142854, -33.0, -33.142857142857146, -34.142857142857146, -30.714285714285715, -26.428571428571427, -25.714285714285715, -25.857142857142858, -26.285714285714285, -26.714285714285715, -27.0, -27.142857142857142, -27.428571428571427, -27.428571428571427, -26.857142857142858, -31.285714285714285, -32.714285714285715, -34.42857142857143, -37.0, -40.0, -41.42857142857143, -42.42857142857143, -38.714285714285715, -37.714285714285715, -36.42857142857143, -34.285714285714285, -31.714285714285715, -30.714285714285715, -30.285714285714285, -29.857142857142858, -29.428571428571427, -29.0, -28.714285714285715, -28.428571428571427, -28.0, -27.857142857142858, -27.714285714285715, -27.714285714285715, -27.714285714285715, -27.714285714285715, -27.571428571428573, -27.571428571428573, -27.857142857142858, -28.0, -27.714285714285715, -27.428571428571427, -27.0, -26.571428571428573, -26.0, -25.142857142857142, -24.571428571428573, -24.285714285714285, -24.0, -23.857142857142858, -23.571428571428573, -22.428571428571427, -20.571428571428573, -23.428571428571427, -27.0, -26.714285714285715, -26.571428571428573, -26.571428571428573, -27.142857142857142, -28.142857142857142, -24.714285714285715, -20.857142857142858, -20.714285714285715, -20.571428571428573, -20.571428571428573, -20.714285714285715, -20.714285714285715, -20.857142857142858, -21.0, -21.142857142857142, -21.428571428571427, -21.714285714285715, -22.714285714285715, -22.285714285714285, -22.285714285714285, -22.142857142857142, -22.142857142857142, -21.428571428571427, -20.714285714285715, -19.857142857142858, -19.285714285714285, -19.428571428571427, -19.285714285714285, -19.0, -19.428571428571427, -19.714285714285715, -18.857142857142858, -18.857142857142858, -18.714285714285715, -18.857142857142858, -19.0, -19.0, -18.857142857142858, -18.857142857142858, -19.142857142857142, -19.571428571428573, -23.285714285714285, -23.285714285714285, -23.285714285714285, -23.571428571428573, -24.428571428571427, -24.571428571428573, -24.285714285714285, -20.714285714285715, -21.0, -21.0, -21.0, -20.571428571428573, -20.428571428571427, -20.571428571428573, -20.714285714285715, -20.571428571428573, -20.571428571428573, -20.571428571428573, -20.285714285714285, -20.285714285714285, -24.285714285714285, -24.285714285714285, -24.428571428571427, -24.571428571428573, -24.714285714285715, -25.571428571428573, -26.857142857142858, -23.0, -23.285714285714285, -23.857142857142858, -24.285714285714285, -24.857142857142858, -25.571428571428573, -26.142857142857142, -26.714285714285715, -27.142857142857142, -27.428571428571427, -27.571428571428573, -27.571428571428573, -27.428571428571427, -27.285714285714285, -27.285714285714285, -27.142857142857142, -27.0, -27.0, -27.0, -26.857142857142858, -26.714285714285715, -26.428571428571427, -26.428571428571427, -26.142857142857142, -26.0, -25.714285714285715, -25.714285714285715, -25.714285714285715, -26.714285714285715, -29.285714285714285, -33.42857142857143, -39.142857142857146, -46.142857142857146, -49.142857142857146, -50.285714285714285, -52.0, -50.42857142857143, -47.142857142857146, -42.57142857142857, -36.714285714285715, -35.142857142857146, -35.142857142857146, -37.57142857142857, -37.0, -36.857142857142854, -37.0, -37.285714285714285, -37.714285714285715, -38.714285714285715, -35.0, -36.142857142857146, -37.0, -37.285714285714285, -37.714285714285715, -38.0, -38.0, -37.714285714285715, -37.285714285714285, -37.285714285714285, -37.142857142857146, -36.857142857142854, -36.142857142857146, -35.285714285714285, -35.285714285714285, -35.285714285714285, -35.285714285714285, -35.42857142857143, -35.42857142857143, -35.42857142857143, -35.714285714285715, -35.857142857142854, -35.857142857142854, -35.142857142857146, -38.142857142857146, -38.142857142857146, -37.857142857142854, -37.142857142857146, -36.714285714285715, -36.42857142857143, -36.857142857142854, -33.57142857142857, -33.0, -32.42857142857143, -32.0, -31.571428571428573, -35.0, -34.285714285714285, -33.42857142857143, -33.142857142857146, -33.0, -32.57142857142857, -32.285714285714285, -28.714285714285715, -28.571428571428573, -28.571428571428573, -28.571428571428573, -28.285714285714285, -28.142857142857142, -28.142857142857142, -27.428571428571427, -27.0, -26.571428571428573, -26.142857142857142, -25.857142857142858, -25.0, -24.714285714285715, -24.714285714285715, -24.714285714285715, -24.428571428571427, -23.857142857142858, -23.571428571428573, -24.714285714285715, -24.571428571428573, -24.285714285714285, -24.0, -24.0, -23.857142857142858, -22.857142857142858, -22.285714285714285, -22.142857142857142, -22.0, -21.714285714285715, -21.571428571428573, -21.714285714285715, -22.571428571428573, -23.285714285714285, -23.571428571428573, -23.857142857142858, -24.428571428571427, -24.857142857142858, -25.428571428571427, -26.428571428571427, -26.428571428571427, -26.571428571428573, -26.857142857142858, -27.285714285714285, -27.285714285714285, -27.571428571428573], \"yaxis\": \"y\"}],\n",
              "                        {\"legend\": {\"tracegroupgap\": 0}, \"template\": {\"data\": {\"bar\": [{\"error_x\": {\"color\": \"#2a3f5f\"}, \"error_y\": {\"color\": \"#2a3f5f\"}, \"marker\": {\"line\": {\"color\": \"#E5ECF6\", \"width\": 0.5}}, \"type\": \"bar\"}], \"barpolar\": [{\"marker\": {\"line\": {\"color\": \"#E5ECF6\", \"width\": 0.5}}, \"type\": \"barpolar\"}], \"carpet\": [{\"aaxis\": {\"endlinecolor\": \"#2a3f5f\", \"gridcolor\": \"white\", \"linecolor\": \"white\", \"minorgridcolor\": \"white\", \"startlinecolor\": \"#2a3f5f\"}, \"baxis\": {\"endlinecolor\": \"#2a3f5f\", \"gridcolor\": \"white\", \"linecolor\": \"white\", \"minorgridcolor\": \"white\", \"startlinecolor\": \"#2a3f5f\"}, \"type\": \"carpet\"}], \"choropleth\": [{\"colorbar\": {\"outlinewidth\": 0, \"ticks\": \"\"}, \"type\": \"choropleth\"}], \"contour\": [{\"colorbar\": {\"outlinewidth\": 0, \"ticks\": \"\"}, \"colorscale\": [[0.0, \"#0d0887\"], [0.1111111111111111, \"#46039f\"], [0.2222222222222222, \"#7201a8\"], [0.3333333333333333, \"#9c179e\"], [0.4444444444444444, \"#bd3786\"], [0.5555555555555556, \"#d8576b\"], [0.6666666666666666, \"#ed7953\"], [0.7777777777777778, \"#fb9f3a\"], [0.8888888888888888, \"#fdca26\"], [1.0, \"#f0f921\"]], \"type\": \"contour\"}], \"contourcarpet\": [{\"colorbar\": {\"outlinewidth\": 0, \"ticks\": \"\"}, \"type\": \"contourcarpet\"}], \"heatmap\": [{\"colorbar\": {\"outlinewidth\": 0, \"ticks\": \"\"}, \"colorscale\": [[0.0, \"#0d0887\"], [0.1111111111111111, \"#46039f\"], [0.2222222222222222, \"#7201a8\"], [0.3333333333333333, \"#9c179e\"], [0.4444444444444444, \"#bd3786\"], [0.5555555555555556, \"#d8576b\"], [0.6666666666666666, \"#ed7953\"], [0.7777777777777778, \"#fb9f3a\"], [0.8888888888888888, \"#fdca26\"], [1.0, \"#f0f921\"]], \"type\": \"heatmap\"}], \"heatmapgl\": [{\"colorbar\": {\"outlinewidth\": 0, \"ticks\": \"\"}, \"colorscale\": [[0.0, \"#0d0887\"], [0.1111111111111111, \"#46039f\"], [0.2222222222222222, \"#7201a8\"], [0.3333333333333333, \"#9c179e\"], [0.4444444444444444, \"#bd3786\"], [0.5555555555555556, \"#d8576b\"], [0.6666666666666666, \"#ed7953\"], [0.7777777777777778, \"#fb9f3a\"], [0.8888888888888888, \"#fdca26\"], [1.0, \"#f0f921\"]], \"type\": \"heatmapgl\"}], \"histogram\": [{\"marker\": {\"colorbar\": {\"outlinewidth\": 0, \"ticks\": \"\"}}, \"type\": \"histogram\"}], \"histogram2d\": [{\"colorbar\": {\"outlinewidth\": 0, \"ticks\": \"\"}, \"colorscale\": [[0.0, \"#0d0887\"], [0.1111111111111111, \"#46039f\"], [0.2222222222222222, \"#7201a8\"], [0.3333333333333333, \"#9c179e\"], [0.4444444444444444, \"#bd3786\"], [0.5555555555555556, \"#d8576b\"], [0.6666666666666666, \"#ed7953\"], [0.7777777777777778, \"#fb9f3a\"], [0.8888888888888888, \"#fdca26\"], [1.0, \"#f0f921\"]], \"type\": \"histogram2d\"}], \"histogram2dcontour\": [{\"colorbar\": {\"outlinewidth\": 0, \"ticks\": \"\"}, \"colorscale\": [[0.0, \"#0d0887\"], [0.1111111111111111, \"#46039f\"], [0.2222222222222222, \"#7201a8\"], [0.3333333333333333, \"#9c179e\"], [0.4444444444444444, \"#bd3786\"], [0.5555555555555556, \"#d8576b\"], [0.6666666666666666, \"#ed7953\"], [0.7777777777777778, \"#fb9f3a\"], [0.8888888888888888, \"#fdca26\"], [1.0, \"#f0f921\"]], \"type\": \"histogram2dcontour\"}], \"mesh3d\": [{\"colorbar\": {\"outlinewidth\": 0, \"ticks\": \"\"}, \"type\": \"mesh3d\"}], \"parcoords\": [{\"line\": {\"colorbar\": {\"outlinewidth\": 0, \"ticks\": \"\"}}, \"type\": \"parcoords\"}], \"pie\": [{\"automargin\": true, \"type\": \"pie\"}], \"scatter\": [{\"marker\": {\"colorbar\": {\"outlinewidth\": 0, \"ticks\": \"\"}}, \"type\": \"scatter\"}], \"scatter3d\": [{\"line\": {\"colorbar\": {\"outlinewidth\": 0, \"ticks\": \"\"}}, \"marker\": {\"colorbar\": {\"outlinewidth\": 0, \"ticks\": \"\"}}, \"type\": \"scatter3d\"}], \"scattercarpet\": [{\"marker\": {\"colorbar\": {\"outlinewidth\": 0, \"ticks\": \"\"}}, \"type\": \"scattercarpet\"}], \"scattergeo\": [{\"marker\": {\"colorbar\": {\"outlinewidth\": 0, \"ticks\": \"\"}}, \"type\": \"scattergeo\"}], \"scattergl\": [{\"marker\": {\"colorbar\": {\"outlinewidth\": 0, \"ticks\": \"\"}}, \"type\": \"scattergl\"}], \"scattermapbox\": [{\"marker\": {\"colorbar\": {\"outlinewidth\": 0, \"ticks\": \"\"}}, \"type\": \"scattermapbox\"}], \"scatterpolar\": [{\"marker\": {\"colorbar\": {\"outlinewidth\": 0, \"ticks\": \"\"}}, \"type\": \"scatterpolar\"}], \"scatterpolargl\": [{\"marker\": {\"colorbar\": {\"outlinewidth\": 0, \"ticks\": \"\"}}, \"type\": \"scatterpolargl\"}], \"scatterternary\": [{\"marker\": {\"colorbar\": {\"outlinewidth\": 0, \"ticks\": \"\"}}, \"type\": \"scatterternary\"}], \"surface\": [{\"colorbar\": {\"outlinewidth\": 0, \"ticks\": \"\"}, \"colorscale\": [[0.0, \"#0d0887\"], [0.1111111111111111, \"#46039f\"], [0.2222222222222222, \"#7201a8\"], [0.3333333333333333, \"#9c179e\"], [0.4444444444444444, \"#bd3786\"], [0.5555555555555556, \"#d8576b\"], [0.6666666666666666, \"#ed7953\"], [0.7777777777777778, \"#fb9f3a\"], [0.8888888888888888, \"#fdca26\"], [1.0, \"#f0f921\"]], \"type\": \"surface\"}], \"table\": [{\"cells\": {\"fill\": {\"color\": \"#EBF0F8\"}, \"line\": {\"color\": \"white\"}}, \"header\": {\"fill\": {\"color\": \"#C8D4E3\"}, \"line\": {\"color\": \"white\"}}, \"type\": \"table\"}]}, \"layout\": {\"annotationdefaults\": {\"arrowcolor\": \"#2a3f5f\", \"arrowhead\": 0, \"arrowwidth\": 1}, \"coloraxis\": {\"colorbar\": {\"outlinewidth\": 0, \"ticks\": \"\"}}, \"colorscale\": {\"diverging\": [[0, \"#8e0152\"], [0.1, \"#c51b7d\"], [0.2, \"#de77ae\"], [0.3, \"#f1b6da\"], [0.4, \"#fde0ef\"], [0.5, \"#f7f7f7\"], [0.6, \"#e6f5d0\"], [0.7, \"#b8e186\"], [0.8, \"#7fbc41\"], [0.9, \"#4d9221\"], [1, \"#276419\"]], \"sequential\": [[0.0, \"#0d0887\"], [0.1111111111111111, \"#46039f\"], [0.2222222222222222, \"#7201a8\"], [0.3333333333333333, \"#9c179e\"], [0.4444444444444444, \"#bd3786\"], [0.5555555555555556, \"#d8576b\"], [0.6666666666666666, \"#ed7953\"], [0.7777777777777778, \"#fb9f3a\"], [0.8888888888888888, \"#fdca26\"], [1.0, \"#f0f921\"]], \"sequentialminus\": [[0.0, \"#0d0887\"], [0.1111111111111111, \"#46039f\"], [0.2222222222222222, \"#7201a8\"], [0.3333333333333333, \"#9c179e\"], [0.4444444444444444, \"#bd3786\"], [0.5555555555555556, \"#d8576b\"], [0.6666666666666666, \"#ed7953\"], [0.7777777777777778, \"#fb9f3a\"], [0.8888888888888888, \"#fdca26\"], [1.0, \"#f0f921\"]]}, \"colorway\": [\"#636efa\", \"#EF553B\", \"#00cc96\", \"#ab63fa\", \"#FFA15A\", \"#19d3f3\", \"#FF6692\", \"#B6E880\", \"#FF97FF\", \"#FECB52\"], \"font\": {\"color\": \"#2a3f5f\"}, \"geo\": {\"bgcolor\": \"white\", \"lakecolor\": \"white\", \"landcolor\": \"#E5ECF6\", \"showlakes\": true, \"showland\": true, \"subunitcolor\": \"white\"}, \"hoverlabel\": {\"align\": \"left\"}, \"hovermode\": \"closest\", \"mapbox\": {\"style\": \"light\"}, \"paper_bgcolor\": \"white\", \"plot_bgcolor\": \"#E5ECF6\", \"polar\": {\"angularaxis\": {\"gridcolor\": \"white\", \"linecolor\": \"white\", \"ticks\": \"\"}, \"bgcolor\": \"#E5ECF6\", \"radialaxis\": {\"gridcolor\": \"white\", \"linecolor\": \"white\", \"ticks\": \"\"}}, \"scene\": {\"xaxis\": {\"backgroundcolor\": \"#E5ECF6\", \"gridcolor\": \"white\", \"gridwidth\": 2, \"linecolor\": \"white\", \"showbackground\": true, \"ticks\": \"\", \"zerolinecolor\": \"white\"}, \"yaxis\": {\"backgroundcolor\": \"#E5ECF6\", \"gridcolor\": \"white\", \"gridwidth\": 2, \"linecolor\": \"white\", \"showbackground\": true, \"ticks\": \"\", \"zerolinecolor\": \"white\"}, \"zaxis\": {\"backgroundcolor\": \"#E5ECF6\", \"gridcolor\": \"white\", \"gridwidth\": 2, \"linecolor\": \"white\", \"showbackground\": true, \"ticks\": \"\", \"zerolinecolor\": \"white\"}}, \"shapedefaults\": {\"line\": {\"color\": \"#2a3f5f\"}}, \"ternary\": {\"aaxis\": {\"gridcolor\": \"white\", \"linecolor\": \"white\", \"ticks\": \"\"}, \"baxis\": {\"gridcolor\": \"white\", \"linecolor\": \"white\", \"ticks\": \"\"}, \"bgcolor\": \"#E5ECF6\", \"caxis\": {\"gridcolor\": \"white\", \"linecolor\": \"white\", \"ticks\": \"\"}}, \"title\": {\"x\": 0.05}, \"xaxis\": {\"automargin\": true, \"gridcolor\": \"white\", \"linecolor\": \"white\", \"ticks\": \"\", \"title\": {\"standoff\": 15}, \"zerolinecolor\": \"white\", \"zerolinewidth\": 2}, \"yaxis\": {\"automargin\": true, \"gridcolor\": \"white\", \"linecolor\": \"white\", \"ticks\": \"\", \"title\": {\"standoff\": 15}, \"zerolinecolor\": \"white\", \"zerolinewidth\": 2}}}, \"title\": {\"text\": \"Google Mobility Report (Yamaguchi / Tokyo / Osaka)\"}, \"xaxis\": {\"anchor\": \"y\", \"domain\": [0.0, 1.0], \"title\": {\"text\": \"date\"}}, \"yaxis\": {\"anchor\": \"x\", \"domain\": [0.0, 1.0], \"title\": {\"text\": \"value\"}}},\n",
              "                        {\"responsive\": true}\n",
              "                    ).then(function(){\n",
              "                            \n",
              "var gd = document.getElementById('4846899a-4d0a-4416-8797-557c9292943a');\n",
              "var x = new MutationObserver(function (mutations, observer) {{\n",
              "        var display = window.getComputedStyle(gd).display;\n",
              "        if (!display || display === 'none') {{\n",
              "            console.log([gd, 'removed!']);\n",
              "            Plotly.purge(gd);\n",
              "            observer.disconnect();\n",
              "        }}\n",
              "}});\n",
              "\n",
              "// Listen for the removal of the full notebook cells\n",
              "var notebookContainer = gd.closest('#notebook-container');\n",
              "if (notebookContainer) {{\n",
              "    x.observe(notebookContainer, {childList: true});\n",
              "}}\n",
              "\n",
              "// Listen for the clearing of the current output cell\n",
              "var outputEl = gd.closest('.output');\n",
              "if (outputEl) {{\n",
              "    x.observe(outputEl, {childList: true});\n",
              "}}\n",
              "\n",
              "                        })\n",
              "                };\n",
              "                \n",
              "            </script>\n",
              "        </div>\n",
              "</body>\n",
              "</html>"
            ]
          },
          "metadata": {
            "tags": []
          }
        }
      ]
    },
    {
      "cell_type": "markdown",
      "metadata": {
        "id": "R5V5PBTVpMHc"
      },
      "source": [
        "以上より分かることは以下のとおり：\n",
        "\n",
        "- 東京都は大阪府に比べ，「乗換駅」における人出の減少率が大きい。\n",
        "- 山口県は都市部に比べ，人出の減少率が小さい。"
      ]
    },
    {
      "cell_type": "markdown",
      "metadata": {
        "id": "hr_2Fc0ipMHc"
      },
      "source": [
        "---"
      ]
    },
    {
      "cell_type": "markdown",
      "metadata": {
        "id": "P5GeXtmRpMHc"
      },
      "source": [
        "# 課題：世界の都市で「乗換駅への人出の変動率」を比較する\n",
        "Google 社は COVID-19 Community Mobility Reports を用いた分析にて留意すべき点として，以下を挙げている。\n",
        "\n",
        "1. 位置情報の精度や情報取得状況は地域によって異なるため国家間の比較への利用は推奨されない\n",
        "1. 同一曜日との比較値であるため祝日には外れ値を取りやすい\n",
        "1. 通常時でも他の場所と比べて人々の滞在時間が長い「住居」ではモビリティの増加率が大きくなりにくい\n",
        "\n",
        "「国家間の比較への利用は推奨されない」とのことだが，通信環境が整備された大都市間の比較ならば問題ないだろう。\n",
        "\n",
        "そこで，**日本，イギリス，フランス，ドイツ，ニュージーランドそれぞれの首都**を対象として，「乗換駅」における人出の変動率を比較する。\n",
        "\n",
        "- 東京 (日本)\n",
        "- ロンドン (イギリス)\n",
        "- パリ (フランス)\n",
        "- ベルリン (ドイツ)\n",
        "- ウェリントン (ニュージーランド)\n",
        "\n",
        "ここで「ウェリントン (ニュージーランド)」を加えたのは，他国で COVID-19 感染拡大を抑えられていないにも関わらず，ニュージーランドでは早期に収束が見られたためである。\n",
        "\n",
        "以上の各首都での人出の状況について，\n",
        "\n",
        "- 感染拡大の状況\n",
        "- 各国にて打たれた施策・政策(e.g. ロックダウンや緊急事態宣言等)\n",
        "\n",
        "を考慮し，可視化の結果およびこれに対する考察をレポートにまとめてください。\n",
        "\n",
        "## 参考：都市の指定\n",
        "それぞれの首都に対応するデータを抽出するには，以下の指定を行う。\n",
        "\n",
        "- Tokyo / Berlin / Wellignton は \"sub_region_1\" まで指定すればよい。\n",
        "- London / Pari は \"sub_region_2\" まで指定する必要がある。\n",
        "\n",
        "|city|country_region_code|sub_region_1|sub_region_2|\n",
        "|:-|:-|:-|:-|\n",
        "|**Tokyo**|'JP'|'Tokyo'||\n",
        "|**London**|'GB'|'Greater London'|'City of London'|\n",
        "|**Paris**|'FR'|'Île-de-France'|'Paris'|\n",
        "|**Berlin**|'DE'|'Berlin'||\n",
        "|**Wellington**|'NZ'|'Wellington'||\n",
        "\n",
        "## 参考：イギリスとフランスの地域区分はややこしい\n",
        "- 'Greater London' :\n",
        "グレーター・ロンドン（英: Greater London）は、イギリスおよびイングランドの首都ロンドンの行政区画を形成するリージョンの1つであり、地方長官職を任官する目的で設置されるカウンティの1つでもある。\n",
        "- 'Île-de-France' :\n",
        "パリ（仏: Paris[1]、巴里）は、フランスの首都。イル＝ド＝フランス地域圏の首府。\n"
      ]
    },
    {
      "cell_type": "code",
      "metadata": {
        "id": "9XpO3fkQwnXC"
      },
      "source": [
        ""
      ],
      "execution_count": null,
      "outputs": []
    }
  ]
}