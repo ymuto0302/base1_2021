{
  "nbformat": 4,
  "nbformat_minor": 0,
  "metadata": {
    "colab": {
      "name": "heatmap.ipynb",
      "provenance": [],
      "authorship_tag": "ABX9TyMxDeOTdLMYuPBbZw6tJQRt",
      "include_colab_link": true
    },
    "kernelspec": {
      "name": "python3",
      "display_name": "Python 3"
    },
    "language_info": {
      "name": "python"
    }
  },
  "cells": [
    {
      "cell_type": "markdown",
      "metadata": {
        "id": "view-in-github",
        "colab_type": "text"
      },
      "source": [
        "<a href=\"https://colab.research.google.com/github/ymuto0302/base1_2021/blob/main/heatmap.ipynb\" target=\"_parent\"><img src=\"https://colab.research.google.com/assets/colab-badge.svg\" alt=\"Open In Colab\"/></a>"
      ]
    },
    {
      "cell_type": "markdown",
      "metadata": {
        "id": "EXms0qr_-3wF"
      },
      "source": [
        "# matplotlib を用いたヒートマップの生成\n",
        "ヒートマップとは値に応じて色を付与することで，値の大小を直観的に把握する手法である。\n",
        "\n",
        "以下にプログラム例を示す。\n",
        "\n",
        "また，matplotlib で利用可能なヒートマップの一覧が下記に示されているから，適宜，参照して欲しい。\n",
        "\n",
        "https://matplotlib.org/examples/color/colormaps_reference.html"
      ]
    },
    {
      "cell_type": "code",
      "metadata": {
        "colab": {
          "base_uri": "https://localhost:8080/",
          "height": 364
        },
        "id": "6CUuvRCJ_DSw",
        "outputId": "111eaab9-40c5-4cf9-89cd-db5cb312b6c2"
      },
      "source": [
        "import numpy as np \n",
        "from pandas import DataFrame\n",
        "import matplotlib.pyplot as plt\n",
        "\n",
        "# データフレームを作る（値は適当な乱数）\n",
        "Index= ['alpha', 'beta', 'gamma', 'delta', 'epsilon']\n",
        "Cols = ['A', 'B', 'C', 'D']\n",
        "sample_df = DataFrame(abs(np.random.randn(5, 4)), index=Index, columns=Cols)\n",
        "\n",
        "# データフレームの表示\n",
        "print(sample_df)\n",
        "\n",
        "# ヒートマップの作成・表示\n",
        "plt.pcolor(sample_df, cmap=\"Reds\")\n",
        "plt.yticks(np.arange(0.5, len(sample_df.index), 1), sample_df.index)\n",
        "plt.xticks(np.arange(0.5, len(sample_df.columns), 1), sample_df.columns)\n",
        "plt.gca().invert_yaxis() # y軸の向きを上下逆さまにする\n",
        "plt.show()"
      ],
      "execution_count": null,
      "outputs": [
        {
          "output_type": "stream",
          "text": [
            "                A         B         C         D\n",
            "alpha    1.386207  0.537694  0.273696  1.162427\n",
            "beta     0.025232  0.679286  1.263311  1.351997\n",
            "gamma    1.129277  0.612958  0.158111  1.183991\n",
            "delta    1.061442  0.503666  0.382213  0.966360\n",
            "epsilon  0.166197  1.907661  2.024305  1.322713\n"
          ],
          "name": "stdout"
        },
        {
          "output_type": "display_data",
          "data": {
            "image/png": "[encoded data removed]",
            "text/plain": [
              "<Figure size 432x288 with 1 Axes>"
            ]
          },
          "metadata": {
            "tags": [],
            "needs_background": "light"
          }
        }
      ]
    },
    {
      "cell_type": "code",
      "metadata": {
        "id": "Ch4z1tqk_D85"
      },
      "source": [
        ""
      ],
      "execution_count": null,
      "outputs": []
    }
  ]
}