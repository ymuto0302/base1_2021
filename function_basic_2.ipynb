{
  "nbformat": 4,
  "nbformat_minor": 0,
  "metadata": {
    "kernelspec": {
      "display_name": "Python 3",
      "language": "python",
      "name": "python3"
    },
    "language_info": {
      "codemirror_mode": {
        "name": "ipython",
        "version": 3
      },
      "file_extension": ".py",
      "mimetype": "text/x-python",
      "name": "python",
      "nbconvert_exporter": "python",
      "pygments_lexer": "ipython3",
      "version": "3.8.5"
    },
    "colab": {
      "name": "function_basic_2.ipynb",
      "provenance": [],
      "include_colab_link": true
    }
  },
  "cells": [
    {
      "cell_type": "markdown",
      "metadata": {
        "id": "view-in-github",
        "colab_type": "text"
      },
      "source": [
        "<a href=\"https://colab.research.google.com/github/ymuto0302/base1_2021/blob/main/function_basic_2.ipynb\" target=\"_parent\"><img src=\"https://colab.research.google.com/assets/colab-badge.svg\" alt=\"Open In Colab\"/></a>"
      ]
    },
    {
      "cell_type": "markdown",
      "metadata": {
        "id": "2UIld44urmqk"
      },
      "source": [
        "## 独自の関数を作る（基礎編・その２）"
      ]
    },
    {
      "cell_type": "markdown",
      "metadata": {
        "id": "2yg0DNYSrmqm"
      },
      "source": [
        "### [課題1]「年」と「月」を与えると，その月の日数を返す関数 number_of_days() を作れ。ただし，前回の課題で取り組んだ閏年判定を行う関数 is_leap() を再利用すること！​"
      ]
    },
    {
      "cell_type": "code",
      "metadata": {
        "colab": {
          "base_uri": "https://localhost:8080/"
        },
        "id": "yb9FxVGnrmqm",
        "outputId": "4dda6f73-1cab-473c-9607-c5c4555ebff0"
      },
      "source": [
        "# うるう年の判定\n",
        "def is_leap(year):\n",
        "    if (year % 4 == 0 and year % 100 != 0) or year % 400 == 0:\n",
        "        return True\n",
        "    else:\n",
        "        return False\n",
        "\n",
        "# 各月の日数を算出\n",
        "def number_of_days(year, month):\n",
        "    if month == 1 or month == 3 or month == 5 or month == 7 or month == 8 or month == 10 or month == 12:\n",
        "        day = 31\n",
        "    elif month == 4 or month == 6 or month == 9 or month == 11:\n",
        "        day = 30\n",
        "    else:\n",
        "        leap = is_leap(year)\n",
        "        if leap == True:\n",
        "            day = 29\n",
        "        else:\n",
        "            day = 28\n",
        "        \n",
        "    return day\n",
        "\n",
        "def main():\n",
        "    y = input(\"年を入力\")\n",
        "    m = input(\"月を入力\")\n",
        "    year = int(y)\n",
        "    month = int(m)\n",
        "    print(\"{}年{}月は{}日あります\".format(year, month, number_of_days(year, month)))\n",
        "\n",
        "if __name__ == '__main__':\n",
        "    main()"
      ],
      "execution_count": 1,
      "outputs": [
        {
          "output_type": "stream",
          "name": "stdout",
          "text": [
            "年を入力2020\n",
            "月を入力2\n",
            "2020年2月は29日あります\n"
          ]
        }
      ]
    },
    {
      "cell_type": "markdown",
      "metadata": {
        "id": "4QSPQFpHrmqo"
      },
      "source": [
        "---\n",
        "### [課題2] 台形の面積\n",
        "(準備) 右図の台形の面積を求める関数 trapezoid() を作れ。\n",
        "\n",
        "(本番) 下図の「台形の集まり」の面積を求める関数 total_area() を作れ。"
      ]
    },
    {
      "cell_type": "code",
      "metadata": {
        "colab": {
          "base_uri": "https://localhost:8080/"
        },
        "id": "EDQphZ8lrmqp",
        "outputId": "2d05af86-4d5b-483f-c287-e8938b10b8a8"
      },
      "source": [
        "# 台形の面積：（上底 + 下底) * 高さ / 2\n",
        "def trapezoid(a, b, h):\n",
        "    return (a+b) * h / 2\n",
        "\n",
        "# 「台形の集まり」の面積\n",
        "def total_area(x, h):\n",
        "    sum = 0\n",
        "\n",
        "    for idx in range(len(x)-1):\n",
        "        # 個々の台形の面積を計算し，\n",
        "        area = trapezoid(x[idx], x[idx+1], h)\n",
        "        \n",
        "        # その値を積み重ねる\n",
        "        sum += area\n",
        "        \n",
        "    return sum\n",
        "\n",
        "def main():\n",
        "    x = [5, 7, 3, 5, 7, 1, 5, 6] # 辺の長さ\n",
        "    h = 2 # 高さ\n",
        "\n",
        "    area = total_area(x, h)\n",
        "    print(\"台形の集まりの面積: {}\".format(area))\n",
        "\n",
        "if __name__ == '__main__':\n",
        "    main()"
      ],
      "execution_count": 2,
      "outputs": [
        {
          "output_type": "stream",
          "name": "stdout",
          "text": [
            "台形の集まりの面積: 67.0\n"
          ]
        }
      ]
    },
    {
      "cell_type": "markdown",
      "metadata": {
        "id": "4pXQWUJPrmqp"
      },
      "source": [
        "---\n",
        "### [課題3] 2人でジャンケンした場合，勝利・敗北・あいこの確率はそれぞれ 1/3 とされるが，この主張は正しいだろうか？ 乱数を用いて，２人に疑似的に複数回のジャンケンをさせ，勝利・敗北・あいこの回数を数えよ。"
      ]
    },
    {
      "cell_type": "code",
      "metadata": {
        "colab": {
          "base_uri": "https://localhost:8080/"
        },
        "id": "YuhrXsEUrmqq",
        "outputId": "b178d1b0-f8c6-475d-d7c2-1b680a6bb021"
      },
      "source": [
        "import random\n",
        "\n",
        "# rock = 0, scissors = 1, paper = 2 と仮定する\n",
        "def hand():\n",
        "    return random.randint(0, 2) # 0, 1, 2 のいずれかを生成\n",
        "\n",
        "def main():\n",
        "    # 勝ち数，負け数，あいこ数を記録するための変数\n",
        "    win = 0\n",
        "    lose = 0\n",
        "    even = 0\n",
        "\n",
        "    trials = 90000\n",
        "    for i in range(trials):\n",
        "        # 2人のプレーヤの出す手を決める\n",
        "        player_a = hand()\n",
        "        player_b = hand()\n",
        "        \n",
        "        # 勝敗を判定し，プレーヤーAの勝ち数，負け数，あいこ数を記録\n",
        "        if player_a == player_b:\n",
        "            even += 1\n",
        "        elif ((player_a == 0 and player_b == 1)\n",
        "            or (player_a == 1 and player_b == 2)\n",
        "            or (player_a == 2 and player_b == 0)):\n",
        "            win += 1\n",
        "        else:\n",
        "            lose += 1\n",
        "            \n",
        "    print(\"win:{}, lose:{}, even:{}\".format(win, lose, even))\n",
        "    print(\"win:{}, lose:{}, even:{}\".format(win/trials, lose/trials, even/trials))\n",
        "\n",
        "if __name__ == '__main__':\n",
        "    main()"
      ],
      "execution_count": 4,
      "outputs": [
        {
          "output_type": "stream",
          "name": "stdout",
          "text": [
            "win:30107, lose:29876, even:30017\n",
            "win:0.3345222222222222, lose:0.33195555555555556, even:0.3335222222222222\n"
          ]
        }
      ]
    },
    {
      "cell_type": "markdown",
      "metadata": {
        "id": "VCbdcszlsbTO"
      },
      "source": [
        "関数 hand() の別の作り方を以下に示す。"
      ]
    },
    {
      "cell_type": "code",
      "metadata": {
        "colab": {
          "base_uri": "https://localhost:8080/"
        },
        "id": "mpL6OGR_rmqr",
        "outputId": "3993d192-5c37-4db1-a0fe-40c05019f13e"
      },
      "source": [
        "import random\n",
        "\n",
        "# rock = 0, scissors = 1, paper = 2 と仮定する\n",
        "def hand():\n",
        "    hands = [\"rock\", \"scissors\", \"paper\"]\n",
        "    r = random.randint(0, 2) # 0, 1, 2 のいずれかを生成\n",
        "    return hands[r]\n",
        "\n",
        "def main():\n",
        "    # 勝ち数，負け数，あいこ数を記録するための変数\n",
        "    win = 0\n",
        "    lose = 0\n",
        "    even = 0\n",
        "\n",
        "    trials = 90000\n",
        "    for i in range(trials):\n",
        "        # 2人のプレーヤの出す手を決める\n",
        "        player_a = hand()\n",
        "        player_b = hand()\n",
        "        \n",
        "        # 勝敗を判定し，プレーヤーAの勝ち数，負け数，あいこ数を記録\n",
        "        if player_a == player_b:\n",
        "            even += 1\n",
        "        elif ((player_a == \"rock\" and player_b == \"scissors\")\n",
        "            or (player_a == \"scissors\" and player_b == \"paper\")\n",
        "            or (player_a == \"paper\" and player_b == \"rock\")):\n",
        "            win += 1\n",
        "        else:\n",
        "            lose += 1\n",
        "            \n",
        "    print(\"win:{}, lose:{}, even:{}\".format(win, lose, even))\n",
        "    print(\"win:{}, lose:{}, even:{}\".format(win/trials, lose/trials, even/trials))\n",
        "\n",
        "if __name__ == '__main__':\n",
        "    main()"
      ],
      "execution_count": 5,
      "outputs": [
        {
          "output_type": "stream",
          "name": "stdout",
          "text": [
            "win:30030, lose:30185, even:29785\n",
            "win:0.33366666666666667, lose:0.3353888888888889, even:0.33094444444444443\n"
          ]
        }
      ]
    },
    {
      "cell_type": "code",
      "metadata": {
        "id": "gzBkUdVtrmqs"
      },
      "source": [
        ""
      ],
      "execution_count": null,
      "outputs": []
    }
  ]
}