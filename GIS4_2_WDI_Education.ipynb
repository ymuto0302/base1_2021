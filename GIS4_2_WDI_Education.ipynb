{
  "nbformat": 4,
  "nbformat_minor": 0,
  "metadata": {
    "colab": {
      "name": "GIS4_2_WDI_Education.ipynb",
      "provenance": [],
      "collapsed_sections": [],
      "include_colab_link": true
    },
    "kernelspec": {
      "display_name": "Python 3",
      "language": "python",
      "name": "python3"
    },
    "language_info": {
      "codemirror_mode": {
        "name": "ipython",
        "version": 3
      },
      "file_extension": ".py",
      "mimetype": "text/x-python",
      "name": "python",
      "nbconvert_exporter": "python",
      "pygments_lexer": "ipython3",
      "version": "3.8.8"
    }
  },
  "cells": [
    {
      "cell_type": "markdown",
      "metadata": {
        "id": "view-in-github",
        "colab_type": "text"
      },
      "source": [
        "<a href=\"https://colab.research.google.com/github/ymuto0302/base1_2021/blob/main/GIS4_2_WDI_Education.ipynb\" target=\"_parent\"><img src=\"https://colab.research.google.com/assets/colab-badge.svg\" alt=\"Open In Colab\"/></a>"
      ]
    },
    {
      "cell_type": "markdown",
      "metadata": {
        "id": "-rTVnjmbnDmf"
      },
      "source": [
        "# コロプレスマップを用いた World Development Indicators からの教育環境の分析\n",
        "\n",
        "### モチベーション\n",
        "経営情報学科のカリキュラムには「国際関係論」や「国際経営論」という科目がある。また，SDGs に基づく社会課題解決という世界的な流れがある。\n",
        "\n",
        "特に SDGs では貧困，教育，平等性，気候変動等，様々な問題が取り上げられている。\n",
        "\n",
        "これらのうち，教育と地理情報を絡めてみよう！\n",
        "\n",
        "---\n",
        "### 前回の授業\n",
        "\"World Development Indicators\" データセットを利用し，指標 access to electorcity からコロプレスマップを構築する事例を説明した後，次の２指標について考察した。\n",
        "- \"People using at least basic drinking water services (% of population)\"\n",
        "- \"Total CO2 emissions (thousand metric tons of CO2 excluding Land-Use Change and Forestry)\"\n",
        "\n",
        "### 今回の授業\n",
        "利用するデータセットは \"World Development Indicators (WDI)\" である。\n",
        "\n",
        "https://datacatalog.worldbank.org/dataset/world-development-indicators\n",
        "\n",
        "このデータから教育に関する指標として次の２指標を抽出し，コロプレスマップの展開および考察を試みる。\n",
        "- 就学率\n",
        "- Gender Parity Index\n"
      ]
    },
    {
      "cell_type": "markdown",
      "metadata": {
        "id": "DoVsUDcInDmg"
      },
      "source": [
        "---\n",
        "## WDI にて提供される指標\n",
        "1400種超の指標が含まれる。\n",
        "\n",
        "国名(Country Name / Country Code)×指標(Indicator Name / Indicator Code) ×年度(1960〜2020)に対して「指標の値」が示されている。\n",
        "\n",
        "- 対象となる国（地域）数：247カ国 ・・・多分・・・\n",
        "- 指標：1443種類 ・・・WDISeries.csv を参照\n",
        "- 年度：指標によって収集された件数が異なる\n",
        "\n",
        "## データ\n",
        "データはファイル \"WDIData.csv\" に格納されている。\n"
      ]
    },
    {
      "cell_type": "markdown",
      "metadata": {
        "id": "oW82-3dbnKEg"
      },
      "source": [
        "---\n",
        "### (準備) Google Drive のマウント"
      ]
    },
    {
      "cell_type": "code",
      "metadata": {
        "colab": {
          "base_uri": "https://localhost:8080/"
        },
        "id": "GsqY3s4vnOrI",
        "outputId": "8f1dc4b9-b217-4b3e-e640-4caecf4c62a5"
      },
      "source": [
        "from google.colab import drive\n",
        "drive.mount('/content/drive')"
      ],
      "execution_count": null,
      "outputs": [
        {
          "output_type": "stream",
          "name": "stdout",
          "text": [
            "Mounted at /content/drive\n"
          ]
        }
      ]
    },
    {
      "cell_type": "markdown",
      "metadata": {
        "id": "e7NEz9u9yh0O"
      },
      "source": [
        "---\n",
        "### Indicator Code (指標コード) の検索\n",
        "Indicator Name (指標名)が既知である場合，指標の一覧を格納するファイル WDISeries.csv を読み込み，検索をかければよい。\n",
        "\n",
        "以下の例では \"Access to electoricity\" を含む指標を検索している。\n",
        "\n",
        "(注意) contains() メソッドは大文字／小文字を区別する。"
      ]
    },
    {
      "cell_type": "code",
      "metadata": {
        "colab": {
          "base_uri": "https://localhost:8080/",
          "height": 468
        },
        "id": "Rn_wI-h8qnOM",
        "outputId": "297a1243-e30f-4884-bc97-746f50cd9aa6"
      },
      "source": [
        "import pandas as pd\n",
        "df = pd.read_csv(\"/content/drive/My Drive/BASE/GeoData/WorldDevelopmentIndicators/WDISeries.csv\")\n",
        "df[df['Indicator Name'].str.contains('Access to electricity')]"
      ],
      "execution_count": null,
      "outputs": [
        {
          "output_type": "execute_result",
          "data": {
            "text/html": [
              "<div>\n",
              "<style scoped>\n",
              "    .dataframe tbody tr th:only-of-type {\n",
              "        vertical-align: middle;\n",
              "    }\n",
              "\n",
              "    .dataframe tbody tr th {\n",
              "        vertical-align: top;\n",
              "    }\n",
              "\n",
              "    .dataframe thead th {\n",
              "        text-align: right;\n",
              "    }\n",
              "</style>\n",
              "<table border=\"1\" class=\"dataframe\">\n",
              "  <thead>\n",
              "    <tr style=\"text-align: right;\">\n",
              "      <th></th>\n",
              "      <th>Series Code</th>\n",
              "      <th>Topic</th>\n",
              "      <th>Indicator Name</th>\n",
              "      <th>Short definition</th>\n",
              "      <th>Long definition</th>\n",
              "      <th>Unit of measure</th>\n",
              "      <th>Periodicity</th>\n",
              "      <th>Base Period</th>\n",
              "      <th>Other notes</th>\n",
              "      <th>Aggregation method</th>\n",
              "      <th>Limitations and exceptions</th>\n",
              "      <th>Notes from original source</th>\n",
              "      <th>General comments</th>\n",
              "      <th>Source</th>\n",
              "      <th>Statistical concept and methodology</th>\n",
              "      <th>Development relevance</th>\n",
              "      <th>Related source links</th>\n",
              "      <th>Other web links</th>\n",
              "      <th>Related indicators</th>\n",
              "      <th>License Type</th>\n",
              "      <th>Unnamed: 20</th>\n",
              "    </tr>\n",
              "  </thead>\n",
              "  <tbody>\n",
              "    <tr>\n",
              "      <th>197</th>\n",
              "      <td>EG.ELC.ACCS.RU.ZS</td>\n",
              "      <td>Environment: Energy production &amp; use</td>\n",
              "      <td>Access to electricity, rural (% of rural popul...</td>\n",
              "      <td>NaN</td>\n",
              "      <td>Access to electricity, rural is the percentage...</td>\n",
              "      <td>NaN</td>\n",
              "      <td>Annual</td>\n",
              "      <td>NaN</td>\n",
              "      <td>NaN</td>\n",
              "      <td>Weighted average</td>\n",
              "      <td>NaN</td>\n",
              "      <td>NaN</td>\n",
              "      <td>NaN</td>\n",
              "      <td>World Bank Global Electrification Database fro...</td>\n",
              "      <td>Data for access to electricity are collected a...</td>\n",
              "      <td>NaN</td>\n",
              "      <td>NaN</td>\n",
              "      <td>NaN</td>\n",
              "      <td>NaN</td>\n",
              "      <td>CC BY-4.0</td>\n",
              "      <td>NaN</td>\n",
              "    </tr>\n",
              "    <tr>\n",
              "      <th>198</th>\n",
              "      <td>EG.ELC.ACCS.UR.ZS</td>\n",
              "      <td>Environment: Energy production &amp; use</td>\n",
              "      <td>Access to electricity, urban (% of urban popul...</td>\n",
              "      <td>NaN</td>\n",
              "      <td>Access to electricity, urban is the percentage...</td>\n",
              "      <td>NaN</td>\n",
              "      <td>Annual</td>\n",
              "      <td>NaN</td>\n",
              "      <td>NaN</td>\n",
              "      <td>Weighted average</td>\n",
              "      <td>NaN</td>\n",
              "      <td>NaN</td>\n",
              "      <td>NaN</td>\n",
              "      <td>World Bank Global Electrification Database fro...</td>\n",
              "      <td>Data for access to electricity are collected a...</td>\n",
              "      <td>NaN</td>\n",
              "      <td>NaN</td>\n",
              "      <td>NaN</td>\n",
              "      <td>NaN</td>\n",
              "      <td>CC BY-4.0</td>\n",
              "      <td>NaN</td>\n",
              "    </tr>\n",
              "    <tr>\n",
              "      <th>199</th>\n",
              "      <td>EG.ELC.ACCS.ZS</td>\n",
              "      <td>Environment: Energy production &amp; use</td>\n",
              "      <td>Access to electricity (% of population)</td>\n",
              "      <td>NaN</td>\n",
              "      <td>Access to electricity is the percentage of pop...</td>\n",
              "      <td>NaN</td>\n",
              "      <td>Annual</td>\n",
              "      <td>NaN</td>\n",
              "      <td>NaN</td>\n",
              "      <td>Weighted average</td>\n",
              "      <td>NaN</td>\n",
              "      <td>NaN</td>\n",
              "      <td>NaN</td>\n",
              "      <td>World Bank Global Electrification Database fro...</td>\n",
              "      <td>Data for access to electricity are collected a...</td>\n",
              "      <td>Maintaining reliable and secure electricity se...</td>\n",
              "      <td>NaN</td>\n",
              "      <td>NaN</td>\n",
              "      <td>NaN</td>\n",
              "      <td>CC BY-4.0</td>\n",
              "      <td>NaN</td>\n",
              "    </tr>\n",
              "  </tbody>\n",
              "</table>\n",
              "</div>"
            ],
            "text/plain": [
              "           Series Code  ... Unnamed: 20\n",
              "197  EG.ELC.ACCS.RU.ZS  ...         NaN\n",
              "198  EG.ELC.ACCS.UR.ZS  ...         NaN\n",
              "199     EG.ELC.ACCS.ZS  ...         NaN\n",
              "\n",
              "[3 rows x 21 columns]"
            ]
          },
          "metadata": {},
          "execution_count": 5
        }
      ]
    },
    {
      "cell_type": "markdown",
      "metadata": {
        "id": "Ogv9k_JQr9l3"
      },
      "source": [
        "---\n",
        "## [テーマ1] 就学率\n",
        "一般に学校教育は\n",
        "- primary education: 初等教育（小学校）\n",
        "- secondary education: 中等教育（中学校・高等学校）\n",
        "- tertiary education: 高等教育（高等専門学校・大学・大学院）\n",
        "\n",
        "の３段階に分けられる。もちろん国によって初等教育や中等教育の年限は多少，異なるが， 本授業では細かい点に留意しない。\n",
        "\n",
        "WDI におけるそれぞれの Indicator Name は以下のとおり：\n",
        "- 初等教育の就学率・・・School enrollment, primary (% gross)\n",
        "- 中等教育の就学率・・・School enrollment, secondary (% gross)\n",
        "- 高等教育の就学率・・・School enrollment, tertiary (% gross)\n",
        "\n",
        "**(注) gross でなく adjusted net の値も存在するが，国によって集計年度が異なるため，コードがややこしくなる。故に，本授業では（誤差が含まれるものの，傾向を掴むには問題ないとみなし）gross の値を用いる。**\n",
        "\n",
        "#### school enrollment (% gross) について\n",
        "school enrollment (% gross) は 100% を超える。\n",
        "その理由について， unesco.org に分かりやすい説明が掲載されているから，参照してください。\n",
        "\n",
        "http://uis.unesco.org/en/glossary-term/gross-enrolment-ratio#:~:text=A%20GER%20value%20approaching%20or,indicate%20the%20proportion%20already%20enrolled.\n"
      ]
    },
    {
      "cell_type": "markdown",
      "metadata": {
        "id": "7VekZATqATP9"
      },
      "source": [
        "---\n",
        "## [テーマ2] gender parity index (GPI)\n",
        "就学率における gender parity index (GPI) とは，「女子の就学率/男子の就学率」で計算される。 すなわち，GPI の値が1を上回ると女子の方が就学率が高く， 逆に1を下回る場合は男子の方が就学率が高いということを示す。\n",
        "\n",
        "ジェンダーによる不平等性の解消という観点から GPI の値は 1.0 前後にあることが望ましい。\n",
        "\n",
        "WDI における GPI の Indicator Name は以下のとおり：\n",
        "- 初等教育のGPI・・・School enrollment, primary (gross), gender parity index\n",
        "- 中等教育のGPI・・・School enrollment, secondary (gross), gender parity index\n",
        "- 高等教育のGPI・・・School enrollment, tertiary (gross), gender parity index\n"
      ]
    },
    {
      "cell_type": "markdown",
      "metadata": {
        "id": "XAghsDEPBsH_"
      },
      "source": [
        "GPI の値は国によって調査タイミングや頻度が異なるため，特定の年の値のみを眺めると，以下の問題が生じる。\n",
        "- アフリカの数値がごっそり抜けている\n",
        "- 成長著しいインドの数値が抜けている\n",
        "- 日本を含むアジアの数値がまばらである\n",
        "\n",
        "そこで，2008, 2010, 2012, 2014, 2016, 2018年の値のうち，最大値を「新たなデータ列 \"GPI\"」として定義することが望ましい。\n",
        "\n",
        "以下に，（例えば初等教育の GPI を）変数 df へ取り込んだ場合のコード例を示す。"
      ]
    },
    {
      "cell_type": "code",
      "metadata": {
        "id": "wppovv_vBs1z"
      },
      "source": [
        "# 2008〜2018年の期間において，国によって値の有無があるため，最大値をもって「各国の GPI」とする。\n",
        "df['GPI'] = df[['2008', '2010', '2012', '2014', '2016', '2018']].max(axis=1)"
      ],
      "execution_count": null,
      "outputs": []
    },
    {
      "cell_type": "markdown",
      "metadata": {
        "id": "P-KbAdkAC2qW"
      },
      "source": [
        "---\n",
        "# 課題\n",
        "\n",
        "## 課題(その1)\n",
        "ファイル WDISeries.csv を参照し，\n",
        "初等教育，中等教育，高等教育のそれぞれについて\n",
        "就学率および　gender parity index の Indicator Code を得よ。\n",
        "\n",
        "つまり，**「初等，中等，高等」×「就学率，GPI」の計６指標を対象とする。**\n",
        "\n",
        "#### Indicator Name の一覧\n",
        "- 初等教育の就学率・・・School enrollment, primary (% gross)\n",
        "- 中等教育の就学率・・・School enrollment, secondary (% gross)\n",
        "- 高等教育の就学率・・・School enrollment, tertiary (% gross)\n",
        "- 初等教育のGPI・・・School enrollment, primary (gross), gender parity index\n",
        "- 中等教育のGPI・・・School enrollment, secondary (gross), gender parity index\n",
        "- 高等教育のGPI・・・School enrollment, tertiary (gross), gender parity index\n",
        "\n",
        "\n",
        "## 課題(その2)\n",
        "初等教育，中等教育，高等教育のそれぞれについて\n",
        "就学率および　gender parity index の値をコロプレスマップへ投影し，経済的・政治的観点から考察せよ。\n",
        "\n",
        "**(注) GPI はかなり歯抜けになっている → 前述したとおり，複数の年から最大値をとる，といった前処理が必要である。**\n"
      ]
    },
    {
      "cell_type": "code",
      "metadata": {
        "id": "GkWuA5-DIU0F"
      },
      "source": [
        ""
      ],
      "execution_count": null,
      "outputs": []
    }
  ]
}