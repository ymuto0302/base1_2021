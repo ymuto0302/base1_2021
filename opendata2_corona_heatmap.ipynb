{
  "nbformat": 4,
  "nbformat_minor": 0,
  "metadata": {
    "colab": {
      "name": "opendata2_corona_heatmap.ipynb",
      "provenance": [],
      "collapsed_sections": [],
      "include_colab_link": true
    },
    "kernelspec": {
      "name": "python3",
      "display_name": "Python 3"
    }
  },
  "cells": [
    {
      "cell_type": "markdown",
      "metadata": {
        "id": "view-in-github",
        "colab_type": "text"
      },
      "source": [
        "<a href=\"https://colab.research.google.com/github/ymuto0302/base1_2021/blob/main/opendata2_corona_heatmap.ipynb\" target=\"_parent\"><img src=\"https://colab.research.google.com/assets/colab-badge.svg\" alt=\"Open In Colab\"/></a>"
      ]
    },
    {
      "cell_type": "markdown",
      "metadata": {
        "id": "bmfpRPtFwm4S"
      },
      "source": [
        "# オープンデータの活用(」：新型コロナウイルス陽性者データ(1)\n",
        "東京都，神奈川県，北海道，大阪府等，多くの自治体が新型コロナウイルス(COVID-19)に関するデータをオープンデータとして公開している。"
      ]
    },
    {
      "cell_type": "markdown",
      "metadata": {
        "id": "t8ERpQJgxG5y"
      },
      "source": [
        "### 福岡県が提供するデータ\n",
        "「福岡県オープンデータサイト」\n",
        "https://www.open-governmentdata.org/fukuoka-pref/\n",
        "にて各種データが提供されている。\n",
        "\n",
        "このサイトにおいて，陽性者発表情報は\n",
        "\n",
        "https://ckan.open-governmentdata.org/dataset/401000_pref_fukuoka_covid19_patients\n",
        "\n",
        "に置かれている。ここからデータをダウンロードし，fukuoka_covid19_patients.csv へファイル名変更し，以下で用いる。\n",
        "\n",
        "fukuoka_covid19_patients.csv の冒頭は以下のとおり：\n",
        "\n",
        "```\n",
        "No,全国地方公共団体コード,都道府県名,市区町村名,公表_年月日,曜日,発症_年月日,居住地,年代,性別,感染経路不明,濃厚接触者,海外渡航歴有\n",
        "1,400009,福岡県,,2020/02/20,木,,福岡市中央区,60代,男性,1,,\n",
        "2,400009,福岡県,,2020/02/20,木,,福岡市中央区,60代,女性,,1,\n",
        "3,400009,福岡県,,2020/03/01,日,,北九州市小倉南区,60代,男性,1,,\n",
        "4,400009,福岡県,,2020/03/17,火,,福岡市南区,30代,女性,,,1\n",
        "5,400009,福岡県,,2020/03/19,木,,宗像市,30代,女性,,,1\n",
        "6,400009,福岡県,,2020/03/23,月,,北九州市小倉北区,40代,男性,1,,\n",
        "7,400009,福岡県,,2020/03/24,火,,福岡市早良区,40代,男性,1,,\n",
        "8,400009,福岡県,,2020/03/24,火,,飯塚市,30代,男性,1,,\n",
        "9,400009,福岡県,,2020/03/24,火,,飯塚市,30代,女性,,1,\n",
        "```\n"
      ]
    },
    {
      "cell_type": "markdown",
      "metadata": {
        "id": "muzcUmsajVGG"
      },
      "source": [
        "### Google Drive のマウント"
      ]
    },
    {
      "cell_type": "code",
      "metadata": {
        "id": "sltwGdo5c3FF",
        "colab": {
          "base_uri": "https://localhost:8080/"
        },
        "outputId": "42978f08-c032-4c9a-a614-f7f559946901"
      },
      "source": [
        "# Google Drive のマウント\n",
        "from google.colab import drive\n",
        "drive.mount('/content/drive')"
      ],
      "execution_count": 1,
      "outputs": [
        {
          "output_type": "stream",
          "text": [
            "Mounted at /content/drive\n"
          ],
          "name": "stdout"
        }
      ]
    },
    {
      "cell_type": "markdown",
      "metadata": {
        "id": "ueywSof3l0aG"
      },
      "source": [
        "### CSVファイルからのデータの読み込み\n",
        "福岡県の新型コロナのデータは UTF-8 で記述されている。\n",
        "また，シンプルなヘッダゆえ，encoding 以外のオプションは不要である。"
      ]
    },
    {
      "cell_type": "code",
      "metadata": {
        "id": "3UZVgKjWxS0d"
      },
      "source": [
        "import pandas as pd # データ解析ライブラリ Pandas のインポート\n",
        "\n",
        "# CSV ファイルからデータ読み込み\n",
        "df = pd.read_csv(\"/content/drive/My Drive/BASE/OpenData/fukuoka_covid19_patients.csv\", encoding=\"utf-8\")"
      ],
      "execution_count": 2,
      "outputs": []
    },
    {
      "cell_type": "code",
      "metadata": {
        "id": "6Xl3P6cmx6aY",
        "colab": {
          "base_uri": "https://localhost:8080/",
          "height": 306
        },
        "outputId": "754e57f1-3627-4479-9e70-7a1421173612"
      },
      "source": [
        "df.head() # 結果確認のため，先頭の５行のみ表示"
      ],
      "execution_count": 3,
      "outputs": [
        {
          "output_type": "execute_result",
          "data": {
            "text/html": [
              "<div>\n",
              "<style scoped>\n",
              "    .dataframe tbody tr th:only-of-type {\n",
              "        vertical-align: middle;\n",
              "    }\n",
              "\n",
              "    .dataframe tbody tr th {\n",
              "        vertical-align: top;\n",
              "    }\n",
              "\n",
              "    .dataframe thead th {\n",
              "        text-align: right;\n",
              "    }\n",
              "</style>\n",
              "<table border=\"1\" class=\"dataframe\">\n",
              "  <thead>\n",
              "    <tr style=\"text-align: right;\">\n",
              "      <th></th>\n",
              "      <th>No</th>\n",
              "      <th>全国地方公共団体コード</th>\n",
              "      <th>都道府県名</th>\n",
              "      <th>市区町村名</th>\n",
              "      <th>公表_年月日</th>\n",
              "      <th>曜日</th>\n",
              "      <th>発症_年月日</th>\n",
              "      <th>居住地</th>\n",
              "      <th>年代</th>\n",
              "      <th>性別</th>\n",
              "      <th>感染経路不明</th>\n",
              "      <th>濃厚接触者</th>\n",
              "      <th>海外渡航歴有</th>\n",
              "    </tr>\n",
              "  </thead>\n",
              "  <tbody>\n",
              "    <tr>\n",
              "      <th>0</th>\n",
              "      <td>1</td>\n",
              "      <td>400009.0</td>\n",
              "      <td>福岡県</td>\n",
              "      <td>NaN</td>\n",
              "      <td>2020/02/20</td>\n",
              "      <td>木</td>\n",
              "      <td>NaN</td>\n",
              "      <td>福岡市中央区</td>\n",
              "      <td>60代</td>\n",
              "      <td>男性</td>\n",
              "      <td>1.0</td>\n",
              "      <td>NaN</td>\n",
              "      <td>NaN</td>\n",
              "    </tr>\n",
              "    <tr>\n",
              "      <th>1</th>\n",
              "      <td>2</td>\n",
              "      <td>400009.0</td>\n",
              "      <td>福岡県</td>\n",
              "      <td>NaN</td>\n",
              "      <td>2020/02/20</td>\n",
              "      <td>木</td>\n",
              "      <td>NaN</td>\n",
              "      <td>福岡市中央区</td>\n",
              "      <td>60代</td>\n",
              "      <td>女性</td>\n",
              "      <td>NaN</td>\n",
              "      <td>1.0</td>\n",
              "      <td>NaN</td>\n",
              "    </tr>\n",
              "    <tr>\n",
              "      <th>2</th>\n",
              "      <td>3</td>\n",
              "      <td>400009.0</td>\n",
              "      <td>福岡県</td>\n",
              "      <td>NaN</td>\n",
              "      <td>2020/03/01</td>\n",
              "      <td>日</td>\n",
              "      <td>NaN</td>\n",
              "      <td>北九州市小倉南区</td>\n",
              "      <td>60代</td>\n",
              "      <td>男性</td>\n",
              "      <td>1.0</td>\n",
              "      <td>NaN</td>\n",
              "      <td>NaN</td>\n",
              "    </tr>\n",
              "    <tr>\n",
              "      <th>3</th>\n",
              "      <td>4</td>\n",
              "      <td>400009.0</td>\n",
              "      <td>福岡県</td>\n",
              "      <td>NaN</td>\n",
              "      <td>2020/03/17</td>\n",
              "      <td>火</td>\n",
              "      <td>NaN</td>\n",
              "      <td>福岡市南区</td>\n",
              "      <td>30代</td>\n",
              "      <td>女性</td>\n",
              "      <td>NaN</td>\n",
              "      <td>NaN</td>\n",
              "      <td>1.0</td>\n",
              "    </tr>\n",
              "    <tr>\n",
              "      <th>4</th>\n",
              "      <td>5</td>\n",
              "      <td>400009.0</td>\n",
              "      <td>福岡県</td>\n",
              "      <td>NaN</td>\n",
              "      <td>2020/03/19</td>\n",
              "      <td>木</td>\n",
              "      <td>NaN</td>\n",
              "      <td>宗像市</td>\n",
              "      <td>30代</td>\n",
              "      <td>女性</td>\n",
              "      <td>NaN</td>\n",
              "      <td>NaN</td>\n",
              "      <td>1.0</td>\n",
              "    </tr>\n",
              "  </tbody>\n",
              "</table>\n",
              "</div>"
            ],
            "text/plain": [
              "   No  全国地方公共団体コード 都道府県名  市区町村名      公表_年月日  ...   年代  性別 感染経路不明 濃厚接触者 海外渡航歴有\n",
              "0   1     400009.0   福岡県    NaN  2020/02/20  ...  60代  男性    1.0   NaN    NaN\n",
              "1   2     400009.0   福岡県    NaN  2020/02/20  ...  60代  女性    NaN   1.0    NaN\n",
              "2   3     400009.0   福岡県    NaN  2020/03/01  ...  60代  男性    1.0   NaN    NaN\n",
              "3   4     400009.0   福岡県    NaN  2020/03/17  ...  30代  女性    NaN   NaN    1.0\n",
              "4   5     400009.0   福岡県    NaN  2020/03/19  ...  30代  女性    NaN   NaN    1.0\n",
              "\n",
              "[5 rows x 13 columns]"
            ]
          },
          "metadata": {
            "tags": []
          },
          "execution_count": 3
        }
      ]
    },
    {
      "cell_type": "markdown",
      "metadata": {
        "id": "AefH7clUpFs3"
      },
      "source": [
        "### 必要なデータ項目の選別\n",
        "公表年月日，居住地，年代，性別を取り出すこととする。\n",
        "\n",
        "**「絞り込むデータ項目」の指定にあたり，loc() メソッドを用いる。 loc() メソッドでは引数に列名を指定する。**"
      ]
    },
    {
      "cell_type": "code",
      "metadata": {
        "id": "v2g5pooOzX6e",
        "colab": {
          "base_uri": "https://localhost:8080/",
          "height": 202
        },
        "outputId": "47ea0627-ded8-4bc0-bde9-e18f21def789"
      },
      "source": [
        "# 公表_年月日，居住地，年代，性別のみを取り出す\n",
        "df = df.loc[:, [\"公表_年月日\", \"居住地\", \"年代\", \"性別\"]]\n",
        "df.head() # 結果確認のため，先頭を表示"
      ],
      "execution_count": 4,
      "outputs": [
        {
          "output_type": "execute_result",
          "data": {
            "text/html": [
              "<div>\n",
              "<style scoped>\n",
              "    .dataframe tbody tr th:only-of-type {\n",
              "        vertical-align: middle;\n",
              "    }\n",
              "\n",
              "    .dataframe tbody tr th {\n",
              "        vertical-align: top;\n",
              "    }\n",
              "\n",
              "    .dataframe thead th {\n",
              "        text-align: right;\n",
              "    }\n",
              "</style>\n",
              "<table border=\"1\" class=\"dataframe\">\n",
              "  <thead>\n",
              "    <tr style=\"text-align: right;\">\n",
              "      <th></th>\n",
              "      <th>公表_年月日</th>\n",
              "      <th>居住地</th>\n",
              "      <th>年代</th>\n",
              "      <th>性別</th>\n",
              "    </tr>\n",
              "  </thead>\n",
              "  <tbody>\n",
              "    <tr>\n",
              "      <th>0</th>\n",
              "      <td>2020/02/20</td>\n",
              "      <td>福岡市中央区</td>\n",
              "      <td>60代</td>\n",
              "      <td>男性</td>\n",
              "    </tr>\n",
              "    <tr>\n",
              "      <th>1</th>\n",
              "      <td>2020/02/20</td>\n",
              "      <td>福岡市中央区</td>\n",
              "      <td>60代</td>\n",
              "      <td>女性</td>\n",
              "    </tr>\n",
              "    <tr>\n",
              "      <th>2</th>\n",
              "      <td>2020/03/01</td>\n",
              "      <td>北九州市小倉南区</td>\n",
              "      <td>60代</td>\n",
              "      <td>男性</td>\n",
              "    </tr>\n",
              "    <tr>\n",
              "      <th>3</th>\n",
              "      <td>2020/03/17</td>\n",
              "      <td>福岡市南区</td>\n",
              "      <td>30代</td>\n",
              "      <td>女性</td>\n",
              "    </tr>\n",
              "    <tr>\n",
              "      <th>4</th>\n",
              "      <td>2020/03/19</td>\n",
              "      <td>宗像市</td>\n",
              "      <td>30代</td>\n",
              "      <td>女性</td>\n",
              "    </tr>\n",
              "  </tbody>\n",
              "</table>\n",
              "</div>"
            ],
            "text/plain": [
              "       公表_年月日       居住地   年代  性別\n",
              "0  2020/02/20    福岡市中央区  60代  男性\n",
              "1  2020/02/20    福岡市中央区  60代  女性\n",
              "2  2020/03/01  北九州市小倉南区  60代  男性\n",
              "3  2020/03/17     福岡市南区  30代  女性\n",
              "4  2020/03/19       宗像市  30代  女性"
            ]
          },
          "metadata": {
            "tags": []
          },
          "execution_count": 4
        }
      ]
    },
    {
      "cell_type": "markdown",
      "metadata": {
        "id": "rvjjBMTim-YQ"
      },
      "source": [
        "### ピポット(pivot)を用いた並べ替え\n",
        "目標は，「リリース日および年代でグループ化して，\"患者数(6月1日, 40代)=3人\" のような構造を作る」ことにある。\n",
        "\n",
        "そこで Pandas のピボット機能を用いる。"
      ]
    },
    {
      "cell_type": "code",
      "metadata": {
        "id": "8fvoVdJ-m99Z",
        "colab": {
          "base_uri": "https://localhost:8080/",
          "height": 202
        },
        "outputId": "c4cbdc8c-fe24-412f-f896-677cfb254ca2"
      },
      "source": [
        "df[\"カウント\"] = 1 # 可視化の際に利用するため，個々の患者に 1 を割り振る\n",
        "\n",
        "# 行と列を指定してピボット（再形成）\n",
        "# ここでは「年代」を列としてデータを並べ替えている\n",
        "df_pivot = df.pivot(columns=\"年代\", values=\"カウント\")\n",
        "\n",
        "# 元データの「公表_年月日」と pivot により並べ替えたデータを結合する\n",
        "df = pd.concat([df[\"公表_年月日\"], df_pivot], axis=1)\n",
        "\n",
        "df.head() # 結果確認のため，先頭の５行のみ表示"
      ],
      "execution_count": 5,
      "outputs": [
        {
          "output_type": "execute_result",
          "data": {
            "text/html": [
              "<div>\n",
              "<style scoped>\n",
              "    .dataframe tbody tr th:only-of-type {\n",
              "        vertical-align: middle;\n",
              "    }\n",
              "\n",
              "    .dataframe tbody tr th {\n",
              "        vertical-align: top;\n",
              "    }\n",
              "\n",
              "    .dataframe thead th {\n",
              "        text-align: right;\n",
              "    }\n",
              "</style>\n",
              "<table border=\"1\" class=\"dataframe\">\n",
              "  <thead>\n",
              "    <tr style=\"text-align: right;\">\n",
              "      <th></th>\n",
              "      <th>公表_年月日</th>\n",
              "      <th>NaN</th>\n",
              "      <th>-</th>\n",
              "      <th>10代</th>\n",
              "      <th>10歳未満</th>\n",
              "      <th>20代</th>\n",
              "      <th>30代</th>\n",
              "      <th>40代</th>\n",
              "      <th>50代</th>\n",
              "      <th>60代</th>\n",
              "      <th>70代</th>\n",
              "      <th>80代</th>\n",
              "      <th>90代以上</th>\n",
              "      <th>調査中</th>\n",
              "    </tr>\n",
              "  </thead>\n",
              "  <tbody>\n",
              "    <tr>\n",
              "      <th>0</th>\n",
              "      <td>2020/02/20</td>\n",
              "      <td>NaN</td>\n",
              "      <td>NaN</td>\n",
              "      <td>NaN</td>\n",
              "      <td>NaN</td>\n",
              "      <td>NaN</td>\n",
              "      <td>NaN</td>\n",
              "      <td>NaN</td>\n",
              "      <td>NaN</td>\n",
              "      <td>1.0</td>\n",
              "      <td>NaN</td>\n",
              "      <td>NaN</td>\n",
              "      <td>NaN</td>\n",
              "      <td>NaN</td>\n",
              "    </tr>\n",
              "    <tr>\n",
              "      <th>1</th>\n",
              "      <td>2020/02/20</td>\n",
              "      <td>NaN</td>\n",
              "      <td>NaN</td>\n",
              "      <td>NaN</td>\n",
              "      <td>NaN</td>\n",
              "      <td>NaN</td>\n",
              "      <td>NaN</td>\n",
              "      <td>NaN</td>\n",
              "      <td>NaN</td>\n",
              "      <td>1.0</td>\n",
              "      <td>NaN</td>\n",
              "      <td>NaN</td>\n",
              "      <td>NaN</td>\n",
              "      <td>NaN</td>\n",
              "    </tr>\n",
              "    <tr>\n",
              "      <th>2</th>\n",
              "      <td>2020/03/01</td>\n",
              "      <td>NaN</td>\n",
              "      <td>NaN</td>\n",
              "      <td>NaN</td>\n",
              "      <td>NaN</td>\n",
              "      <td>NaN</td>\n",
              "      <td>NaN</td>\n",
              "      <td>NaN</td>\n",
              "      <td>NaN</td>\n",
              "      <td>1.0</td>\n",
              "      <td>NaN</td>\n",
              "      <td>NaN</td>\n",
              "      <td>NaN</td>\n",
              "      <td>NaN</td>\n",
              "    </tr>\n",
              "    <tr>\n",
              "      <th>3</th>\n",
              "      <td>2020/03/17</td>\n",
              "      <td>NaN</td>\n",
              "      <td>NaN</td>\n",
              "      <td>NaN</td>\n",
              "      <td>NaN</td>\n",
              "      <td>NaN</td>\n",
              "      <td>1.0</td>\n",
              "      <td>NaN</td>\n",
              "      <td>NaN</td>\n",
              "      <td>NaN</td>\n",
              "      <td>NaN</td>\n",
              "      <td>NaN</td>\n",
              "      <td>NaN</td>\n",
              "      <td>NaN</td>\n",
              "    </tr>\n",
              "    <tr>\n",
              "      <th>4</th>\n",
              "      <td>2020/03/19</td>\n",
              "      <td>NaN</td>\n",
              "      <td>NaN</td>\n",
              "      <td>NaN</td>\n",
              "      <td>NaN</td>\n",
              "      <td>NaN</td>\n",
              "      <td>1.0</td>\n",
              "      <td>NaN</td>\n",
              "      <td>NaN</td>\n",
              "      <td>NaN</td>\n",
              "      <td>NaN</td>\n",
              "      <td>NaN</td>\n",
              "      <td>NaN</td>\n",
              "      <td>NaN</td>\n",
              "    </tr>\n",
              "  </tbody>\n",
              "</table>\n",
              "</div>"
            ],
            "text/plain": [
              "       公表_年月日  NaN   -  10代  10歳未満  20代  ...  50代  60代  70代  80代  90代以上  調査中\n",
              "0  2020/02/20  NaN NaN  NaN    NaN  NaN  ...  NaN  1.0  NaN  NaN    NaN  NaN\n",
              "1  2020/02/20  NaN NaN  NaN    NaN  NaN  ...  NaN  1.0  NaN  NaN    NaN  NaN\n",
              "2  2020/03/01  NaN NaN  NaN    NaN  NaN  ...  NaN  1.0  NaN  NaN    NaN  NaN\n",
              "3  2020/03/17  NaN NaN  NaN    NaN  NaN  ...  NaN  NaN  NaN  NaN    NaN  NaN\n",
              "4  2020/03/19  NaN NaN  NaN    NaN  NaN  ...  NaN  NaN  NaN  NaN    NaN  NaN\n",
              "\n",
              "[5 rows x 14 columns]"
            ]
          },
          "metadata": {
            "tags": []
          },
          "execution_count": 5
        }
      ]
    },
    {
      "cell_type": "markdown",
      "metadata": {
        "id": "I2QW_lzpngjf"
      },
      "source": [
        "#### データを強引に並べ替える\n",
        "上記のデータフレームを眺めて分かるように，「10歳未満」と「10代」の順序が不適当である。また，年代に値のないデータが含まれるため，\"NaN\" や \"ー\"，さらに \"調査中\" という表記も見える。\n",
        "\n",
        "そこで，分析対象とする年代を 10〜80代に限定し，かつ強引にデータを並べ替える。"
      ]
    },
    {
      "cell_type": "code",
      "metadata": {
        "id": "MSP6Nr1inPpM",
        "colab": {
          "base_uri": "https://localhost:8080/",
          "height": 202
        },
        "outputId": "6c46fb05-b69b-4035-d39c-dfcde44130fa"
      },
      "source": [
        "# ヒートマップ作成へ向けて，データの(強制的な)並べ替え\n",
        "df = df[[\"公表_年月日\", \"10代\", \"20代\", \"30代\", \"40代\", \"50代\", \"60代\", \"70代\", \"80代\"]]\n",
        "\n",
        "df.head() # 結果確認のため，先頭の５行のみ表示"
      ],
      "execution_count": 6,
      "outputs": [
        {
          "output_type": "execute_result",
          "data": {
            "text/html": [
              "<div>\n",
              "<style scoped>\n",
              "    .dataframe tbody tr th:only-of-type {\n",
              "        vertical-align: middle;\n",
              "    }\n",
              "\n",
              "    .dataframe tbody tr th {\n",
              "        vertical-align: top;\n",
              "    }\n",
              "\n",
              "    .dataframe thead th {\n",
              "        text-align: right;\n",
              "    }\n",
              "</style>\n",
              "<table border=\"1\" class=\"dataframe\">\n",
              "  <thead>\n",
              "    <tr style=\"text-align: right;\">\n",
              "      <th></th>\n",
              "      <th>公表_年月日</th>\n",
              "      <th>10代</th>\n",
              "      <th>20代</th>\n",
              "      <th>30代</th>\n",
              "      <th>40代</th>\n",
              "      <th>50代</th>\n",
              "      <th>60代</th>\n",
              "      <th>70代</th>\n",
              "      <th>80代</th>\n",
              "    </tr>\n",
              "  </thead>\n",
              "  <tbody>\n",
              "    <tr>\n",
              "      <th>0</th>\n",
              "      <td>2020/02/20</td>\n",
              "      <td>NaN</td>\n",
              "      <td>NaN</td>\n",
              "      <td>NaN</td>\n",
              "      <td>NaN</td>\n",
              "      <td>NaN</td>\n",
              "      <td>1.0</td>\n",
              "      <td>NaN</td>\n",
              "      <td>NaN</td>\n",
              "    </tr>\n",
              "    <tr>\n",
              "      <th>1</th>\n",
              "      <td>2020/02/20</td>\n",
              "      <td>NaN</td>\n",
              "      <td>NaN</td>\n",
              "      <td>NaN</td>\n",
              "      <td>NaN</td>\n",
              "      <td>NaN</td>\n",
              "      <td>1.0</td>\n",
              "      <td>NaN</td>\n",
              "      <td>NaN</td>\n",
              "    </tr>\n",
              "    <tr>\n",
              "      <th>2</th>\n",
              "      <td>2020/03/01</td>\n",
              "      <td>NaN</td>\n",
              "      <td>NaN</td>\n",
              "      <td>NaN</td>\n",
              "      <td>NaN</td>\n",
              "      <td>NaN</td>\n",
              "      <td>1.0</td>\n",
              "      <td>NaN</td>\n",
              "      <td>NaN</td>\n",
              "    </tr>\n",
              "    <tr>\n",
              "      <th>3</th>\n",
              "      <td>2020/03/17</td>\n",
              "      <td>NaN</td>\n",
              "      <td>NaN</td>\n",
              "      <td>1.0</td>\n",
              "      <td>NaN</td>\n",
              "      <td>NaN</td>\n",
              "      <td>NaN</td>\n",
              "      <td>NaN</td>\n",
              "      <td>NaN</td>\n",
              "    </tr>\n",
              "    <tr>\n",
              "      <th>4</th>\n",
              "      <td>2020/03/19</td>\n",
              "      <td>NaN</td>\n",
              "      <td>NaN</td>\n",
              "      <td>1.0</td>\n",
              "      <td>NaN</td>\n",
              "      <td>NaN</td>\n",
              "      <td>NaN</td>\n",
              "      <td>NaN</td>\n",
              "      <td>NaN</td>\n",
              "    </tr>\n",
              "  </tbody>\n",
              "</table>\n",
              "</div>"
            ],
            "text/plain": [
              "       公表_年月日  10代  20代  30代  40代  50代  60代  70代  80代\n",
              "0  2020/02/20  NaN  NaN  NaN  NaN  NaN  1.0  NaN  NaN\n",
              "1  2020/02/20  NaN  NaN  NaN  NaN  NaN  1.0  NaN  NaN\n",
              "2  2020/03/01  NaN  NaN  NaN  NaN  NaN  1.0  NaN  NaN\n",
              "3  2020/03/17  NaN  NaN  1.0  NaN  NaN  NaN  NaN  NaN\n",
              "4  2020/03/19  NaN  NaN  1.0  NaN  NaN  NaN  NaN  NaN"
            ]
          },
          "metadata": {
            "tags": []
          },
          "execution_count": 6
        }
      ]
    },
    {
      "cell_type": "markdown",
      "metadata": {
        "id": "qxfqLrlO4Wi4"
      },
      "source": [
        "### 値のない箇所をゼロで埋める\n",
        "上記の結果において，０行目は 60代，１行目も 60代，３行目は 30代の陽性者が検出されたことを示す。\n",
        "ここでは１人の陽性者に１つの行を割り当てているため，当該の年代以外の列は値を持たない。\n",
        "\n",
        "故に，NaN と表示された部分を全てゼロで埋める。\n",
        "\n",
        "この際に利用する関数が「fillna」である。ここで \"fillna\" とは「NaN の部分を（ゼロで）fill する」という意味をもつ。"
      ]
    },
    {
      "cell_type": "code",
      "metadata": {
        "id": "mWIghI-5nyi0",
        "colab": {
          "base_uri": "https://localhost:8080/",
          "height": 202
        },
        "outputId": "71fa8d21-d83d-480c-faa1-2845d2345596"
      },
      "source": [
        "# 値のない箇所をゼロで埋める\n",
        "df = df.fillna(0)\n",
        "\n",
        "df.head() # 結果確認のため，先頭の５行のみ表示"
      ],
      "execution_count": 7,
      "outputs": [
        {
          "output_type": "execute_result",
          "data": {
            "text/html": [
              "<div>\n",
              "<style scoped>\n",
              "    .dataframe tbody tr th:only-of-type {\n",
              "        vertical-align: middle;\n",
              "    }\n",
              "\n",
              "    .dataframe tbody tr th {\n",
              "        vertical-align: top;\n",
              "    }\n",
              "\n",
              "    .dataframe thead th {\n",
              "        text-align: right;\n",
              "    }\n",
              "</style>\n",
              "<table border=\"1\" class=\"dataframe\">\n",
              "  <thead>\n",
              "    <tr style=\"text-align: right;\">\n",
              "      <th></th>\n",
              "      <th>公表_年月日</th>\n",
              "      <th>10代</th>\n",
              "      <th>20代</th>\n",
              "      <th>30代</th>\n",
              "      <th>40代</th>\n",
              "      <th>50代</th>\n",
              "      <th>60代</th>\n",
              "      <th>70代</th>\n",
              "      <th>80代</th>\n",
              "    </tr>\n",
              "  </thead>\n",
              "  <tbody>\n",
              "    <tr>\n",
              "      <th>0</th>\n",
              "      <td>2020/02/20</td>\n",
              "      <td>0.0</td>\n",
              "      <td>0.0</td>\n",
              "      <td>0.0</td>\n",
              "      <td>0.0</td>\n",
              "      <td>0.0</td>\n",
              "      <td>1.0</td>\n",
              "      <td>0.0</td>\n",
              "      <td>0.0</td>\n",
              "    </tr>\n",
              "    <tr>\n",
              "      <th>1</th>\n",
              "      <td>2020/02/20</td>\n",
              "      <td>0.0</td>\n",
              "      <td>0.0</td>\n",
              "      <td>0.0</td>\n",
              "      <td>0.0</td>\n",
              "      <td>0.0</td>\n",
              "      <td>1.0</td>\n",
              "      <td>0.0</td>\n",
              "      <td>0.0</td>\n",
              "    </tr>\n",
              "    <tr>\n",
              "      <th>2</th>\n",
              "      <td>2020/03/01</td>\n",
              "      <td>0.0</td>\n",
              "      <td>0.0</td>\n",
              "      <td>0.0</td>\n",
              "      <td>0.0</td>\n",
              "      <td>0.0</td>\n",
              "      <td>1.0</td>\n",
              "      <td>0.0</td>\n",
              "      <td>0.0</td>\n",
              "    </tr>\n",
              "    <tr>\n",
              "      <th>3</th>\n",
              "      <td>2020/03/17</td>\n",
              "      <td>0.0</td>\n",
              "      <td>0.0</td>\n",
              "      <td>1.0</td>\n",
              "      <td>0.0</td>\n",
              "      <td>0.0</td>\n",
              "      <td>0.0</td>\n",
              "      <td>0.0</td>\n",
              "      <td>0.0</td>\n",
              "    </tr>\n",
              "    <tr>\n",
              "      <th>4</th>\n",
              "      <td>2020/03/19</td>\n",
              "      <td>0.0</td>\n",
              "      <td>0.0</td>\n",
              "      <td>1.0</td>\n",
              "      <td>0.0</td>\n",
              "      <td>0.0</td>\n",
              "      <td>0.0</td>\n",
              "      <td>0.0</td>\n",
              "      <td>0.0</td>\n",
              "    </tr>\n",
              "  </tbody>\n",
              "</table>\n",
              "</div>"
            ],
            "text/plain": [
              "       公表_年月日  10代  20代  30代  40代  50代  60代  70代  80代\n",
              "0  2020/02/20  0.0  0.0  0.0  0.0  0.0  1.0  0.0  0.0\n",
              "1  2020/02/20  0.0  0.0  0.0  0.0  0.0  1.0  0.0  0.0\n",
              "2  2020/03/01  0.0  0.0  0.0  0.0  0.0  1.0  0.0  0.0\n",
              "3  2020/03/17  0.0  0.0  1.0  0.0  0.0  0.0  0.0  0.0\n",
              "4  2020/03/19  0.0  0.0  1.0  0.0  0.0  0.0  0.0  0.0"
            ]
          },
          "metadata": {
            "tags": []
          },
          "execution_count": 7
        }
      ]
    },
    {
      "cell_type": "markdown",
      "metadata": {
        "id": "msqOD0OC7bAW"
      },
      "source": [
        "\n",
        "\n",
        "---\n",
        "\n"
      ]
    },
    {
      "cell_type": "markdown",
      "metadata": {
        "id": "0qtaccNi5plI"
      },
      "source": [
        "# ここで一息！\n",
        "ここまで loc()関数，pivot()関数，fillna()関数を用いて，\n",
        "個々の陽性者の情報を年代毎の数値に置き換えてきた。\n",
        "\n",
        "直前の結果において，０行目と１行目は同一の「2020年2月20日」に検出された「２名の60代陽性者」を表しており，これらをまとめて「2020年2月20日には 60代が２名，陽性であった」という形でまとめたい。さらに上記には表示されていないが，「2021年◯月◯日は 20代が３名，40代が１名，陽性であった」という形でまとめたい。\n",
        "\n",
        "また，データフレーム df には 2020年2月〜2021年4月までの膨大なデータが収められており，１年以上の期間をひと括りに分析するのは得策でない。\n",
        "\n",
        "そこで，以下では次の操作を行う。\n",
        "\n",
        "1. 「公表_年月日」を利用した，分析対象期間の絞り込み (datetime 関数を利用)\n",
        "1. 「公表_年月日」でグループ化し，各日の患者数の合計を求める (Pandas の groupyby 関数を利用)\n",
        "1. ヒートマップを用いた可視化 (matplotlib の pcolor 関数を利用)\n",
        "\n",
        "\n"
      ]
    },
    {
      "cell_type": "markdown",
      "metadata": {
        "id": "cQv-iUST7ZUc"
      },
      "source": [
        "\n",
        "\n",
        "---\n",
        "\n"
      ]
    },
    {
      "cell_type": "markdown",
      "metadata": {
        "id": "VcbRmkY-mBqr"
      },
      "source": [
        "### 「公表_年月日」を利用した，分析対象期間の絞り込み\n",
        "福岡県での COVID-19 陽性者検出は 2020年2月に始まり，現時点で１年間を超えるデータが蓄積されている。\n",
        "この間，第１波，第２波および第３波が到来しており，過去のデータを一括して取り上げるのは適切でない。\n",
        "\n",
        "そこで「公表_年月日」を利用し，特定の期間のデータのみを取り出す。\n",
        "具体的には**第１波の生じた期間「2020年3月30日〜2020年4月30日」を対象**とする。\n",
        "\n",
        "ここで月日による選別を行うため，**「公表_年月日」を予め datetime 型に変換する必要**がある。\n",
        "\n",
        "(注) 以下で用いる datetime モジュールは日付・時間データを取り扱うライブラリである。datetime 型へ変換することで，月日による大小比較が可能となる。"
      ]
    },
    {
      "cell_type": "code",
      "metadata": {
        "id": "0YoywQX9sOkf",
        "colab": {
          "base_uri": "https://localhost:8080/",
          "height": 202
        },
        "outputId": "82aad5e7-f2a9-4a6f-95cd-7dc9016b6c78"
      },
      "source": [
        "# 特定の期間のデータのみを取り出す\n",
        "\n",
        "import datetime as dt # 日付・時間データを取り扱うライブラリ\n",
        "\n",
        "# 「公表_年月日」を datetime 型に型変換する\n",
        "df['公表_年月日'] = pd.to_datetime(df['公表_年月日'])\n",
        "\n",
        "# 第１波である，2020年3月20日〜2020年4月30日のデータのみ抽出する\n",
        "# df = df[df['公表_年月日'] >= dt.datetime(2020, 11, 1)]  # 第３波\n",
        "condition = (dt.datetime(2020, 3, 30) <= df['公表_年月日']) & (df['公表_年月日'] <= dt.datetime(2020, 4, 30))\n",
        "# condition = (dt.datetime(2020, 11, 1) <= df['公表_年月日']) & (df['公表_年月日'] <= dt.datetime(2021, 2, 28))\n",
        "df_1st = df.copy() # 元データ (データフレーム df）を再利用できるよう，コピーをとる\n",
        "df_1st = df_1st[condition]\n",
        "\n",
        "df_1st.head()"
      ],
      "execution_count": 8,
      "outputs": [
        {
          "output_type": "execute_result",
          "data": {
            "text/html": [
              "<div>\n",
              "<style scoped>\n",
              "    .dataframe tbody tr th:only-of-type {\n",
              "        vertical-align: middle;\n",
              "    }\n",
              "\n",
              "    .dataframe tbody tr th {\n",
              "        vertical-align: top;\n",
              "    }\n",
              "\n",
              "    .dataframe thead th {\n",
              "        text-align: right;\n",
              "    }\n",
              "</style>\n",
              "<table border=\"1\" class=\"dataframe\">\n",
              "  <thead>\n",
              "    <tr style=\"text-align: right;\">\n",
              "      <th></th>\n",
              "      <th>公表_年月日</th>\n",
              "      <th>10代</th>\n",
              "      <th>20代</th>\n",
              "      <th>30代</th>\n",
              "      <th>40代</th>\n",
              "      <th>50代</th>\n",
              "      <th>60代</th>\n",
              "      <th>70代</th>\n",
              "      <th>80代</th>\n",
              "    </tr>\n",
              "  </thead>\n",
              "  <tbody>\n",
              "    <tr>\n",
              "      <th>26</th>\n",
              "      <td>2020-03-30</td>\n",
              "      <td>0.0</td>\n",
              "      <td>0.0</td>\n",
              "      <td>0.0</td>\n",
              "      <td>0.0</td>\n",
              "      <td>0.0</td>\n",
              "      <td>1.0</td>\n",
              "      <td>0.0</td>\n",
              "      <td>0.0</td>\n",
              "    </tr>\n",
              "    <tr>\n",
              "      <th>27</th>\n",
              "      <td>2020-03-30</td>\n",
              "      <td>0.0</td>\n",
              "      <td>1.0</td>\n",
              "      <td>0.0</td>\n",
              "      <td>0.0</td>\n",
              "      <td>0.0</td>\n",
              "      <td>0.0</td>\n",
              "      <td>0.0</td>\n",
              "      <td>0.0</td>\n",
              "    </tr>\n",
              "    <tr>\n",
              "      <th>28</th>\n",
              "      <td>2020-03-30</td>\n",
              "      <td>0.0</td>\n",
              "      <td>0.0</td>\n",
              "      <td>0.0</td>\n",
              "      <td>0.0</td>\n",
              "      <td>0.0</td>\n",
              "      <td>0.0</td>\n",
              "      <td>0.0</td>\n",
              "      <td>0.0</td>\n",
              "    </tr>\n",
              "    <tr>\n",
              "      <th>29</th>\n",
              "      <td>2020-03-31</td>\n",
              "      <td>0.0</td>\n",
              "      <td>0.0</td>\n",
              "      <td>0.0</td>\n",
              "      <td>0.0</td>\n",
              "      <td>0.0</td>\n",
              "      <td>1.0</td>\n",
              "      <td>0.0</td>\n",
              "      <td>0.0</td>\n",
              "    </tr>\n",
              "    <tr>\n",
              "      <th>30</th>\n",
              "      <td>2020-03-31</td>\n",
              "      <td>0.0</td>\n",
              "      <td>0.0</td>\n",
              "      <td>0.0</td>\n",
              "      <td>1.0</td>\n",
              "      <td>0.0</td>\n",
              "      <td>0.0</td>\n",
              "      <td>0.0</td>\n",
              "      <td>0.0</td>\n",
              "    </tr>\n",
              "  </tbody>\n",
              "</table>\n",
              "</div>"
            ],
            "text/plain": [
              "       公表_年月日  10代  20代  30代  40代  50代  60代  70代  80代\n",
              "26 2020-03-30  0.0  0.0  0.0  0.0  0.0  1.0  0.0  0.0\n",
              "27 2020-03-30  0.0  1.0  0.0  0.0  0.0  0.0  0.0  0.0\n",
              "28 2020-03-30  0.0  0.0  0.0  0.0  0.0  0.0  0.0  0.0\n",
              "29 2020-03-31  0.0  0.0  0.0  0.0  0.0  1.0  0.0  0.0\n",
              "30 2020-03-31  0.0  0.0  0.0  1.0  0.0  0.0  0.0  0.0"
            ]
          },
          "metadata": {
            "tags": []
          },
          "execution_count": 8
        }
      ]
    },
    {
      "cell_type": "markdown",
      "metadata": {
        "id": "NKkh7YPSoNBW"
      },
      "source": [
        "### 「公表_年月日」でグループ化し，各日の患者数の合計を求める\n",
        "「公表_年月日」をキーとして，groupby() 関数を適用，かつ sum() 関数により合計を求める。"
      ]
    },
    {
      "cell_type": "code",
      "metadata": {
        "id": "-yZYPiWhoS-O",
        "colab": {
          "base_uri": "https://localhost:8080/",
          "height": 233
        },
        "outputId": "d8fb9460-6b14-4922-b2b8-7cb69aa0cdff"
      },
      "source": [
        "# 「公表_年月日」でグループ化し，各日の合計を求める\n",
        "df_1st = df_1st.groupby(\"公表_年月日\").sum()\n",
        "\n",
        "df_1st.head()"
      ],
      "execution_count": 9,
      "outputs": [
        {
          "output_type": "execute_result",
          "data": {
            "text/html": [
              "<div>\n",
              "<style scoped>\n",
              "    .dataframe tbody tr th:only-of-type {\n",
              "        vertical-align: middle;\n",
              "    }\n",
              "\n",
              "    .dataframe tbody tr th {\n",
              "        vertical-align: top;\n",
              "    }\n",
              "\n",
              "    .dataframe thead th {\n",
              "        text-align: right;\n",
              "    }\n",
              "</style>\n",
              "<table border=\"1\" class=\"dataframe\">\n",
              "  <thead>\n",
              "    <tr style=\"text-align: right;\">\n",
              "      <th></th>\n",
              "      <th>10代</th>\n",
              "      <th>20代</th>\n",
              "      <th>30代</th>\n",
              "      <th>40代</th>\n",
              "      <th>50代</th>\n",
              "      <th>60代</th>\n",
              "      <th>70代</th>\n",
              "      <th>80代</th>\n",
              "    </tr>\n",
              "    <tr>\n",
              "      <th>公表_年月日</th>\n",
              "      <th></th>\n",
              "      <th></th>\n",
              "      <th></th>\n",
              "      <th></th>\n",
              "      <th></th>\n",
              "      <th></th>\n",
              "      <th></th>\n",
              "      <th></th>\n",
              "    </tr>\n",
              "  </thead>\n",
              "  <tbody>\n",
              "    <tr>\n",
              "      <th>2020-03-30</th>\n",
              "      <td>0.0</td>\n",
              "      <td>1.0</td>\n",
              "      <td>0.0</td>\n",
              "      <td>0.0</td>\n",
              "      <td>0.0</td>\n",
              "      <td>1.0</td>\n",
              "      <td>0.0</td>\n",
              "      <td>0.0</td>\n",
              "    </tr>\n",
              "    <tr>\n",
              "      <th>2020-03-31</th>\n",
              "      <td>1.0</td>\n",
              "      <td>4.0</td>\n",
              "      <td>4.0</td>\n",
              "      <td>2.0</td>\n",
              "      <td>2.0</td>\n",
              "      <td>1.0</td>\n",
              "      <td>0.0</td>\n",
              "      <td>1.0</td>\n",
              "    </tr>\n",
              "    <tr>\n",
              "      <th>2020-04-01</th>\n",
              "      <td>1.0</td>\n",
              "      <td>11.0</td>\n",
              "      <td>7.0</td>\n",
              "      <td>3.0</td>\n",
              "      <td>3.0</td>\n",
              "      <td>4.0</td>\n",
              "      <td>2.0</td>\n",
              "      <td>1.0</td>\n",
              "    </tr>\n",
              "    <tr>\n",
              "      <th>2020-04-02</th>\n",
              "      <td>1.0</td>\n",
              "      <td>2.0</td>\n",
              "      <td>2.0</td>\n",
              "      <td>3.0</td>\n",
              "      <td>4.0</td>\n",
              "      <td>2.0</td>\n",
              "      <td>4.0</td>\n",
              "      <td>2.0</td>\n",
              "    </tr>\n",
              "    <tr>\n",
              "      <th>2020-04-03</th>\n",
              "      <td>0.0</td>\n",
              "      <td>1.0</td>\n",
              "      <td>6.0</td>\n",
              "      <td>4.0</td>\n",
              "      <td>5.0</td>\n",
              "      <td>3.0</td>\n",
              "      <td>0.0</td>\n",
              "      <td>0.0</td>\n",
              "    </tr>\n",
              "  </tbody>\n",
              "</table>\n",
              "</div>"
            ],
            "text/plain": [
              "            10代   20代  30代  40代  50代  60代  70代  80代\n",
              "公表_年月日                                             \n",
              "2020-03-30  0.0   1.0  0.0  0.0  0.0  1.0  0.0  0.0\n",
              "2020-03-31  1.0   4.0  4.0  2.0  2.0  1.0  0.0  1.0\n",
              "2020-04-01  1.0  11.0  7.0  3.0  3.0  4.0  2.0  1.0\n",
              "2020-04-02  1.0   2.0  2.0  3.0  4.0  2.0  4.0  2.0\n",
              "2020-04-03  0.0   1.0  6.0  4.0  5.0  3.0  0.0  0.0"
            ]
          },
          "metadata": {
            "tags": []
          },
          "execution_count": 9
        }
      ]
    },
    {
      "cell_type": "code",
      "metadata": {
        "id": "1JCLFv_kzuOt",
        "colab": {
          "base_uri": "https://localhost:8080/",
          "height": 233
        },
        "outputId": "e1b33da6-9786-4c03-8299-7047564b0334"
      },
      "source": [
        "df_1st.head()"
      ],
      "execution_count": 10,
      "outputs": [
        {
          "output_type": "execute_result",
          "data": {
            "text/html": [
              "<div>\n",
              "<style scoped>\n",
              "    .dataframe tbody tr th:only-of-type {\n",
              "        vertical-align: middle;\n",
              "    }\n",
              "\n",
              "    .dataframe tbody tr th {\n",
              "        vertical-align: top;\n",
              "    }\n",
              "\n",
              "    .dataframe thead th {\n",
              "        text-align: right;\n",
              "    }\n",
              "</style>\n",
              "<table border=\"1\" class=\"dataframe\">\n",
              "  <thead>\n",
              "    <tr style=\"text-align: right;\">\n",
              "      <th></th>\n",
              "      <th>10代</th>\n",
              "      <th>20代</th>\n",
              "      <th>30代</th>\n",
              "      <th>40代</th>\n",
              "      <th>50代</th>\n",
              "      <th>60代</th>\n",
              "      <th>70代</th>\n",
              "      <th>80代</th>\n",
              "    </tr>\n",
              "    <tr>\n",
              "      <th>公表_年月日</th>\n",
              "      <th></th>\n",
              "      <th></th>\n",
              "      <th></th>\n",
              "      <th></th>\n",
              "      <th></th>\n",
              "      <th></th>\n",
              "      <th></th>\n",
              "      <th></th>\n",
              "    </tr>\n",
              "  </thead>\n",
              "  <tbody>\n",
              "    <tr>\n",
              "      <th>2020-03-30</th>\n",
              "      <td>0.0</td>\n",
              "      <td>1.0</td>\n",
              "      <td>0.0</td>\n",
              "      <td>0.0</td>\n",
              "      <td>0.0</td>\n",
              "      <td>1.0</td>\n",
              "      <td>0.0</td>\n",
              "      <td>0.0</td>\n",
              "    </tr>\n",
              "    <tr>\n",
              "      <th>2020-03-31</th>\n",
              "      <td>1.0</td>\n",
              "      <td>4.0</td>\n",
              "      <td>4.0</td>\n",
              "      <td>2.0</td>\n",
              "      <td>2.0</td>\n",
              "      <td>1.0</td>\n",
              "      <td>0.0</td>\n",
              "      <td>1.0</td>\n",
              "    </tr>\n",
              "    <tr>\n",
              "      <th>2020-04-01</th>\n",
              "      <td>1.0</td>\n",
              "      <td>11.0</td>\n",
              "      <td>7.0</td>\n",
              "      <td>3.0</td>\n",
              "      <td>3.0</td>\n",
              "      <td>4.0</td>\n",
              "      <td>2.0</td>\n",
              "      <td>1.0</td>\n",
              "    </tr>\n",
              "    <tr>\n",
              "      <th>2020-04-02</th>\n",
              "      <td>1.0</td>\n",
              "      <td>2.0</td>\n",
              "      <td>2.0</td>\n",
              "      <td>3.0</td>\n",
              "      <td>4.0</td>\n",
              "      <td>2.0</td>\n",
              "      <td>4.0</td>\n",
              "      <td>2.0</td>\n",
              "    </tr>\n",
              "    <tr>\n",
              "      <th>2020-04-03</th>\n",
              "      <td>0.0</td>\n",
              "      <td>1.0</td>\n",
              "      <td>6.0</td>\n",
              "      <td>4.0</td>\n",
              "      <td>5.0</td>\n",
              "      <td>3.0</td>\n",
              "      <td>0.0</td>\n",
              "      <td>0.0</td>\n",
              "    </tr>\n",
              "  </tbody>\n",
              "</table>\n",
              "</div>"
            ],
            "text/plain": [
              "            10代   20代  30代  40代  50代  60代  70代  80代\n",
              "公表_年月日                                             \n",
              "2020-03-30  0.0   1.0  0.0  0.0  0.0  1.0  0.0  0.0\n",
              "2020-03-31  1.0   4.0  4.0  2.0  2.0  1.0  0.0  1.0\n",
              "2020-04-01  1.0  11.0  7.0  3.0  3.0  4.0  2.0  1.0\n",
              "2020-04-02  1.0   2.0  2.0  3.0  4.0  2.0  4.0  2.0\n",
              "2020-04-03  0.0   1.0  6.0  4.0  5.0  3.0  0.0  0.0"
            ]
          },
          "metadata": {
            "tags": []
          },
          "execution_count": 10
        }
      ]
    },
    {
      "cell_type": "markdown",
      "metadata": {
        "id": "07sEfWDZ-jQy"
      },
      "source": [
        "以上により，各月日において，各年代の陽性者数が集計された。"
      ]
    },
    {
      "cell_type": "markdown",
      "metadata": {
        "id": "10dtjWGQpUt4"
      },
      "source": [
        "### ヒートマップを用いた可視化\n",
        "福岡県における第１波での COVID-19 陽性者の年代別・月日別ヒートマップを作成する。\n",
        "\n",
        "- plt.figfure : 図領域の設定。ここでは横幅として 6，縦幅として 10 を指定した。\n",
        "- plt.pcolor() : ヒートマップの生成。ここでカラーマップとして \"Reds\" を指定した。\n",
        "- plt.yticks() : y軸の設定。y軸には index，すなわち「公表_年月日」を割り当てる。\n",
        "- plt.xticks() : x軸の設定。x軸には columns，すなわち「10代，20代，・・・，80代」を割り当てる。\n",
        "- plt.show() : ヒートマップの表示。"
      ]
    },
    {
      "cell_type": "code",
      "metadata": {
        "id": "vov0juScpzTh",
        "colab": {
          "base_uri": "https://localhost:8080/",
          "height": 664
        },
        "outputId": "9fb5cd62-607d-4674-c502-b10c8fb1feb0"
      },
      "source": [
        "# 可視化：ヒートマップの生成\n",
        "import matplotlib.pyplot as plt # 可視化ライブラリ\n",
        "import numpy as np # 数値解析ライブラリ (可視化の際に少しだけ使う)\n",
        "\n",
        "plt.figure(figsize=(6,10))\n",
        "plt.pcolor(df_1st, cmap=\"Reds\")\n",
        "plt.yticks(np.arange(0.5, len(df_1st.index), 1), df_1st.index)\n",
        "plt.xticks(np.arange(0.5, len(df_1st.columns), 1), df_1st.columns)\n",
        "plt.gca().invert_yaxis() # y軸の向きを上下逆さまにする\n",
        "plt.show()"
      ],
      "execution_count": 11,
      "outputs": [
        {
          "output_type": "stream",
          "text": [
            "/usr/local/lib/python3.7/dist-packages/matplotlib/backends/backend_agg.py:214: RuntimeWarning: Glyph 20195 missing from current font.\n",
            "  font.set_text(s, 0.0, flags=flags)\n",
            "/usr/local/lib/python3.7/dist-packages/matplotlib/backends/backend_agg.py:183: RuntimeWarning: Glyph 20195 missing from current font.\n",
            "  font.set_text(s, 0, flags=flags)\n"
          ],
          "name": "stderr"
        },
        {
          "output_type": "display_data",
          "data": {
            "image/png": "[encoded data removed]",
            "text/plain": [
              "<Figure size 432x720 with 1 Axes>"
            ]
          },
          "metadata": {
            "tags": [],
            "needs_background": "light"
          }
        }
      ]
    },
    {
      "cell_type": "markdown",
      "metadata": {
        "id": "W_gadGJXLZyx"
      },
      "source": [
        "## 以上をまとめたコード"
      ]
    },
    {
      "cell_type": "code",
      "metadata": {
        "colab": {
          "base_uri": "https://localhost:8080/",
          "height": 664
        },
        "id": "_xrX04ltMJ21",
        "outputId": "df9baf8f-c894-4a6a-c373-96a1f69036da"
      },
      "source": [
        "import pandas as pd # データ解析ライブラリ Pandas のインポート\n",
        "\n",
        "# CSV ファイルからデータ読み込み\n",
        "df = pd.read_csv(\"/content/drive/My Drive/BASE/OpenData/fukuoka_covid19_patients.csv\", encoding=\"utf-8\")\n",
        "\n",
        "# 公表_年月日，居住地，年代，性別のみを取り出す\n",
        "df = df.loc[:, [\"公表_年月日\", \"居住地\", \"年代\", \"性別\"]]\n",
        "\n",
        "df[\"カウント\"] = 1 # 可視化の際に利用するため，個々の患者に 1 を割り振る\n",
        "\n",
        "# 行と列を指定してピボット（再形成）\n",
        "# ここでは「年代」を列としてデータを並べ替えている\n",
        "df_pivot = df.pivot(columns=\"年代\", values=\"カウント\")\n",
        "\n",
        "# 元データの「公表_年月日」と pivot により並べ替えたデータを結合する\n",
        "df = pd.concat([df[\"公表_年月日\"], df_pivot], axis=1)\n",
        "\n",
        "# ヒートマップ作成へ向けて，データの(強制的な)並べ替え\n",
        "df = df[[\"公表_年月日\", \"10代\", \"20代\", \"30代\", \"40代\", \"50代\", \"60代\", \"70代\", \"80代\"]]\n",
        "\n",
        "# 値のない箇所をゼロで埋める\n",
        "df = df.fillna(0)\n",
        "\n",
        "#################################################\n",
        "# 特定の期間のデータのみを取り出す\n",
        "\n",
        "import datetime as dt # 日付・時間データを取り扱うライブラリ\n",
        "\n",
        "# 「公表_年月日」を datetime 型に型変換する\n",
        "df['公表_年月日'] = pd.to_datetime(df['公表_年月日'])\n",
        "\n",
        "# 第１波である，2020年3月20日〜2020年4月30日のデータのみ抽出する\n",
        "# df = df[df['公表_年月日'] >= dt.datetime(2020, 11, 1)]  # 第３波\n",
        "condition = (dt.datetime(2020, 3, 30) <= df['公表_年月日']) & (df['公表_年月日'] <= dt.datetime(2020, 4, 30))\n",
        "# condition = (dt.datetime(2020, 11, 1) <= df['公表_年月日']) & (df['公表_年月日'] <= dt.datetime(2021, 2, 28))\n",
        "df_1st = df.copy() # 元データ (データフレーム df）を再利用できるよう，コピーをとる\n",
        "df_1st = df_1st[condition]\n",
        "\n",
        "# 「公表_年月日」でグループ化し，各日の合計を求める\n",
        "df_1st = df_1st.groupby(\"公表_年月日\").sum()\n",
        "\n",
        "#################################################\n",
        "# 可視化：ヒートマップの生成\n",
        "import matplotlib.pyplot as plt # 可視化ライブラリ\n",
        "import numpy as np # 数値解析ライブラリ (可視化の際に少しだけ使う)\n",
        "\n",
        "plt.figure(figsize=(6,10))\n",
        "plt.pcolor(df_1st, cmap=\"Reds\")\n",
        "plt.yticks(np.arange(0.5, len(df_1st.index), 1), df_1st.index)\n",
        "plt.xticks(np.arange(0.5, len(df_1st.columns), 1), df_1st.columns)\n",
        "plt.gca().invert_yaxis() # y軸の向きを上下逆さまにする\n",
        "plt.show()"
      ],
      "execution_count": 12,
      "outputs": [
        {
          "output_type": "stream",
          "text": [
            "/usr/local/lib/python3.7/dist-packages/matplotlib/backends/backend_agg.py:214: RuntimeWarning: Glyph 20195 missing from current font.\n",
            "  font.set_text(s, 0.0, flags=flags)\n",
            "/usr/local/lib/python3.7/dist-packages/matplotlib/backends/backend_agg.py:183: RuntimeWarning: Glyph 20195 missing from current font.\n",
            "  font.set_text(s, 0, flags=flags)\n"
          ],
          "name": "stderr"
        },
        {
          "output_type": "display_data",
          "data": {
            "image/png": "[encoded data removed]",
            "text/plain": [
              "<Figure size 432x720 with 1 Axes>"
            ]
          },
          "metadata": {
            "tags": [],
            "needs_background": "light"
          }
        }
      ]
    },
    {
      "cell_type": "markdown",
      "metadata": {
        "id": "SJO2enbqLB2p"
      },
      "source": [
        "# 課題\n",
        "1. 福岡県を襲った第２波，第３波において，いずれの年代の陽性者が多かったか，ヒートマップから見い出せ。\n",
        "2. 東京都のデータを対象とし，福岡県データの解析と同様，第１波〜第４波それぞれの年代別感染状況を分析せよ。\n",
        "\n",
        "以上について，レポートにまとめてください。\n",
        "レポートの中身は以下のとおりとする。すなわち，第１波〜第４波のそれぞれについて，分析期間（いつからいつまでが第１波か？）を定め，ヒートマップを示すと共に結果に対する考察を行うこと。\n",
        "\n",
        "- 分析期間：◯年◯月◯日〜◯年◯月◯日\n",
        "- 実行結果：ヒートマップを貼り付ける\n",
        "- 考察：実行結果に関する考察を行う\n",
        "\n",
        "(注) 第１波〜第４波については，前回の課題「陽性者数の推移」のうち，「リッチな可視化」で取り上げた Plotly Express による結果を利用するとよいだろう。"
      ]
    }
  ]
}