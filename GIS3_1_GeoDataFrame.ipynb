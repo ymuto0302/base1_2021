{
  "nbformat": 4,
  "nbformat_minor": 0,
  "metadata": {
    "colab": {
      "name": "GIS3-1_GeoDataFrame.ipynb",
      "provenance": [],
      "collapsed_sections": [],
      "include_colab_link": true
    },
    "kernelspec": {
      "display_name": "Python 3",
      "language": "python",
      "name": "python3"
    },
    "language_info": {
      "codemirror_mode": {
        "name": "ipython",
        "version": 3
      },
      "file_extension": ".py",
      "mimetype": "text/x-python",
      "name": "python",
      "nbconvert_exporter": "python",
      "pygments_lexer": "ipython3",
      "version": "3.8.5"
    }
  },
  "cells": [
    {
      "cell_type": "markdown",
      "metadata": {
        "id": "view-in-github",
        "colab_type": "text"
      },
      "source": [
        "<a href=\"https://colab.research.google.com/github/ymuto0302/base1_2021/blob/main/GIS3_1_GeoDataFrame.ipynb\" target=\"_parent\"><img src=\"https://colab.research.google.com/assets/colab-badge.svg\" alt=\"Open In Colab\"/></a>"
      ]
    },
    {
      "cell_type": "markdown",
      "metadata": {
        "id": "cfYDi0X3W0qJ"
      },
      "source": [
        "# GeoDataFrame の作り方\n",
        "GeoPandas で取り扱う地理情報データは GeoDataFrame という形式に格納される。\n",
        "これは pandas のデータフレームの拡張と位置付けられる。\n",
        "\n",
        "**GeoDataframe を構成する基本的な部品は Point, LineString および Polygon である。**\n",
        "これら以外に MultiPoint や MultiPolygon が存在するが，ここでは取り上げない。\n",
        "\n",
        "以下では，自分で GeoDataFrame を作成することで，その仕組みを理解しよう。"
      ]
    },
    {
      "cell_type": "markdown",
      "metadata": {
        "id": "Y-U6kdkhXNCt"
      },
      "source": [
        "---\n",
        "### (準備) GeoPandas のインストール\n",
        "GeoDataframe を構成する部品を shapely.geometry を用いて生成する。\n",
        "\n",
        "Google Colab の場合，shapely は当初からインストールされている。\n",
        "\n",
        "以下では GeoDataframe を管理する観点から GeoPandas をインストールする。"
      ]
    },
    {
      "cell_type": "code",
      "metadata": {
        "colab": {
          "base_uri": "https://localhost:8080/"
        },
        "id": "KJXfP8xZW_C5",
        "scrolled": true,
        "outputId": "3c85b1e3-b44e-4633-dc9c-c28166956708"
      },
      "source": [
        "!pip install geopandas"
      ],
      "execution_count": 1,
      "outputs": [
        {
          "output_type": "stream",
          "name": "stdout",
          "text": [
            "Collecting geopandas\n",
            "  Downloading geopandas-0.10.2-py2.py3-none-any.whl (1.0 MB)\n",
            "\u001b[K     |████████████████████████████████| 1.0 MB 12.7 MB/s \n",
            "\u001b[?25hCollecting fiona>=1.8\n",
            "  Downloading Fiona-1.8.20-cp37-cp37m-manylinux1_x86_64.whl (15.4 MB)\n",
            "\u001b[K     |████████████████████████████████| 15.4 MB 35 kB/s \n",
            "\u001b[?25hCollecting pyproj>=2.2.0\n",
            "  Downloading pyproj-3.2.1-cp37-cp37m-manylinux2010_x86_64.whl (6.3 MB)\n",
            "\u001b[K     |████████████████████████████████| 6.3 MB 68.3 MB/s \n",
            "\u001b[?25hRequirement already satisfied: shapely>=1.6 in /usr/local/lib/python3.7/dist-packages (from geopandas) (1.7.1)\n",
            "Requirement already satisfied: pandas>=0.25.0 in /usr/local/lib/python3.7/dist-packages (from geopandas) (1.1.5)\n",
            "Requirement already satisfied: certifi in /usr/local/lib/python3.7/dist-packages (from fiona>=1.8->geopandas) (2021.5.30)\n",
            "Requirement already satisfied: six>=1.7 in /usr/local/lib/python3.7/dist-packages (from fiona>=1.8->geopandas) (1.15.0)\n",
            "Requirement already satisfied: attrs>=17 in /usr/local/lib/python3.7/dist-packages (from fiona>=1.8->geopandas) (21.2.0)\n",
            "Requirement already satisfied: setuptools in /usr/local/lib/python3.7/dist-packages (from fiona>=1.8->geopandas) (57.4.0)\n",
            "Collecting cligj>=0.5\n",
            "  Downloading cligj-0.7.2-py3-none-any.whl (7.1 kB)\n",
            "Collecting click-plugins>=1.0\n",
            "  Downloading click_plugins-1.1.1-py2.py3-none-any.whl (7.5 kB)\n",
            "Requirement already satisfied: click>=4.0 in /usr/local/lib/python3.7/dist-packages (from fiona>=1.8->geopandas) (7.1.2)\n",
            "Collecting munch\n",
            "  Downloading munch-2.5.0-py2.py3-none-any.whl (10 kB)\n",
            "Requirement already satisfied: python-dateutil>=2.7.3 in /usr/local/lib/python3.7/dist-packages (from pandas>=0.25.0->geopandas) (2.8.2)\n",
            "Requirement already satisfied: numpy>=1.15.4 in /usr/local/lib/python3.7/dist-packages (from pandas>=0.25.0->geopandas) (1.19.5)\n",
            "Requirement already satisfied: pytz>=2017.2 in /usr/local/lib/python3.7/dist-packages (from pandas>=0.25.0->geopandas) (2018.9)\n",
            "Installing collected packages: munch, cligj, click-plugins, pyproj, fiona, geopandas\n",
            "Successfully installed click-plugins-1.1.1 cligj-0.7.2 fiona-1.8.20 geopandas-0.10.2 munch-2.5.0 pyproj-3.2.1\n"
          ]
        }
      ]
    },
    {
      "cell_type": "markdown",
      "metadata": {
        "id": "ONYzrxPGW0qK"
      },
      "source": [
        "---\n",
        "## Point (点) を作る\n",
        "基本的な部品である Point (点) を含む GeoDataFrame を作ってみる。\n",
        "\n",
        "部品を生成するには shapely.geometry を用いる。また，点を定義する際は shapely.geometry から Point をインポートしておく。"
      ]
    },
    {
      "cell_type": "code",
      "metadata": {
        "id": "y4zw4rTFW0qL"
      },
      "source": [
        "# 必要なライブラリのインポート\n",
        "import geopandas as gpd\n",
        "from shapely.geometry import Point"
      ],
      "execution_count": null,
      "outputs": []
    },
    {
      "cell_type": "markdown",
      "metadata": {
        "id": "2EcjSPmfW0qP"
      },
      "source": [
        "最初に Point を定義し，これらを GeoDataFrame のコンストラクタへ渡す。\n",
        "\n",
        "ここで列名として \"geometry\" を指定する必要がある。\n",
        "\n",
        "１個の点のみを geodataframe とするためには\n",
        "`gpd.GeoDataFrame([point1], columns=['geometry'])`\n",
        "とする。"
      ]
    },
    {
      "cell_type": "code",
      "metadata": {
        "colab": {
          "base_uri": "https://localhost:8080/",
          "height": 80
        },
        "id": "h6AgL0TmUjLb",
        "outputId": "76f32a48-91c4-4811-825e-34591bb39d31"
      },
      "source": [
        "# Point(点)の定義\n",
        "point1 = Point(10, 10)\n",
        "\n",
        "# 点を GeoDataFrame の grometry 列へ格納\n",
        "point = gpd.GeoDataFrame([point1], columns=['geometry'])\n",
        "point"
      ],
      "execution_count": null,
      "outputs": [
        {
          "output_type": "execute_result",
          "data": {
            "text/html": [
              "<div>\n",
              "<style scoped>\n",
              "    .dataframe tbody tr th:only-of-type {\n",
              "        vertical-align: middle;\n",
              "    }\n",
              "\n",
              "    .dataframe tbody tr th {\n",
              "        vertical-align: top;\n",
              "    }\n",
              "\n",
              "    .dataframe thead th {\n",
              "        text-align: right;\n",
              "    }\n",
              "</style>\n",
              "<table border=\"1\" class=\"dataframe\">\n",
              "  <thead>\n",
              "    <tr style=\"text-align: right;\">\n",
              "      <th></th>\n",
              "      <th>geometry</th>\n",
              "    </tr>\n",
              "  </thead>\n",
              "  <tbody>\n",
              "    <tr>\n",
              "      <th>0</th>\n",
              "      <td>POINT (10.00000 10.00000)</td>\n",
              "    </tr>\n",
              "  </tbody>\n",
              "</table>\n",
              "</div>"
            ],
            "text/plain": [
              "                    geometry\n",
              "0  POINT (10.00000 10.00000)"
            ]
          },
          "metadata": {},
          "execution_count": 7
        }
      ]
    },
    {
      "cell_type": "markdown",
      "metadata": {
        "id": "iLQBoyIkUzhi"
      },
      "source": [
        "一方，複数の点を同時に geodataframe に格納するためには，次のようにリスト内に Point データを列挙すればよい。\n",
        "\n",
        "`gpd.GeoDataFrame([point1, point2, point3], columns=['geometry'])`"
      ]
    },
    {
      "cell_type": "code",
      "metadata": {
        "colab": {
          "base_uri": "https://localhost:8080/",
          "height": 142
        },
        "id": "IRQ0-km7UjLc",
        "outputId": "a21ec373-5428-4e99-adcf-6ad7897d9c15"
      },
      "source": [
        "# Point(点)の定義\n",
        "point1 = Point(10, 10)\n",
        "point2 = Point(20, 20)\n",
        "point3 = Point(10, 20)\n",
        "\n",
        "# 点を GeoDataFrame の grometry 列へ格納\n",
        "points = gpd.GeoDataFrame([point1, point2, point3], columns=['geometry'])\n",
        "points"
      ],
      "execution_count": null,
      "outputs": [
        {
          "output_type": "execute_result",
          "data": {
            "text/html": [
              "<div>\n",
              "<style scoped>\n",
              "    .dataframe tbody tr th:only-of-type {\n",
              "        vertical-align: middle;\n",
              "    }\n",
              "\n",
              "    .dataframe tbody tr th {\n",
              "        vertical-align: top;\n",
              "    }\n",
              "\n",
              "    .dataframe thead th {\n",
              "        text-align: right;\n",
              "    }\n",
              "</style>\n",
              "<table border=\"1\" class=\"dataframe\">\n",
              "  <thead>\n",
              "    <tr style=\"text-align: right;\">\n",
              "      <th></th>\n",
              "      <th>geometry</th>\n",
              "    </tr>\n",
              "  </thead>\n",
              "  <tbody>\n",
              "    <tr>\n",
              "      <th>0</th>\n",
              "      <td>POINT (10.00000 10.00000)</td>\n",
              "    </tr>\n",
              "    <tr>\n",
              "      <th>1</th>\n",
              "      <td>POINT (20.00000 20.00000)</td>\n",
              "    </tr>\n",
              "    <tr>\n",
              "      <th>2</th>\n",
              "      <td>POINT (10.00000 20.00000)</td>\n",
              "    </tr>\n",
              "  </tbody>\n",
              "</table>\n",
              "</div>"
            ],
            "text/plain": [
              "                    geometry\n",
              "0  POINT (10.00000 10.00000)\n",
              "1  POINT (20.00000 20.00000)\n",
              "2  POINT (10.00000 20.00000)"
            ]
          },
          "metadata": {},
          "execution_count": 9
        }
      ]
    },
    {
      "cell_type": "markdown",
      "metadata": {
        "id": "M4pLgQ-2W0qT",
        "outputId": "d143c0b6-202b-44b5-a861-d5e2295ad9a6"
      },
      "source": [
        "上で定義した変数 points が想定したデータ型となっているか，確認してみよう。\n",
        "\n",
        "以下のとおり，points は GeoDataframe 型であり，個々のフィールドは Point 型である。"
      ]
    },
    {
      "cell_type": "code",
      "metadata": {
        "colab": {
          "base_uri": "https://localhost:8080/"
        },
        "id": "JorW1MOvW0qX",
        "outputId": "62f4fc9c-0e62-48d2-e372-17ab30620593"
      },
      "source": [
        "# 定義された GeoDataframe の型を確認\n",
        "print(type(points))\n",
        "print(type(points['geometry'][0]))"
      ],
      "execution_count": null,
      "outputs": [
        {
          "output_type": "stream",
          "name": "stdout",
          "text": [
            "<class 'geopandas.geodataframe.GeoDataFrame'>\n",
            "<class 'shapely.geometry.point.Point'>\n"
          ]
        }
      ]
    },
    {
      "cell_type": "markdown",
      "metadata": {
        "id": "RWH0QI-oUjLe"
      },
      "source": [
        "生成した GeoDataframe を可視化するには plot() メソッドを用いる。\n",
        "\n",
        "定義した３つの geometry が描画されていることが分かるだろう。"
      ]
    },
    {
      "cell_type": "code",
      "metadata": {
        "colab": {
          "base_uri": "https://localhost:8080/",
          "height": 282
        },
        "id": "jA3R80IYW0qa",
        "outputId": "c3a06d67-b3dc-41fd-a7ce-dec4129c3d2f"
      },
      "source": [
        "# 可視化：座標 (10, 10), (20, 20), (10, 20)' に点が位置することが分かる\n",
        "points.plot()"
      ],
      "execution_count": null,
      "outputs": [
        {
          "output_type": "execute_result",
          "data": {
            "text/plain": [
              "<matplotlib.axes._subplots.AxesSubplot at 0x7efc1b95cd90>"
            ]
          },
          "metadata": {},
          "execution_count": 11
        },
        {
          "output_type": "display_data",
          "data": {
            "image/png": "[encoded data removed]",
            "text/plain": [
              "<Figure size 432x288 with 1 Axes>"
            ]
          },
          "metadata": {
            "needs_background": "light"
          }
        }
      ]
    },
    {
      "cell_type": "markdown",
      "metadata": {
        "id": "JJoWlCs6W0qd"
      },
      "source": [
        "---\n",
        "## Polygon (多角形) を作る\n",
        "Polygon (多角形) はその頂点の並びとして定義される。\n",
        "\n",
        "ポリゴンを定義する際は shapely.geometry から Polygon をインポートしておく。"
      ]
    },
    {
      "cell_type": "code",
      "metadata": {
        "id": "QQLqBAQBW0qe"
      },
      "source": [
        "# 必要なライブラリのインポート\n",
        "import geopandas as gpd\n",
        "from shapely.geometry import Polygon"
      ],
      "execution_count": null,
      "outputs": []
    },
    {
      "cell_type": "markdown",
      "metadata": {
        "id": "1eDGIBidUjLg"
      },
      "source": [
        "ポリゴンを生成する場合，境界線を結ぶ形で座標を並べた座標列を定義した後，Polygon() へ渡せばよい。"
      ]
    },
    {
      "cell_type": "code",
      "metadata": {
        "id": "qxtJI1msW0qh",
        "colab": {
          "base_uri": "https://localhost:8080/",
          "height": 80
        },
        "outputId": "ef429a99-c883-4a2d-c1f4-3d1ae85c7c51"
      },
      "source": [
        "# ポリゴンを作る場合，境界線を結ぶ順番に座標を並べる\n",
        "cordinates = [(12, 12), (18, 12), (18, 18), (12, 18)]\n",
        "\n",
        "# ポリゴンを GeoDataFrame の grometry 列へ格納\n",
        "polygon = gpd.GeoDataFrame([Polygon(cordinates)], columns=['geometry'])\n",
        "polygon # データの中身を覗き見る"
      ],
      "execution_count": null,
      "outputs": [
        {
          "output_type": "execute_result",
          "data": {
            "text/html": [
              "<div>\n",
              "<style scoped>\n",
              "    .dataframe tbody tr th:only-of-type {\n",
              "        vertical-align: middle;\n",
              "    }\n",
              "\n",
              "    .dataframe tbody tr th {\n",
              "        vertical-align: top;\n",
              "    }\n",
              "\n",
              "    .dataframe thead th {\n",
              "        text-align: right;\n",
              "    }\n",
              "</style>\n",
              "<table border=\"1\" class=\"dataframe\">\n",
              "  <thead>\n",
              "    <tr style=\"text-align: right;\">\n",
              "      <th></th>\n",
              "      <th>geometry</th>\n",
              "    </tr>\n",
              "  </thead>\n",
              "  <tbody>\n",
              "    <tr>\n",
              "      <th>0</th>\n",
              "      <td>POLYGON ((12.00000 12.00000, 18.00000 12.00000...</td>\n",
              "    </tr>\n",
              "  </tbody>\n",
              "</table>\n",
              "</div>"
            ],
            "text/plain": [
              "                                            geometry\n",
              "0  POLYGON ((12.00000 12.00000, 18.00000 12.00000..."
            ]
          },
          "metadata": {},
          "execution_count": 13
        }
      ]
    },
    {
      "cell_type": "markdown",
      "metadata": {
        "id": "qDxJ9220UjLg"
      },
      "source": [
        "生成した GeoDataframe の可視化には plot() メソッドを用いる。"
      ]
    },
    {
      "cell_type": "code",
      "metadata": {
        "colab": {
          "base_uri": "https://localhost:8080/",
          "height": 282
        },
        "id": "99ciFtp1W0qn",
        "scrolled": true,
        "outputId": "8fa4fe8b-33d3-4e89-8163-0b017c6af01d"
      },
      "source": [
        "# 可視化\n",
        "polygon.plot()"
      ],
      "execution_count": null,
      "outputs": [
        {
          "output_type": "execute_result",
          "data": {
            "text/plain": [
              "<matplotlib.axes._subplots.AxesSubplot at 0x7efc1b8aaa10>"
            ]
          },
          "metadata": {},
          "execution_count": 14
        },
        {
          "output_type": "display_data",
          "data": {
            "image/png": "[encoded data removed]",
            "text/plain": [
              "<Figure size 432x288 with 1 Axes>"
            ]
          },
          "metadata": {
            "needs_background": "light"
          }
        }
      ]
    },
    {
      "cell_type": "markdown",
      "metadata": {
        "id": "6vynV-IrW0qq"
      },
      "source": [
        "ちなみに，ポリゴンの頂点の並びを変えてみると，思いがけない形状となる。\n",
        "一般にポリゴンは領域を表現するため，座標の並び順に注意が必要である。"
      ]
    },
    {
      "cell_type": "code",
      "metadata": {
        "colab": {
          "base_uri": "https://localhost:8080/",
          "height": 282
        },
        "id": "kml3nUxnW0qq",
        "outputId": "b840c0ec-00c1-44a3-e546-c05d367eebb8"
      },
      "source": [
        "# 適当に座標を並べた例\n",
        "cordinates = [(12, 12), (12, 18), (18, 12), (18, 18)]\n",
        "\n",
        "# ポリゴンを GeoDataFrame の grometry 列へ格納\n",
        "funny_polygon = gpd.GeoDataFrame([Polygon(cordinates)], columns=['geometry'])\n",
        "\n",
        "funny_polygon.plot()"
      ],
      "execution_count": null,
      "outputs": [
        {
          "output_type": "execute_result",
          "data": {
            "text/plain": [
              "<matplotlib.axes._subplots.AxesSubplot at 0x7efc13365c90>"
            ]
          },
          "metadata": {},
          "execution_count": 15
        },
        {
          "output_type": "display_data",
          "data": {
            "image/png": "[encoded data removed]",
            "text/plain": [
              "<Figure size 432x288 with 1 Axes>"
            ]
          },
          "metadata": {
            "needs_background": "light"
          }
        }
      ]
    },
    {
      "cell_type": "markdown",
      "metadata": {
        "id": "ElrjCWMeW0qt"
      },
      "source": [
        "---\n",
        "## 生成した GeoDataFrame を shapefile として保存 & 読み込み"
      ]
    },
    {
      "cell_type": "markdown",
      "metadata": {
        "id": "6aF24rjfXeCl"
      },
      "source": [
        "### (準備) Google Drive のマウント\n",
        "保存先を確保するため，予め Google Drive をマウントする。"
      ]
    },
    {
      "cell_type": "code",
      "metadata": {
        "colab": {
          "base_uri": "https://localhost:8080/"
        },
        "id": "xpqDLZq_Xip6",
        "outputId": "ee00a80f-ce69-4206-f6c9-ece52141272d"
      },
      "source": [
        "from google.colab import drive\n",
        "drive.mount('/content/drive')"
      ],
      "execution_count": null,
      "outputs": [
        {
          "output_type": "stream",
          "name": "stdout",
          "text": [
            "Mounted at /content/drive\n"
          ]
        }
      ]
    },
    {
      "cell_type": "markdown",
      "metadata": {
        "id": "cxcCE8PWV03x"
      },
      "source": [
        "作成した GeoDataframe を shape file へ保存するには，GeoDataframe に対して `to_file()` メソッドを発行する。\n"
      ]
    },
    {
      "cell_type": "code",
      "metadata": {
        "id": "BY5j7a-JW0qt"
      },
      "source": [
        "# GeoData を shape file として保存\n",
        "path = r'/content/drive/My Drive/output.shp'\n",
        "polygon.to_file(path)"
      ],
      "execution_count": null,
      "outputs": []
    },
    {
      "cell_type": "markdown",
      "metadata": {
        "id": "79RRPG4WWK7p"
      },
      "source": [
        "shape file からの読み込みは（従前どおり）`geopandas.read_file()` を用いる。"
      ]
    },
    {
      "cell_type": "code",
      "metadata": {
        "colab": {
          "base_uri": "https://localhost:8080/",
          "height": 282
        },
        "id": "JBDQeshFW0qw",
        "scrolled": false,
        "outputId": "655a586d-5fc8-42d3-c0b6-8a285932bce6"
      },
      "source": [
        "# shape file を試しに読み込んで表示する\n",
        "path = r'/content/drive/My Drive/output.shp'\n",
        "data = gpd.read_file(path)\n",
        "data.plot()"
      ],
      "execution_count": null,
      "outputs": [
        {
          "output_type": "execute_result",
          "data": {
            "text/plain": [
              "<matplotlib.axes._subplots.AxesSubplot at 0x7efc20fd2ad0>"
            ]
          },
          "metadata": {},
          "execution_count": 18
        },
        {
          "output_type": "display_data",
          "data": {
            "image/png": "[encoded data removed]",
            "text/plain": [
              "<Figure size 432x288 with 1 Axes>"
            ]
          },
          "metadata": {
            "needs_background": "light"
          }
        }
      ]
    },
    {
      "cell_type": "markdown",
      "metadata": {
        "id": "G0dfWrbkW0qz"
      },
      "source": [
        "---\n",
        "# GeoDataFrame に関するいくつかの操作\n",
        "「ポリゴンの中心を求める操作」は重要である。"
      ]
    },
    {
      "cell_type": "markdown",
      "metadata": {
        "id": "GMRyFPO0W0q0"
      },
      "source": [
        "## 点(Point)とポリゴン(Polygon)を重ねて表示\n",
        "上記で定義した Point と Polygon を重ねて表示するには，ax (artist) を用いる。"
      ]
    },
    {
      "cell_type": "code",
      "metadata": {
        "colab": {
          "base_uri": "https://localhost:8080/",
          "height": 282
        },
        "id": "8jQQKZ6FW0q0",
        "scrolled": false,
        "outputId": "53665022-04bd-4030-e71e-f4d4e2d9efc8"
      },
      "source": [
        "import matplotlib.pyplot as plt\n",
        "\n",
        "fig, ax = plt.subplots(1)\n",
        "points.plot(ax=ax, color='green')\n",
        "polygon.plot(ax=ax, color='red')"
      ],
      "execution_count": null,
      "outputs": [
        {
          "output_type": "execute_result",
          "data": {
            "text/plain": [
              "<matplotlib.axes._subplots.AxesSubplot at 0x7efc13156e10>"
            ]
          },
          "metadata": {},
          "execution_count": 23
        },
        {
          "output_type": "display_data",
          "data": {
            "image/png": "[encoded data removed]",
            "text/plain": [
              "<Figure size 432x288 with 1 Axes>"
            ]
          },
          "metadata": {
            "needs_background": "light"
          }
        }
      ]
    },
    {
      "cell_type": "markdown",
      "metadata": {
        "id": "o4hI-jG4W0q3"
      },
      "source": [
        "## ポリゴンの面積と中心を求める\n",
        "ポリゴンの面積を求めるには area 属性を，中心点を求めるには centroid 属性を指定する。"
      ]
    },
    {
      "cell_type": "code",
      "metadata": {
        "colab": {
          "base_uri": "https://localhost:8080/",
          "height": 350
        },
        "id": "52urIzo5W0q4",
        "outputId": "4b2bb56b-183e-4d90-ebab-349df2b8717f"
      },
      "source": [
        "# ポリゴンの面積\n",
        "area = polygon.area\n",
        "print(\"面積：{}\".format(area.values))\n",
        "\n",
        "# ポリゴンの中心\n",
        "center = polygon.centroid\n",
        "print(center)\n",
        "x, y = center.x, center.y\n",
        "print(\"中心：{}, {}\".format(x.values, y.values))\n",
        "\n",
        "# 正しく中心が得られたか確認するため，描画する\n",
        "fig, ax = plt.subplots(1)\n",
        "polygon.plot(ax=ax)\n",
        "polygon.centroid.plot(ax=ax, color='red')"
      ],
      "execution_count": null,
      "outputs": [
        {
          "output_type": "stream",
          "name": "stdout",
          "text": [
            "面積：[36.]\n",
            "0    POINT (15.00000 15.00000)\n",
            "dtype: geometry\n",
            "中心：[15.], [15.]\n"
          ]
        },
        {
          "output_type": "execute_result",
          "data": {
            "text/plain": [
              "<matplotlib.axes._subplots.AxesSubplot at 0x7efc12936a50>"
            ]
          },
          "metadata": {},
          "execution_count": 36
        },
        {
          "output_type": "display_data",
          "data": {
            "image/png": "[encoded data removed]",
            "text/plain": [
              "<Figure size 432x288 with 1 Axes>"
            ]
          },
          "metadata": {
            "needs_background": "light"
          }
        }
      ]
    },
    {
      "cell_type": "markdown",
      "metadata": {
        "id": "LKZwNeXaW0q7"
      },
      "source": [
        "## Point 間の距離を測る"
      ]
    },
    {
      "cell_type": "code",
      "metadata": {
        "colab": {
          "base_uri": "https://localhost:8080/"
        },
        "id": "oBm1XuocW0q7",
        "outputId": "01cbd903-982f-4fd2-db8f-8ae227cab493"
      },
      "source": [
        "print(point1)\n",
        "print(point2)\n",
        "\n",
        "d = point1.distance(point2)\n",
        "print(\"2点間の距離：{}\".format(d))"
      ],
      "execution_count": null,
      "outputs": [
        {
          "output_type": "stream",
          "name": "stdout",
          "text": [
            "POINT (10 10)\n",
            "POINT (20 20)\n",
            "2点間の距離：14.142135623730951\n"
          ]
        }
      ]
    },
    {
      "cell_type": "markdown",
      "metadata": {
        "id": "OM2tdv3PFQSq"
      },
      "source": [
        "---\n",
        "## 課題\n",
        "１．次の３点(Point)を含む GeoDataFrame を作り，可視化により意図通りに GeoDataFrame が構成されているか，確認してください。\n",
        "\n",
        "    座標 (0, 0), (1, 3), (3, 1)\n",
        "\n",
        "２．上記 1. の３点を頂点とする三角形のポリゴン(Polygon)を構成し，可視化してください。\n",
        "\n",
        "３．上記 2. で構成したポリゴンの中心座標を求め，重心の公式から得られる値と一致することを確認してください。\n",
        "\n",
        "$x_G = \\frac{x_1 + x_2 + x_3}{3}, \\quad y_G = \\frac{y_1 + y_2 + y_3}{3}$"
      ]
    },
    {
      "cell_type": "code",
      "metadata": {
        "id": "mnxjdbM3HNf8"
      },
      "source": [
        ""
      ],
      "execution_count": null,
      "outputs": []
    }
  ]
}