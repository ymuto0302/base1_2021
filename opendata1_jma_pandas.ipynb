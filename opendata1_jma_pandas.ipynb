{
  "nbformat": 4,
  "nbformat_minor": 0,
  "metadata": {
    "colab": {
      "name": "opendata1_jma_pandas.ipynb",
      "provenance": [],
      "collapsed_sections": [],
      "include_colab_link": true
    },
    "kernelspec": {
      "display_name": "Python 3",
      "language": "python",
      "name": "python3"
    },
    "language_info": {
      "codemirror_mode": {
        "name": "ipython",
        "version": 3
      },
      "file_extension": ".py",
      "mimetype": "text/x-python",
      "name": "python",
      "nbconvert_exporter": "python",
      "pygments_lexer": "ipython3",
      "version": "3.7.8"
    }
  },
  "cells": [
    {
      "cell_type": "markdown",
      "metadata": {
        "id": "view-in-github",
        "colab_type": "text"
      },
      "source": [
        "<a href=\"https://colab.research.google.com/github/ymuto0302/base1_2021/blob/main/opendata1_jma_pandas.ipynb\" target=\"_parent\"><img src=\"https://colab.research.google.com/assets/colab-badge.svg\" alt=\"Open In Colab\"/></a>"
      ]
    },
    {
      "cell_type": "markdown",
      "metadata": {
        "id": "yKhKpLxFhqb0"
      },
      "source": [
        "# オープンデータの活用(2)\n",
        "気象庁データの可視化を **Pandas を用いて**行う。\n",
        "\n",
        "**狙い：データ解析ライブラリ Pandas は，大量のデータを処理する場合に便利な機能を提供しており，本授業全体を通して利用する。\n",
        "そこで，前回の「CSVモジュールを用いた気象庁データの可視化」にて取り上げた題材を用いて，Pandas の利用方法に慣れることを目的とする**\n",
        "\n"
      ]
    },
    {
      "cell_type": "markdown",
      "metadata": {
        "id": "r6y67j29wfvQ"
      },
      "source": [
        "\n",
        "\n",
        "---\n",
        "\n"
      ]
    },
    {
      "cell_type": "markdown",
      "metadata": {
        "id": "dce9tqAzkiTZ"
      },
      "source": [
        "## 準備：Google Drive のマウント\n"
      ]
    },
    {
      "cell_type": "code",
      "metadata": {
        "colab": {
          "base_uri": "https://localhost:8080/"
        },
        "id": "sjxm0A85hiIe",
        "outputId": "3e72666c-fcbd-4d41-82cf-3c53c8710b42"
      },
      "source": [
        "from google.colab import drive\n",
        "drive.mount('/content/drive')"
      ],
      "execution_count": 51,
      "outputs": [
        {
          "output_type": "stream",
          "text": [
            "Drive already mounted at /content/drive; to attempt to forcibly remount, call drive.mount(\"/content/drive\", force_remount=True).\n"
          ],
          "name": "stdout"
        }
      ]
    },
    {
      "cell_type": "markdown",
      "metadata": {
        "id": "XeQ-5qtgUOCg"
      },
      "source": [
        "## Pandas とは\n",
        "Pandas とはデータ解析ライブラリであり，Python プログラムにてデータ解析を容易にする機能を提供する。\n",
        "\n",
        "Pandas では Seiries と DataFrame の２つのデータ構造が存在するが，利用頻度の高い DataFrame のみを以下で取り扱う。\n",
        "\n",
        "### DataFrame : 2次元のラベル付きデータ構造\n",
        "リスト型の値をもつ辞書を DataFrame 関数の引数として渡すことで，データフレームを生成できる。\n",
        "いわゆる表（テーブル）の形でデータを扱える。"
      ]
    },
    {
      "cell_type": "code",
      "metadata": {
        "colab": {
          "base_uri": "https://localhost:8080/"
        },
        "id": "kZKjmEBeUOCh",
        "outputId": "0c225d83-ffef-4333-f8dd-1387213bc69f"
      },
      "source": [
        "import pandas as pd\n",
        "\n",
        "# 辞書：キーは \"地名\"および \"人口\"，値はリスト型\n",
        "d = {\n",
        "    \"地名\": [\"宇部\", \"山陽小野田\", \"山口\"],\n",
        "    \"人口\": [200, 100, 300]\n",
        "}\n",
        "df = pd.DataFrame(d)\n",
        "print(df)"
      ],
      "execution_count": 52,
      "outputs": [
        {
          "output_type": "stream",
          "text": [
            "      地名   人口\n",
            "0     宇部  200\n",
            "1  山陽小野田  100\n",
            "2     山口  300\n"
          ],
          "name": "stdout"
        }
      ]
    },
    {
      "cell_type": "markdown",
      "metadata": {
        "id": "rJqE5hCfUW3n"
      },
      "source": [
        "### CSVファイルからのデータ読み込み\n",
        "以下の内容を格納した CSV ファイルからデータを読み込む。\n",
        "\n",
        "```\n",
        "氏名,住所,メールアドレス\n",
        "宇部太郎,山口県宇部市,taro@ube-k.ac.jp\n",
        "宇部花子,山口県宇部市,hanako@ube-k.ac.jp\n",
        "松江一郎,島根県松江市,ichiro@ube-k.ac.jp\n",
        "鳥取美咲,鳥取県鳥取市,misaki@ube-k.ac.jp\n",
        "福山雅治,広島県福山市,masaharu@ube-k.ac.jp\n",
        "```\n"
      ]
    },
    {
      "cell_type": "code",
      "metadata": {
        "colab": {
          "base_uri": "https://localhost:8080/"
        },
        "id": "sI24QwivVzRV",
        "outputId": "28f132a5-906d-4737-fe92-f2f6e5b03c52"
      },
      "source": [
        "import pandas as pd\n",
        "\n",
        "df = pd.read_csv(\"/content/drive/My Drive/BASE/OpenData/sample.csv\", encoding='utf-8')\n",
        "print(df)"
      ],
      "execution_count": 53,
      "outputs": [
        {
          "output_type": "stream",
          "text": [
            "     氏名      住所               メールアドレス\n",
            "0  宇部太郎  山口県宇部市      taro@ube-k.ac.jp\n",
            "1  宇部花子  山口県宇部市    hanako@ube-k.ac.jp\n",
            "2  松江一郎  島根県松江市    ichiro@ube-k.ac.jp\n",
            "3  鳥取美咲  鳥取県鳥取市    misaki@ube-k.ac.jp\n",
            "4  福山雅治  広島県福山市  masaharu@ube-k.ac.jp\n"
          ],
          "name": "stdout"
        }
      ]
    },
    {
      "cell_type": "markdown",
      "metadata": {
        "id": "VQdVsyr_Xg1o"
      },
      "source": [
        "### iloc() を用いた値の抽出\n",
        "値を取り出すには loc() 関数または iloc() 関数を用いる。\n",
        "- loc()関数：行名または列名を指定し，値を取り出す。\n",
        "- iloc() 関数：インデックスを指定し，値を取り出す。ここで**インデックスのカウントはゼロから始まる点**に注意が必要である。\n",
        "\n",
        "以下では幾つかの例を用いて iloc()関数の挙動を確かめてみよう。"
      ]
    },
    {
      "cell_type": "code",
      "metadata": {
        "colab": {
          "base_uri": "https://localhost:8080/",
          "height": 34
        },
        "id": "KRYn3-tiYGjx",
        "outputId": "ff5a7d9a-0b77-423a-a7aa-efd657698846"
      },
      "source": [
        "# 書式：iloc[行,列]\n",
        "df.iloc[1,2]"
      ],
      "execution_count": 58,
      "outputs": [
        {
          "output_type": "execute_result",
          "data": {
            "application/vnd.google.colaboratory.intrinsic+json": {
              "type": "string"
            },
            "text/plain": [
              "'hanako@ube-k.ac.jp'"
            ]
          },
          "metadata": {
            "tags": []
          },
          "execution_count": 58
        }
      ]
    },
    {
      "cell_type": "code",
      "metadata": {
        "colab": {
          "base_uri": "https://localhost:8080/",
          "height": 197
        },
        "id": "ef0P_bBpYc2X",
        "outputId": "cae34fc9-2add-4a1b-fb72-b4cf7d4d906e"
      },
      "source": [
        "# 全ての行について，０列目と２列目を取り出す\n",
        "df.iloc[:, [0,2]]"
      ],
      "execution_count": 59,
      "outputs": [
        {
          "output_type": "execute_result",
          "data": {
            "text/html": [
              "<div>\n",
              "<style scoped>\n",
              "    .dataframe tbody tr th:only-of-type {\n",
              "        vertical-align: middle;\n",
              "    }\n",
              "\n",
              "    .dataframe tbody tr th {\n",
              "        vertical-align: top;\n",
              "    }\n",
              "\n",
              "    .dataframe thead th {\n",
              "        text-align: right;\n",
              "    }\n",
              "</style>\n",
              "<table border=\"1\" class=\"dataframe\">\n",
              "  <thead>\n",
              "    <tr style=\"text-align: right;\">\n",
              "      <th></th>\n",
              "      <th>氏名</th>\n",
              "      <th>メールアドレス</th>\n",
              "    </tr>\n",
              "  </thead>\n",
              "  <tbody>\n",
              "    <tr>\n",
              "      <th>0</th>\n",
              "      <td>宇部太郎</td>\n",
              "      <td>taro@ube-k.ac.jp</td>\n",
              "    </tr>\n",
              "    <tr>\n",
              "      <th>1</th>\n",
              "      <td>宇部花子</td>\n",
              "      <td>hanako@ube-k.ac.jp</td>\n",
              "    </tr>\n",
              "    <tr>\n",
              "      <th>2</th>\n",
              "      <td>松江一郎</td>\n",
              "      <td>ichiro@ube-k.ac.jp</td>\n",
              "    </tr>\n",
              "    <tr>\n",
              "      <th>3</th>\n",
              "      <td>鳥取美咲</td>\n",
              "      <td>misaki@ube-k.ac.jp</td>\n",
              "    </tr>\n",
              "    <tr>\n",
              "      <th>4</th>\n",
              "      <td>福山雅治</td>\n",
              "      <td>masaharu@ube-k.ac.jp</td>\n",
              "    </tr>\n",
              "  </tbody>\n",
              "</table>\n",
              "</div>"
            ],
            "text/plain": [
              "     氏名               メールアドレス\n",
              "0  宇部太郎      taro@ube-k.ac.jp\n",
              "1  宇部花子    hanako@ube-k.ac.jp\n",
              "2  松江一郎    ichiro@ube-k.ac.jp\n",
              "3  鳥取美咲    misaki@ube-k.ac.jp\n",
              "4  福山雅治  masaharu@ube-k.ac.jp"
            ]
          },
          "metadata": {
            "tags": []
          },
          "execution_count": 59
        }
      ]
    },
    {
      "cell_type": "code",
      "metadata": {
        "colab": {
          "base_uri": "https://localhost:8080/",
          "height": 107
        },
        "id": "6kt-BKWVY9jY",
        "outputId": "4a03aa78-fa9f-4b81-cf56-48c2f8e8c5c9"
      },
      "source": [
        "# １行目と３行目について，全ての列を取り出す\n",
        "df.iloc[[1,3],:]"
      ],
      "execution_count": 60,
      "outputs": [
        {
          "output_type": "execute_result",
          "data": {
            "text/html": [
              "<div>\n",
              "<style scoped>\n",
              "    .dataframe tbody tr th:only-of-type {\n",
              "        vertical-align: middle;\n",
              "    }\n",
              "\n",
              "    .dataframe tbody tr th {\n",
              "        vertical-align: top;\n",
              "    }\n",
              "\n",
              "    .dataframe thead th {\n",
              "        text-align: right;\n",
              "    }\n",
              "</style>\n",
              "<table border=\"1\" class=\"dataframe\">\n",
              "  <thead>\n",
              "    <tr style=\"text-align: right;\">\n",
              "      <th></th>\n",
              "      <th>氏名</th>\n",
              "      <th>住所</th>\n",
              "      <th>メールアドレス</th>\n",
              "    </tr>\n",
              "  </thead>\n",
              "  <tbody>\n",
              "    <tr>\n",
              "      <th>1</th>\n",
              "      <td>宇部花子</td>\n",
              "      <td>山口県宇部市</td>\n",
              "      <td>hanako@ube-k.ac.jp</td>\n",
              "    </tr>\n",
              "    <tr>\n",
              "      <th>3</th>\n",
              "      <td>鳥取美咲</td>\n",
              "      <td>鳥取県鳥取市</td>\n",
              "      <td>misaki@ube-k.ac.jp</td>\n",
              "    </tr>\n",
              "  </tbody>\n",
              "</table>\n",
              "</div>"
            ],
            "text/plain": [
              "     氏名      住所             メールアドレス\n",
              "1  宇部花子  山口県宇部市  hanako@ube-k.ac.jp\n",
              "3  鳥取美咲  鳥取県鳥取市  misaki@ube-k.ac.jp"
            ]
          },
          "metadata": {
            "tags": []
          },
          "execution_count": 60
        }
      ]
    },
    {
      "cell_type": "code",
      "metadata": {
        "colab": {
          "base_uri": "https://localhost:8080/",
          "height": 107
        },
        "id": "hFmAGX2_ZIxP",
        "outputId": "1e88b61e-f03a-4a0a-a0ad-ad21bb3923d3"
      },
      "source": [
        "# １〜２行目について，全ての列を取り出す\n",
        "df.iloc[1:3,:]"
      ],
      "execution_count": 61,
      "outputs": [
        {
          "output_type": "execute_result",
          "data": {
            "text/html": [
              "<div>\n",
              "<style scoped>\n",
              "    .dataframe tbody tr th:only-of-type {\n",
              "        vertical-align: middle;\n",
              "    }\n",
              "\n",
              "    .dataframe tbody tr th {\n",
              "        vertical-align: top;\n",
              "    }\n",
              "\n",
              "    .dataframe thead th {\n",
              "        text-align: right;\n",
              "    }\n",
              "</style>\n",
              "<table border=\"1\" class=\"dataframe\">\n",
              "  <thead>\n",
              "    <tr style=\"text-align: right;\">\n",
              "      <th></th>\n",
              "      <th>氏名</th>\n",
              "      <th>住所</th>\n",
              "      <th>メールアドレス</th>\n",
              "    </tr>\n",
              "  </thead>\n",
              "  <tbody>\n",
              "    <tr>\n",
              "      <th>1</th>\n",
              "      <td>宇部花子</td>\n",
              "      <td>山口県宇部市</td>\n",
              "      <td>hanako@ube-k.ac.jp</td>\n",
              "    </tr>\n",
              "    <tr>\n",
              "      <th>2</th>\n",
              "      <td>松江一郎</td>\n",
              "      <td>島根県松江市</td>\n",
              "      <td>ichiro@ube-k.ac.jp</td>\n",
              "    </tr>\n",
              "  </tbody>\n",
              "</table>\n",
              "</div>"
            ],
            "text/plain": [
              "     氏名      住所             メールアドレス\n",
              "1  宇部花子  山口県宇部市  hanako@ube-k.ac.jp\n",
              "2  松江一郎  島根県松江市  ichiro@ube-k.ac.jp"
            ]
          },
          "metadata": {
            "tags": []
          },
          "execution_count": 61
        }
      ]
    },
    {
      "cell_type": "markdown",
      "metadata": {
        "id": "P2gVd633hetY"
      },
      "source": [
        "# ここから本番！"
      ]
    },
    {
      "cell_type": "markdown",
      "metadata": {
        "id": "akEGrZMdgxm6"
      },
      "source": [
        "### 気象庁の提供するデータの形式 (CSV)：\n",
        "```\n",
        "ダウンロードした時刻：2020/05/30 14:07:33\n",
        "\n",
        ",京都,京都,京都,京都,京都,京都,京都,京都,京都\n",
        "年月日,平均気温(℃),平均気温(℃),平均気温(℃),最高気温(℃),最高気温(℃),最高気温(℃),最低気温(℃),最低気温(℃),最低気温(℃)\n",
        ",,,,,,,,,\n",
        ",,品質情報,均質番号,,品質情報,均質番号,,品質情報,均質番号\n",
        "2016/1/1,5.7,8,1,10.6,8,1,2.1,8,1\n",
        "2016/1/2,6.7,8,1,12.9,8,1,1.8,8,1\n",
        "2016/1/3,9.3,8,1,15.8,8,1,4.7,8,1\n",
        "2016/1/4,10.2,8,1,16.0,8,1,5.3,8,1\n",
        "```"
      ]
    },
    {
      "cell_type": "markdown",
      "metadata": {
        "id": "n8ErcZ14jj3Y"
      },
      "source": [
        "### 気象庁データの読み込み\n",
        "CSVファイルからのデータ読み込みあたり，以下のオプションを付与する。\n",
        "- index_col=0 : 最も左の列「年月日」をデータフレームのインデックス列とする\n",
        "- skip_rows=[0,1,2,4,5] : ヘッダ部から skip_rows で指定した行を読み飛ばす\n",
        "- encoding='shift_jis' : 気象庁データのエンコードは Shift JIS ゆえ，エンコーディングを指定"
      ]
    },
    {
      "cell_type": "code",
      "metadata": {
        "id": "ZWNx9CZbaRCl"
      },
      "source": [
        "import pandas as pd\n",
        "\n",
        "# CSV ファイルからデータ読み込み\n",
        "df = pd.read_csv(\"/content/drive/My Drive/BASE/OpenData/kyoto.csv\",\n",
        "\t\t\t\t index_col=0, # 日付をインデックスとする\n",
        "\t\t\t\t skiprows=[0,1,2,4,5], # 気色悪いヘッダだから「ヘッダ部をスキップする」形をとる\n",
        "\t\t\t\t encoding=\"shift-jis\") # 気象庁の提供するデータのエンコードは Shift JIS"
      ],
      "execution_count": 62,
      "outputs": []
    },
    {
      "cell_type": "code",
      "metadata": {
        "colab": {
          "base_uri": "https://localhost:8080/",
          "height": 436
        },
        "id": "k-OiRnOTaW8c",
        "outputId": "f1b11697-1d27-4bcb-e5d1-658ff79cdd32"
      },
      "source": [
        "# 試しに表示してみる\n",
        "df"
      ],
      "execution_count": 63,
      "outputs": [
        {
          "output_type": "execute_result",
          "data": {
            "text/html": [
              "<div>\n",
              "<style scoped>\n",
              "    .dataframe tbody tr th:only-of-type {\n",
              "        vertical-align: middle;\n",
              "    }\n",
              "\n",
              "    .dataframe tbody tr th {\n",
              "        vertical-align: top;\n",
              "    }\n",
              "\n",
              "    .dataframe thead th {\n",
              "        text-align: right;\n",
              "    }\n",
              "</style>\n",
              "<table border=\"1\" class=\"dataframe\">\n",
              "  <thead>\n",
              "    <tr style=\"text-align: right;\">\n",
              "      <th></th>\n",
              "      <th>平均気温(℃)</th>\n",
              "      <th>平均気温(℃).1</th>\n",
              "      <th>平均気温(℃).2</th>\n",
              "      <th>最高気温(℃)</th>\n",
              "      <th>最高気温(℃).1</th>\n",
              "      <th>最高気温(℃).2</th>\n",
              "      <th>最低気温(℃)</th>\n",
              "      <th>最低気温(℃).1</th>\n",
              "      <th>最低気温(℃).2</th>\n",
              "    </tr>\n",
              "    <tr>\n",
              "      <th>年月日</th>\n",
              "      <th></th>\n",
              "      <th></th>\n",
              "      <th></th>\n",
              "      <th></th>\n",
              "      <th></th>\n",
              "      <th></th>\n",
              "      <th></th>\n",
              "      <th></th>\n",
              "      <th></th>\n",
              "    </tr>\n",
              "  </thead>\n",
              "  <tbody>\n",
              "    <tr>\n",
              "      <th>2016/1/1</th>\n",
              "      <td>5.7</td>\n",
              "      <td>8</td>\n",
              "      <td>1</td>\n",
              "      <td>10.6</td>\n",
              "      <td>8</td>\n",
              "      <td>1</td>\n",
              "      <td>2.1</td>\n",
              "      <td>8</td>\n",
              "      <td>1</td>\n",
              "    </tr>\n",
              "    <tr>\n",
              "      <th>2016/1/2</th>\n",
              "      <td>6.7</td>\n",
              "      <td>8</td>\n",
              "      <td>1</td>\n",
              "      <td>12.9</td>\n",
              "      <td>8</td>\n",
              "      <td>1</td>\n",
              "      <td>1.8</td>\n",
              "      <td>8</td>\n",
              "      <td>1</td>\n",
              "    </tr>\n",
              "    <tr>\n",
              "      <th>2016/1/3</th>\n",
              "      <td>9.3</td>\n",
              "      <td>8</td>\n",
              "      <td>1</td>\n",
              "      <td>15.8</td>\n",
              "      <td>8</td>\n",
              "      <td>1</td>\n",
              "      <td>4.7</td>\n",
              "      <td>8</td>\n",
              "      <td>1</td>\n",
              "    </tr>\n",
              "    <tr>\n",
              "      <th>2016/1/4</th>\n",
              "      <td>10.2</td>\n",
              "      <td>8</td>\n",
              "      <td>1</td>\n",
              "      <td>16.0</td>\n",
              "      <td>8</td>\n",
              "      <td>1</td>\n",
              "      <td>5.3</td>\n",
              "      <td>8</td>\n",
              "      <td>1</td>\n",
              "    </tr>\n",
              "    <tr>\n",
              "      <th>2016/1/5</th>\n",
              "      <td>8.2</td>\n",
              "      <td>8</td>\n",
              "      <td>1</td>\n",
              "      <td>12.2</td>\n",
              "      <td>8</td>\n",
              "      <td>1</td>\n",
              "      <td>4.9</td>\n",
              "      <td>8</td>\n",
              "      <td>1</td>\n",
              "    </tr>\n",
              "    <tr>\n",
              "      <th>...</th>\n",
              "      <td>...</td>\n",
              "      <td>...</td>\n",
              "      <td>...</td>\n",
              "      <td>...</td>\n",
              "      <td>...</td>\n",
              "      <td>...</td>\n",
              "      <td>...</td>\n",
              "      <td>...</td>\n",
              "      <td>...</td>\n",
              "    </tr>\n",
              "    <tr>\n",
              "      <th>2019/12/27</th>\n",
              "      <td>8.2</td>\n",
              "      <td>8</td>\n",
              "      <td>1</td>\n",
              "      <td>11.5</td>\n",
              "      <td>8</td>\n",
              "      <td>1</td>\n",
              "      <td>3.7</td>\n",
              "      <td>8</td>\n",
              "      <td>1</td>\n",
              "    </tr>\n",
              "    <tr>\n",
              "      <th>2019/12/28</th>\n",
              "      <td>5.7</td>\n",
              "      <td>8</td>\n",
              "      <td>1</td>\n",
              "      <td>8.9</td>\n",
              "      <td>8</td>\n",
              "      <td>1</td>\n",
              "      <td>3.2</td>\n",
              "      <td>8</td>\n",
              "      <td>1</td>\n",
              "    </tr>\n",
              "    <tr>\n",
              "      <th>2019/12/29</th>\n",
              "      <td>7.4</td>\n",
              "      <td>8</td>\n",
              "      <td>1</td>\n",
              "      <td>12.1</td>\n",
              "      <td>8</td>\n",
              "      <td>1</td>\n",
              "      <td>2.2</td>\n",
              "      <td>8</td>\n",
              "      <td>1</td>\n",
              "    </tr>\n",
              "    <tr>\n",
              "      <th>2019/12/30</th>\n",
              "      <td>9.7</td>\n",
              "      <td>8</td>\n",
              "      <td>1</td>\n",
              "      <td>11.5</td>\n",
              "      <td>8</td>\n",
              "      <td>1</td>\n",
              "      <td>7.6</td>\n",
              "      <td>8</td>\n",
              "      <td>1</td>\n",
              "    </tr>\n",
              "    <tr>\n",
              "      <th>2019/12/31</th>\n",
              "      <td>8.1</td>\n",
              "      <td>8</td>\n",
              "      <td>1</td>\n",
              "      <td>12.0</td>\n",
              "      <td>8</td>\n",
              "      <td>1</td>\n",
              "      <td>3.8</td>\n",
              "      <td>8</td>\n",
              "      <td>1</td>\n",
              "    </tr>\n",
              "  </tbody>\n",
              "</table>\n",
              "<p>1461 rows × 9 columns</p>\n",
              "</div>"
            ],
            "text/plain": [
              "            平均気温(℃)  平均気温(℃).1  平均気温(℃).2  ...  最低気温(℃)  最低気温(℃).1  最低気温(℃).2\n",
              "年月日                                        ...                               \n",
              "2016/1/1        5.7          8          1  ...      2.1          8          1\n",
              "2016/1/2        6.7          8          1  ...      1.8          8          1\n",
              "2016/1/3        9.3          8          1  ...      4.7          8          1\n",
              "2016/1/4       10.2          8          1  ...      5.3          8          1\n",
              "2016/1/5        8.2          8          1  ...      4.9          8          1\n",
              "...             ...        ...        ...  ...      ...        ...        ...\n",
              "2019/12/27      8.2          8          1  ...      3.7          8          1\n",
              "2019/12/28      5.7          8          1  ...      3.2          8          1\n",
              "2019/12/29      7.4          8          1  ...      2.2          8          1\n",
              "2019/12/30      9.7          8          1  ...      7.6          8          1\n",
              "2019/12/31      8.1          8          1  ...      3.8          8          1\n",
              "\n",
              "[1461 rows x 9 columns]"
            ]
          },
          "metadata": {
            "tags": []
          },
          "execution_count": 63
        }
      ]
    },
    {
      "cell_type": "markdown",
      "metadata": {
        "id": "OwwK2Upaam2W"
      },
      "source": [
        "### インデックス列を文字列(str型)から datatime 型へ変換する"
      ]
    },
    {
      "cell_type": "code",
      "metadata": {
        "colab": {
          "base_uri": "https://localhost:8080/",
          "height": 227
        },
        "id": "7vasJNU_amiY",
        "outputId": "a06c03df-17e8-4ff4-8ecc-7cb3a932a2ed"
      },
      "source": [
        "# インデックス列の値を datetime フォーマットへ変換\n",
        "df.index = pd.to_datetime(df.index, format=\"%Y/%m/%d\")\n",
        "\n",
        "df.head() # 結果確認のため，先頭の５行のみ表示"
      ],
      "execution_count": 64,
      "outputs": [
        {
          "output_type": "execute_result",
          "data": {
            "text/html": [
              "<div>\n",
              "<style scoped>\n",
              "    .dataframe tbody tr th:only-of-type {\n",
              "        vertical-align: middle;\n",
              "    }\n",
              "\n",
              "    .dataframe tbody tr th {\n",
              "        vertical-align: top;\n",
              "    }\n",
              "\n",
              "    .dataframe thead th {\n",
              "        text-align: right;\n",
              "    }\n",
              "</style>\n",
              "<table border=\"1\" class=\"dataframe\">\n",
              "  <thead>\n",
              "    <tr style=\"text-align: right;\">\n",
              "      <th></th>\n",
              "      <th>平均気温(℃)</th>\n",
              "      <th>平均気温(℃).1</th>\n",
              "      <th>平均気温(℃).2</th>\n",
              "      <th>最高気温(℃)</th>\n",
              "      <th>最高気温(℃).1</th>\n",
              "      <th>最高気温(℃).2</th>\n",
              "      <th>最低気温(℃)</th>\n",
              "      <th>最低気温(℃).1</th>\n",
              "      <th>最低気温(℃).2</th>\n",
              "    </tr>\n",
              "    <tr>\n",
              "      <th>年月日</th>\n",
              "      <th></th>\n",
              "      <th></th>\n",
              "      <th></th>\n",
              "      <th></th>\n",
              "      <th></th>\n",
              "      <th></th>\n",
              "      <th></th>\n",
              "      <th></th>\n",
              "      <th></th>\n",
              "    </tr>\n",
              "  </thead>\n",
              "  <tbody>\n",
              "    <tr>\n",
              "      <th>2016-01-01</th>\n",
              "      <td>5.7</td>\n",
              "      <td>8</td>\n",
              "      <td>1</td>\n",
              "      <td>10.6</td>\n",
              "      <td>8</td>\n",
              "      <td>1</td>\n",
              "      <td>2.1</td>\n",
              "      <td>8</td>\n",
              "      <td>1</td>\n",
              "    </tr>\n",
              "    <tr>\n",
              "      <th>2016-01-02</th>\n",
              "      <td>6.7</td>\n",
              "      <td>8</td>\n",
              "      <td>1</td>\n",
              "      <td>12.9</td>\n",
              "      <td>8</td>\n",
              "      <td>1</td>\n",
              "      <td>1.8</td>\n",
              "      <td>8</td>\n",
              "      <td>1</td>\n",
              "    </tr>\n",
              "    <tr>\n",
              "      <th>2016-01-03</th>\n",
              "      <td>9.3</td>\n",
              "      <td>8</td>\n",
              "      <td>1</td>\n",
              "      <td>15.8</td>\n",
              "      <td>8</td>\n",
              "      <td>1</td>\n",
              "      <td>4.7</td>\n",
              "      <td>8</td>\n",
              "      <td>1</td>\n",
              "    </tr>\n",
              "    <tr>\n",
              "      <th>2016-01-04</th>\n",
              "      <td>10.2</td>\n",
              "      <td>8</td>\n",
              "      <td>1</td>\n",
              "      <td>16.0</td>\n",
              "      <td>8</td>\n",
              "      <td>1</td>\n",
              "      <td>5.3</td>\n",
              "      <td>8</td>\n",
              "      <td>1</td>\n",
              "    </tr>\n",
              "    <tr>\n",
              "      <th>2016-01-05</th>\n",
              "      <td>8.2</td>\n",
              "      <td>8</td>\n",
              "      <td>1</td>\n",
              "      <td>12.2</td>\n",
              "      <td>8</td>\n",
              "      <td>1</td>\n",
              "      <td>4.9</td>\n",
              "      <td>8</td>\n",
              "      <td>1</td>\n",
              "    </tr>\n",
              "  </tbody>\n",
              "</table>\n",
              "</div>"
            ],
            "text/plain": [
              "            平均気温(℃)  平均気温(℃).1  平均気温(℃).2  ...  最低気温(℃)  最低気温(℃).1  最低気温(℃).2\n",
              "年月日                                        ...                               \n",
              "2016-01-01      5.7          8          1  ...      2.1          8          1\n",
              "2016-01-02      6.7          8          1  ...      1.8          8          1\n",
              "2016-01-03      9.3          8          1  ...      4.7          8          1\n",
              "2016-01-04     10.2          8          1  ...      5.3          8          1\n",
              "2016-01-05      8.2          8          1  ...      4.9          8          1\n",
              "\n",
              "[5 rows x 9 columns]"
            ]
          },
          "metadata": {
            "tags": []
          },
          "execution_count": 64
        }
      ]
    },
    {
      "cell_type": "markdown",
      "metadata": {
        "id": "KGvw6YR9a80Y"
      },
      "source": [
        "### 平均気温・最高気温・最低気温の列のみの取り出し\n",
        "気象庁のデータには気温に加えて，品質情報・均質番号の列が含まれる。\n",
        "これらは不要なため，平均気温・最高気温・最低気温の列のみを取り出す"
      ]
    },
    {
      "cell_type": "code",
      "metadata": {
        "colab": {
          "base_uri": "https://localhost:8080/",
          "height": 227
        },
        "id": "gPU8BrLybecD",
        "outputId": "f1d9bee3-a7ad-45ea-cdc1-aa50c34a7a34"
      },
      "source": [
        "df = df.iloc[:, [0,3,6]]\n",
        "df.head() # 結果確認のため，先頭の５行のみ表示"
      ],
      "execution_count": 65,
      "outputs": [
        {
          "output_type": "execute_result",
          "data": {
            "text/html": [
              "<div>\n",
              "<style scoped>\n",
              "    .dataframe tbody tr th:only-of-type {\n",
              "        vertical-align: middle;\n",
              "    }\n",
              "\n",
              "    .dataframe tbody tr th {\n",
              "        vertical-align: top;\n",
              "    }\n",
              "\n",
              "    .dataframe thead th {\n",
              "        text-align: right;\n",
              "    }\n",
              "</style>\n",
              "<table border=\"1\" class=\"dataframe\">\n",
              "  <thead>\n",
              "    <tr style=\"text-align: right;\">\n",
              "      <th></th>\n",
              "      <th>平均気温(℃)</th>\n",
              "      <th>最高気温(℃)</th>\n",
              "      <th>最低気温(℃)</th>\n",
              "    </tr>\n",
              "    <tr>\n",
              "      <th>年月日</th>\n",
              "      <th></th>\n",
              "      <th></th>\n",
              "      <th></th>\n",
              "    </tr>\n",
              "  </thead>\n",
              "  <tbody>\n",
              "    <tr>\n",
              "      <th>2016-01-01</th>\n",
              "      <td>5.7</td>\n",
              "      <td>10.6</td>\n",
              "      <td>2.1</td>\n",
              "    </tr>\n",
              "    <tr>\n",
              "      <th>2016-01-02</th>\n",
              "      <td>6.7</td>\n",
              "      <td>12.9</td>\n",
              "      <td>1.8</td>\n",
              "    </tr>\n",
              "    <tr>\n",
              "      <th>2016-01-03</th>\n",
              "      <td>9.3</td>\n",
              "      <td>15.8</td>\n",
              "      <td>4.7</td>\n",
              "    </tr>\n",
              "    <tr>\n",
              "      <th>2016-01-04</th>\n",
              "      <td>10.2</td>\n",
              "      <td>16.0</td>\n",
              "      <td>5.3</td>\n",
              "    </tr>\n",
              "    <tr>\n",
              "      <th>2016-01-05</th>\n",
              "      <td>8.2</td>\n",
              "      <td>12.2</td>\n",
              "      <td>4.9</td>\n",
              "    </tr>\n",
              "  </tbody>\n",
              "</table>\n",
              "</div>"
            ],
            "text/plain": [
              "            平均気温(℃)  最高気温(℃)  最低気温(℃)\n",
              "年月日                                  \n",
              "2016-01-01      5.7     10.6      2.1\n",
              "2016-01-02      6.7     12.9      1.8\n",
              "2016-01-03      9.3     15.8      4.7\n",
              "2016-01-04     10.2     16.0      5.3\n",
              "2016-01-05      8.2     12.2      4.9"
            ]
          },
          "metadata": {
            "tags": []
          },
          "execution_count": 65
        }
      ]
    },
    {
      "cell_type": "markdown",
      "metadata": {
        "id": "qmjV11i1b7Hd"
      },
      "source": [
        "### 各列のラベルの設定\n",
        "matplotlib は（デフォルトでは）日本語文字列を使用できないため，列名前「平均気温，最高気温，最低気温」をアルファベット表記は書き換える。\n",
        "\n",
        "また，インデックス列「年月日」も \"Date\" へ置き換える。"
      ]
    },
    {
      "cell_type": "code",
      "metadata": {
        "colab": {
          "base_uri": "https://localhost:8080/",
          "height": 227
        },
        "id": "j9HMkHHjcMvd",
        "outputId": "e53ff7fd-d343-427f-eb98-13d6f0444917"
      },
      "source": [
        "df.columns = [\"heikin\", \"saikou\", \"saitei\"] # 各列の名前を変更\n",
        "df.index.name = \"Date\" # インデックス列の名前を変更\n",
        "df.head() # 結果確認のため，先頭の５行のみ表示"
      ],
      "execution_count": 66,
      "outputs": [
        {
          "output_type": "execute_result",
          "data": {
            "text/html": [
              "<div>\n",
              "<style scoped>\n",
              "    .dataframe tbody tr th:only-of-type {\n",
              "        vertical-align: middle;\n",
              "    }\n",
              "\n",
              "    .dataframe tbody tr th {\n",
              "        vertical-align: top;\n",
              "    }\n",
              "\n",
              "    .dataframe thead th {\n",
              "        text-align: right;\n",
              "    }\n",
              "</style>\n",
              "<table border=\"1\" class=\"dataframe\">\n",
              "  <thead>\n",
              "    <tr style=\"text-align: right;\">\n",
              "      <th></th>\n",
              "      <th>heikin</th>\n",
              "      <th>saikou</th>\n",
              "      <th>saitei</th>\n",
              "    </tr>\n",
              "    <tr>\n",
              "      <th>Date</th>\n",
              "      <th></th>\n",
              "      <th></th>\n",
              "      <th></th>\n",
              "    </tr>\n",
              "  </thead>\n",
              "  <tbody>\n",
              "    <tr>\n",
              "      <th>2016-01-01</th>\n",
              "      <td>5.7</td>\n",
              "      <td>10.6</td>\n",
              "      <td>2.1</td>\n",
              "    </tr>\n",
              "    <tr>\n",
              "      <th>2016-01-02</th>\n",
              "      <td>6.7</td>\n",
              "      <td>12.9</td>\n",
              "      <td>1.8</td>\n",
              "    </tr>\n",
              "    <tr>\n",
              "      <th>2016-01-03</th>\n",
              "      <td>9.3</td>\n",
              "      <td>15.8</td>\n",
              "      <td>4.7</td>\n",
              "    </tr>\n",
              "    <tr>\n",
              "      <th>2016-01-04</th>\n",
              "      <td>10.2</td>\n",
              "      <td>16.0</td>\n",
              "      <td>5.3</td>\n",
              "    </tr>\n",
              "    <tr>\n",
              "      <th>2016-01-05</th>\n",
              "      <td>8.2</td>\n",
              "      <td>12.2</td>\n",
              "      <td>4.9</td>\n",
              "    </tr>\n",
              "  </tbody>\n",
              "</table>\n",
              "</div>"
            ],
            "text/plain": [
              "            heikin  saikou  saitei\n",
              "Date                              \n",
              "2016-01-01     5.7    10.6     2.1\n",
              "2016-01-02     6.7    12.9     1.8\n",
              "2016-01-03     9.3    15.8     4.7\n",
              "2016-01-04    10.2    16.0     5.3\n",
              "2016-01-05     8.2    12.2     4.9"
            ]
          },
          "metadata": {
            "tags": []
          },
          "execution_count": 66
        }
      ]
    },
    {
      "cell_type": "markdown",
      "metadata": {
        "id": "jOz2WXnvfS7J"
      },
      "source": [
        "### Pandas のプロット機能を用いて可視化\n",
        "データフレームに対して plot() メソッドを適用すると，グラフをプロットできる。"
      ]
    },
    {
      "cell_type": "code",
      "metadata": {
        "colab": {
          "base_uri": "https://localhost:8080/",
          "height": 278
        },
        "id": "3hFNQuWvcjb_",
        "outputId": "481a1941-d5ce-44a5-c41b-15e2f475e882"
      },
      "source": [
        "import matplotlib.pyplot as plt\n",
        "\n",
        "# 折れ線グラフの描画\n",
        "df.plot()\n",
        "plt.show()"
      ],
      "execution_count": 67,
      "outputs": [
        {
          "output_type": "display_data",
          "data": {
            "image/png": "[encoded data removed]",
            "text/plain": [
              "<Figure size 432x288 with 1 Axes>"
            ]
          },
          "metadata": {
            "tags": [],
            "needs_background": "light"
          }
        }
      ]
    },
    {
      "cell_type": "markdown",
      "metadata": {
        "id": "txCkx5rFfxvn"
      },
      "source": [
        "## 以上をまとめたコード"
      ]
    },
    {
      "cell_type": "code",
      "metadata": {
        "colab": {
          "base_uri": "https://localhost:8080/",
          "height": 528
        },
        "id": "h00yn8RojKUz",
        "outputId": "5f491e73-9806-4c90-da44-fed688cc1ecf"
      },
      "source": [
        "'''\n",
        "気象庁のデータを用いた可視化\n",
        "'''\n",
        "import pandas as pd\n",
        "import matplotlib.pyplot as plt\n",
        "\n",
        "# CSV ファイルからデータ読み込み\n",
        "df = pd.read_csv(\"/content/drive/My Drive/BASE/OpenData/kyoto.csv\",\n",
        "\t\t\t\t index_col=0, # 日付をインデックスとする\n",
        "\t\t\t\t skiprows=[0,1,2,3,4], # 気色悪いヘッダだから「ヘッダ部をスキップする」形をとる\n",
        "\t\t\t\t encoding=\"shift-jis\") # 気象庁の提供するデータのエンコードは Shift JIS\n",
        "\n",
        "# インデックス列を datetime フォーマットへ変換\n",
        "df.index = pd.to_datetime(df.index, format=\"%Y/%m/%d\")\n",
        "\n",
        "# 平均気温，最高気温，最低気温の列のみ取り出す\n",
        "df = df.iloc[:, [0, 3, 6]]\n",
        "\n",
        "# 各列のラベルの設定\n",
        "df.columns = [\"heikin\", \"saikou\", \"saitei\"] # 各列の名前を変更\n",
        "df.index.name = \"Date\" # インデックス列の名前を変更\n",
        "print(df)\n",
        "\n",
        "# 折れ線グラフの描画\n",
        "df.plot()\n",
        "plt.show()"
      ],
      "execution_count": 68,
      "outputs": [
        {
          "output_type": "stream",
          "text": [
            "            heikin  saikou  saitei\n",
            "Date                              \n",
            "2016-01-01     5.7    10.6     2.1\n",
            "2016-01-02     6.7    12.9     1.8\n",
            "2016-01-03     9.3    15.8     4.7\n",
            "2016-01-04    10.2    16.0     5.3\n",
            "2016-01-05     8.2    12.2     4.9\n",
            "...            ...     ...     ...\n",
            "2019-12-27     8.2    11.5     3.7\n",
            "2019-12-28     5.7     8.9     3.2\n",
            "2019-12-29     7.4    12.1     2.2\n",
            "2019-12-30     9.7    11.5     7.6\n",
            "2019-12-31     8.1    12.0     3.8\n",
            "\n",
            "[1461 rows x 3 columns]\n"
          ],
          "name": "stdout"
        },
        {
          "output_type": "display_data",
          "data": {
            "image/png": "[encoded data removed]",
            "text/plain": [
              "<Figure size 432x288 with 1 Axes>"
            ]
          },
          "metadata": {
            "tags": [],
            "needs_background": "light"
          }
        }
      ]
    },
    {
      "cell_type": "markdown",
      "metadata": {
        "id": "oBP_NRALjIoT"
      },
      "source": [
        "# 課題(その1)\n",
        "気象庁のサイトから「複数の地点の気温データ」を同時に得ることができる。\n",
        "以下の指定によってデータを取得し，各地の気温の推移をプロットせよ。\n",
        "- 地点：宇部市，那覇市，札幌市\n",
        "- 項目：データの種類は「日別値」，項目は「日平均気温」\n",
        "- 期間：2019年1月1日〜2020年12月31日\n",
        "\n",
        "(注)完成イメージは前回の授業で示した。"
      ]
    },
    {
      "cell_type": "markdown",
      "metadata": {
        "id": "xKn0o-Oqjbon"
      },
      "source": [
        "# 課題(その2)\n",
        "課題(その1）で使用した「宇部市，那覇市，札幌市の平均気温」データを読み込み，那覇市の気温のみをプロットするよう，コードを書き換えよ。\n"
      ]
    },
    {
      "cell_type": "code",
      "metadata": {
        "id": "HQOPEwdJw4Ee"
      },
      "source": [
        ""
      ],
      "execution_count": null,
      "outputs": []
    }
  ]
}