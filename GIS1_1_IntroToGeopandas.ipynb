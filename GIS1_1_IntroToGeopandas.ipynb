{
  "nbformat": 4,
  "nbformat_minor": 0,
  "metadata": {
    "kernelspec": {
      "display_name": "Python 3",
      "language": "python",
      "name": "python3"
    },
    "language_info": {
      "codemirror_mode": {
        "name": "ipython",
        "version": 3
      },
      "file_extension": ".py",
      "mimetype": "text/x-python",
      "name": "python",
      "nbconvert_exporter": "python",
      "pygments_lexer": "ipython3",
      "version": "3.7.3"
    },
    "colab": {
      "name": "GIS1-1_IntroToGeopandas.ipynb",
      "provenance": [],
      "collapsed_sections": [],
      "include_colab_link": true
    }
  },
  "cells": [
    {
      "cell_type": "markdown",
      "metadata": {
        "id": "view-in-github",
        "colab_type": "text"
      },
      "source": [
        "<a href=\"https://colab.research.google.com/github/ymuto0302/base1_2021/blob/main/GIS1_1_IntroToGeopandas.ipynb\" target=\"_parent\"><img src=\"https://colab.research.google.com/assets/colab-badge.svg\" alt=\"Open In Colab\"/></a>"
      ]
    },
    {
      "cell_type": "markdown",
      "metadata": {
        "id": "T5IJ3U7DqSIk"
      },
      "source": [
        "# 地理情報の活用(1-1)：GeoPandas を触ってみる\n",
        "地理情報とは（平たく言えば）緯度・経度といった位置情報と経済データ・植生データ等を重ね，政策立案等に活かすことを目指している。また，地理情報を扱うシステムを GIS（Geographic Information System)と呼ぶ。\n",
        "\n",
        "さらに「地理情報」を「地理空間情報」と呼ぶ場合もある。\n",
        "これは\n",
        "\n",
        "- 空間的な情報：地球上での位置や形状に関するデータ\n",
        "\n",
        "を強く意識した用語である。また，「空間的な情報」に紐づけられる（前述の）経済データや植生データを「属性情報」と呼ぶ。\n",
        "\n",
        "地理情報の活用に関して，ESRI社が牽引している。\n",
        "\n",
        "（参考）GIS基礎解説：地理情報と GIS データモデル\n",
        "\n",
        "https://www.esrij.com/gis-guide/gis-datamodel/gis-datamodel/"
      ]
    },
    {
      "cell_type": "markdown",
      "metadata": {
        "id": "7BDoAtpnqSIp"
      },
      "source": [
        "---\n",
        "## GeoPandas のインストール (Google Colab の場合)\n",
        "Python にて**地理情報を扱うためのライブラリ**が **GeoPandas** である。\n",
        "\n",
        "GeoPandas とは pandasの拡張で，**地理情報を含むデータをpandasのように表形式で扱うことができるGIS系のPythonライブラリ**である。\n",
        "\n",
        "Google Colab にはデフォルトで GeoPandas がインストールされていないため，これをインストールする。\n",
        "\n",
        "なお，GeoPandas をインストールすると，以下のパッケージも併せてインストールされる。\n",
        "- geopanda\n",
        "- Fiona\n",
        "- pyporj"
      ]
    },
    {
      "cell_type": "code",
      "metadata": {
        "scrolled": false,
        "id": "uCilXNYyqSIv",
        "colab": {
          "base_uri": "https://localhost:8080/"
        },
        "outputId": "1eb696f8-e228-488a-e37a-2a2070b70e54"
      },
      "source": [
        "!pip install geopandas"
      ],
      "execution_count": null,
      "outputs": [
        {
          "output_type": "stream",
          "name": "stdout",
          "text": [
            "Collecting geopandas\n",
            "  Downloading geopandas-0.9.0-py2.py3-none-any.whl (994 kB)\n",
            "\u001b[K     |████████████████████████████████| 994 kB 26.1 MB/s \n",
            "\u001b[?25hCollecting pyproj>=2.2.0\n",
            "  Downloading pyproj-3.2.1-cp37-cp37m-manylinux2010_x86_64.whl (6.3 MB)\n",
            "\u001b[K     |████████████████████████████████| 6.3 MB 46.5 MB/s \n",
            "\u001b[?25hRequirement already satisfied: shapely>=1.6 in /usr/local/lib/python3.7/dist-packages (from geopandas) (1.7.1)\n",
            "Collecting fiona>=1.8\n",
            "  Downloading Fiona-1.8.20-cp37-cp37m-manylinux1_x86_64.whl (15.4 MB)\n",
            "\u001b[K     |████████████████████████████████| 15.4 MB 38 kB/s \n",
            "\u001b[?25hRequirement already satisfied: pandas>=0.24.0 in /usr/local/lib/python3.7/dist-packages (from geopandas) (1.1.5)\n",
            "Requirement already satisfied: attrs>=17 in /usr/local/lib/python3.7/dist-packages (from fiona>=1.8->geopandas) (21.2.0)\n",
            "Requirement already satisfied: setuptools in /usr/local/lib/python3.7/dist-packages (from fiona>=1.8->geopandas) (57.4.0)\n",
            "Collecting munch\n",
            "  Downloading munch-2.5.0-py2.py3-none-any.whl (10 kB)\n",
            "Requirement already satisfied: six>=1.7 in /usr/local/lib/python3.7/dist-packages (from fiona>=1.8->geopandas) (1.15.0)\n",
            "Collecting click-plugins>=1.0\n",
            "  Downloading click_plugins-1.1.1-py2.py3-none-any.whl (7.5 kB)\n",
            "Collecting cligj>=0.5\n",
            "  Downloading cligj-0.7.2-py3-none-any.whl (7.1 kB)\n",
            "Requirement already satisfied: certifi in /usr/local/lib/python3.7/dist-packages (from fiona>=1.8->geopandas) (2021.5.30)\n",
            "Requirement already satisfied: click>=4.0 in /usr/local/lib/python3.7/dist-packages (from fiona>=1.8->geopandas) (7.1.2)\n",
            "Requirement already satisfied: pytz>=2017.2 in /usr/local/lib/python3.7/dist-packages (from pandas>=0.24.0->geopandas) (2018.9)\n",
            "Requirement already satisfied: python-dateutil>=2.7.3 in /usr/local/lib/python3.7/dist-packages (from pandas>=0.24.0->geopandas) (2.8.2)\n",
            "Requirement already satisfied: numpy>=1.15.4 in /usr/local/lib/python3.7/dist-packages (from pandas>=0.24.0->geopandas) (1.19.5)\n",
            "Installing collected packages: munch, cligj, click-plugins, pyproj, fiona, geopandas\n",
            "Successfully installed click-plugins-1.1.1 cligj-0.7.2 fiona-1.8.20 geopandas-0.9.0 munch-2.5.0 pyproj-3.2.1\n"
          ]
        }
      ]
    },
    {
      "cell_type": "markdown",
      "metadata": {
        "id": "YpP98NXKqSJL"
      },
      "source": [
        "---\n",
        "## geopandas で世界地図の表示 & データの活用\n",
        "どのサイトを見ても，最初は geppandas 付随のデータを利用し，世界地図を表示するものらしい。\n",
        "\n",
        "以下では geopandas に含まれるデータセット(dataset)のうち 'naturalearth_lowres' を読み込んでいる。データセットを指定し，read_file() メソッドに渡すことでデータを読み込める。\n",
        "\n",
        "また，pandas にて扱う地理情報のデータ型を 'geopandas.geodataframe.GeoDataFrame' である。"
      ]
    },
    {
      "cell_type": "code",
      "metadata": {
        "id": "DqE-6oRHqSJN",
        "colab": {
          "base_uri": "https://localhost:8080/"
        },
        "outputId": "917ad29c-95fd-4b63-c044-da8df0be8a1f"
      },
      "source": [
        "import geopandas\n",
        "import matplotlib.pyplot as plt\n",
        "\n",
        "dataset = geopandas.datasets.get_path('naturalearth_lowres') # データセットの指定\n",
        "world = geopandas.read_file(dataset) # データセットの読み込み\n",
        "\n",
        "print(type(world)) # データ型の確認"
      ],
      "execution_count": null,
      "outputs": [
        {
          "output_type": "stream",
          "name": "stdout",
          "text": [
            "<class 'geopandas.geodataframe.GeoDataFrame'>\n"
          ]
        }
      ]
    },
    {
      "cell_type": "markdown",
      "metadata": {
        "id": "A2oZI0WeqSJX"
      },
      "source": [
        "#### 読み込んだデータの可視化\n",
        "GeoDataFrame に対して plot() メソッドを適用することで可視化できる。"
      ]
    },
    {
      "cell_type": "code",
      "metadata": {
        "scrolled": false,
        "id": "VcKa6NLnqSJZ",
        "colab": {
          "base_uri": "https://localhost:8080/",
          "height": 226
        },
        "outputId": "87f9e052-f7d8-4961-d37a-78be616ffb60"
      },
      "source": [
        "world.plot()"
      ],
      "execution_count": null,
      "outputs": [
        {
          "output_type": "execute_result",
          "data": {
            "text/plain": [
              "<matplotlib.axes._subplots.AxesSubplot at 0x7f7823c4c890>"
            ]
          },
          "metadata": {},
          "execution_count": 8
        },
        {
          "output_type": "display_data",
          "data": {
            "image/png": "[encoded data removed]",
            "text/plain": [
              "<Figure size 432x288 with 1 Axes>"
            ]
          },
          "metadata": {
            "needs_background": "light"
          }
        }
      ]
    },
    {
      "cell_type": "markdown",
      "metadata": {
        "id": "S30Bg0jcqSJl"
      },
      "source": [
        "#### 変数 world の中身をみてみよう\n",
        "pandas と同様，表形式でデータが格納されている。\n",
        "各列の意味は次のとおりである。\n",
        "- continent : 大陸名\n",
        "- name : 国名\n",
        "- iso_a3 : 国コード\n",
        "- geometry : 地形を表す図形\n",
        "- pop_est : 人口 (推定値)\n",
        "- gdp_md_est : GDP (推定値)\n",
        "\n",
        "ここで geometry には次の値がある。\n",
        "- 領域を表す POLYGON\n",
        "- 複数の領域が集合した MULTOPLYGON\n",
        "- 線を表す LINE\n",
        "- 点を表す POINT\n",
        "\n",
        "以下では オセアニア(Oceania)大陸に属するフィジー(Fiji)が MULTIPOLYGON で，またアフリカ(Africa)大陸に属するタンザニア(Tanzania)が POLYGON で表現されている"
      ]
    },
    {
      "cell_type": "code",
      "metadata": {
        "scrolled": false,
        "id": "NOvne0mwqSJo",
        "colab": {
          "base_uri": "https://localhost:8080/",
          "height": 202
        },
        "outputId": "502eab5d-a3f7-4978-e4f5-5a127454fad5"
      },
      "source": [
        "world.head()"
      ],
      "execution_count": null,
      "outputs": [
        {
          "output_type": "execute_result",
          "data": {
            "text/html": [
              "<div>\n",
              "<style scoped>\n",
              "    .dataframe tbody tr th:only-of-type {\n",
              "        vertical-align: middle;\n",
              "    }\n",
              "\n",
              "    .dataframe tbody tr th {\n",
              "        vertical-align: top;\n",
              "    }\n",
              "\n",
              "    .dataframe thead th {\n",
              "        text-align: right;\n",
              "    }\n",
              "</style>\n",
              "<table border=\"1\" class=\"dataframe\">\n",
              "  <thead>\n",
              "    <tr style=\"text-align: right;\">\n",
              "      <th></th>\n",
              "      <th>pop_est</th>\n",
              "      <th>continent</th>\n",
              "      <th>name</th>\n",
              "      <th>iso_a3</th>\n",
              "      <th>gdp_md_est</th>\n",
              "      <th>geometry</th>\n",
              "    </tr>\n",
              "  </thead>\n",
              "  <tbody>\n",
              "    <tr>\n",
              "      <th>0</th>\n",
              "      <td>920938</td>\n",
              "      <td>Oceania</td>\n",
              "      <td>Fiji</td>\n",
              "      <td>FJI</td>\n",
              "      <td>8374.0</td>\n",
              "      <td>MULTIPOLYGON (((180.00000 -16.06713, 180.00000...</td>\n",
              "    </tr>\n",
              "    <tr>\n",
              "      <th>1</th>\n",
              "      <td>53950935</td>\n",
              "      <td>Africa</td>\n",
              "      <td>Tanzania</td>\n",
              "      <td>TZA</td>\n",
              "      <td>150600.0</td>\n",
              "      <td>POLYGON ((33.90371 -0.95000, 34.07262 -1.05982...</td>\n",
              "    </tr>\n",
              "    <tr>\n",
              "      <th>2</th>\n",
              "      <td>603253</td>\n",
              "      <td>Africa</td>\n",
              "      <td>W. Sahara</td>\n",
              "      <td>ESH</td>\n",
              "      <td>906.5</td>\n",
              "      <td>POLYGON ((-8.66559 27.65643, -8.66512 27.58948...</td>\n",
              "    </tr>\n",
              "    <tr>\n",
              "      <th>3</th>\n",
              "      <td>35623680</td>\n",
              "      <td>North America</td>\n",
              "      <td>Canada</td>\n",
              "      <td>CAN</td>\n",
              "      <td>1674000.0</td>\n",
              "      <td>MULTIPOLYGON (((-122.84000 49.00000, -122.9742...</td>\n",
              "    </tr>\n",
              "    <tr>\n",
              "      <th>4</th>\n",
              "      <td>326625791</td>\n",
              "      <td>North America</td>\n",
              "      <td>United States of America</td>\n",
              "      <td>USA</td>\n",
              "      <td>18560000.0</td>\n",
              "      <td>MULTIPOLYGON (((-122.84000 49.00000, -120.0000...</td>\n",
              "    </tr>\n",
              "  </tbody>\n",
              "</table>\n",
              "</div>"
            ],
            "text/plain": [
              "     pop_est  ...                                           geometry\n",
              "0     920938  ...  MULTIPOLYGON (((180.00000 -16.06713, 180.00000...\n",
              "1   53950935  ...  POLYGON ((33.90371 -0.95000, 34.07262 -1.05982...\n",
              "2     603253  ...  POLYGON ((-8.66559 27.65643, -8.66512 27.58948...\n",
              "3   35623680  ...  MULTIPOLYGON (((-122.84000 49.00000, -122.9742...\n",
              "4  326625791  ...  MULTIPOLYGON (((-122.84000 49.00000, -120.0000...\n",
              "\n",
              "[5 rows x 6 columns]"
            ]
          },
          "metadata": {},
          "execution_count": 9
        }
      ]
    },
    {
      "cell_type": "markdown",
      "metadata": {
        "id": "IG5KRuTPqSJx"
      },
      "source": [
        "#### 日本のデータのみ抽出 ＆ 可視化\n",
        "特定の行を抽出する方法は Pandas と同様，条件を与えて所望の行を抽出する。\n",
        "\n",
        "以下に日本(Japan)のデータを取り出すコードを示す。geometry が MULTIPOLYGON で構成されているのは，九州，本州，四国，北海道および複数の島々が存在するためである。"
      ]
    },
    {
      "cell_type": "code",
      "metadata": {
        "id": "qllrz62lqSJz",
        "colab": {
          "base_uri": "https://localhost:8080/",
          "height": 78
        },
        "outputId": "6003c391-fc30-4327-fd0c-8511715392ef"
      },
      "source": [
        "# 日本のデータのみを抽出\n",
        "japan = world[world['name']=='Japan']\n",
        "\n",
        "# データ Japan の中身を確認\n",
        "japan"
      ],
      "execution_count": null,
      "outputs": [
        {
          "output_type": "execute_result",
          "data": {
            "text/html": [
              "<div>\n",
              "<style scoped>\n",
              "    .dataframe tbody tr th:only-of-type {\n",
              "        vertical-align: middle;\n",
              "    }\n",
              "\n",
              "    .dataframe tbody tr th {\n",
              "        vertical-align: top;\n",
              "    }\n",
              "\n",
              "    .dataframe thead th {\n",
              "        text-align: right;\n",
              "    }\n",
              "</style>\n",
              "<table border=\"1\" class=\"dataframe\">\n",
              "  <thead>\n",
              "    <tr style=\"text-align: right;\">\n",
              "      <th></th>\n",
              "      <th>pop_est</th>\n",
              "      <th>continent</th>\n",
              "      <th>name</th>\n",
              "      <th>iso_a3</th>\n",
              "      <th>gdp_md_est</th>\n",
              "      <th>geometry</th>\n",
              "    </tr>\n",
              "  </thead>\n",
              "  <tbody>\n",
              "    <tr>\n",
              "      <th>155</th>\n",
              "      <td>126451398</td>\n",
              "      <td>Asia</td>\n",
              "      <td>Japan</td>\n",
              "      <td>JPN</td>\n",
              "      <td>4932000.0</td>\n",
              "      <td>MULTIPOLYGON (((141.88460 39.18086, 140.95949 ...</td>\n",
              "    </tr>\n",
              "  </tbody>\n",
              "</table>\n",
              "</div>"
            ],
            "text/plain": [
              "       pop_est  ...                                           geometry\n",
              "155  126451398  ...  MULTIPOLYGON (((141.88460 39.18086, 140.95949 ...\n",
              "\n",
              "[1 rows x 6 columns]"
            ]
          },
          "metadata": {},
          "execution_count": 10
        }
      ]
    },
    {
      "cell_type": "code",
      "metadata": {
        "scrolled": true,
        "id": "PE3JfB8yqSJ-",
        "colab": {
          "base_uri": "https://localhost:8080/",
          "height": 284
        },
        "outputId": "298c5e9a-e5d0-431d-f365-7b878b9f9ed9"
      },
      "source": [
        "# 可視化してみたが，島々が反映されていない。\n",
        "# 世界地図から抜き出したため，細かい箇所はカットされている？\n",
        "japan.plot()"
      ],
      "execution_count": null,
      "outputs": [
        {
          "output_type": "execute_result",
          "data": {
            "text/plain": [
              "<matplotlib.axes._subplots.AxesSubplot at 0x7f389a3ea8d0>"
            ]
          },
          "metadata": {
            "tags": []
          },
          "execution_count": 7
        },
        {
          "output_type": "display_data",
          "data": {
            "image/png": "[encoded data removed]",
            "text/plain": [
              "<Figure size 432x288 with 1 Axes>"
            ]
          },
          "metadata": {
            "tags": [],
            "needs_background": "light"
          }
        }
      ]
    },
    {
      "cell_type": "markdown",
      "metadata": {
        "id": "neGd3zgfqSKH"
      },
      "source": [
        "---\n",
        "## 属性情報の可視化\n",
        "改めて world の中身を見てみると，pop_est (人口) および gdp_md_est (国内総生産) の値が含まれている。\n",
        "\n",
        "(メモ) gdp_md は　million dollar 単位での GDP という意味だろう。（多分）"
      ]
    },
    {
      "cell_type": "code",
      "metadata": {
        "scrolled": true,
        "id": "8ZYB5VxeqSKJ",
        "colab": {
          "base_uri": "https://localhost:8080/",
          "height": 200
        },
        "outputId": "00000058-56ea-4b7e-8dd2-753e5284b01c"
      },
      "source": [
        "# 改めてデータ world を確認\n",
        "world.head()"
      ],
      "execution_count": null,
      "outputs": [
        {
          "output_type": "execute_result",
          "data": {
            "text/html": [
              "<div>\n",
              "<style scoped>\n",
              "    .dataframe tbody tr th:only-of-type {\n",
              "        vertical-align: middle;\n",
              "    }\n",
              "\n",
              "    .dataframe tbody tr th {\n",
              "        vertical-align: top;\n",
              "    }\n",
              "\n",
              "    .dataframe thead th {\n",
              "        text-align: right;\n",
              "    }\n",
              "</style>\n",
              "<table border=\"1\" class=\"dataframe\">\n",
              "  <thead>\n",
              "    <tr style=\"text-align: right;\">\n",
              "      <th></th>\n",
              "      <th>pop_est</th>\n",
              "      <th>continent</th>\n",
              "      <th>name</th>\n",
              "      <th>iso_a3</th>\n",
              "      <th>gdp_md_est</th>\n",
              "      <th>geometry</th>\n",
              "    </tr>\n",
              "  </thead>\n",
              "  <tbody>\n",
              "    <tr>\n",
              "      <th>0</th>\n",
              "      <td>920938</td>\n",
              "      <td>Oceania</td>\n",
              "      <td>Fiji</td>\n",
              "      <td>FJI</td>\n",
              "      <td>8374.0</td>\n",
              "      <td>MULTIPOLYGON (((180.00000 -16.06713, 180.00000...</td>\n",
              "    </tr>\n",
              "    <tr>\n",
              "      <th>1</th>\n",
              "      <td>53950935</td>\n",
              "      <td>Africa</td>\n",
              "      <td>Tanzania</td>\n",
              "      <td>TZA</td>\n",
              "      <td>150600.0</td>\n",
              "      <td>POLYGON ((33.90371 -0.95000, 34.07262 -1.05982...</td>\n",
              "    </tr>\n",
              "    <tr>\n",
              "      <th>2</th>\n",
              "      <td>603253</td>\n",
              "      <td>Africa</td>\n",
              "      <td>W. Sahara</td>\n",
              "      <td>ESH</td>\n",
              "      <td>906.5</td>\n",
              "      <td>POLYGON ((-8.66559 27.65643, -8.66512 27.58948...</td>\n",
              "    </tr>\n",
              "    <tr>\n",
              "      <th>3</th>\n",
              "      <td>35623680</td>\n",
              "      <td>North America</td>\n",
              "      <td>Canada</td>\n",
              "      <td>CAN</td>\n",
              "      <td>1674000.0</td>\n",
              "      <td>MULTIPOLYGON (((-122.84000 49.00000, -122.9742...</td>\n",
              "    </tr>\n",
              "    <tr>\n",
              "      <th>4</th>\n",
              "      <td>326625791</td>\n",
              "      <td>North America</td>\n",
              "      <td>United States of America</td>\n",
              "      <td>USA</td>\n",
              "      <td>18560000.0</td>\n",
              "      <td>MULTIPOLYGON (((-122.84000 49.00000, -120.0000...</td>\n",
              "    </tr>\n",
              "  </tbody>\n",
              "</table>\n",
              "</div>"
            ],
            "text/plain": [
              "     pop_est  ...                                           geometry\n",
              "0     920938  ...  MULTIPOLYGON (((180.00000 -16.06713, 180.00000...\n",
              "1   53950935  ...  POLYGON ((33.90371 -0.95000, 34.07262 -1.05982...\n",
              "2     603253  ...  POLYGON ((-8.66559 27.65643, -8.66512 27.58948...\n",
              "3   35623680  ...  MULTIPOLYGON (((-122.84000 49.00000, -122.9742...\n",
              "4  326625791  ...  MULTIPOLYGON (((-122.84000 49.00000, -120.0000...\n",
              "\n",
              "[5 rows x 6 columns]"
            ]
          },
          "metadata": {
            "tags": []
          },
          "execution_count": 8
        }
      ]
    },
    {
      "cell_type": "markdown",
      "metadata": {
        "id": "VYNGj_O1qSKT"
      },
      "source": [
        "人口を世界地図に反映させるには plot(columns='列名') と指定する。\n",
        "\n",
        "以下に人口を各国の領域に反映させた結果を示す。\n",
        "\n",
        "(注) 南極大陸には定住する住民がいないため，地理情報(GeoDataFrame)から除去する。"
      ]
    },
    {
      "cell_type": "code",
      "metadata": {
        "scrolled": true,
        "id": "3b4H4fn1qSKV",
        "colab": {
          "base_uri": "https://localhost:8080/",
          "height": 493
        },
        "outputId": "6dca5980-5678-4511-f8aa-ad3e0d8d26f8"
      },
      "source": [
        "# 南極大陸 (Antarctica) を除去した上で pop_est (country population)に基づき色付け\n",
        "world = world[world.name != 'Antarctica'] # 南極大陸の除去\n",
        "world.plot(column='pop_est', cmap='Reds', legend=True, figsize=(16,8)) # 可視化"
      ],
      "execution_count": null,
      "outputs": [
        {
          "output_type": "execute_result",
          "data": {
            "text/plain": [
              "<matplotlib.axes._subplots.AxesSubplot at 0x7f7823c7f510>"
            ]
          },
          "metadata": {},
          "execution_count": 11
        },
        {
          "output_type": "display_data",
          "data": {
            "image/png": "[encoded data removed]",
            "text/plain": [
              "<Figure size 1152x576 with 2 Axes>"
            ]
          },
          "metadata": {
            "needs_background": "light"
          }
        }
      ]
    },
    {
      "cell_type": "markdown",
      "metadata": {
        "id": "oIwZqr-sqSK7"
      },
      "source": [
        "## （演習）各国の GDP を可視化してみよう\n",
        "列 'gdp_md_est' の値は国内総生産 (GDP) であり，これは「一定期間に同一の国に居住する人々によって生産され，稼ぎ出された最終生産物の価値額」とされる。当然，人口の多い国は GDP も大きくなりがちである（逆もしかり）。\n",
        "\n",
        "そこで，予め人口で割り算することで「国民１人あたりの GDP」を求めておく。"
      ]
    },
    {
      "cell_type": "code",
      "metadata": {
        "id": "8YhqchBeqSK-"
      },
      "source": [
        "world = world[world.name != 'Antarctica'] # 南極大陸の除去\n",
        "world['gdp_per_capta'] = world['gdp_md_est'] / world['pop_est'] # 国民一人あたりの GDP\n",
        "\n",
        "# ここに可視化のコードを書く"
      ],
      "execution_count": null,
      "outputs": []
    },
    {
      "cell_type": "code",
      "metadata": {
        "id": "1i47TNpBqSM0"
      },
      "source": [
        ""
      ],
      "execution_count": null,
      "outputs": []
    }
  ]
}